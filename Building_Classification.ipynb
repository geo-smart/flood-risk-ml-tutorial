{
 "cells": [
  {
   "cell_type": "markdown",
   "metadata": {},
   "source": [
    "# <center><u>Flood Risk Machine Learning Tutorial</u></center>"
   ]
  },
  {
   "cell_type": "markdown",
   "metadata": {},
   "source": [
    "### Introduction"
   ]
  },
  {
   "cell_type": "markdown",
   "metadata": {},
   "source": [
    "<p>Urban flooding causes billions of dollars in damages annually, with severe flood events becoming more frequent and destructive as our climate changes. While extreme weather is a primary driver of flooding, its consequences depend on the interconnectedness of urban systems - referred to as the Urban Multiplex, which includes the power grid, transportation network, natural surface water and groundwater systems, sewerage and drinking water systems, intertwined with the socioeconomic and public health sectors.</p>"
   ]
  },
  {
   "cell_type": "markdown",
   "metadata": {},
   "source": [
    "<p>This tutorial introduces machine learning concepts through an application in one component of the Urban Multiplex - building classification. Accurate and standardized information about buildings (e.g. classification into residential, commercial, industrial) is critical for assessing the number of people affected by flooding, the propagation of shocks throughout the economy, and for forecasting detailed socioeconomic risk from flooding. Yet, a major discrepancy exists in the way data about buildings are collected across the U.S. There is no harmonization in what data are recorded by city, county, or state governments, let alone at the national scale.</p>"
   ]
  },
  {
   "cell_type": "markdown",
   "metadata": {},
   "source": [
    "<p>In this tutorial we explore multiple means of classifying a building (residential/classification/industrial/etc.) based on its features (location, square footage, proximity to other resources, etc.). Moreover, we are interested in how accurate or machine learning models can be using only free and open data. The data used in this tutorial is consistently and openly available for the continental Unites States. We use the state of North Carolina as an expemplar in this tutorial.</p>"
   ]
  },
  {
   "cell_type": "markdown",
   "metadata": {},
   "source": [
    " "
   ]
  },
  {
   "cell_type": "markdown",
   "metadata": {},
   "source": [
    "#### Import required Python libraries"
   ]
  },
  {
   "cell_type": "code",
   "execution_count": 1,
   "metadata": {},
   "outputs": [],
   "source": [
    "import time\n",
    "import pickle\n",
    "#import itertools\n",
    "import numpy as np\n",
    "import pandas as pd\n",
    "#import utilities as utils\n",
    "#import configuration as config\n",
    "import matplotlib.pyplot as plt\n",
    "\n",
    "import tensorflow as tf\n",
    "from keras.utils import to_categorical\n",
    "from tensorflow.keras.layers import Dense\n",
    "from keras.callbacks import EarlyStopping\n",
    "from tensorflow.keras.models import Sequential\n",
    "\n",
    "from sklearn import preprocessing\n",
    "from sklearn.metrics import f1_score\n",
    "from sklearn.model_selection import KFold\n",
    "from sklearn.metrics import balanced_accuracy_score\n",
    "from sklearn.model_selection import train_test_split\n",
    "from sklearn.inspection import permutation_importance\n",
    "from sklearn.metrics import confusion_matrix, ConfusionMatrixDisplay\n",
    "\n",
    "from sklearn.neighbors import KNeighborsClassifier\n",
    "from sklearn.ensemble import RandomForestClassifier\n",
    "from sklearn.linear_model import LogisticRegression"
   ]
  },
  {
   "cell_type": "markdown",
   "metadata": {},
   "source": [
    "#### Setup and Configuration"
   ]
  },
  {
   "cell_type": "code",
   "execution_count": 19,
   "metadata": {},
   "outputs": [],
   "source": [
    "# North Carolina data\n",
    "state = 37\n",
    "\n",
    "# input file\n",
    "inFile = config.outDir + 'ML_Training_' + str(state) + '.csv'"
   ]
  },
  {
   "cell_type": "code",
   "execution_count": 20,
   "metadata": {},
   "outputs": [
    {
     "name": "stdout",
     "output_type": "stream",
     "text": [
      "\n",
      "Residential         976690\n",
      "Commercial           64029\n",
      "Industrial           16722\n",
      "Assembly              7323\n",
      "Education             6457\n",
      "Government            4910\n",
      "Agriculture           1651\n",
      "Utility and Misc       362\n",
      "Name: OrnlType, dtype: int64\n",
      "\n"
     ]
    }
   ],
   "source": [
    "# read into a Pandas dataframe\n",
    "rawDf = pd.read_csv( inFile )\n",
    "\n",
    "# ignore first few columns, which are FIPs codes, not needed for ML\n",
    "rawDf = rawDf.iloc[:, 3:] \n",
    "df = rawDf.copy( deep=True )\n",
    "\n",
    "# building type distributions\n",
    "print()\n",
    "print( df['OrnlType'].value_counts() )\n",
    "print()"
   ]
  },
  {
   "cell_type": "code",
   "execution_count": 4,
   "metadata": {},
   "outputs": [
    {
     "data": {
      "text/plain": [
       "Residential            1.000000\n",
       "Commercial            15.253869\n",
       "Industrial            58.407487\n",
       "Assembly             133.372935\n",
       "Education            151.260647\n",
       "Government           198.918534\n",
       "Agriculture          591.574803\n",
       "Utility and Misc    2698.038674\n",
       "Name: OrnlType, dtype: float64"
      ]
     },
     "execution_count": 4,
     "metadata": {},
     "output_type": "execute_result"
    }
   ],
   "source": [
    "976690/df['OrnlType'].value_counts()"
   ]
  },
  {
   "cell_type": "markdown",
   "metadata": {},
   "source": [
    "## Pre-processing"
   ]
  },
  {
   "cell_type": "code",
   "execution_count": 4,
   "metadata": {},
   "outputs": [],
   "source": [
    "df.loc[df[\"OrnlType\"] != \"Residential\", \"OrnlType\"] = 'Other'\n",
    "\n",
    "df = df.sample(frac=1) # shuffle the dataframe (technically, we randomly resample the entire df)\n",
    "\n",
    "# preprocess the data - scaling\n",
    "scaler = preprocessing.StandardScaler()\n",
    "    \n",
    "# columns: StateFips, CountyFips, StateCountyFips,\n",
    "#          X, Y, Area, MedianIncomeCounty, HousingUnitsCounty,\n",
    "#          HousingDensityCounty, Impervious, AgCount, CmCount,\n",
    "#          GvCount, EdCount, InCount, OsmNearestRoad, OrnlType\n",
    "columns = ['X', 'Y', 'Area', 'MedianIncomeCounty', \n",
    "           'HousingUnitsCounty', 'HousingDensityCounty',\n",
    "           'Impervious', 'AgCount', 'CmCount', 'GvCount',\n",
    "           'EdCount', 'InCount']\n",
    "df[columns] = scaler.fit_transform(df[columns])\n",
    "\n",
    "\n",
    "# preprossing - drop rows with NaN values\n",
    "df = df.dropna()\n",
    "    \n",
    "# preprocessing - change output labels from text ('Agriculture') to integers\n",
    "nCols = df.shape[1]\n",
    "le = preprocessing.LabelEncoder()\n",
    "le.fit( df.iloc[:, nCols-1] )\n",
    "df.iloc[:, nCols-1] = le.transform( df.iloc[:, nCols-1] )\n",
    "        \n",
    "# preprocessing - change output labels of nearest road type from text to integers\n",
    "le2 = preprocessing.LabelEncoder()\n",
    "le2.fit( df.iloc[:, nCols-2] ) \n",
    "df.iloc[:, nCols-2] = le2.transform( df.iloc[:, nCols-2] )"
   ]
  },
  {
   "cell_type": "code",
   "execution_count": 21,
   "metadata": {},
   "outputs": [],
   "source": [
    "rawDf.loc[rawDf[\"OrnlType\"] != \"Residential\", \"OrnlType\"] = 'Other'\n",
    "\n",
    "rawDf = rawDf.sample(frac=1) # shuffle the dataframe (technically, we randomly resample the entire df)\n",
    "\n",
    "rawDf = rawDf.dropna()\n",
    "\n",
    "nCols = rawDf.shape[1]\n",
    "le = preprocessing.LabelEncoder()\n",
    "le.fit( rawDf.iloc[:, nCols-1] ) # ornl type\n",
    "rawDf.iloc[:, nCols-1] = le.transform( rawDf.iloc[:, nCols-1] )\n",
    "    \n",
    "le2 = preprocessing.LabelEncoder()\n",
    "le2.fit( rawDf.iloc[:, nCols-2] ) # nearest road type\n",
    "rawDf.iloc[:, nCols-2] = le2.transform( rawDf.iloc[:, nCols-2] )"
   ]
  },
  {
   "cell_type": "code",
   "execution_count": 23,
   "metadata": {},
   "outputs": [
    {
     "data": {
      "text/plain": [
       "array(['Other', 'Residential'], dtype=object)"
      ]
     },
     "execution_count": 23,
     "metadata": {},
     "output_type": "execute_result"
    }
   ],
   "source": [
    "le.inverse_transform([0,1])"
   ]
  },
  {
   "cell_type": "markdown",
   "metadata": {},
   "source": [
    "## KNN with unbalanced classes"
   ]
  },
  {
   "cell_type": "code",
   "execution_count": 59,
   "metadata": {},
   "outputs": [
    {
     "data": {
      "text/html": [
       "<div>\n",
       "<style scoped>\n",
       "    .dataframe tbody tr th:only-of-type {\n",
       "        vertical-align: middle;\n",
       "    }\n",
       "\n",
       "    .dataframe tbody tr th {\n",
       "        vertical-align: top;\n",
       "    }\n",
       "\n",
       "    .dataframe thead th {\n",
       "        text-align: right;\n",
       "    }\n",
       "</style>\n",
       "<table border=\"1\" class=\"dataframe\">\n",
       "  <thead>\n",
       "    <tr style=\"text-align: right;\">\n",
       "      <th></th>\n",
       "      <th>X</th>\n",
       "      <th>Y</th>\n",
       "      <th>Area</th>\n",
       "      <th>MedianIncomeCounty</th>\n",
       "      <th>HousingUnitsCounty</th>\n",
       "      <th>HousingDensityCounty</th>\n",
       "      <th>Impervious</th>\n",
       "      <th>AgCount</th>\n",
       "      <th>CmCount</th>\n",
       "      <th>GvCount</th>\n",
       "      <th>EdCount</th>\n",
       "      <th>InCount</th>\n",
       "      <th>OsmNearestRoad</th>\n",
       "      <th>OrnlType</th>\n",
       "    </tr>\n",
       "  </thead>\n",
       "  <tbody>\n",
       "    <tr>\n",
       "      <th>193493</th>\n",
       "      <td>1.502876</td>\n",
       "      <td>-2.707201</td>\n",
       "      <td>-0.000232</td>\n",
       "      <td>-0.758522</td>\n",
       "      <td>-0.912652</td>\n",
       "      <td>1.396497</td>\n",
       "      <td>-0.176921</td>\n",
       "      <td>-1.178786</td>\n",
       "      <td>-0.785080</td>\n",
       "      <td>-0.766564</td>\n",
       "      <td>-0.908346</td>\n",
       "      <td>-0.791413</td>\n",
       "      <td>4</td>\n",
       "      <td>1</td>\n",
       "    </tr>\n",
       "    <tr>\n",
       "      <th>376480</th>\n",
       "      <td>-0.181352</td>\n",
       "      <td>1.167340</td>\n",
       "      <td>-0.134830</td>\n",
       "      <td>-0.937660</td>\n",
       "      <td>-0.273707</td>\n",
       "      <td>0.026131</td>\n",
       "      <td>0.091464</td>\n",
       "      <td>-0.758292</td>\n",
       "      <td>-0.383523</td>\n",
       "      <td>-0.202516</td>\n",
       "      <td>-0.520841</td>\n",
       "      <td>-0.321399</td>\n",
       "      <td>4</td>\n",
       "      <td>1</td>\n",
       "    </tr>\n",
       "    <tr>\n",
       "      <th>240184</th>\n",
       "      <td>1.122137</td>\n",
       "      <td>0.051155</td>\n",
       "      <td>-0.076402</td>\n",
       "      <td>-0.803459</td>\n",
       "      <td>-1.068631</td>\n",
       "      <td>-0.697542</td>\n",
       "      <td>-1.071538</td>\n",
       "      <td>0.033225</td>\n",
       "      <td>-1.138290</td>\n",
       "      <td>-1.189600</td>\n",
       "      <td>-1.155967</td>\n",
       "      <td>-0.976654</td>\n",
       "      <td>4</td>\n",
       "      <td>1</td>\n",
       "    </tr>\n",
       "    <tr>\n",
       "      <th>1051555</th>\n",
       "      <td>0.628161</td>\n",
       "      <td>1.056288</td>\n",
       "      <td>-0.144390</td>\n",
       "      <td>0.061124</td>\n",
       "      <td>-0.745051</td>\n",
       "      <td>0.324158</td>\n",
       "      <td>-0.713691</td>\n",
       "      <td>-1.277726</td>\n",
       "      <td>-0.785143</td>\n",
       "      <td>-0.625552</td>\n",
       "      <td>-0.540825</td>\n",
       "      <td>-1.002265</td>\n",
       "      <td>4</td>\n",
       "      <td>1</td>\n",
       "    </tr>\n",
       "    <tr>\n",
       "      <th>175429</th>\n",
       "      <td>1.440587</td>\n",
       "      <td>-2.659607</td>\n",
       "      <td>-0.195494</td>\n",
       "      <td>-0.758522</td>\n",
       "      <td>-0.912652</td>\n",
       "      <td>1.396497</td>\n",
       "      <td>0.426945</td>\n",
       "      <td>-1.178786</td>\n",
       "      <td>-0.785080</td>\n",
       "      <td>-0.766564</td>\n",
       "      <td>-0.908346</td>\n",
       "      <td>-0.791413</td>\n",
       "      <td>4</td>\n",
       "      <td>1</td>\n",
       "    </tr>\n",
       "  </tbody>\n",
       "</table>\n",
       "</div>"
      ],
      "text/plain": [
       "                X         Y      Area  MedianIncomeCounty  HousingUnitsCounty  \\\n",
       "193493   1.502876 -2.707201 -0.000232           -0.758522           -0.912652   \n",
       "376480  -0.181352  1.167340 -0.134830           -0.937660           -0.273707   \n",
       "240184   1.122137  0.051155 -0.076402           -0.803459           -1.068631   \n",
       "1051555  0.628161  1.056288 -0.144390            0.061124           -0.745051   \n",
       "175429   1.440587 -2.659607 -0.195494           -0.758522           -0.912652   \n",
       "\n",
       "         HousingDensityCounty  Impervious   AgCount   CmCount   GvCount  \\\n",
       "193493               1.396497   -0.176921 -1.178786 -0.785080 -0.766564   \n",
       "376480               0.026131    0.091464 -0.758292 -0.383523 -0.202516   \n",
       "240184              -0.697542   -1.071538  0.033225 -1.138290 -1.189600   \n",
       "1051555              0.324158   -0.713691 -1.277726 -0.785143 -0.625552   \n",
       "175429               1.396497    0.426945 -1.178786 -0.785080 -0.766564   \n",
       "\n",
       "          EdCount   InCount  OsmNearestRoad  OrnlType  \n",
       "193493  -0.908346 -0.791413               4         1  \n",
       "376480  -0.520841 -0.321399               4         1  \n",
       "240184  -1.155967 -0.976654               4         1  \n",
       "1051555 -0.540825 -1.002265               4         1  \n",
       "175429  -0.908346 -0.791413               4         1  "
      ]
     },
     "execution_count": 59,
     "metadata": {},
     "output_type": "execute_result"
    }
   ],
   "source": [
    "df.head()"
   ]
  },
  {
   "cell_type": "code",
   "execution_count": 61,
   "metadata": {},
   "outputs": [
    {
     "name": "stdout",
     "output_type": "stream",
     "text": [
      "K: 3 Fold: 1\n",
      "  Balanced Accuracy: 0.8291\n",
      "  Micro F1: 0.9517\n",
      "  Balanced Accuracy: 0.8252\n",
      "  Micro F1: 0.9505\n",
      "  Balanced Accuracy: 0.828\n",
      "  Micro F1: 0.951\n",
      "  Balanced Accuracy: 0.8261\n",
      "  Micro F1: 0.9513\n",
      "  Balanced Accuracy: 0.8272\n",
      "  Micro F1: 0.9514\n",
      "Average Balance Accuracy: 0.8271\n",
      "\n",
      "K: 5 Fold: 1\n",
      "  Balanced Accuracy: 0.8292\n",
      "  Micro F1: 0.9534\n",
      "  Balanced Accuracy: 0.8271\n",
      "  Micro F1: 0.9526\n",
      "  Balanced Accuracy: 0.8289\n",
      "  Micro F1: 0.9531\n",
      "  Balanced Accuracy: 0.8252\n",
      "  Micro F1: 0.9529\n",
      "  Balanced Accuracy: 0.8272\n",
      "  Micro F1: 0.953\n",
      "Average Balance Accuracy: 0.8275\n",
      "\n",
      "K: 7 Fold: 1\n",
      "  Balanced Accuracy: 0.8295\n",
      "  Micro F1: 0.9544\n",
      "  Balanced Accuracy: 0.8282\n",
      "  Micro F1: 0.9534\n",
      "  Balanced Accuracy: 0.8285\n",
      "  Micro F1: 0.9537\n",
      "  Balanced Accuracy: 0.8254\n",
      "  Micro F1: 0.9538\n",
      "  Balanced Accuracy: 0.8255\n",
      "  Micro F1: 0.9536\n",
      "Average Balance Accuracy: 0.8274\n",
      "\n",
      "K: 9 Fold: 1\n",
      "  Balanced Accuracy: 0.8279\n",
      "  Micro F1: 0.9544\n",
      "  Balanced Accuracy: 0.8266\n",
      "  Micro F1: 0.9537\n",
      "  Balanced Accuracy: 0.8277\n",
      "  Micro F1: 0.954\n",
      "  Balanced Accuracy: 0.825\n",
      "  Micro F1: 0.9542\n",
      "  Balanced Accuracy: 0.8247\n",
      "  Micro F1: 0.9539\n",
      "Average Balance Accuracy: 0.8264\n",
      "\n"
     ]
    }
   ],
   "source": [
    "kf = KFold( n_splits=5, shuffle=True, random_state=42 )\n",
    "\n",
    "X = df.drop(['OrnlType'], axis=1).values\n",
    "y = df['OrnlType'].values\n",
    "\n",
    "ks = [3,5,7,9]\n",
    "for k in ks:\n",
    "    fold = 1\n",
    "    accs = []\n",
    "    print( \"K:\", k, \"Fold:\", fold )\n",
    "    for trainIndex, testIndex in kf.split(X):\n",
    "        X_train, X_test = X[trainIndex], X[testIndex]\n",
    "        y_train, y_test = y[trainIndex], y[testIndex]\n",
    "        knn = KNeighborsClassifier(n_neighbors=k)\n",
    "        knn.fit( X_train, y_train )\n",
    "        predictions = knn.predict(X_test)\n",
    "        ba = np.round( balanced_accuracy_score(y_test, predictions), 4 )\n",
    "        print( \"  Balanced Accuracy:\", ba )\n",
    "        print( \"  Micro F1:\", np.round( f1_score(y_test, predictions, average='micro'), 4 ))\n",
    "        accs.append( ba )\n",
    "        fold += 1\n",
    "    print( \"Average Balance Accuracy:\", np.round(np.mean(accs),4) )\n",
    "    print()"
   ]
  },
  {
   "cell_type": "code",
   "execution_count": 62,
   "metadata": {},
   "outputs": [],
   "source": [
    "knn = KNeighborsClassifier(n_neighbors=5)\n",
    "knn.fit( X_train, y_train )\n",
    "\n",
    "with open('./knn_model.pkl', 'wb') as f:\n",
    "    pickle.dump(knn, f)"
   ]
  },
  {
   "cell_type": "code",
   "execution_count": 63,
   "metadata": {},
   "outputs": [
    {
     "name": "stdout",
     "output_type": "stream",
     "text": [
      "[1 1 1 1 1]\n"
     ]
    }
   ],
   "source": [
    "# read the model from file                                                                                                                                                                                                         \n",
    "with open('./knn_model.pkl', 'rb') as f:\n",
    "    knn = pickle.load(f)\n",
    "\n",
    "predictions = knn.predict(X_test)\n",
    "print(predictions[0:5])"
   ]
  },
  {
   "cell_type": "code",
   "execution_count": 64,
   "metadata": {},
   "outputs": [],
   "source": [
    "cm = confusion_matrix( y_test, predictions, normalize='true' )"
   ]
  },
  {
   "cell_type": "code",
   "execution_count": 65,
   "metadata": {
    "scrolled": true
   },
   "outputs": [
    {
     "data": {
      "text/plain": [
       "<sklearn.metrics._plot.confusion_matrix.ConfusionMatrixDisplay at 0x7faf0912af80>"
      ]
     },
     "execution_count": 65,
     "metadata": {},
     "output_type": "execute_result"
    },
    {
     "data": {
      "image/png": "[encoded data removed]",
      "text/plain": [
       "<Figure size 360x360 with 2 Axes>"
      ]
     },
     "metadata": {
      "needs_background": "light"
     },
     "output_type": "display_data"
    }
   ],
   "source": [
    "fig, ax = plt.subplots(figsize=(5, 5))\n",
    "disp = ConfusionMatrixDisplay( confusion_matrix=cm, display_labels=knn.classes_ )\n",
    "disp.plot(ax=ax)"
   ]
  },
  {
   "cell_type": "markdown",
   "metadata": {},
   "source": [
    "## Random Forest with unbalanced classes"
   ]
  },
  {
   "cell_type": "code",
   "execution_count": 66,
   "metadata": {
    "scrolled": false
   },
   "outputs": [
    {
     "data": {
      "text/html": [
       "<div>\n",
       "<style scoped>\n",
       "    .dataframe tbody tr th:only-of-type {\n",
       "        vertical-align: middle;\n",
       "    }\n",
       "\n",
       "    .dataframe tbody tr th {\n",
       "        vertical-align: top;\n",
       "    }\n",
       "\n",
       "    .dataframe thead th {\n",
       "        text-align: right;\n",
       "    }\n",
       "</style>\n",
       "<table border=\"1\" class=\"dataframe\">\n",
       "  <thead>\n",
       "    <tr style=\"text-align: right;\">\n",
       "      <th></th>\n",
       "      <th>X</th>\n",
       "      <th>Y</th>\n",
       "      <th>Area</th>\n",
       "      <th>MedianIncomeCounty</th>\n",
       "      <th>HousingUnitsCounty</th>\n",
       "      <th>HousingDensityCounty</th>\n",
       "      <th>Impervious</th>\n",
       "      <th>AgCount</th>\n",
       "      <th>CmCount</th>\n",
       "      <th>GvCount</th>\n",
       "      <th>EdCount</th>\n",
       "      <th>InCount</th>\n",
       "      <th>OsmNearestRoad</th>\n",
       "      <th>OrnlType</th>\n",
       "    </tr>\n",
       "  </thead>\n",
       "  <tbody>\n",
       "    <tr>\n",
       "      <th>218378</th>\n",
       "      <td>-78.738287</td>\n",
       "      <td>35.230602</td>\n",
       "      <td>124.269200</td>\n",
       "      <td>27421.0</td>\n",
       "      <td>142175.0</td>\n",
       "      <td>0.424748</td>\n",
       "      <td>8.0</td>\n",
       "      <td>50</td>\n",
       "      <td>19875</td>\n",
       "      <td>6</td>\n",
       "      <td>379</td>\n",
       "      <td>2644</td>\n",
       "      <td>4</td>\n",
       "      <td>1</td>\n",
       "    </tr>\n",
       "    <tr>\n",
       "      <th>470391</th>\n",
       "      <td>-81.860694</td>\n",
       "      <td>36.130880</td>\n",
       "      <td>607.280040</td>\n",
       "      <td>22034.0</td>\n",
       "      <td>13827.0</td>\n",
       "      <td>0.776536</td>\n",
       "      <td>1.0</td>\n",
       "      <td>17</td>\n",
       "      <td>1340</td>\n",
       "      <td>0</td>\n",
       "      <td>6</td>\n",
       "      <td>363</td>\n",
       "      <td>4</td>\n",
       "      <td>1</td>\n",
       "    </tr>\n",
       "    <tr>\n",
       "      <th>544237</th>\n",
       "      <td>-80.728102</td>\n",
       "      <td>35.141435</td>\n",
       "      <td>1026.323292</td>\n",
       "      <td>36443.0</td>\n",
       "      <td>478966.0</td>\n",
       "      <td>0.429380</td>\n",
       "      <td>78.0</td>\n",
       "      <td>38</td>\n",
       "      <td>118034</td>\n",
       "      <td>39</td>\n",
       "      <td>2607</td>\n",
       "      <td>17352</td>\n",
       "      <td>4</td>\n",
       "      <td>0</td>\n",
       "    </tr>\n",
       "    <tr>\n",
       "      <th>1008353</th>\n",
       "      <td>-78.813565</td>\n",
       "      <td>35.949306</td>\n",
       "      <td>593.706900</td>\n",
       "      <td>35085.0</td>\n",
       "      <td>144559.0</td>\n",
       "      <td>0.445026</td>\n",
       "      <td>70.0</td>\n",
       "      <td>0</td>\n",
       "      <td>26758</td>\n",
       "      <td>12</td>\n",
       "      <td>892</td>\n",
       "      <td>3732</td>\n",
       "      <td>4</td>\n",
       "      <td>1</td>\n",
       "    </tr>\n",
       "    <tr>\n",
       "      <th>816272</th>\n",
       "      <td>-78.464398</td>\n",
       "      <td>35.951898</td>\n",
       "      <td>153.408900</td>\n",
       "      <td>41189.0</td>\n",
       "      <td>462582.0</td>\n",
       "      <td>0.409578</td>\n",
       "      <td>22.5</td>\n",
       "      <td>119</td>\n",
       "      <td>105723</td>\n",
       "      <td>30</td>\n",
       "      <td>2778</td>\n",
       "      <td>17780</td>\n",
       "      <td>4</td>\n",
       "      <td>1</td>\n",
       "    </tr>\n",
       "  </tbody>\n",
       "</table>\n",
       "</div>"
      ],
      "text/plain": [
       "                 X          Y         Area  MedianIncomeCounty  \\\n",
       "218378  -78.738287  35.230602   124.269200             27421.0   \n",
       "470391  -81.860694  36.130880   607.280040             22034.0   \n",
       "544237  -80.728102  35.141435  1026.323292             36443.0   \n",
       "1008353 -78.813565  35.949306   593.706900             35085.0   \n",
       "816272  -78.464398  35.951898   153.408900             41189.0   \n",
       "\n",
       "         HousingUnitsCounty  HousingDensityCounty  Impervious  AgCount  \\\n",
       "218378             142175.0              0.424748         8.0       50   \n",
       "470391              13827.0              0.776536         1.0       17   \n",
       "544237             478966.0              0.429380        78.0       38   \n",
       "1008353            144559.0              0.445026        70.0        0   \n",
       "816272             462582.0              0.409578        22.5      119   \n",
       "\n",
       "         CmCount  GvCount  EdCount  InCount  OsmNearestRoad  OrnlType  \n",
       "218378     19875        6      379     2644               4         1  \n",
       "470391      1340        0        6      363               4         1  \n",
       "544237    118034       39     2607    17352               4         0  \n",
       "1008353    26758       12      892     3732               4         1  \n",
       "816272    105723       30     2778    17780               4         1  "
      ]
     },
     "execution_count": 66,
     "metadata": {},
     "output_type": "execute_result"
    }
   ],
   "source": [
    "rawDf.head()"
   ]
  },
  {
   "cell_type": "code",
   "execution_count": 9,
   "metadata": {},
   "outputs": [
    {
     "name": "stdout",
     "output_type": "stream",
     "text": [
      "Balanced Accuracy: 0.8538\n",
      "Micro F1: 0.9618\n",
      "\n",
      "Balanced Accuracy: 0.8533\n",
      "Micro F1: 0.9619\n",
      "\n",
      "Balanced Accuracy: 0.8546\n",
      "Micro F1: 0.962\n",
      "\n",
      "Balanced Accuracy: 0.8543\n",
      "Micro F1: 0.962\n",
      "\n",
      "Balanced Accuracy: 0.8534\n",
      "Micro F1: 0.9616\n",
      "\n",
      "Average Balanced Accuracy: 0.8539\n"
     ]
    }
   ],
   "source": [
    "kf = KFold( n_splits=5, shuffle=True, random_state=42 )\n",
    "rf = RandomForestClassifier(class_weight='balanced')\n",
    "\n",
    "X = rawDf.drop(['OrnlType'], axis=1).values\n",
    "y = rawDf['OrnlType'].values\n",
    "\n",
    "accs = []\n",
    "for trainIndex, testIndex in kf.split(X):\n",
    "    X_train, X_test = X[trainIndex], X[testIndex]\n",
    "    y_train, y_test = y[trainIndex], y[testIndex]\n",
    "    rf.fit( X_train, y_train )\n",
    "    ba = np.round( balanced_accuracy_score(y_test, rf.predict(X_test)), 4 )\n",
    "    accs.append( ba )\n",
    "    print( \"Balanced Accuracy:\", ba)\n",
    "    print( \"Micro F1:\", np.round( f1_score(y_test, rf.predict(X_test), average='micro'), 4 ))\n",
    "    print()\n",
    "print( \"Average Balanced Accuracy:\", np.round(np.mean(accs),4) )"
   ]
  },
  {
   "cell_type": "code",
   "execution_count": 10,
   "metadata": {},
   "outputs": [],
   "source": [
    "with open('./rf_model.pkl', 'wb') as f:\n",
    "    pickle.dump(rf, f)"
   ]
  },
  {
   "cell_type": "code",
   "execution_count": 11,
   "metadata": {},
   "outputs": [
    {
     "name": "stdout",
     "output_type": "stream",
     "text": [
      "[1 1 1 1 1]\n"
     ]
    }
   ],
   "source": [
    "# read the model from file                                                                                                                                                                                                         \n",
    "with open('./rf_model.pkl', 'rb') as f:\n",
    "    rf = pickle.load(f)\n",
    "\n",
    "predictions = rf.predict(X_test)\n",
    "print( predictions[0:5] )"
   ]
  },
  {
   "cell_type": "code",
   "execution_count": 72,
   "metadata": {},
   "outputs": [],
   "source": [
    "cm = confusion_matrix( y_test, predictions, normalize='true' )"
   ]
  },
  {
   "cell_type": "code",
   "execution_count": 73,
   "metadata": {},
   "outputs": [
    {
     "data": {
      "text/plain": [
       "<sklearn.metrics._plot.confusion_matrix.ConfusionMatrixDisplay at 0x7faf2866da80>"
      ]
     },
     "execution_count": 73,
     "metadata": {},
     "output_type": "execute_result"
    },
    {
     "data": {
      "image/png": "[encoded data removed]",
      "text/plain": [
       "<Figure size 360x360 with 2 Axes>"
      ]
     },
     "metadata": {
      "needs_background": "light"
     },
     "output_type": "display_data"
    }
   ],
   "source": [
    "fig, ax = plt.subplots(figsize=(5, 5))\n",
    "disp = ConfusionMatrixDisplay( confusion_matrix=cm, display_labels=rf.classes_)\n",
    "disp.plot(ax=ax)"
   ]
  },
  {
   "cell_type": "markdown",
   "metadata": {},
   "source": [
    "## Neural Network with unbalanced classes"
   ]
  },
  {
   "cell_type": "code",
   "execution_count": 23,
   "metadata": {},
   "outputs": [
    {
     "name": "stderr",
     "output_type": "stream",
     "text": [
      "2022-11-16 11:03:37.008032: I tensorflow/core/platform/cpu_feature_guard.cc:193] This TensorFlow binary is optimized with oneAPI Deep Neural Network Library (oneDNN) to use the following CPU instructions in performance-critical operations:  AVX2 FMA\n",
      "To enable them in other operations, rebuild TensorFlow with the appropriate compiler flags.\n",
      "2022-11-16 11:03:37.117250: I tensorflow/stream_executor/cuda/cuda_gpu_executor.cc:975] successful NUMA node read from SysFS had negative value (-1), but there must be at least one NUMA node, so returning NUMA node zero\n",
      "2022-11-16 11:03:37.311773: I tensorflow/stream_executor/cuda/cuda_gpu_executor.cc:975] successful NUMA node read from SysFS had negative value (-1), but there must be at least one NUMA node, so returning NUMA node zero\n",
      "2022-11-16 11:03:37.311927: I tensorflow/stream_executor/cuda/cuda_gpu_executor.cc:975] successful NUMA node read from SysFS had negative value (-1), but there must be at least one NUMA node, so returning NUMA node zero\n",
      "2022-11-16 11:03:38.594809: I tensorflow/stream_executor/cuda/cuda_gpu_executor.cc:975] successful NUMA node read from SysFS had negative value (-1), but there must be at least one NUMA node, so returning NUMA node zero\n",
      "2022-11-16 11:03:38.595175: I tensorflow/stream_executor/cuda/cuda_gpu_executor.cc:975] successful NUMA node read from SysFS had negative value (-1), but there must be at least one NUMA node, so returning NUMA node zero\n",
      "2022-11-16 11:03:38.595460: I tensorflow/stream_executor/cuda/cuda_gpu_executor.cc:975] successful NUMA node read from SysFS had negative value (-1), but there must be at least one NUMA node, so returning NUMA node zero\n",
      "2022-11-16 11:03:38.595683: I tensorflow/core/common_runtime/gpu/gpu_device.cc:1532] Created device /job:localhost/replica:0/task:0/device:GPU:0 with 5338 MB memory:  -> device: 0, name: NVIDIA GeForce RTX 2060, pci bus id: 0000:01:00.0, compute capability: 7.5\n"
     ]
    }
   ],
   "source": [
    "# This is required for my GPU: GeForce RTX 2060\n",
    "# Without this config, tensorflow cannot properly allocate GPU memory\n",
    "\n",
    "# This is a GPU specific configuration and may not be needed on your GPU\n",
    "\n",
    "config = tf.compat.v1.ConfigProto()\n",
    "config.gpu_options.allow_growth = True\n",
    "config.gpu_options.per_process_gpu_memory_fraction = 0.90\n",
    "session = tf.compat.v1.Session(config=config)"
   ]
  },
  {
   "cell_type": "code",
   "execution_count": 75,
   "metadata": {},
   "outputs": [
    {
     "name": "stdout",
     "output_type": "stream",
     "text": [
      "Creating test/train split...\n"
     ]
    }
   ],
   "source": [
    "# columns: StateFips, CountyFips, StateCountyFips,\n",
    "#          X, Y, Area, MedianIncomeCounty, HousingUnitsCounty,\n",
    "#          HousingDensityCounty, Impervious, AgCount, CmCount,\n",
    "#          GvCount, EdCount, InCount, OsmNearestRoad, OrnlType\n",
    "\n",
    "# test/train split\n",
    "print(\"Creating test/train split...\")\n",
    "train, test = train_test_split(df, test_size=0.2, random_state=42, stratify=df[['OrnlType']])\n",
    "\n",
    "nCols = test.shape[1]\n",
    "xTest = test.iloc[:, :nCols-2]\n",
    "yTest = test.iloc[:, nCols-1]\n",
    "\n",
    "xTrain = train.iloc[:, :nCols-2]\n",
    "yTrain = train.iloc[:, nCols-1]"
   ]
  },
  {
   "cell_type": "code",
   "execution_count": 76,
   "metadata": {},
   "outputs": [
    {
     "name": "stdout",
     "output_type": "stream",
     "text": [
      "Training Size: (862513, 12)\n",
      "Testing Size: (215629, 12)\n"
     ]
    }
   ],
   "source": [
    "print(\"Training Size:\", xTrain.shape)\n",
    "print(\"Testing Size:\", xTest.shape)"
   ]
  },
  {
   "cell_type": "code",
   "execution_count": 82,
   "metadata": {},
   "outputs": [
    {
     "name": "stdout",
     "output_type": "stream",
     "text": [
      "Epoch 1/150\n",
      "3370/3370 [==============================] - 13s 4ms/step - loss: 0.1715 - accuracy: 0.9428\n",
      "Epoch 2/150\n",
      "3370/3370 [==============================] - 12s 3ms/step - loss: 0.1596 - accuracy: 0.9456\n",
      "Epoch 3/150\n",
      "3370/3370 [==============================] - 14s 4ms/step - loss: 0.1581 - accuracy: 0.9458\n",
      "Epoch 4/150\n",
      "3370/3370 [==============================] - 11s 3ms/step - loss: 0.1567 - accuracy: 0.9460\n",
      "Epoch 5/150\n",
      "3370/3370 [==============================] - 11s 3ms/step - loss: 0.1554 - accuracy: 0.9463\n",
      "Epoch 6/150\n",
      "3370/3370 [==============================] - 9s 3ms/step - loss: 0.1544 - accuracy: 0.9465\n",
      "Epoch 7/150\n",
      "3370/3370 [==============================] - 7s 2ms/step - loss: 0.1536 - accuracy: 0.9467\n",
      "Epoch 8/150\n",
      "3370/3370 [==============================] - 10s 3ms/step - loss: 0.1531 - accuracy: 0.9468\n",
      "Epoch 9/150\n",
      "3370/3370 [==============================] - 12s 4ms/step - loss: 0.1528 - accuracy: 0.9469\n",
      "Epoch 10/150\n",
      "3370/3370 [==============================] - 12s 4ms/step - loss: 0.1526 - accuracy: 0.9469\n",
      "Epoch 11/150\n",
      "3370/3370 [==============================] - 15s 4ms/step - loss: 0.1523 - accuracy: 0.9470\n",
      "Epoch 12/150\n",
      "3370/3370 [==============================] - 14s 4ms/step - loss: 0.1521 - accuracy: 0.9471\n",
      "Epoch 13/150\n",
      "3370/3370 [==============================] - 10s 3ms/step - loss: 0.1520 - accuracy: 0.9472\n",
      "Epoch 14/150\n",
      "3370/3370 [==============================] - 11s 3ms/step - loss: 0.1516 - accuracy: 0.9472\n",
      "Epoch 15/150\n",
      "3370/3370 [==============================] - 8s 2ms/step - loss: 0.1515 - accuracy: 0.9471\n",
      "Epoch 16/150\n",
      "3370/3370 [==============================] - 10s 3ms/step - loss: 0.1513 - accuracy: 0.9474\n",
      "Epoch 17/150\n",
      "3370/3370 [==============================] - 13s 4ms/step - loss: 0.1512 - accuracy: 0.9473\n",
      "Epoch 18/150\n",
      "3370/3370 [==============================] - 12s 4ms/step - loss: 0.1510 - accuracy: 0.9474\n",
      "Epoch 19/150\n",
      "3370/3370 [==============================] - 14s 4ms/step - loss: 0.1508 - accuracy: 0.9476\n",
      "Epoch 20/150\n",
      "3370/3370 [==============================] - 14s 4ms/step - loss: 0.1508 - accuracy: 0.9476\n",
      "Epoch 21/150\n",
      "3370/3370 [==============================] - 13s 4ms/step - loss: 0.1506 - accuracy: 0.9475\n",
      "Epoch 22/150\n",
      "3370/3370 [==============================] - 14s 4ms/step - loss: 0.1505 - accuracy: 0.9476\n",
      "Epoch 23/150\n",
      "3370/3370 [==============================] - 15s 4ms/step - loss: 0.1504 - accuracy: 0.9476\n",
      "Epoch 24/150\n",
      "3370/3370 [==============================] - 12s 3ms/step - loss: 0.1501 - accuracy: 0.9479\n",
      "Epoch 25/150\n",
      "3370/3370 [==============================] - 15s 5ms/step - loss: 0.1501 - accuracy: 0.9477\n",
      "Epoch 26/150\n",
      "3370/3370 [==============================] - 13s 4ms/step - loss: 0.1500 - accuracy: 0.9477\n",
      "Epoch 27/150\n",
      "3370/3370 [==============================] - 12s 3ms/step - loss: 0.1498 - accuracy: 0.9479\n",
      "Epoch 28/150\n",
      "3370/3370 [==============================] - 8s 2ms/step - loss: 0.1497 - accuracy: 0.9477\n",
      "Epoch 29/150\n",
      "3370/3370 [==============================] - 16s 5ms/step - loss: 0.1497 - accuracy: 0.9478\n",
      "Epoch 30/150\n",
      "3370/3370 [==============================] - 15s 4ms/step - loss: 0.1495 - accuracy: 0.9479\n",
      "Epoch 31/150\n",
      "3370/3370 [==============================] - 15s 4ms/step - loss: 0.1495 - accuracy: 0.9479\n",
      "Epoch 32/150\n",
      "3370/3370 [==============================] - 15s 5ms/step - loss: 0.1494 - accuracy: 0.9477\n",
      "Epoch 33/150\n",
      "3370/3370 [==============================] - 11s 3ms/step - loss: 0.1493 - accuracy: 0.9478\n",
      "Epoch 34/150\n",
      "3370/3370 [==============================] - 18s 5ms/step - loss: 0.1492 - accuracy: 0.9478\n",
      "Epoch 35/150\n",
      "3370/3370 [==============================] - 14s 4ms/step - loss: 0.1491 - accuracy: 0.9479\n",
      "Epoch 36/150\n",
      "3370/3370 [==============================] - 15s 4ms/step - loss: 0.1491 - accuracy: 0.9479\n",
      "Epoch 37/150\n",
      "3370/3370 [==============================] - 16s 5ms/step - loss: 0.1490 - accuracy: 0.9480\n",
      "Epoch 38/150\n",
      "3370/3370 [==============================] - 20s 6ms/step - loss: 0.1490 - accuracy: 0.9479\n",
      "Epoch 39/150\n",
      "3370/3370 [==============================] - 14s 4ms/step - loss: 0.1489 - accuracy: 0.9480\n",
      "Epoch 40/150\n",
      "3370/3370 [==============================] - 20s 6ms/step - loss: 0.1489 - accuracy: 0.9478\n",
      "Epoch 41/150\n",
      "3370/3370 [==============================] - 11s 3ms/step - loss: 0.1487 - accuracy: 0.9481\n",
      "Epoch 42/150\n",
      "3370/3370 [==============================] - 17s 5ms/step - loss: 0.1488 - accuracy: 0.9479\n",
      "Epoch 43/150\n",
      "3370/3370 [==============================] - 13s 4ms/step - loss: 0.1487 - accuracy: 0.9481\n",
      "Epoch 44/150\n",
      "3370/3370 [==============================] - 13s 4ms/step - loss: 0.1486 - accuracy: 0.9480\n",
      "Epoch 45/150\n",
      "3370/3370 [==============================] - 14s 4ms/step - loss: 0.1486 - accuracy: 0.9480\n",
      "Epoch 46/150\n",
      "3370/3370 [==============================] - 15s 5ms/step - loss: 0.1485 - accuracy: 0.9481\n",
      "Epoch 47/150\n",
      "3370/3370 [==============================] - 15s 4ms/step - loss: 0.1484 - accuracy: 0.9482\n",
      "Epoch 48/150\n",
      "3370/3370 [==============================] - 18s 5ms/step - loss: 0.1485 - accuracy: 0.9482\n",
      "Epoch 49/150\n",
      "3370/3370 [==============================] - 14s 4ms/step - loss: 0.1484 - accuracy: 0.9483\n",
      "Epoch 50/150\n",
      "3370/3370 [==============================] - 14s 4ms/step - loss: 0.1483 - accuracy: 0.9481\n",
      "Epoch 51/150\n",
      "3370/3370 [==============================] - 16s 5ms/step - loss: 0.1483 - accuracy: 0.9483\n",
      "Epoch 52/150\n",
      "3370/3370 [==============================] - 15s 5ms/step - loss: 0.1482 - accuracy: 0.9483\n",
      "Epoch 53/150\n",
      "3370/3370 [==============================] - 11s 3ms/step - loss: 0.1482 - accuracy: 0.9482\n",
      "Epoch 54/150\n",
      "3370/3370 [==============================] - 11s 3ms/step - loss: 0.1482 - accuracy: 0.9483\n",
      "Epoch 55/150\n",
      "3370/3370 [==============================] - 13s 4ms/step - loss: 0.1481 - accuracy: 0.9483\n",
      "Epoch 56/150\n",
      "3370/3370 [==============================] - 11s 3ms/step - loss: 0.1480 - accuracy: 0.9483\n",
      "Epoch 57/150\n",
      "3370/3370 [==============================] - 13s 4ms/step - loss: 0.1480 - accuracy: 0.9483\n",
      "Epoch 58/150\n",
      "3370/3370 [==============================] - 11s 3ms/step - loss: 0.1480 - accuracy: 0.9482\n",
      "Epoch 59/150\n",
      "3370/3370 [==============================] - 10s 3ms/step - loss: 0.1479 - accuracy: 0.9483\n",
      "Epoch 60/150\n",
      "3370/3370 [==============================] - 13s 4ms/step - loss: 0.1479 - accuracy: 0.9482\n",
      "Epoch 61/150\n",
      "3370/3370 [==============================] - 13s 4ms/step - loss: 0.1479 - accuracy: 0.9483\n",
      "Epoch 62/150\n",
      "3370/3370 [==============================] - 11s 3ms/step - loss: 0.1478 - accuracy: 0.9483\n",
      "Epoch 63/150\n",
      "3370/3370 [==============================] - 16s 5ms/step - loss: 0.1478 - accuracy: 0.9482\n",
      "Epoch 64/150\n",
      "3370/3370 [==============================] - 17s 5ms/step - loss: 0.1478 - accuracy: 0.9482\n",
      "Epoch 65/150\n",
      "3370/3370 [==============================] - 15s 4ms/step - loss: 0.1477 - accuracy: 0.9483\n",
      "Epoch 66/150\n",
      "3370/3370 [==============================] - 13s 4ms/step - loss: 0.1477 - accuracy: 0.9484\n",
      "Epoch 67/150\n",
      "3370/3370 [==============================] - 16s 5ms/step - loss: 0.1477 - accuracy: 0.9484\n",
      "Epoch 68/150\n",
      "3370/3370 [==============================] - 17s 5ms/step - loss: 0.1476 - accuracy: 0.9485\n",
      "Epoch 69/150\n",
      "3370/3370 [==============================] - 17s 5ms/step - loss: 0.1477 - accuracy: 0.9483\n",
      "Epoch 70/150\n",
      "3370/3370 [==============================] - 20s 6ms/step - loss: 0.1475 - accuracy: 0.9485\n",
      "Epoch 71/150\n",
      "3370/3370 [==============================] - 17s 5ms/step - loss: 0.1476 - accuracy: 0.9484\n",
      "Epoch 72/150\n",
      "3370/3370 [==============================] - 14s 4ms/step - loss: 0.1476 - accuracy: 0.9485\n",
      "Epoch 73/150\n",
      "3370/3370 [==============================] - 15s 4ms/step - loss: 0.1475 - accuracy: 0.9484\n",
      "Epoch 74/150\n",
      "3370/3370 [==============================] - 15s 4ms/step - loss: 0.1475 - accuracy: 0.9484\n",
      "Epoch 75/150\n",
      "3370/3370 [==============================] - 15s 4ms/step - loss: 0.1475 - accuracy: 0.9484\n",
      "Epoch 76/150\n",
      "3370/3370 [==============================] - 16s 5ms/step - loss: 0.1474 - accuracy: 0.9485\n",
      "Epoch 77/150\n",
      "3370/3370 [==============================] - 15s 4ms/step - loss: 0.1474 - accuracy: 0.9486\n",
      "Epoch 78/150\n",
      "3370/3370 [==============================] - 13s 4ms/step - loss: 0.1475 - accuracy: 0.9484\n",
      "Epoch 79/150\n",
      "3370/3370 [==============================] - 11s 3ms/step - loss: 0.1474 - accuracy: 0.9486\n",
      "Epoch 80/150\n",
      "3370/3370 [==============================] - 14s 4ms/step - loss: 0.1473 - accuracy: 0.9484\n",
      "Epoch 81/150\n",
      "3370/3370 [==============================] - 14s 4ms/step - loss: 0.1473 - accuracy: 0.9485\n",
      "Epoch 82/150\n",
      "3370/3370 [==============================] - 9s 3ms/step - loss: 0.1473 - accuracy: 0.9486\n",
      "Epoch 83/150\n",
      "3370/3370 [==============================] - 11s 3ms/step - loss: 0.1473 - accuracy: 0.9485\n",
      "Epoch 84/150\n",
      "3370/3370 [==============================] - 14s 4ms/step - loss: 0.1472 - accuracy: 0.9484\n"
     ]
    }
   ],
   "source": [
    "# convert output from scalar to vector format, i.e. building type=2 to [0,0,1,0,0,0,0,0,0,0,0]\n",
    "y = to_categorical(yTrain)\n",
    "\n",
    "# define the keras model\n",
    "model = Sequential()\n",
    "model.add(Dense(30, input_shape=(xTrain.shape[1],), activation='relu'))\n",
    "model.add(Dense(15, activation='relu'))\n",
    "model.add(Dense(2, activation='softmax'))\n",
    "model.compile(loss='binary_crossentropy', optimizer='adam', metrics=['accuracy'])\n",
    "\n",
    "# stop training if we see 7 epochs over which accuracy doesn't improve\n",
    "es = EarlyStopping(monitor='accuracy', patience=7)\n",
    "\n",
    "# fit the model\n",
    "h = model.fit(xTrain, y, epochs=150, batch_size=256, callbacks=[es])"
   ]
  },
  {
   "cell_type": "code",
   "execution_count": 83,
   "metadata": {},
   "outputs": [
    {
     "name": "stdout",
     "output_type": "stream",
     "text": [
      "Model: \"sequential_1\"\n",
      "_________________________________________________________________\n",
      " Layer (type)                Output Shape              Param #   \n",
      "=================================================================\n",
      " dense_3 (Dense)             (None, 30)                390       \n",
      "                                                                 \n",
      " dense_4 (Dense)             (None, 15)                465       \n",
      "                                                                 \n",
      " dense_5 (Dense)             (None, 2)                 32        \n",
      "                                                                 \n",
      "=================================================================\n",
      "Total params: 887\n",
      "Trainable params: 887\n",
      "Non-trainable params: 0\n",
      "_________________________________________________________________\n"
     ]
    }
   ],
   "source": [
    "model.summary()"
   ]
  },
  {
   "cell_type": "code",
   "execution_count": 84,
   "metadata": {},
   "outputs": [
    {
     "data": {
      "text/plain": [
       "Text(0.5, 0, 'Epoch')"
      ]
     },
     "execution_count": 84,
     "metadata": {},
     "output_type": "execute_result"
    },
    {
     "data": {
      "image/png": "[encoded data removed]",
      "text/plain": [
       "<Figure size 432x288 with 1 Axes>"
      ]
     },
     "metadata": {
      "needs_background": "light"
     },
     "output_type": "display_data"
    }
   ],
   "source": [
    "plt.plot( h.history['accuracy'] )\n",
    "plt.title('Training Accuracy')\n",
    "plt.ylabel('Accuracy')\n",
    "plt.xlabel('Epoch')"
   ]
  },
  {
   "cell_type": "code",
   "execution_count": 85,
   "metadata": {},
   "outputs": [],
   "source": [
    "model.save_weights(\"./nn_model.h5\")"
   ]
  },
  {
   "cell_type": "code",
   "execution_count": 86,
   "metadata": {},
   "outputs": [
    {
     "name": "stdout",
     "output_type": "stream",
     "text": [
      "6739/6739 [==============================] - 7s 1ms/step - loss: 0.1487 - accuracy: 0.9477\n",
      "Accuracy on the test set: 0.9477\n"
     ]
    }
   ],
   "source": [
    "y = to_categorical(yTest)\n",
    "loss, acc = model.evaluate( xTest, y )\n",
    "print(\"Accuracy on the test set:\", np.round(acc,4))"
   ]
  },
  {
   "cell_type": "code",
   "execution_count": 87,
   "metadata": {},
   "outputs": [
    {
     "name": "stdout",
     "output_type": "stream",
     "text": [
      "6739/6739 [==============================] - 7s 997us/step\n"
     ]
    },
    {
     "data": {
      "text/plain": [
       "215629"
      ]
     },
     "execution_count": 87,
     "metadata": {},
     "output_type": "execute_result"
    }
   ],
   "source": [
    "ps = model.predict(xTest)\n",
    "predictions = []\n",
    "for p in ps:\n",
    "    predictions.append( np.argmax( p ) )\n",
    "len(predictions)"
   ]
  },
  {
   "cell_type": "code",
   "execution_count": 88,
   "metadata": {},
   "outputs": [
    {
     "name": "stdout",
     "output_type": "stream",
     "text": [
      "Balanced Accuracy: 0.7918\n",
      "Micro F1: 0.9477\n"
     ]
    }
   ],
   "source": [
    "print( \"Balanced Accuracy:\", np.round( balanced_accuracy_score(yTest.values, predictions), 4 ))\n",
    "print( \"Micro F1:\", np.round( f1_score(yTest.values, predictions, average='micro'), 4 ))"
   ]
  },
  {
   "cell_type": "code",
   "execution_count": 89,
   "metadata": {},
   "outputs": [],
   "source": [
    "cm = confusion_matrix( yTest.values, predictions, normalize='true' )"
   ]
  },
  {
   "cell_type": "code",
   "execution_count": 90,
   "metadata": {
    "scrolled": true
   },
   "outputs": [
    {
     "data": {
      "text/plain": [
       "<sklearn.metrics._plot.confusion_matrix.ConfusionMatrixDisplay at 0x7faf09170f10>"
      ]
     },
     "execution_count": 90,
     "metadata": {},
     "output_type": "execute_result"
    },
    {
     "data": {
      "image/png": "[encoded data removed]",
      "text/plain": [
       "<Figure size 360x360 with 2 Axes>"
      ]
     },
     "metadata": {
      "needs_background": "light"
     },
     "output_type": "display_data"
    }
   ],
   "source": [
    "fig, ax = plt.subplots(figsize=(5, 5))\n",
    "disp = ConfusionMatrixDisplay( confusion_matrix=cm )\n",
    "disp.plot(ax=ax)"
   ]
  },
  {
   "cell_type": "markdown",
   "metadata": {},
   "source": [
    "## Feature Importance"
   ]
  },
  {
   "cell_type": "code",
   "execution_count": 91,
   "metadata": {},
   "outputs": [
    {
     "name": "stdout",
     "output_type": "stream",
     "text": [
      "Elapsed time to compute the importances: 46.692 seconds\n"
     ]
    },
    {
     "data": {
      "image/png": "[encoded data removed]",
      "text/plain": [
       "<Figure size 432x288 with 1 Axes>"
      ]
     },
     "metadata": {
      "needs_background": "light"
     },
     "output_type": "display_data"
    }
   ],
   "source": [
    "start_time = time.time()\n",
    "result = permutation_importance(\n",
    "    rf, X_test, y_test, n_repeats=1, random_state=42, n_jobs=1\n",
    ")\n",
    "elapsed_time = time.time() - start_time\n",
    "print(f\"Elapsed time to compute the importances: {elapsed_time:.3f} seconds\")\n",
    "\n",
    "forest_importances = pd.Series(result.importances_mean, index=df.columns[:-1])\n",
    "\n",
    "fig, ax = plt.subplots()\n",
    "forest_importances.plot.bar(yerr=result.importances_std, ax=ax)\n",
    "ax.set_title(\"Feature importances using permutation method\")\n",
    "ax.set_ylabel(\"Mean accuracy decrease\")\n",
    "ax.set_yscale('log')\n",
    "fig.tight_layout()\n",
    "plt.show()"
   ]
  },
  {
   "cell_type": "markdown",
   "metadata": {},
   "source": [
    "## Remove features that are not important/helpful to simplify the model"
   ]
  },
  {
   "cell_type": "code",
   "execution_count": 12,
   "metadata": {},
   "outputs": [
    {
     "name": "stdout",
     "output_type": "stream",
     "text": [
      "Balanced Accuracy: 0.8458\n",
      "Micro F1: 0.9596\n",
      "\n",
      "Balanced Accuracy: 0.8464\n",
      "Micro F1: 0.9599\n",
      "\n",
      "Balanced Accuracy: 0.8466\n",
      "Micro F1: 0.96\n",
      "\n",
      "Balanced Accuracy: 0.8452\n",
      "Micro F1: 0.9596\n",
      "\n",
      "Balanced Accuracy: 0.847\n",
      "Micro F1: 0.9598\n",
      "\n",
      "Average Balanced Accuracy: 0.8462\n"
     ]
    }
   ],
   "source": [
    "kf = KFold( n_splits=5, shuffle=True, random_state=42 )\n",
    "rf = RandomForestClassifier(class_weight='balanced')\n",
    "\n",
    "X = rawDf.drop(['OrnlType', 'HousingUnitsCounty', 'HousingDensityCounty', 'AgCount', 'CmCount',\n",
    "                'GvCount', 'EdCount', 'InCount'], axis=1).values\n",
    "y = rawDf['OrnlType'].values\n",
    "\n",
    "accs = []\n",
    "for trainIndex, testIndex in kf.split(X):\n",
    "    X_train, X_test = X[trainIndex], X[testIndex]\n",
    "    y_train, y_test = y[trainIndex], y[testIndex]\n",
    "    rf.fit( X_train, y_train )\n",
    "    ba = np.round( balanced_accuracy_score(y_test, rf.predict(X_test)), 4 )\n",
    "    accs.append( ba )\n",
    "    print( \"Balanced Accuracy:\", ba)\n",
    "    print( \"Micro F1:\", np.round( f1_score(y_test, rf.predict(X_test), average='micro'), 4 ))\n",
    "    print()\n",
    "print( \"Average Balanced Accuracy:\", np.round(np.mean(accs),4) )"
   ]
  },
  {
   "cell_type": "code",
   "execution_count": 13,
   "metadata": {},
   "outputs": [],
   "source": [
    "with open('./rf_reduced_model.pkl', 'wb') as f:\n",
    "    pickle.dump(rf, f)"
   ]
  },
  {
   "cell_type": "markdown",
   "metadata": {},
   "source": [
    "## Strategies to deal with unbalanced classes"
   ]
  },
  {
   "cell_type": "code",
   "execution_count": 25,
   "metadata": {},
   "outputs": [],
   "source": [
    "from imblearn.under_sampling import NearMiss\n",
    "\n",
    "# define the undersampling method\n",
    "undersample = NearMiss( version=3, n_neighbors_ver3=5 )\n",
    "\n",
    "X = rawDf.drop(['OrnlType'], axis=1).values\n",
    "y = rawDf['OrnlType'].values\n",
    "\n",
    "# transform the dataset\n",
    "X, y = undersample.fit_resample( X, y )"
   ]
  },
  {
   "cell_type": "code",
   "execution_count": 26,
   "metadata": {},
   "outputs": [
    {
     "name": "stdout",
     "output_type": "stream",
     "text": [
      "Residential: 101453\n",
      "Other: 101453\n"
     ]
    }
   ],
   "source": [
    "ix = np.where( y == 1 )\n",
    "print( \"Residential:\", len(ix[0]) )\n",
    "\n",
    "ix = np.where( y == 0 )\n",
    "print( \"Other:\", len(ix[0]) )"
   ]
  },
  {
   "cell_type": "code",
   "execution_count": 27,
   "metadata": {},
   "outputs": [
    {
     "name": "stdout",
     "output_type": "stream",
     "text": [
      "Balanced Accuracy: 0.8435\n",
      "Micro F1: 0.8435\n",
      "\n",
      "Balanced Accuracy: 0.8422\n",
      "Micro F1: 0.8422\n",
      "\n",
      "Balanced Accuracy: 0.8409\n",
      "Micro F1: 0.8409\n",
      "\n",
      "Balanced Accuracy: 0.8389\n",
      "Micro F1: 0.8388\n",
      "\n",
      "Balanced Accuracy: 0.8377\n",
      "Micro F1: 0.8377\n",
      "\n",
      "Average Balanced Accuracy: 0.8406\n"
     ]
    }
   ],
   "source": [
    "kf = KFold( n_splits=5, shuffle=True, random_state=42 )\n",
    "rf = RandomForestClassifier(class_weight='balanced')\n",
    "\n",
    "accs = []\n",
    "for trainIndex, testIndex in kf.split(X):\n",
    "    X_train, X_test = X[trainIndex], X[testIndex]\n",
    "    y_train, y_test = y[trainIndex], y[testIndex]\n",
    "    rf.fit( X_train, y_train )\n",
    "    ba = np.round( balanced_accuracy_score(y_test, rf.predict(X_test)), 4 )\n",
    "    accs.append( ba )\n",
    "    print( \"Balanced Accuracy:\", ba)\n",
    "    print( \"Micro F1:\", np.round( f1_score(y_test, rf.predict(X_test), average='micro'), 4 ))\n",
    "    print()\n",
    "print( \"Average Balanced Accuracy:\", np.round(np.mean(accs),4) )"
   ]
  },
  {
   "cell_type": "code",
   "execution_count": 28,
   "metadata": {},
   "outputs": [],
   "source": [
    "with open('./rf_balanced_model.pkl', 'wb') as f:\n",
    "    pickle.dump(rf, f)"
   ]
  },
  {
   "cell_type": "markdown",
   "metadata": {},
   "source": [
    "## Threshold Moving"
   ]
  },
  {
   "cell_type": "code",
   "execution_count": 6,
   "metadata": {},
   "outputs": [
    {
     "name": "stdout",
     "output_type": "stream",
     "text": [
      "Fitting the model...\n",
      "Making predictions...\n",
      "Generating precision-recall curve...\n"
     ]
    }
   ],
   "source": [
    "from matplotlib import pyplot\n",
    "from sklearn.metrics import precision_recall_curve\n",
    "\n",
    "# generate dataset\n",
    "X = rawDf.drop(['OrnlType'], axis=1).values\n",
    "y = rawDf['OrnlType'].values\n",
    "\n",
    "# split into train/test sets\n",
    "trainX, testX, trainy, testy = train_test_split(X, y, test_size=0.2, random_state=2, stratify=y)\n",
    "\n",
    "# fit a model\n",
    "print(\"Fitting the model...\")\n",
    "model = RandomForestClassifier(class_weight='balanced')\n",
    "model.fit(trainX, trainy)\n",
    "\n",
    "# predict probabilities\n",
    "print(\"Making predictions...\")\n",
    "yhat = model.predict_proba(testX)\n",
    "\n",
    "# keep probabilities for the positive outcome only\n",
    "yhat = yhat[:, 1]\n",
    "\n",
    "# calculate precision-recall curve\n",
    "print(\"Generating precision-recall curve...\")\n",
    "precision, recall, thresholds = precision_recall_curve(testy, yhat)"
   ]
  },
  {
   "cell_type": "code",
   "execution_count": 8,
   "metadata": {},
   "outputs": [
    {
     "name": "stdout",
     "output_type": "stream",
     "text": [
      "Best Threshold=0.550000, F-Score=0.979\n"
     ]
    }
   ],
   "source": [
    "# convert to f score\n",
    "fscore = (2 * precision * recall) / (precision + recall)\n",
    "\n",
    "# locate the index of the largest f score\n",
    "ix = np.argmax(fscore)\n",
    "print('Best Threshold=%f, F-Score=%.3f' % (thresholds[ix], fscore[ix]))"
   ]
  },
  {
   "cell_type": "code",
   "execution_count": 9,
   "metadata": {},
   "outputs": [
    {
     "data": {
      "image/png": "[encoded data removed]",
      "text/plain": [
       "<Figure size 432x288 with 1 Axes>"
      ]
     },
     "metadata": {
      "needs_background": "light"
     },
     "output_type": "display_data"
    }
   ],
   "source": [
    "# plot the curve for the model\n",
    "no_skill = len(testy[testy==1]) / len(testy)\n",
    "pyplot.plot([0,1], [no_skill,no_skill], linestyle='--', label='No Skill')\n",
    "pyplot.plot(recall, precision, marker='.', label='Random Forest')\n",
    "pyplot.scatter(recall[ix], precision[ix], marker='o', color='black', label='Best')\n",
    "\n",
    "# axis labels\n",
    "pyplot.xlabel('Recall')\n",
    "pyplot.ylabel('Precision')\n",
    "pyplot.legend()\n",
    "\n",
    "# show the plot\n",
    "pyplot.show()"
   ]
  },
  {
   "cell_type": "code",
   "execution_count": 10,
   "metadata": {},
   "outputs": [
    {
     "name": "stdout",
     "output_type": "stream",
     "text": [
      "Balanced Accuracy: 0.8625\n",
      "Micro F1: 0.9615\n"
     ]
    }
   ],
   "source": [
    "threshold = 0.55\n",
    "\n",
    "predicted_proba = model.predict_proba(testX)\n",
    "predicted = (predicted_proba [:,1] >= threshold).astype('int')\n",
    "\n",
    "ba = np.round( balanced_accuracy_score(testy, predicted), 4 )\n",
    "\n",
    "print( \"Balanced Accuracy:\", ba)\n",
    "print( \"Micro F1:\", np.round( f1_score(testy, predicted, average='micro'), 4 ))"
   ]
  },
  {
   "cell_type": "code",
   "execution_count": 11,
   "metadata": {},
   "outputs": [],
   "source": [
    "with open('./rf_model_threshold_moving.pkl', 'wb') as f:\n",
    "    pickle.dump(model, f)"
   ]
  },
  {
   "cell_type": "markdown",
   "metadata": {},
   "source": [
    "## Multi-class classification of 'Other' buildings"
   ]
  },
  {
   "cell_type": "code",
   "execution_count": 12,
   "metadata": {},
   "outputs": [
    {
     "name": "stdout",
     "output_type": "stream",
     "text": [
      "\n",
      "Commercial          64029\n",
      "Industrial          16722\n",
      "Assembly             7323\n",
      "Education            6457\n",
      "Government           4910\n",
      "Agriculture          1651\n",
      "Utility and Misc      362\n",
      "Name: OrnlType, dtype: int64\n",
      "\n"
     ]
    }
   ],
   "source": [
    "# read into a Pandas dataframe\n",
    "rawDf = pd.read_csv( inFile )\n",
    "\n",
    "# ignore first few columns, which are FIPs codes, not needed for ML\n",
    "rawDf = rawDf.iloc[:, 3:] \n",
    "\n",
    "# drop the 'Residential' rows\n",
    "rawDf = rawDf[ rawDf['OrnlType'] != 'Residential' ]\n",
    "\n",
    "# building type distributions\n",
    "print()\n",
    "print( rawDf['OrnlType'].value_counts() )\n",
    "print()"
   ]
  },
  {
   "cell_type": "code",
   "execution_count": 7,
   "metadata": {},
   "outputs": [
    {
     "name": "stdout",
     "output_type": "stream",
     "text": [
      "\n",
      "Commercial            1.000000\n",
      "Industrial            3.829028\n",
      "Assembly              8.743548\n",
      "Education             9.916215\n",
      "Government           13.040530\n",
      "Agriculture          38.781950\n",
      "Utility and Misc    176.875691\n",
      "Name: OrnlType, dtype: float64\n",
      "\n"
     ]
    }
   ],
   "source": [
    "# building type distributions\n",
    "print()\n",
    "print( 64029/rawDf['OrnlType'].value_counts() )\n",
    "print()"
   ]
  },
  {
   "cell_type": "markdown",
   "metadata": {},
   "source": [
    "## Preprocess"
   ]
  },
  {
   "cell_type": "code",
   "execution_count": 13,
   "metadata": {},
   "outputs": [],
   "source": [
    "rawDf = rawDf.sample(frac=1) # shuffle the dataframe (technically, we randomly resample the entire df)\n",
    "\n",
    "rawDf = rawDf.dropna()\n",
    "\n",
    "nCols = rawDf.shape[1]\n",
    "le = preprocessing.LabelEncoder()\n",
    "le.fit( rawDf.iloc[:, nCols-1] ) # ornl type\n",
    "rawDf.iloc[:, nCols-1] = le.transform( rawDf.iloc[:, nCols-1] )\n",
    "    \n",
    "le2 = preprocessing.LabelEncoder()\n",
    "le2.fit( rawDf.iloc[:, nCols-2] ) # nearest road type\n",
    "rawDf.iloc[:, nCols-2] = le2.transform( rawDf.iloc[:, nCols-2] )"
   ]
  },
  {
   "cell_type": "code",
   "execution_count": 9,
   "metadata": {},
   "outputs": [
    {
     "data": {
      "text/html": [
       "<div>\n",
       "<style scoped>\n",
       "    .dataframe tbody tr th:only-of-type {\n",
       "        vertical-align: middle;\n",
       "    }\n",
       "\n",
       "    .dataframe tbody tr th {\n",
       "        vertical-align: top;\n",
       "    }\n",
       "\n",
       "    .dataframe thead th {\n",
       "        text-align: right;\n",
       "    }\n",
       "</style>\n",
       "<table border=\"1\" class=\"dataframe\">\n",
       "  <thead>\n",
       "    <tr style=\"text-align: right;\">\n",
       "      <th></th>\n",
       "      <th>X</th>\n",
       "      <th>Y</th>\n",
       "      <th>Area</th>\n",
       "      <th>MedianIncomeCounty</th>\n",
       "      <th>HousingUnitsCounty</th>\n",
       "      <th>HousingDensityCounty</th>\n",
       "      <th>Impervious</th>\n",
       "      <th>AgCount</th>\n",
       "      <th>CmCount</th>\n",
       "      <th>GvCount</th>\n",
       "      <th>EdCount</th>\n",
       "      <th>InCount</th>\n",
       "      <th>OsmNearestRoad</th>\n",
       "      <th>OrnlType</th>\n",
       "    </tr>\n",
       "  </thead>\n",
       "  <tbody>\n",
       "    <tr>\n",
       "      <th>396141</th>\n",
       "      <td>-83.804861</td>\n",
       "      <td>35.326250</td>\n",
       "      <td>631.087392</td>\n",
       "      <td>21315.0</td>\n",
       "      <td>5212.0</td>\n",
       "      <td>0.649066</td>\n",
       "      <td>79.000000</td>\n",
       "      <td>0</td>\n",
       "      <td>258</td>\n",
       "      <td>0</td>\n",
       "      <td>0</td>\n",
       "      <td>125</td>\n",
       "      <td>2</td>\n",
       "      <td>2</td>\n",
       "    </tr>\n",
       "    <tr>\n",
       "      <th>398707</th>\n",
       "      <td>-80.424583</td>\n",
       "      <td>35.238472</td>\n",
       "      <td>642.403200</td>\n",
       "      <td>28219.0</td>\n",
       "      <td>27685.0</td>\n",
       "      <td>0.442932</td>\n",
       "      <td>77.666667</td>\n",
       "      <td>53</td>\n",
       "      <td>3568</td>\n",
       "      <td>3</td>\n",
       "      <td>41</td>\n",
       "      <td>1137</td>\n",
       "      <td>5</td>\n",
       "      <td>2</td>\n",
       "    </tr>\n",
       "    <tr>\n",
       "      <th>411882</th>\n",
       "      <td>-77.392176</td>\n",
       "      <td>36.093472</td>\n",
       "      <td>965.513124</td>\n",
       "      <td>20777.0</td>\n",
       "      <td>24735.0</td>\n",
       "      <td>0.508720</td>\n",
       "      <td>23.000000</td>\n",
       "      <td>40</td>\n",
       "      <td>2843</td>\n",
       "      <td>0</td>\n",
       "      <td>31</td>\n",
       "      <td>335</td>\n",
       "      <td>4</td>\n",
       "      <td>1</td>\n",
       "    </tr>\n",
       "    <tr>\n",
       "      <th>469797</th>\n",
       "      <td>-81.874861</td>\n",
       "      <td>36.160509</td>\n",
       "      <td>416.269263</td>\n",
       "      <td>22034.0</td>\n",
       "      <td>13827.0</td>\n",
       "      <td>0.776536</td>\n",
       "      <td>85.000000</td>\n",
       "      <td>17</td>\n",
       "      <td>1340</td>\n",
       "      <td>0</td>\n",
       "      <td>6</td>\n",
       "      <td>363</td>\n",
       "      <td>4</td>\n",
       "      <td>3</td>\n",
       "    </tr>\n",
       "    <tr>\n",
       "      <th>372410</th>\n",
       "      <td>-79.777546</td>\n",
       "      <td>36.075880</td>\n",
       "      <td>377.242300</td>\n",
       "      <td>30173.0</td>\n",
       "      <td>232277.0</td>\n",
       "      <td>0.429110</td>\n",
       "      <td>45.666667</td>\n",
       "      <td>21</td>\n",
       "      <td>45798</td>\n",
       "      <td>18</td>\n",
       "      <td>915</td>\n",
       "      <td>8411</td>\n",
       "      <td>4</td>\n",
       "      <td>3</td>\n",
       "    </tr>\n",
       "  </tbody>\n",
       "</table>\n",
       "</div>"
      ],
      "text/plain": [
       "                X          Y        Area  MedianIncomeCounty  \\\n",
       "396141 -83.804861  35.326250  631.087392             21315.0   \n",
       "398707 -80.424583  35.238472  642.403200             28219.0   \n",
       "411882 -77.392176  36.093472  965.513124             20777.0   \n",
       "469797 -81.874861  36.160509  416.269263             22034.0   \n",
       "372410 -79.777546  36.075880  377.242300             30173.0   \n",
       "\n",
       "        HousingUnitsCounty  HousingDensityCounty  Impervious  AgCount  \\\n",
       "396141              5212.0              0.649066   79.000000        0   \n",
       "398707             27685.0              0.442932   77.666667       53   \n",
       "411882             24735.0              0.508720   23.000000       40   \n",
       "469797             13827.0              0.776536   85.000000       17   \n",
       "372410            232277.0              0.429110   45.666667       21   \n",
       "\n",
       "        CmCount  GvCount  EdCount  InCount  OsmNearestRoad  OrnlType  \n",
       "396141      258        0        0      125               2         2  \n",
       "398707     3568        3       41     1137               5         2  \n",
       "411882     2843        0       31      335               4         1  \n",
       "469797     1340        0        6      363               4         3  \n",
       "372410    45798       18      915     8411               4         3  "
      ]
     },
     "execution_count": 9,
     "metadata": {},
     "output_type": "execute_result"
    }
   ],
   "source": [
    "rawDf.head()"
   ]
  },
  {
   "cell_type": "markdown",
   "metadata": {},
   "source": [
    "## Random Forest Multiclass Classifier"
   ]
  },
  {
   "cell_type": "code",
   "execution_count": 10,
   "metadata": {},
   "outputs": [
    {
     "name": "stdout",
     "output_type": "stream",
     "text": [
      "Balanced Accuracy: 0.4306\n",
      "Micro F1: 0.732\n",
      "\n",
      "Balanced Accuracy: 0.4413\n",
      "Micro F1: 0.732\n",
      "\n",
      "Balanced Accuracy: 0.4374\n",
      "Micro F1: 0.7345\n",
      "\n",
      "Balanced Accuracy: 0.4324\n",
      "Micro F1: 0.7285\n",
      "\n",
      "Balanced Accuracy: 0.4527\n",
      "Micro F1: 0.732\n",
      "\n",
      "Average Balanced Accuracy: 0.4389\n"
     ]
    }
   ],
   "source": [
    "kf = KFold( n_splits=5, shuffle=True, random_state=42 )\n",
    "rf = RandomForestClassifier(class_weight='balanced')\n",
    "\n",
    "X = rawDf.drop(['OrnlType'], axis=1).values\n",
    "y = rawDf['OrnlType'].values\n",
    "\n",
    "accs = []\n",
    "for trainIndex, testIndex in kf.split(X):\n",
    "    X_train, X_test = X[trainIndex], X[testIndex]\n",
    "    y_train, y_test = y[trainIndex], y[testIndex]\n",
    "    rf.fit( X_train, y_train )\n",
    "    ba = np.round( balanced_accuracy_score(y_test, rf.predict(X_test)), 4 )\n",
    "    accs.append( ba )\n",
    "    print( \"Balanced Accuracy:\", ba)\n",
    "    print( \"Micro F1:\", np.round( f1_score(y_test, rf.predict(X_test), average='micro'), 4 ))\n",
    "    print()\n",
    "print( \"Average Balanced Accuracy:\", np.round(np.mean(accs),4) )"
   ]
  },
  {
   "cell_type": "code",
   "execution_count": 11,
   "metadata": {},
   "outputs": [],
   "source": [
    "with open('./rf_model_multi.pkl', 'wb') as f:\n",
    "    pickle.dump(rf, f)"
   ]
  },
  {
   "cell_type": "code",
   "execution_count": 12,
   "metadata": {},
   "outputs": [],
   "source": [
    "predictions = rf.predict(X_test)\n",
    "cm = confusion_matrix( y_test, predictions, normalize='true' )"
   ]
  },
  {
   "cell_type": "code",
   "execution_count": 14,
   "metadata": {},
   "outputs": [
    {
     "data": {
      "text/plain": [
       "<sklearn.metrics._plot.confusion_matrix.ConfusionMatrixDisplay at 0x7ff3bb73b730>"
      ]
     },
     "execution_count": 14,
     "metadata": {},
     "output_type": "execute_result"
    },
    {
     "data": {
      "image/png": "[encoded data removed]",
      "text/plain": [
       "<Figure size 720x720 with 2 Axes>"
      ]
     },
     "metadata": {
      "needs_background": "light"
     },
     "output_type": "display_data"
    }
   ],
   "source": [
    "fig, ax = plt.subplots(figsize=(10, 10))\n",
    "disp = ConfusionMatrixDisplay( confusion_matrix=cm, display_labels=rf.classes_)\n",
    "disp.plot(ax=ax)"
   ]
  },
  {
   "cell_type": "code",
   "execution_count": 18,
   "metadata": {},
   "outputs": [
    {
     "data": {
      "text/plain": [
       "array(['Agriculture', 'Assembly', 'Commercial', 'Education', 'Government',\n",
       "       'Industrial', 'Utility and Misc'], dtype=object)"
      ]
     },
     "execution_count": 18,
     "metadata": {},
     "output_type": "execute_result"
    }
   ],
   "source": [
    "le.inverse_transform( np.arange(0,7,1) )"
   ]
  },
  {
   "cell_type": "code",
   "execution_count": 15,
   "metadata": {},
   "outputs": [
    {
     "name": "stdout",
     "output_type": "stream",
     "text": [
      "Elapsed time to compute the importances: 5.254 seconds\n"
     ]
    },
    {
     "data": {
      "image/png": "[encoded data removed]",
      "text/plain": [
       "<Figure size 432x288 with 1 Axes>"
      ]
     },
     "metadata": {
      "needs_background": "light"
     },
     "output_type": "display_data"
    }
   ],
   "source": [
    "start_time = time.time()\n",
    "result = permutation_importance(\n",
    "    rf, X_test, y_test, n_repeats=1, random_state=42, n_jobs=1\n",
    ")\n",
    "elapsed_time = time.time() - start_time\n",
    "print(f\"Elapsed time to compute the importances: {elapsed_time:.3f} seconds\")\n",
    "\n",
    "forest_importances = pd.Series(result.importances_mean, index=df.columns[:-1])\n",
    "\n",
    "fig, ax = plt.subplots()\n",
    "forest_importances.plot.bar(yerr=result.importances_std, ax=ax)\n",
    "ax.set_title(\"Feature importances using permutation method\")\n",
    "ax.set_ylabel(\"Mean accuracy decrease\")\n",
    "ax.set_yscale('log')\n",
    "fig.tight_layout()\n",
    "plt.show()"
   ]
  },
  {
   "cell_type": "markdown",
   "metadata": {},
   "source": [
    "## One-vs-One Classification"
   ]
  },
  {
   "cell_type": "code",
   "execution_count": 19,
   "metadata": {},
   "outputs": [
    {
     "name": "stdout",
     "output_type": "stream",
     "text": [
      "Balanced Accuracy: 0.4174\n",
      "Micro F1: 0.7314\n",
      "\n",
      "Balanced Accuracy: 0.4202\n",
      "Micro F1: 0.7297\n",
      "\n",
      "Balanced Accuracy: 0.421\n",
      "Micro F1: 0.7316\n",
      "\n",
      "Balanced Accuracy: 0.4246\n",
      "Micro F1: 0.7302\n",
      "\n",
      "Balanced Accuracy: 0.4323\n",
      "Micro F1: 0.7302\n",
      "\n",
      "Average Balanced Accuracy: 0.4231\n"
     ]
    }
   ],
   "source": [
    "from sklearn.multiclass import OneVsOneClassifier\n",
    "\n",
    "# define model\n",
    "rf = RandomForestClassifier(class_weight='balanced')\n",
    "kf = KFold( n_splits=5, shuffle=True, random_state=42 )\n",
    "\n",
    "# define ovo strategy\n",
    "ovo = OneVsOneClassifier(rf)\n",
    "\n",
    "X = rawDf.drop(['OrnlType'], axis=1).values\n",
    "y = rawDf['OrnlType'].values\n",
    "\n",
    "accs = []\n",
    "for trainIndex, testIndex in kf.split(X):\n",
    "\n",
    "    X_train, X_test = X[trainIndex], X[testIndex]\n",
    "    y_train, y_test = y[trainIndex], y[testIndex]\n",
    "    \n",
    "    ovo.fit(X_train, y_train)\n",
    "    \n",
    "    # make predictions\n",
    "    yhat = ovo.predict(X_test)\n",
    "\n",
    "    ba = np.round( balanced_accuracy_score(y_test, yhat), 4 )\n",
    "    accs.append( ba )\n",
    "    print( \"Balanced Accuracy:\", ba)\n",
    "    print( \"Micro F1:\", np.round( f1_score(y_test, yhat, average='micro'), 4 ))\n",
    "    print()\n",
    "print( \"Average Balanced Accuracy:\", np.round(np.mean(accs),4) )"
   ]
  },
  {
   "cell_type": "markdown",
   "metadata": {},
   "source": [
    "## One-vs-Rest Classification"
   ]
  },
  {
   "cell_type": "code",
   "execution_count": 15,
   "metadata": {},
   "outputs": [
    {
     "name": "stdout",
     "output_type": "stream",
     "text": [
      "Balanced Accuracy: 0.452\n",
      "Micro F1: 0.7298\n",
      "\n",
      "Balanced Accuracy: 0.4445\n",
      "Micro F1: 0.7352\n",
      "\n",
      "Balanced Accuracy: 0.4483\n",
      "Micro F1: 0.7376\n",
      "\n",
      "Balanced Accuracy: 0.4201\n",
      "Micro F1: 0.7311\n",
      "\n",
      "Balanced Accuracy: 0.4483\n",
      "Micro F1: 0.7322\n",
      "\n",
      "Average Balanced Accuracy: 0.4426\n"
     ]
    }
   ],
   "source": [
    "from sklearn.multiclass import OneVsRestClassifier\n",
    "\n",
    "# define model\n",
    "rf = RandomForestClassifier(class_weight='balanced')\n",
    "kf = KFold( n_splits=5, shuffle=True, random_state=42 )\n",
    "\n",
    "# define ovr strategy\n",
    "ovr = OneVsRestClassifier(rf)\n",
    "\n",
    "X = rawDf.drop(['OrnlType'], axis=1).values\n",
    "y = rawDf['OrnlType'].values\n",
    "\n",
    "accs = []\n",
    "for trainIndex, testIndex in kf.split(X):\n",
    "\n",
    "    X_train, X_test = X[trainIndex], X[testIndex]\n",
    "    y_train, y_test = y[trainIndex], y[testIndex]\n",
    "    \n",
    "    ovr.fit(X_train, y_train)\n",
    "    \n",
    "    # make predictions\n",
    "    yhat = ovr.predict(X_test)\n",
    "\n",
    "    ba = np.round( balanced_accuracy_score(y_test, yhat), 4 )\n",
    "    accs.append( ba )\n",
    "    print( \"Balanced Accuracy:\", ba)\n",
    "    print( \"Micro F1:\", np.round( f1_score(y_test, yhat, average='micro'), 4 ))\n",
    "    print()\n",
    "print( \"Average Balanced Accuracy:\", np.round(np.mean(accs),4) )"
   ]
  },
  {
   "cell_type": "markdown",
   "metadata": {},
   "source": [
    "## KNN for multiclass classification"
   ]
  },
  {
   "cell_type": "code",
   "execution_count": 20,
   "metadata": {},
   "outputs": [],
   "source": [
    "df = rawDf.copy( deep=True )\n",
    "\n",
    "# preprocess the data - scaling\n",
    "scaler = preprocessing.StandardScaler()\n",
    "    \n",
    "# columns: StateFips, CountyFips, StateCountyFips,\n",
    "#          X, Y, Area, MedianIncomeCounty, HousingUnitsCounty,\n",
    "#          HousingDensityCounty, Impervious, AgCount, CmCount,\n",
    "#          GvCount, EdCount, InCount, OsmNearestRoad, OrnlType\n",
    "columns = ['X', 'Y', 'Area', 'MedianIncomeCounty', \n",
    "           'HousingUnitsCounty', 'HousingDensityCounty',\n",
    "           'Impervious', 'AgCount', 'CmCount', 'GvCount',\n",
    "           'EdCount', 'InCount']\n",
    "df[columns] = scaler.fit_transform(df[columns])\n",
    "\n",
    "\n",
    "# preprossing - drop rows with NaN values\n",
    "df = df.dropna()\n",
    "    \n",
    "# preprocessing - change output labels from text ('Agriculture') to integers\n",
    "nCols = df.shape[1]\n",
    "le = preprocessing.LabelEncoder()\n",
    "le.fit( df.iloc[:, nCols-1] )\n",
    "df.iloc[:, nCols-1] = le.transform( df.iloc[:, nCols-1] )\n",
    "        \n",
    "# preprocessing - change output labels of nearest road type from text to integers\n",
    "le2 = preprocessing.LabelEncoder()\n",
    "le2.fit( df.iloc[:, nCols-2] ) \n",
    "df.iloc[:, nCols-2] = le2.transform( df.iloc[:, nCols-2] )"
   ]
  },
  {
   "cell_type": "code",
   "execution_count": 21,
   "metadata": {},
   "outputs": [
    {
     "data": {
      "text/html": [
       "<div>\n",
       "<style scoped>\n",
       "    .dataframe tbody tr th:only-of-type {\n",
       "        vertical-align: middle;\n",
       "    }\n",
       "\n",
       "    .dataframe tbody tr th {\n",
       "        vertical-align: top;\n",
       "    }\n",
       "\n",
       "    .dataframe thead th {\n",
       "        text-align: right;\n",
       "    }\n",
       "</style>\n",
       "<table border=\"1\" class=\"dataframe\">\n",
       "  <thead>\n",
       "    <tr style=\"text-align: right;\">\n",
       "      <th></th>\n",
       "      <th>X</th>\n",
       "      <th>Y</th>\n",
       "      <th>Area</th>\n",
       "      <th>MedianIncomeCounty</th>\n",
       "      <th>HousingUnitsCounty</th>\n",
       "      <th>HousingDensityCounty</th>\n",
       "      <th>Impervious</th>\n",
       "      <th>AgCount</th>\n",
       "      <th>CmCount</th>\n",
       "      <th>GvCount</th>\n",
       "      <th>EdCount</th>\n",
       "      <th>InCount</th>\n",
       "      <th>OsmNearestRoad</th>\n",
       "      <th>OrnlType</th>\n",
       "    </tr>\n",
       "  </thead>\n",
       "  <tbody>\n",
       "    <tr>\n",
       "      <th>396141</th>\n",
       "      <td>-2.999478</td>\n",
       "      <td>-0.384327</td>\n",
       "      <td>-0.208826</td>\n",
       "      <td>-1.877928</td>\n",
       "      <td>-1.114897</td>\n",
       "      <td>2.777497</td>\n",
       "      <td>0.537005</td>\n",
       "      <td>-1.188718</td>\n",
       "      <td>-0.974440</td>\n",
       "      <td>-1.086440</td>\n",
       "      <td>-0.927055</td>\n",
       "      <td>-1.083775</td>\n",
       "      <td>2</td>\n",
       "      <td>2</td>\n",
       "    </tr>\n",
       "    <tr>\n",
       "      <th>398707</th>\n",
       "      <td>-0.602368</td>\n",
       "      <td>-0.550883</td>\n",
       "      <td>-0.205789</td>\n",
       "      <td>-0.649437</td>\n",
       "      <td>-0.988190</td>\n",
       "      <td>-0.063427</td>\n",
       "      <td>0.481579</td>\n",
       "      <td>0.249099</td>\n",
       "      <td>-0.900131</td>\n",
       "      <td>-0.864828</td>\n",
       "      <td>-0.889530</td>\n",
       "      <td>-0.933204</td>\n",
       "      <td>5</td>\n",
       "      <td>2</td>\n",
       "    </tr>\n",
       "    <tr>\n",
       "      <th>411882</th>\n",
       "      <td>1.548051</td>\n",
       "      <td>1.071458</td>\n",
       "      <td>-0.119061</td>\n",
       "      <td>-1.973660</td>\n",
       "      <td>-1.004822</td>\n",
       "      <td>0.843267</td>\n",
       "      <td>-1.790868</td>\n",
       "      <td>-0.103573</td>\n",
       "      <td>-0.916408</td>\n",
       "      <td>-1.086440</td>\n",
       "      <td>-0.898682</td>\n",
       "      <td>-1.052530</td>\n",
       "      <td>4</td>\n",
       "      <td>1</td>\n",
       "    </tr>\n",
       "    <tr>\n",
       "      <th>469797</th>\n",
       "      <td>-1.630826</td>\n",
       "      <td>1.198659</td>\n",
       "      <td>-0.266487</td>\n",
       "      <td>-1.749990</td>\n",
       "      <td>-1.066324</td>\n",
       "      <td>4.534276</td>\n",
       "      <td>0.786420</td>\n",
       "      <td>-0.727531</td>\n",
       "      <td>-0.950150</td>\n",
       "      <td>-1.086440</td>\n",
       "      <td>-0.921564</td>\n",
       "      <td>-1.048364</td>\n",
       "      <td>4</td>\n",
       "      <td>3</td>\n",
       "    </tr>\n",
       "    <tr>\n",
       "      <th>372410</th>\n",
       "      <td>-0.143524</td>\n",
       "      <td>1.038077</td>\n",
       "      <td>-0.276963</td>\n",
       "      <td>-0.301745</td>\n",
       "      <td>0.165337</td>\n",
       "      <td>-0.253911</td>\n",
       "      <td>-0.848634</td>\n",
       "      <td>-0.619017</td>\n",
       "      <td>0.047923</td>\n",
       "      <td>0.243231</td>\n",
       "      <td>-0.089597</td>\n",
       "      <td>0.149058</td>\n",
       "      <td>4</td>\n",
       "      <td>3</td>\n",
       "    </tr>\n",
       "  </tbody>\n",
       "</table>\n",
       "</div>"
      ],
      "text/plain": [
       "               X         Y      Area  MedianIncomeCounty  HousingUnitsCounty  \\\n",
       "396141 -2.999478 -0.384327 -0.208826           -1.877928           -1.114897   \n",
       "398707 -0.602368 -0.550883 -0.205789           -0.649437           -0.988190   \n",
       "411882  1.548051  1.071458 -0.119061           -1.973660           -1.004822   \n",
       "469797 -1.630826  1.198659 -0.266487           -1.749990           -1.066324   \n",
       "372410 -0.143524  1.038077 -0.276963           -0.301745            0.165337   \n",
       "\n",
       "        HousingDensityCounty  Impervious   AgCount   CmCount   GvCount  \\\n",
       "396141              2.777497    0.537005 -1.188718 -0.974440 -1.086440   \n",
       "398707             -0.063427    0.481579  0.249099 -0.900131 -0.864828   \n",
       "411882              0.843267   -1.790868 -0.103573 -0.916408 -1.086440   \n",
       "469797              4.534276    0.786420 -0.727531 -0.950150 -1.086440   \n",
       "372410             -0.253911   -0.848634 -0.619017  0.047923  0.243231   \n",
       "\n",
       "         EdCount   InCount  OsmNearestRoad  OrnlType  \n",
       "396141 -0.927055 -1.083775               2         2  \n",
       "398707 -0.889530 -0.933204               5         2  \n",
       "411882 -0.898682 -1.052530               4         1  \n",
       "469797 -0.921564 -1.048364               4         3  \n",
       "372410 -0.089597  0.149058               4         3  "
      ]
     },
     "execution_count": 21,
     "metadata": {},
     "output_type": "execute_result"
    }
   ],
   "source": [
    "df.head()"
   ]
  },
  {
   "cell_type": "code",
   "execution_count": 22,
   "metadata": {},
   "outputs": [
    {
     "name": "stdout",
     "output_type": "stream",
     "text": [
      "K: 3 Fold: 1\n",
      "  Balanced Accuracy: 0.339\n",
      "  Micro F1: 0.6171\n",
      "  Balanced Accuracy: 0.3487\n",
      "  Micro F1: 0.6152\n",
      "  Balanced Accuracy: 0.3482\n",
      "  Micro F1: 0.616\n",
      "  Balanced Accuracy: 0.3451\n",
      "  Micro F1: 0.6205\n",
      "  Balanced Accuracy: 0.3523\n",
      "  Micro F1: 0.6135\n",
      "Average Balance Accuracy: 0.3467\n",
      "\n",
      "K: 5 Fold: 1\n",
      "  Balanced Accuracy: 0.3286\n",
      "  Micro F1: 0.6407\n",
      "  Balanced Accuracy: 0.3292\n",
      "  Micro F1: 0.6346\n",
      "  Balanced Accuracy: 0.3293\n",
      "  Micro F1: 0.636\n",
      "  Balanced Accuracy: 0.3214\n",
      "  Micro F1: 0.639\n",
      "  Balanced Accuracy: 0.3323\n",
      "  Micro F1: 0.6364\n",
      "Average Balance Accuracy: 0.3282\n",
      "\n",
      "K: 7 Fold: 1\n",
      "  Balanced Accuracy: 0.3072\n",
      "  Micro F1: 0.6469\n",
      "  Balanced Accuracy: 0.3195\n",
      "  Micro F1: 0.6437\n",
      "  Balanced Accuracy: 0.3219\n",
      "  Micro F1: 0.6447\n",
      "  Balanced Accuracy: 0.3178\n",
      "  Micro F1: 0.6448\n",
      "  Balanced Accuracy: 0.3293\n",
      "  Micro F1: 0.6453\n",
      "Average Balance Accuracy: 0.3191\n",
      "\n",
      "K: 9 Fold: 1\n",
      "  Balanced Accuracy: 0.3012\n",
      "  Micro F1: 0.6524\n",
      "  Balanced Accuracy: 0.3065\n",
      "  Micro F1: 0.6483\n",
      "  Balanced Accuracy: 0.3107\n",
      "  Micro F1: 0.6477\n",
      "  Balanced Accuracy: 0.3062\n",
      "  Micro F1: 0.649\n",
      "  Balanced Accuracy: 0.3168\n",
      "  Micro F1: 0.648\n",
      "Average Balance Accuracy: 0.3083\n",
      "\n"
     ]
    }
   ],
   "source": [
    "kf = KFold( n_splits=5, shuffle=True, random_state=42 )\n",
    "\n",
    "X = df.drop(['OrnlType'], axis=1).values\n",
    "y = df['OrnlType'].values\n",
    "\n",
    "ks = [3,5,7,9]\n",
    "for k in ks:\n",
    "    fold = 1\n",
    "    accs = []\n",
    "    print( \"K:\", k, \"Fold:\", fold )\n",
    "    for trainIndex, testIndex in kf.split(X):\n",
    "        X_train, X_test = X[trainIndex], X[testIndex]\n",
    "        y_train, y_test = y[trainIndex], y[testIndex]\n",
    "        knn = KNeighborsClassifier(n_neighbors=k)\n",
    "        knn.fit( X_train, y_train )\n",
    "        predictions = knn.predict(X_test)\n",
    "        ba = np.round( balanced_accuracy_score(y_test, predictions), 4 )\n",
    "        print( \"  Balanced Accuracy:\", ba )\n",
    "        print( \"  Micro F1:\", np.round( f1_score(y_test, predictions, average='micro'), 4 ))\n",
    "        accs.append( ba )\n",
    "        fold += 1\n",
    "    print( \"Average Balance Accuracy:\", np.round(np.mean(accs),4) )\n",
    "    print()"
   ]
  },
  {
   "cell_type": "markdown",
   "metadata": {},
   "source": [
    "## Neural Network for multiclass classification"
   ]
  },
  {
   "cell_type": "code",
   "execution_count": 24,
   "metadata": {},
   "outputs": [
    {
     "name": "stdout",
     "output_type": "stream",
     "text": [
      "Creating test/train split...\n",
      "Training Size: (81162, 12)\n",
      "Testing Size: (20291, 12)\n"
     ]
    }
   ],
   "source": [
    "# columns: StateFips, CountyFips, StateCountyFips,\n",
    "#          X, Y, Area, MedianIncomeCounty, HousingUnitsCounty,\n",
    "#          HousingDensityCounty, Impervious, AgCount, CmCount,\n",
    "#          GvCount, EdCount, InCount, OsmNearestRoad, OrnlType\n",
    "\n",
    "# test/train split\n",
    "print(\"Creating test/train split...\")\n",
    "train, test = train_test_split(df, test_size=0.2, random_state=42, stratify=df[['OrnlType']])\n",
    "\n",
    "nCols = test.shape[1]\n",
    "xTest = test.iloc[:, :nCols-2]\n",
    "yTest = test.iloc[:, nCols-1]\n",
    "\n",
    "xTrain = train.iloc[:, :nCols-2]\n",
    "yTrain = train.iloc[:, nCols-1]\n",
    "\n",
    "print(\"Training Size:\", xTrain.shape)\n",
    "print(\"Testing Size:\", xTest.shape)"
   ]
  },
  {
   "cell_type": "code",
   "execution_count": 26,
   "metadata": {},
   "outputs": [
    {
     "name": "stdout",
     "output_type": "stream",
     "text": [
      "Epoch 1/150\n",
      "318/318 [==============================] - 3s 3ms/step - loss: 1.2257 - accuracy: 0.6015\n",
      "Epoch 2/150\n",
      "318/318 [==============================] - 1s 4ms/step - loss: 1.0818 - accuracy: 0.6345\n",
      "Epoch 3/150\n",
      "318/318 [==============================] - 1s 5ms/step - loss: 1.0664 - accuracy: 0.6363\n",
      "Epoch 4/150\n",
      "318/318 [==============================] - 2s 5ms/step - loss: 1.0578 - accuracy: 0.6375\n",
      "Epoch 5/150\n",
      "318/318 [==============================] - 1s 4ms/step - loss: 1.0513 - accuracy: 0.6386\n",
      "Epoch 6/150\n",
      "318/318 [==============================] - 1s 4ms/step - loss: 1.0461 - accuracy: 0.6387\n",
      "Epoch 7/150\n",
      "318/318 [==============================] - 1s 4ms/step - loss: 1.0429 - accuracy: 0.6391\n",
      "Epoch 8/150\n",
      "318/318 [==============================] - 1s 4ms/step - loss: 1.0400 - accuracy: 0.6394\n",
      "Epoch 9/150\n",
      "318/318 [==============================] - 1s 4ms/step - loss: 1.0375 - accuracy: 0.6399\n",
      "Epoch 10/150\n",
      "318/318 [==============================] - 1s 4ms/step - loss: 1.0360 - accuracy: 0.6400\n",
      "Epoch 11/150\n",
      "318/318 [==============================] - 1s 4ms/step - loss: 1.0340 - accuracy: 0.6398\n",
      "Epoch 12/150\n",
      "318/318 [==============================] - 1s 3ms/step - loss: 1.0331 - accuracy: 0.6403\n",
      "Epoch 13/150\n",
      "318/318 [==============================] - 1s 3ms/step - loss: 1.0320 - accuracy: 0.6408\n",
      "Epoch 14/150\n",
      "318/318 [==============================] - 1s 3ms/step - loss: 1.0308 - accuracy: 0.6402\n",
      "Epoch 15/150\n",
      "318/318 [==============================] - 1s 3ms/step - loss: 1.0302 - accuracy: 0.6401\n",
      "Epoch 16/150\n",
      "318/318 [==============================] - 1s 3ms/step - loss: 1.0292 - accuracy: 0.6412\n",
      "Epoch 17/150\n",
      "318/318 [==============================] - 1s 3ms/step - loss: 1.0282 - accuracy: 0.6411\n",
      "Epoch 18/150\n",
      "318/318 [==============================] - 1s 3ms/step - loss: 1.0277 - accuracy: 0.6411\n",
      "Epoch 19/150\n",
      "318/318 [==============================] - 1s 3ms/step - loss: 1.0264 - accuracy: 0.6411\n",
      "Epoch 20/150\n",
      "318/318 [==============================] - 1s 3ms/step - loss: 1.0264 - accuracy: 0.6415\n",
      "Epoch 21/150\n",
      "318/318 [==============================] - 1s 2ms/step - loss: 1.0255 - accuracy: 0.6411\n",
      "Epoch 22/150\n",
      "318/318 [==============================] - 1s 2ms/step - loss: 1.0251 - accuracy: 0.6418\n",
      "Epoch 23/150\n",
      "318/318 [==============================] - 1s 3ms/step - loss: 1.0245 - accuracy: 0.6416\n",
      "Epoch 24/150\n",
      "318/318 [==============================] - 1s 3ms/step - loss: 1.0237 - accuracy: 0.6423\n",
      "Epoch 25/150\n",
      "318/318 [==============================] - 1s 3ms/step - loss: 1.0233 - accuracy: 0.6426\n",
      "Epoch 26/150\n",
      "318/318 [==============================] - 1s 3ms/step - loss: 1.0224 - accuracy: 0.6427\n",
      "Epoch 27/150\n",
      "318/318 [==============================] - 1s 3ms/step - loss: 1.0225 - accuracy: 0.6418\n",
      "Epoch 28/150\n",
      "318/318 [==============================] - 1s 3ms/step - loss: 1.0221 - accuracy: 0.6425\n",
      "Epoch 29/150\n",
      "318/318 [==============================] - 1s 4ms/step - loss: 1.0215 - accuracy: 0.6424\n",
      "Epoch 30/150\n",
      "318/318 [==============================] - 1s 3ms/step - loss: 1.0210 - accuracy: 0.6430\n",
      "Epoch 31/150\n",
      "318/318 [==============================] - 1s 2ms/step - loss: 1.0212 - accuracy: 0.6426\n",
      "Epoch 32/150\n",
      "318/318 [==============================] - 1s 3ms/step - loss: 1.0210 - accuracy: 0.6427\n",
      "Epoch 33/150\n",
      "318/318 [==============================] - 1s 4ms/step - loss: 1.0201 - accuracy: 0.6432\n",
      "Epoch 34/150\n",
      "318/318 [==============================] - 1s 4ms/step - loss: 1.0198 - accuracy: 0.6434\n",
      "Epoch 35/150\n",
      "318/318 [==============================] - 1s 4ms/step - loss: 1.0195 - accuracy: 0.6426\n",
      "Epoch 36/150\n",
      "318/318 [==============================] - 1s 4ms/step - loss: 1.0191 - accuracy: 0.6433\n",
      "Epoch 37/150\n",
      "318/318 [==============================] - 1s 3ms/step - loss: 1.0186 - accuracy: 0.6431\n",
      "Epoch 38/150\n",
      "318/318 [==============================] - 1s 3ms/step - loss: 1.0183 - accuracy: 0.6439\n",
      "Epoch 39/150\n",
      "318/318 [==============================] - 1s 3ms/step - loss: 1.0178 - accuracy: 0.6430\n",
      "Epoch 40/150\n",
      "318/318 [==============================] - 1s 4ms/step - loss: 1.0181 - accuracy: 0.6437\n",
      "Epoch 41/150\n",
      "318/318 [==============================] - 1s 4ms/step - loss: 1.0174 - accuracy: 0.6440\n",
      "Epoch 42/150\n",
      "318/318 [==============================] - 1s 3ms/step - loss: 1.0168 - accuracy: 0.6438\n",
      "Epoch 43/150\n",
      "318/318 [==============================] - 1s 3ms/step - loss: 1.0163 - accuracy: 0.6435\n",
      "Epoch 44/150\n",
      "318/318 [==============================] - 1s 3ms/step - loss: 1.0162 - accuracy: 0.6440\n",
      "Epoch 45/150\n",
      "318/318 [==============================] - 1s 3ms/step - loss: 1.0157 - accuracy: 0.6446\n",
      "Epoch 46/150\n",
      "318/318 [==============================] - 1s 4ms/step - loss: 1.0158 - accuracy: 0.6438\n",
      "Epoch 47/150\n",
      "318/318 [==============================] - 1s 3ms/step - loss: 1.0152 - accuracy: 0.6441\n",
      "Epoch 48/150\n",
      "318/318 [==============================] - 1s 3ms/step - loss: 1.0152 - accuracy: 0.6448\n",
      "Epoch 49/150\n",
      "318/318 [==============================] - 1s 3ms/step - loss: 1.0148 - accuracy: 0.6442\n",
      "Epoch 50/150\n",
      "318/318 [==============================] - 1s 3ms/step - loss: 1.0146 - accuracy: 0.6446\n",
      "Epoch 51/150\n",
      "318/318 [==============================] - 1s 3ms/step - loss: 1.0139 - accuracy: 0.6446\n",
      "Epoch 52/150\n",
      "318/318 [==============================] - 1s 3ms/step - loss: 1.0145 - accuracy: 0.6442\n",
      "Epoch 53/150\n",
      "318/318 [==============================] - 1s 3ms/step - loss: 1.0136 - accuracy: 0.6445\n",
      "Epoch 54/150\n",
      "318/318 [==============================] - 1s 2ms/step - loss: 1.0130 - accuracy: 0.6450\n",
      "Epoch 55/150\n",
      "318/318 [==============================] - 1s 3ms/step - loss: 1.0128 - accuracy: 0.6453\n",
      "Epoch 56/150\n",
      "318/318 [==============================] - 1s 4ms/step - loss: 1.0133 - accuracy: 0.6449\n",
      "Epoch 57/150\n",
      "318/318 [==============================] - 1s 3ms/step - loss: 1.0130 - accuracy: 0.6443\n",
      "Epoch 58/150\n",
      "318/318 [==============================] - 1s 2ms/step - loss: 1.0125 - accuracy: 0.6445\n",
      "Epoch 59/150\n",
      "318/318 [==============================] - 1s 3ms/step - loss: 1.0120 - accuracy: 0.6446\n",
      "Epoch 60/150\n",
      "318/318 [==============================] - 1s 4ms/step - loss: 1.0123 - accuracy: 0.6457\n",
      "Epoch 61/150\n",
      "318/318 [==============================] - 1s 3ms/step - loss: 1.0118 - accuracy: 0.6455\n",
      "Epoch 62/150\n",
      "318/318 [==============================] - 1s 4ms/step - loss: 1.0115 - accuracy: 0.6455\n",
      "Epoch 63/150\n",
      "318/318 [==============================] - 1s 4ms/step - loss: 1.0115 - accuracy: 0.6454\n",
      "Epoch 64/150\n",
      "318/318 [==============================] - 1s 4ms/step - loss: 1.0112 - accuracy: 0.6455\n",
      "Epoch 65/150\n",
      "318/318 [==============================] - 1s 4ms/step - loss: 1.0114 - accuracy: 0.6455\n",
      "Epoch 66/150\n",
      "318/318 [==============================] - 1s 4ms/step - loss: 1.0110 - accuracy: 0.6450\n",
      "Epoch 67/150\n",
      "318/318 [==============================] - 1s 4ms/step - loss: 1.0106 - accuracy: 0.6448\n"
     ]
    }
   ],
   "source": [
    "# convert output from scalar to vector format, i.e. building type=2 to [0,0,1,0,0,0,0,0,0,0,0]\n",
    "y = to_categorical(yTrain)\n",
    "\n",
    "# define the keras model\n",
    "model = Sequential()\n",
    "model.add(Dense(30, input_shape=(xTrain.shape[1],), activation='relu'))\n",
    "model.add(Dense(15, activation='relu'))\n",
    "model.add(Dense(7, activation='softmax'))\n",
    "model.compile(loss='categorical_crossentropy', optimizer='adam', metrics=['accuracy'])\n",
    "\n",
    "# stop training if we see 7 epochs over which accuracy doesn't improve\n",
    "es = EarlyStopping(monitor='accuracy', patience=7)\n",
    "\n",
    "# fit the model\n",
    "h = model.fit(xTrain, y, epochs=150, batch_size=256, callbacks=[es])"
   ]
  },
  {
   "cell_type": "code",
   "execution_count": 27,
   "metadata": {},
   "outputs": [
    {
     "data": {
      "text/plain": [
       "Text(0.5, 0, 'Epoch')"
      ]
     },
     "execution_count": 27,
     "metadata": {},
     "output_type": "execute_result"
    },
    {
     "data": {
      "image/png": "[encoded data removed]",
      "text/plain": [
       "<Figure size 432x288 with 1 Axes>"
      ]
     },
     "metadata": {
      "needs_background": "light"
     },
     "output_type": "display_data"
    }
   ],
   "source": [
    "plt.plot( h.history['accuracy'] )\n",
    "plt.title('Training Accuracy')\n",
    "plt.ylabel('Accuracy')\n",
    "plt.xlabel('Epoch')"
   ]
  },
  {
   "cell_type": "code",
   "execution_count": 28,
   "metadata": {},
   "outputs": [
    {
     "name": "stdout",
     "output_type": "stream",
     "text": [
      "635/635 [==============================] - 1s 1ms/step - loss: 1.0181 - accuracy: 0.6454\n",
      "Accuracy on the test set: 0.6454\n"
     ]
    }
   ],
   "source": [
    "y = to_categorical(yTest)\n",
    "loss, acc = model.evaluate( xTest, y )\n",
    "print(\"Accuracy on the test set:\", np.round(acc,4))"
   ]
  },
  {
   "cell_type": "code",
   "execution_count": 29,
   "metadata": {},
   "outputs": [
    {
     "name": "stdout",
     "output_type": "stream",
     "text": [
      "635/635 [==============================] - 1s 1ms/step\n"
     ]
    },
    {
     "data": {
      "text/plain": [
       "20291"
      ]
     },
     "execution_count": 29,
     "metadata": {},
     "output_type": "execute_result"
    }
   ],
   "source": [
    "ps = model.predict(xTest)\n",
    "predictions = []\n",
    "for p in ps:\n",
    "    predictions.append( np.argmax( p ) )\n",
    "len(predictions)"
   ]
  },
  {
   "cell_type": "code",
   "execution_count": 30,
   "metadata": {},
   "outputs": [
    {
     "name": "stdout",
     "output_type": "stream",
     "text": [
      "Balanced Accuracy: 0.2174\n",
      "Micro F1: 0.6454\n"
     ]
    }
   ],
   "source": [
    "print( \"Balanced Accuracy:\", np.round( balanced_accuracy_score(yTest.values, predictions), 4 ))\n",
    "print( \"Micro F1:\", np.round( f1_score(yTest.values, predictions, average='micro'), 4 ))"
   ]
  },
  {
   "cell_type": "markdown",
   "metadata": {},
   "source": [
    "## Resort to Commercial vs 'Other'"
   ]
  },
  {
   "cell_type": "code",
   "execution_count": 25,
   "metadata": {},
   "outputs": [
    {
     "name": "stdout",
     "output_type": "stream",
     "text": [
      "\n",
      "Commercial    64029\n",
      "Other         37424\n",
      "Name: OrnlType, dtype: int64\n",
      "\n"
     ]
    }
   ],
   "source": [
    "# read into a Pandas dataframe\n",
    "rawDf = pd.read_csv( inFile )\n",
    "\n",
    "# ignore first few columns, which are FIPs codes, not needed for ML\n",
    "rawDf = rawDf.iloc[:, 3:] \n",
    "\n",
    "# drop the 'Residential' rows\n",
    "rawDf = rawDf[ rawDf['OrnlType'] != 'Residential' ]\n",
    "\n",
    "# keep commercial\n",
    "rawDf.loc[ (rawDf[\"OrnlType\"] != \"Commercial\"), \"OrnlType\"] = 'Other'\n",
    "\n",
    "rawDf = rawDf.sample(frac=1) # shuffle the dataframe (technically, we randomly resample the entire df)\n",
    "\n",
    "rawDf = rawDf.dropna()\n",
    "\n",
    "# building type distributions\n",
    "print()\n",
    "print( rawDf['OrnlType'].value_counts() )\n",
    "print()"
   ]
  },
  {
   "cell_type": "code",
   "execution_count": 26,
   "metadata": {},
   "outputs": [],
   "source": [
    "rawDf = rawDf.sample(frac=1) # shuffle the dataframe (technically, we randomly resample the entire df)\n",
    "\n",
    "rawDf = rawDf.dropna()\n",
    "\n",
    "nCols = rawDf.shape[1]\n",
    "le = preprocessing.LabelEncoder()\n",
    "le.fit( rawDf.iloc[:, nCols-1] ) # ornl type\n",
    "rawDf.iloc[:, nCols-1] = le.transform( rawDf.iloc[:, nCols-1] )\n",
    "    \n",
    "le2 = preprocessing.LabelEncoder()\n",
    "le2.fit( rawDf.iloc[:, nCols-2] ) # nearest road type\n",
    "rawDf.iloc[:, nCols-2] = le2.transform( rawDf.iloc[:, nCols-2] )"
   ]
  },
  {
   "cell_type": "code",
   "execution_count": 29,
   "metadata": {},
   "outputs": [
    {
     "data": {
      "text/plain": [
       "array(['Commercial', 'Other'], dtype=object)"
      ]
     },
     "execution_count": 29,
     "metadata": {},
     "output_type": "execute_result"
    }
   ],
   "source": [
    "le.inverse_transform( [0,1] )"
   ]
  },
  {
   "cell_type": "code",
   "execution_count": 37,
   "metadata": {},
   "outputs": [
    {
     "data": {
      "text/html": [
       "<div>\n",
       "<style scoped>\n",
       "    .dataframe tbody tr th:only-of-type {\n",
       "        vertical-align: middle;\n",
       "    }\n",
       "\n",
       "    .dataframe tbody tr th {\n",
       "        vertical-align: top;\n",
       "    }\n",
       "\n",
       "    .dataframe thead th {\n",
       "        text-align: right;\n",
       "    }\n",
       "</style>\n",
       "<table border=\"1\" class=\"dataframe\">\n",
       "  <thead>\n",
       "    <tr style=\"text-align: right;\">\n",
       "      <th></th>\n",
       "      <th>X</th>\n",
       "      <th>Y</th>\n",
       "      <th>Area</th>\n",
       "      <th>MedianIncomeCounty</th>\n",
       "      <th>HousingUnitsCounty</th>\n",
       "      <th>HousingDensityCounty</th>\n",
       "      <th>Impervious</th>\n",
       "      <th>AgCount</th>\n",
       "      <th>CmCount</th>\n",
       "      <th>GvCount</th>\n",
       "      <th>EdCount</th>\n",
       "      <th>InCount</th>\n",
       "      <th>OsmNearestRoad</th>\n",
       "      <th>OrnlType</th>\n",
       "    </tr>\n",
       "  </thead>\n",
       "  <tbody>\n",
       "    <tr>\n",
       "      <th>978018</th>\n",
       "      <td>-78.746157</td>\n",
       "      <td>35.754306</td>\n",
       "      <td>9974.600074</td>\n",
       "      <td>41189.0</td>\n",
       "      <td>462582.0</td>\n",
       "      <td>0.409578</td>\n",
       "      <td>84.428571</td>\n",
       "      <td>119</td>\n",
       "      <td>105723</td>\n",
       "      <td>30</td>\n",
       "      <td>2778</td>\n",
       "      <td>17780</td>\n",
       "      <td>5</td>\n",
       "      <td>0</td>\n",
       "    </tr>\n",
       "    <tr>\n",
       "      <th>7112</th>\n",
       "      <td>-80.614768</td>\n",
       "      <td>35.482176</td>\n",
       "      <td>175.442100</td>\n",
       "      <td>34297.0</td>\n",
       "      <td>87410.0</td>\n",
       "      <td>0.387106</td>\n",
       "      <td>54.000000</td>\n",
       "      <td>19</td>\n",
       "      <td>14422</td>\n",
       "      <td>6</td>\n",
       "      <td>289</td>\n",
       "      <td>3751</td>\n",
       "      <td>2</td>\n",
       "      <td>0</td>\n",
       "    </tr>\n",
       "    <tr>\n",
       "      <th>762593</th>\n",
       "      <td>-78.575417</td>\n",
       "      <td>35.728102</td>\n",
       "      <td>870.116017</td>\n",
       "      <td>41189.0</td>\n",
       "      <td>462582.0</td>\n",
       "      <td>0.409578</td>\n",
       "      <td>61.250000</td>\n",
       "      <td>119</td>\n",
       "      <td>105723</td>\n",
       "      <td>30</td>\n",
       "      <td>2778</td>\n",
       "      <td>17780</td>\n",
       "      <td>7</td>\n",
       "      <td>1</td>\n",
       "    </tr>\n",
       "    <tr>\n",
       "      <th>860728</th>\n",
       "      <td>-78.403750</td>\n",
       "      <td>35.854028</td>\n",
       "      <td>401.941200</td>\n",
       "      <td>41189.0</td>\n",
       "      <td>462582.0</td>\n",
       "      <td>0.409578</td>\n",
       "      <td>4.000000</td>\n",
       "      <td>119</td>\n",
       "      <td>105723</td>\n",
       "      <td>30</td>\n",
       "      <td>2778</td>\n",
       "      <td>17780</td>\n",
       "      <td>7</td>\n",
       "      <td>0</td>\n",
       "    </tr>\n",
       "    <tr>\n",
       "      <th>448110</th>\n",
       "      <td>-80.896065</td>\n",
       "      <td>35.602731</td>\n",
       "      <td>1072.344742</td>\n",
       "      <td>31174.0</td>\n",
       "      <td>79372.0</td>\n",
       "      <td>0.425147</td>\n",
       "      <td>69.000000</td>\n",
       "      <td>54</td>\n",
       "      <td>15474</td>\n",
       "      <td>9</td>\n",
       "      <td>281</td>\n",
       "      <td>3990</td>\n",
       "      <td>4</td>\n",
       "      <td>0</td>\n",
       "    </tr>\n",
       "  </tbody>\n",
       "</table>\n",
       "</div>"
      ],
      "text/plain": [
       "                X          Y         Area  MedianIncomeCounty  \\\n",
       "978018 -78.746157  35.754306  9974.600074             41189.0   \n",
       "7112   -80.614768  35.482176   175.442100             34297.0   \n",
       "762593 -78.575417  35.728102   870.116017             41189.0   \n",
       "860728 -78.403750  35.854028   401.941200             41189.0   \n",
       "448110 -80.896065  35.602731  1072.344742             31174.0   \n",
       "\n",
       "        HousingUnitsCounty  HousingDensityCounty  Impervious  AgCount  \\\n",
       "978018            462582.0              0.409578   84.428571      119   \n",
       "7112               87410.0              0.387106   54.000000       19   \n",
       "762593            462582.0              0.409578   61.250000      119   \n",
       "860728            462582.0              0.409578    4.000000      119   \n",
       "448110             79372.0              0.425147   69.000000       54   \n",
       "\n",
       "        CmCount  GvCount  EdCount  InCount  OsmNearestRoad  OrnlType  \n",
       "978018   105723       30     2778    17780               5         0  \n",
       "7112      14422        6      289     3751               2         0  \n",
       "762593   105723       30     2778    17780               7         1  \n",
       "860728   105723       30     2778    17780               7         0  \n",
       "448110    15474        9      281     3990               4         0  "
      ]
     },
     "execution_count": 37,
     "metadata": {},
     "output_type": "execute_result"
    }
   ],
   "source": [
    "rawDf.head()"
   ]
  },
  {
   "cell_type": "code",
   "execution_count": 38,
   "metadata": {},
   "outputs": [
    {
     "name": "stdout",
     "output_type": "stream",
     "text": [
      "Balanced Accuracy: 0.7381\n",
      "Micro F1: 0.7738\n",
      "\n",
      "Balanced Accuracy: 0.7332\n",
      "Micro F1: 0.7695\n",
      "\n",
      "Balanced Accuracy: 0.7363\n",
      "Micro F1: 0.7706\n",
      "\n",
      "Balanced Accuracy: 0.7284\n",
      "Micro F1: 0.7646\n",
      "\n",
      "Balanced Accuracy: 0.7359\n",
      "Micro F1: 0.7714\n",
      "\n",
      "Average Balanced Accuracy: 0.7344\n"
     ]
    }
   ],
   "source": [
    "kf = KFold( n_splits=5, shuffle=True, random_state=42 )\n",
    "rf = RandomForestClassifier(class_weight='balanced')\n",
    "\n",
    "X = rawDf.drop(['OrnlType'], axis=1).values\n",
    "y = rawDf['OrnlType'].values\n",
    "\n",
    "accs = []\n",
    "for trainIndex, testIndex in kf.split(X):\n",
    "    X_train, X_test = X[trainIndex], X[testIndex]\n",
    "    y_train, y_test = y[trainIndex], y[testIndex]\n",
    "    rf.fit( X_train, y_train )\n",
    "    ba = np.round( balanced_accuracy_score(y_test, rf.predict(X_test)), 4 )\n",
    "    accs.append( ba )\n",
    "    print( \"Balanced Accuracy:\", ba)\n",
    "    print( \"Micro F1:\", np.round( f1_score(y_test, rf.predict(X_test), average='micro'), 4 ))\n",
    "    print()\n",
    "print( \"Average Balanced Accuracy:\", np.round(np.mean(accs),4) )"
   ]
  },
  {
   "cell_type": "code",
   "execution_count": 39,
   "metadata": {},
   "outputs": [],
   "source": [
    "predictions = rf.predict(X_test)\n",
    "cm = confusion_matrix( y_test, predictions, normalize='true' )"
   ]
  },
  {
   "cell_type": "code",
   "execution_count": 41,
   "metadata": {},
   "outputs": [
    {
     "data": {
      "text/plain": [
       "<sklearn.metrics._plot.confusion_matrix.ConfusionMatrixDisplay at 0x7ff3b62c2d10>"
      ]
     },
     "execution_count": 41,
     "metadata": {},
     "output_type": "execute_result"
    },
    {
     "data": {
      "image/png": "[encoded data removed]",
      "text/plain": [
       "<Figure size 360x360 with 2 Axes>"
      ]
     },
     "metadata": {
      "needs_background": "light"
     },
     "output_type": "display_data"
    }
   ],
   "source": [
    "fig, ax = plt.subplots(figsize=(5, 5))\n",
    "disp = ConfusionMatrixDisplay( confusion_matrix=cm, display_labels=rf.classes_)\n",
    "disp.plot(ax=ax)"
   ]
  },
  {
   "cell_type": "code",
   "execution_count": 42,
   "metadata": {},
   "outputs": [],
   "source": [
    "with open('./rf_model_commercial.pkl', 'wb') as f:\n",
    "    pickle.dump(rf, f)"
   ]
  },
  {
   "cell_type": "code",
   "execution_count": 43,
   "metadata": {},
   "outputs": [
    {
     "name": "stdout",
     "output_type": "stream",
     "text": [
      "Elapsed time to compute the importances: 4.393 seconds\n"
     ]
    },
    {
     "data": {
      "image/png": "[encoded data removed]",
      "text/plain": [
       "<Figure size 432x288 with 1 Axes>"
      ]
     },
     "metadata": {
      "needs_background": "light"
     },
     "output_type": "display_data"
    }
   ],
   "source": [
    "start_time = time.time()\n",
    "result = permutation_importance(\n",
    "    rf, X_test, y_test, n_repeats=1, random_state=42, n_jobs=1\n",
    ")\n",
    "elapsed_time = time.time() - start_time\n",
    "print(f\"Elapsed time to compute the importances: {elapsed_time:.3f} seconds\")\n",
    "\n",
    "forest_importances = pd.Series(result.importances_mean, index=df.columns[:-1])\n",
    "\n",
    "fig, ax = plt.subplots()\n",
    "forest_importances.plot.bar(yerr=result.importances_std, ax=ax)\n",
    "ax.set_title(\"Feature importances using permutation method\")\n",
    "ax.set_ylabel(\"Mean accuracy decrease\")\n",
    "ax.set_yscale('log')\n",
    "fig.tight_layout()\n",
    "plt.show()"
   ]
  },
  {
   "cell_type": "markdown",
   "metadata": {},
   "source": [
    "## Threshold moving"
   ]
  },
  {
   "cell_type": "code",
   "execution_count": 20,
   "metadata": {},
   "outputs": [
    {
     "name": "stdout",
     "output_type": "stream",
     "text": [
      "Fitting the model...\n",
      "Making predictions...\n",
      "Generating precision-recall curve...\n"
     ]
    }
   ],
   "source": [
    "# generate dataset\n",
    "X = rawDf.drop(['OrnlType'], axis=1).values\n",
    "y = rawDf['OrnlType'].values\n",
    "\n",
    "# split into train/test sets\n",
    "trainX, testX, trainy, testy = train_test_split(X, y, test_size=0.2, random_state=2, stratify=y)\n",
    "\n",
    "# fit a model\n",
    "print(\"Fitting the model...\")\n",
    "model = RandomForestClassifier(class_weight='balanced')\n",
    "model.fit(trainX, trainy)\n",
    "\n",
    "# predict probabilities\n",
    "print(\"Making predictions...\")\n",
    "yhat = model.predict_proba(testX)\n",
    "\n",
    "# keep probabilities for the positive outcome only\n",
    "yhat = yhat[:, 1]\n",
    "\n",
    "# calculate precision-recall curve\n",
    "print(\"Generating precision-recall curve...\")\n",
    "precision, recall, thresholds = precision_recall_curve(testy, yhat)"
   ]
  },
  {
   "cell_type": "code",
   "execution_count": 21,
   "metadata": {},
   "outputs": [
    {
     "name": "stdout",
     "output_type": "stream",
     "text": [
      "Best Threshold=0.400000, F-Score=0.698\n"
     ]
    }
   ],
   "source": [
    "# convert to f score\n",
    "fscore = (2 * precision * recall) / (precision + recall)\n",
    "\n",
    "# locate the index of the largest f score\n",
    "ix = np.argmax(fscore)\n",
    "print('Best Threshold=%f, F-Score=%.3f' % (thresholds[ix], fscore[ix]))"
   ]
  },
  {
   "cell_type": "code",
   "execution_count": 22,
   "metadata": {},
   "outputs": [
    {
     "data": {
      "image/png": "[encoded data removed]",
      "text/plain": [
       "<Figure size 432x288 with 1 Axes>"
      ]
     },
     "metadata": {
      "needs_background": "light"
     },
     "output_type": "display_data"
    }
   ],
   "source": [
    "# plot the curve for the model\n",
    "no_skill = len(testy[testy==1]) / len(testy)\n",
    "pyplot.plot([0,1], [no_skill,no_skill], linestyle='--', label='No Skill')\n",
    "pyplot.plot(recall, precision, marker='.', label='Random Forest')\n",
    "pyplot.scatter(recall[ix], precision[ix], marker='o', color='black', label='Best')\n",
    "\n",
    "# axis labels\n",
    "pyplot.xlabel('Recall')\n",
    "pyplot.ylabel('Precision')\n",
    "pyplot.legend()\n",
    "\n",
    "# show the plot\n",
    "pyplot.show()"
   ]
  },
  {
   "cell_type": "code",
   "execution_count": 23,
   "metadata": {},
   "outputs": [
    {
     "name": "stdout",
     "output_type": "stream",
     "text": [
      "Balanced Accuracy: 0.7584\n",
      "Micro F1: 0.7612\n"
     ]
    }
   ],
   "source": [
    "threshold = 0.40\n",
    "\n",
    "predicted_proba = model.predict_proba(testX)\n",
    "predicted = (predicted_proba [:,1] >= threshold).astype('int')\n",
    "\n",
    "ba = np.round( balanced_accuracy_score(testy, predicted), 4 )\n",
    "\n",
    "print( \"Balanced Accuracy:\", ba)\n",
    "print( \"Micro F1:\", np.round( f1_score(testy, predicted, average='micro'), 4 ))"
   ]
  },
  {
   "cell_type": "code",
   "execution_count": 24,
   "metadata": {},
   "outputs": [],
   "source": [
    "with open('./rf_model_threshold_moving_commercial_v_other.pkl', 'wb') as f:\n",
    "    pickle.dump(model, f)"
   ]
  },
  {
   "cell_type": "markdown",
   "metadata": {},
   "source": [
    "## Final workflow \n",
    "* Predict with Residential vs. Other model\n",
    "* If 'Other', predict with Commercial vs. Other model"
   ]
  },
  {
   "cell_type": "code",
   "execution_count": 48,
   "metadata": {},
   "outputs": [],
   "source": [
    "# our saved models\n",
    "residentialOther = './rf_model_threshold_moving.pkl'\n",
    "commercialOther = './rf_model_threshold_moving_commercial_v_other.pkl'\n",
    "    \n",
    "# read the models from file                                                                                                                                                                                                         \n",
    "with open(residentialOther, 'rb') as f:\n",
    "    residentialModel = pickle.load(f)\n",
    "with open(commercialOther, 'rb') as f:\n",
    "    commercialModel = pickle.load(f)"
   ]
  },
  {
   "cell_type": "code",
   "execution_count": 49,
   "metadata": {},
   "outputs": [
    {
     "data": {
      "text/html": [
       "<div>\n",
       "<style scoped>\n",
       "    .dataframe tbody tr th:only-of-type {\n",
       "        vertical-align: middle;\n",
       "    }\n",
       "\n",
       "    .dataframe tbody tr th {\n",
       "        vertical-align: top;\n",
       "    }\n",
       "\n",
       "    .dataframe thead th {\n",
       "        text-align: right;\n",
       "    }\n",
       "</style>\n",
       "<table border=\"1\" class=\"dataframe\">\n",
       "  <thead>\n",
       "    <tr style=\"text-align: right;\">\n",
       "      <th></th>\n",
       "      <th>StateFips</th>\n",
       "      <th>CountyFips</th>\n",
       "      <th>StateCountyFips</th>\n",
       "      <th>X</th>\n",
       "      <th>Y</th>\n",
       "      <th>Area</th>\n",
       "      <th>MedianIncomeCounty</th>\n",
       "      <th>HousingUnitsCounty</th>\n",
       "      <th>HousingDensityCounty</th>\n",
       "      <th>Impervious</th>\n",
       "      <th>AgCount</th>\n",
       "      <th>CmCount</th>\n",
       "      <th>GvCount</th>\n",
       "      <th>EdCount</th>\n",
       "      <th>InCount</th>\n",
       "      <th>OsmNearestRoad</th>\n",
       "      <th>FEMA_100yr</th>\n",
       "    </tr>\n",
       "  </thead>\n",
       "  <tbody>\n",
       "    <tr>\n",
       "      <th>0</th>\n",
       "      <td>37</td>\n",
       "      <td>99</td>\n",
       "      <td>37099</td>\n",
       "      <td>-83.260602</td>\n",
       "      <td>35.484954</td>\n",
       "      <td>20.716411</td>\n",
       "      <td>22429.0</td>\n",
       "      <td>26649.0</td>\n",
       "      <td>0.618177</td>\n",
       "      <td>2.0</td>\n",
       "      <td>22</td>\n",
       "      <td>2860</td>\n",
       "      <td>3</td>\n",
       "      <td>51</td>\n",
       "      <td>804</td>\n",
       "      <td>tertiary</td>\n",
       "      <td>0.0</td>\n",
       "    </tr>\n",
       "    <tr>\n",
       "      <th>1</th>\n",
       "      <td>37</td>\n",
       "      <td>99</td>\n",
       "      <td>37099</td>\n",
       "      <td>-83.155694</td>\n",
       "      <td>35.493472</td>\n",
       "      <td>68.605588</td>\n",
       "      <td>22429.0</td>\n",
       "      <td>26649.0</td>\n",
       "      <td>0.618177</td>\n",
       "      <td>6.0</td>\n",
       "      <td>22</td>\n",
       "      <td>2860</td>\n",
       "      <td>3</td>\n",
       "      <td>51</td>\n",
       "      <td>804</td>\n",
       "      <td>secondary</td>\n",
       "      <td>0.0</td>\n",
       "    </tr>\n",
       "    <tr>\n",
       "      <th>2</th>\n",
       "      <td>37</td>\n",
       "      <td>99</td>\n",
       "      <td>37099</td>\n",
       "      <td>-83.155694</td>\n",
       "      <td>35.493287</td>\n",
       "      <td>246.025647</td>\n",
       "      <td>22429.0</td>\n",
       "      <td>26649.0</td>\n",
       "      <td>0.618177</td>\n",
       "      <td>8.0</td>\n",
       "      <td>22</td>\n",
       "      <td>2860</td>\n",
       "      <td>3</td>\n",
       "      <td>51</td>\n",
       "      <td>804</td>\n",
       "      <td>secondary</td>\n",
       "      <td>0.0</td>\n",
       "    </tr>\n",
       "    <tr>\n",
       "      <th>3</th>\n",
       "      <td>37</td>\n",
       "      <td>99</td>\n",
       "      <td>37099</td>\n",
       "      <td>-83.154768</td>\n",
       "      <td>35.491620</td>\n",
       "      <td>142.232825</td>\n",
       "      <td>22429.0</td>\n",
       "      <td>26649.0</td>\n",
       "      <td>0.618177</td>\n",
       "      <td>0.0</td>\n",
       "      <td>22</td>\n",
       "      <td>2860</td>\n",
       "      <td>3</td>\n",
       "      <td>51</td>\n",
       "      <td>804</td>\n",
       "      <td>secondary</td>\n",
       "      <td>0.0</td>\n",
       "    </tr>\n",
       "    <tr>\n",
       "      <th>4</th>\n",
       "      <td>37</td>\n",
       "      <td>99</td>\n",
       "      <td>37099</td>\n",
       "      <td>-83.158009</td>\n",
       "      <td>35.486898</td>\n",
       "      <td>170.658810</td>\n",
       "      <td>22429.0</td>\n",
       "      <td>26649.0</td>\n",
       "      <td>0.618177</td>\n",
       "      <td>0.5</td>\n",
       "      <td>22</td>\n",
       "      <td>2860</td>\n",
       "      <td>3</td>\n",
       "      <td>51</td>\n",
       "      <td>804</td>\n",
       "      <td>residential</td>\n",
       "      <td>0.0</td>\n",
       "    </tr>\n",
       "  </tbody>\n",
       "</table>\n",
       "</div>"
      ],
      "text/plain": [
       "   StateFips  CountyFips  StateCountyFips          X          Y        Area  \\\n",
       "0         37          99            37099 -83.260602  35.484954   20.716411   \n",
       "1         37          99            37099 -83.155694  35.493472   68.605588   \n",
       "2         37          99            37099 -83.155694  35.493287  246.025647   \n",
       "3         37          99            37099 -83.154768  35.491620  142.232825   \n",
       "4         37          99            37099 -83.158009  35.486898  170.658810   \n",
       "\n",
       "   MedianIncomeCounty  HousingUnitsCounty  HousingDensityCounty  Impervious  \\\n",
       "0             22429.0             26649.0              0.618177         2.0   \n",
       "1             22429.0             26649.0              0.618177         6.0   \n",
       "2             22429.0             26649.0              0.618177         8.0   \n",
       "3             22429.0             26649.0              0.618177         0.0   \n",
       "4             22429.0             26649.0              0.618177         0.5   \n",
       "\n",
       "   AgCount  CmCount  GvCount  EdCount  InCount OsmNearestRoad  FEMA_100yr  \n",
       "0       22     2860        3       51      804       tertiary         0.0  \n",
       "1       22     2860        3       51      804      secondary         0.0  \n",
       "2       22     2860        3       51      804      secondary         0.0  \n",
       "3       22     2860        3       51      804      secondary         0.0  \n",
       "4       22     2860        3       51      804    residential         0.0  "
      ]
     },
     "execution_count": 49,
     "metadata": {},
     "output_type": "execute_result"
    }
   ],
   "source": [
    "# unknown buildings in North Carolina\n",
    "unknown = pd.read_csv( config.outDir + '/unknownBuildings.csv' )\n",
    "\n",
    "unknown.head()"
   ]
  },
  {
   "cell_type": "code",
   "execution_count": 50,
   "metadata": {},
   "outputs": [],
   "source": [
    "# shuffle the dataframe (technically, we randomly resample the entire df)\n",
    "unknown = unknown.sample(frac=1) \n",
    "\n",
    "unknown = unknown.dropna()\n",
    "\n",
    "nCols = unknown.shape[1]    \n",
    "le = preprocessing.LabelEncoder()\n",
    "le.fit( unknown.iloc[:, nCols-2] ) # nearest road type\n",
    "unknown.iloc[:, nCols-2] = le.transform( unknown.iloc[:, nCols-2] )"
   ]
  },
  {
   "cell_type": "code",
   "execution_count": 51,
   "metadata": {},
   "outputs": [
    {
     "data": {
      "text/html": [
       "<div>\n",
       "<style scoped>\n",
       "    .dataframe tbody tr th:only-of-type {\n",
       "        vertical-align: middle;\n",
       "    }\n",
       "\n",
       "    .dataframe tbody tr th {\n",
       "        vertical-align: top;\n",
       "    }\n",
       "\n",
       "    .dataframe thead th {\n",
       "        text-align: right;\n",
       "    }\n",
       "</style>\n",
       "<table border=\"1\" class=\"dataframe\">\n",
       "  <thead>\n",
       "    <tr style=\"text-align: right;\">\n",
       "      <th></th>\n",
       "      <th>StateFips</th>\n",
       "      <th>CountyFips</th>\n",
       "      <th>StateCountyFips</th>\n",
       "      <th>X</th>\n",
       "      <th>Y</th>\n",
       "      <th>Area</th>\n",
       "      <th>MedianIncomeCounty</th>\n",
       "      <th>HousingUnitsCounty</th>\n",
       "      <th>HousingDensityCounty</th>\n",
       "      <th>Impervious</th>\n",
       "      <th>AgCount</th>\n",
       "      <th>CmCount</th>\n",
       "      <th>GvCount</th>\n",
       "      <th>EdCount</th>\n",
       "      <th>InCount</th>\n",
       "      <th>OsmNearestRoad</th>\n",
       "      <th>FEMA_100yr</th>\n",
       "    </tr>\n",
       "  </thead>\n",
       "  <tbody>\n",
       "    <tr>\n",
       "      <th>41735</th>\n",
       "      <td>37</td>\n",
       "      <td>179</td>\n",
       "      <td>37179</td>\n",
       "      <td>-80.490787</td>\n",
       "      <td>35.073935</td>\n",
       "      <td>6.770024</td>\n",
       "      <td>35468.0</td>\n",
       "      <td>83788.0</td>\n",
       "      <td>0.351656</td>\n",
       "      <td>1.0</td>\n",
       "      <td>44</td>\n",
       "      <td>13966</td>\n",
       "      <td>6</td>\n",
       "      <td>311</td>\n",
       "      <td>5324</td>\n",
       "      <td>4</td>\n",
       "      <td>0.0</td>\n",
       "    </tr>\n",
       "    <tr>\n",
       "      <th>185806</th>\n",
       "      <td>37</td>\n",
       "      <td>183</td>\n",
       "      <td>37183</td>\n",
       "      <td>-78.637176</td>\n",
       "      <td>35.584213</td>\n",
       "      <td>147.571200</td>\n",
       "      <td>41189.0</td>\n",
       "      <td>462582.0</td>\n",
       "      <td>0.409578</td>\n",
       "      <td>1.0</td>\n",
       "      <td>119</td>\n",
       "      <td>105723</td>\n",
       "      <td>30</td>\n",
       "      <td>2778</td>\n",
       "      <td>17780</td>\n",
       "      <td>7</td>\n",
       "      <td>0.0</td>\n",
       "    </tr>\n",
       "    <tr>\n",
       "      <th>116804</th>\n",
       "      <td>37</td>\n",
       "      <td>119</td>\n",
       "      <td>37119</td>\n",
       "      <td>-80.722268</td>\n",
       "      <td>35.176157</td>\n",
       "      <td>4.726280</td>\n",
       "      <td>36443.0</td>\n",
       "      <td>478966.0</td>\n",
       "      <td>0.429380</td>\n",
       "      <td>21.0</td>\n",
       "      <td>38</td>\n",
       "      <td>118034</td>\n",
       "      <td>39</td>\n",
       "      <td>2607</td>\n",
       "      <td>17352</td>\n",
       "      <td>4</td>\n",
       "      <td>0.0</td>\n",
       "    </tr>\n",
       "    <tr>\n",
       "      <th>24508</th>\n",
       "      <td>37</td>\n",
       "      <td>179</td>\n",
       "      <td>37179</td>\n",
       "      <td>-80.692824</td>\n",
       "      <td>34.950417</td>\n",
       "      <td>547.491714</td>\n",
       "      <td>35468.0</td>\n",
       "      <td>83788.0</td>\n",
       "      <td>0.351656</td>\n",
       "      <td>21.0</td>\n",
       "      <td>44</td>\n",
       "      <td>13966</td>\n",
       "      <td>6</td>\n",
       "      <td>311</td>\n",
       "      <td>5324</td>\n",
       "      <td>4</td>\n",
       "      <td>0.0</td>\n",
       "    </tr>\n",
       "    <tr>\n",
       "      <th>18779</th>\n",
       "      <td>37</td>\n",
       "      <td>179</td>\n",
       "      <td>37179</td>\n",
       "      <td>-80.430324</td>\n",
       "      <td>35.155231</td>\n",
       "      <td>127.916451</td>\n",
       "      <td>35468.0</td>\n",
       "      <td>83788.0</td>\n",
       "      <td>0.351656</td>\n",
       "      <td>4.0</td>\n",
       "      <td>44</td>\n",
       "      <td>13966</td>\n",
       "      <td>6</td>\n",
       "      <td>311</td>\n",
       "      <td>5324</td>\n",
       "      <td>4</td>\n",
       "      <td>0.0</td>\n",
       "    </tr>\n",
       "  </tbody>\n",
       "</table>\n",
       "</div>"
      ],
      "text/plain": [
       "        StateFips  CountyFips  StateCountyFips          X          Y  \\\n",
       "41735          37         179            37179 -80.490787  35.073935   \n",
       "185806         37         183            37183 -78.637176  35.584213   \n",
       "116804         37         119            37119 -80.722268  35.176157   \n",
       "24508          37         179            37179 -80.692824  34.950417   \n",
       "18779          37         179            37179 -80.430324  35.155231   \n",
       "\n",
       "              Area  MedianIncomeCounty  HousingUnitsCounty  \\\n",
       "41735     6.770024             35468.0             83788.0   \n",
       "185806  147.571200             41189.0            462582.0   \n",
       "116804    4.726280             36443.0            478966.0   \n",
       "24508   547.491714             35468.0             83788.0   \n",
       "18779   127.916451             35468.0             83788.0   \n",
       "\n",
       "        HousingDensityCounty  Impervious  AgCount  CmCount  GvCount  EdCount  \\\n",
       "41735               0.351656         1.0       44    13966        6      311   \n",
       "185806              0.409578         1.0      119   105723       30     2778   \n",
       "116804              0.429380        21.0       38   118034       39     2607   \n",
       "24508               0.351656        21.0       44    13966        6      311   \n",
       "18779               0.351656         4.0       44    13966        6      311   \n",
       "\n",
       "        InCount  OsmNearestRoad  FEMA_100yr  \n",
       "41735      5324               4         0.0  \n",
       "185806    17780               7         0.0  \n",
       "116804    17352               4         0.0  \n",
       "24508      5324               4         0.0  \n",
       "18779      5324               4         0.0  "
      ]
     },
     "execution_count": 51,
     "metadata": {},
     "output_type": "execute_result"
    }
   ],
   "source": [
    "unknown.head()"
   ]
  },
  {
   "cell_type": "code",
   "execution_count": 52,
   "metadata": {},
   "outputs": [
    {
     "name": "stdout",
     "output_type": "stream",
     "text": [
      "219054 unknown buildings in North Carolina\n"
     ]
    }
   ],
   "source": [
    "print( unknown.shape[0], 'unknown buildings in North Carolina')"
   ]
  },
  {
   "cell_type": "markdown",
   "metadata": {},
   "source": [
    "## Predict all unknown buildings in North Carolina"
   ]
  },
  {
   "cell_type": "code",
   "execution_count": 53,
   "metadata": {},
   "outputs": [
    {
     "name": "stdout",
     "output_type": "stream",
     "text": [
      "\n",
      "residential    210203\n",
      "commercial       5238\n",
      "other            3613\n",
      "Name: predictions, dtype: int64\n",
      "\n"
     ]
    }
   ],
   "source": [
    "# residential prediction threshold\n",
    "residentialThreshold = 0.55\n",
    "\n",
    "# commercial prediction threshold\n",
    "commercialThreshold = 0.40\n",
    "\n",
    "# generate dataset\n",
    "X = unknown.drop(['StateFips','CountyFips','StateCountyFips','FEMA_100yr'], axis=1).values\n",
    "\n",
    "# place to put the predictions\n",
    "n = unknown.shape[0]\n",
    "predictions = np.empty( n, dtype=object )\n",
    "\n",
    "# make residential vs. other prediction\n",
    "# Residential = 1, Other = 0\n",
    "predicted_proba = residentialModel.predict_proba(X)\n",
    "rPrediction = (predicted_proba [:,1] >= residentialThreshold).astype('int')\n",
    "    \n",
    "# make commercial vs. other predictions\n",
    "# Commercial = 0, Other = 1\n",
    "predicted_proba = commercialModel.predict_proba(X)\n",
    "cPrediction = (predicted_proba [:,1] >= commercialThreshold).astype('int')\n",
    "        \n",
    "# update prediction array\n",
    "ix = np.where( rPrediction == 1 )\n",
    "predictions[ ix[0] ] = 'residential'\n",
    "ix = np.where( rPrediction == 0 )\n",
    "for i in ix[0]:\n",
    "    if ( cPrediction[i] == 0 ):\n",
    "        predictions[i] = 'commercial'\n",
    "    else:\n",
    "        predictions[i] = 'other'\n",
    "            \n",
    "unknown['predictions'] = predictions\n",
    "\n",
    "print()\n",
    "print( unknown['predictions'].value_counts() )\n",
    "print()"
   ]
  },
  {
   "cell_type": "code",
   "execution_count": 54,
   "metadata": {},
   "outputs": [
    {
     "data": {
      "text/html": [
       "<div>\n",
       "<style scoped>\n",
       "    .dataframe tbody tr th:only-of-type {\n",
       "        vertical-align: middle;\n",
       "    }\n",
       "\n",
       "    .dataframe tbody tr th {\n",
       "        vertical-align: top;\n",
       "    }\n",
       "\n",
       "    .dataframe thead th {\n",
       "        text-align: right;\n",
       "    }\n",
       "</style>\n",
       "<table border=\"1\" class=\"dataframe\">\n",
       "  <thead>\n",
       "    <tr style=\"text-align: right;\">\n",
       "      <th></th>\n",
       "      <th>StateFips</th>\n",
       "      <th>CountyFips</th>\n",
       "      <th>StateCountyFips</th>\n",
       "      <th>X</th>\n",
       "      <th>Y</th>\n",
       "      <th>Area</th>\n",
       "      <th>MedianIncomeCounty</th>\n",
       "      <th>HousingUnitsCounty</th>\n",
       "      <th>HousingDensityCounty</th>\n",
       "      <th>Impervious</th>\n",
       "      <th>AgCount</th>\n",
       "      <th>CmCount</th>\n",
       "      <th>GvCount</th>\n",
       "      <th>EdCount</th>\n",
       "      <th>InCount</th>\n",
       "      <th>OsmNearestRoad</th>\n",
       "      <th>FEMA_100yr</th>\n",
       "      <th>predictions</th>\n",
       "    </tr>\n",
       "  </thead>\n",
       "  <tbody>\n",
       "    <tr>\n",
       "      <th>41735</th>\n",
       "      <td>37</td>\n",
       "      <td>179</td>\n",
       "      <td>37179</td>\n",
       "      <td>-80.490787</td>\n",
       "      <td>35.073935</td>\n",
       "      <td>6.770024</td>\n",
       "      <td>35468.0</td>\n",
       "      <td>83788.0</td>\n",
       "      <td>0.351656</td>\n",
       "      <td>1.0</td>\n",
       "      <td>44</td>\n",
       "      <td>13966</td>\n",
       "      <td>6</td>\n",
       "      <td>311</td>\n",
       "      <td>5324</td>\n",
       "      <td>4</td>\n",
       "      <td>0.0</td>\n",
       "      <td>residential</td>\n",
       "    </tr>\n",
       "    <tr>\n",
       "      <th>185806</th>\n",
       "      <td>37</td>\n",
       "      <td>183</td>\n",
       "      <td>37183</td>\n",
       "      <td>-78.637176</td>\n",
       "      <td>35.584213</td>\n",
       "      <td>147.571200</td>\n",
       "      <td>41189.0</td>\n",
       "      <td>462582.0</td>\n",
       "      <td>0.409578</td>\n",
       "      <td>1.0</td>\n",
       "      <td>119</td>\n",
       "      <td>105723</td>\n",
       "      <td>30</td>\n",
       "      <td>2778</td>\n",
       "      <td>17780</td>\n",
       "      <td>7</td>\n",
       "      <td>0.0</td>\n",
       "      <td>residential</td>\n",
       "    </tr>\n",
       "    <tr>\n",
       "      <th>116804</th>\n",
       "      <td>37</td>\n",
       "      <td>119</td>\n",
       "      <td>37119</td>\n",
       "      <td>-80.722268</td>\n",
       "      <td>35.176157</td>\n",
       "      <td>4.726280</td>\n",
       "      <td>36443.0</td>\n",
       "      <td>478966.0</td>\n",
       "      <td>0.429380</td>\n",
       "      <td>21.0</td>\n",
       "      <td>38</td>\n",
       "      <td>118034</td>\n",
       "      <td>39</td>\n",
       "      <td>2607</td>\n",
       "      <td>17352</td>\n",
       "      <td>4</td>\n",
       "      <td>0.0</td>\n",
       "      <td>residential</td>\n",
       "    </tr>\n",
       "    <tr>\n",
       "      <th>24508</th>\n",
       "      <td>37</td>\n",
       "      <td>179</td>\n",
       "      <td>37179</td>\n",
       "      <td>-80.692824</td>\n",
       "      <td>34.950417</td>\n",
       "      <td>547.491714</td>\n",
       "      <td>35468.0</td>\n",
       "      <td>83788.0</td>\n",
       "      <td>0.351656</td>\n",
       "      <td>21.0</td>\n",
       "      <td>44</td>\n",
       "      <td>13966</td>\n",
       "      <td>6</td>\n",
       "      <td>311</td>\n",
       "      <td>5324</td>\n",
       "      <td>4</td>\n",
       "      <td>0.0</td>\n",
       "      <td>residential</td>\n",
       "    </tr>\n",
       "    <tr>\n",
       "      <th>18779</th>\n",
       "      <td>37</td>\n",
       "      <td>179</td>\n",
       "      <td>37179</td>\n",
       "      <td>-80.430324</td>\n",
       "      <td>35.155231</td>\n",
       "      <td>127.916451</td>\n",
       "      <td>35468.0</td>\n",
       "      <td>83788.0</td>\n",
       "      <td>0.351656</td>\n",
       "      <td>4.0</td>\n",
       "      <td>44</td>\n",
       "      <td>13966</td>\n",
       "      <td>6</td>\n",
       "      <td>311</td>\n",
       "      <td>5324</td>\n",
       "      <td>4</td>\n",
       "      <td>0.0</td>\n",
       "      <td>residential</td>\n",
       "    </tr>\n",
       "  </tbody>\n",
       "</table>\n",
       "</div>"
      ],
      "text/plain": [
       "        StateFips  CountyFips  StateCountyFips          X          Y  \\\n",
       "41735          37         179            37179 -80.490787  35.073935   \n",
       "185806         37         183            37183 -78.637176  35.584213   \n",
       "116804         37         119            37119 -80.722268  35.176157   \n",
       "24508          37         179            37179 -80.692824  34.950417   \n",
       "18779          37         179            37179 -80.430324  35.155231   \n",
       "\n",
       "              Area  MedianIncomeCounty  HousingUnitsCounty  \\\n",
       "41735     6.770024             35468.0             83788.0   \n",
       "185806  147.571200             41189.0            462582.0   \n",
       "116804    4.726280             36443.0            478966.0   \n",
       "24508   547.491714             35468.0             83788.0   \n",
       "18779   127.916451             35468.0             83788.0   \n",
       "\n",
       "        HousingDensityCounty  Impervious  AgCount  CmCount  GvCount  EdCount  \\\n",
       "41735               0.351656         1.0       44    13966        6      311   \n",
       "185806              0.409578         1.0      119   105723       30     2778   \n",
       "116804              0.429380        21.0       38   118034       39     2607   \n",
       "24508               0.351656        21.0       44    13966        6      311   \n",
       "18779               0.351656         4.0       44    13966        6      311   \n",
       "\n",
       "        InCount  OsmNearestRoad  FEMA_100yr  predictions  \n",
       "41735      5324               4         0.0  residential  \n",
       "185806    17780               7         0.0  residential  \n",
       "116804    17352               4         0.0  residential  \n",
       "24508      5324               4         0.0  residential  \n",
       "18779      5324               4         0.0  residential  "
      ]
     },
     "execution_count": 54,
     "metadata": {},
     "output_type": "execute_result"
    }
   ],
   "source": [
    "unknown.head()"
   ]
  },
  {
   "cell_type": "markdown",
   "metadata": {},
   "source": [
    "## Connect predictions with socio-economic data and FEMA 100-year flood predictions"
   ]
  },
  {
   "cell_type": "code",
   "execution_count": 56,
   "metadata": {},
   "outputs": [],
   "source": [
    "flood = unknown[ unknown['FEMA_100yr'] == 1 ]"
   ]
  },
  {
   "cell_type": "code",
   "execution_count": 58,
   "metadata": {},
   "outputs": [],
   "source": [
    "residential = flood[ flood['predictions'] == 'residential' ]\n",
    "commercial = flood[ flood['predictions'] == 'commercial' ]\n",
    "other = flood[ flood['predictions'] == 'other' ]"
   ]
  },
  {
   "cell_type": "code",
   "execution_count": 62,
   "metadata": {},
   "outputs": [
    {
     "data": {
      "image/png": "[encoded data removed]",
      "text/plain": [
       "<Figure size 432x288 with 1 Axes>"
      ]
     },
     "metadata": {
      "needs_background": "light"
     },
     "output_type": "display_data"
    }
   ],
   "source": [
    "fig, ax = plt.subplots()\n",
    "\n",
    "types = ['Residential', 'Commercial', 'Other']\n",
    "counts = [ residential.shape[0], commercial.shape[0], other.shape[0]]\n",
    "bar_colors = ['tab:red', 'tab:blue', 'tab:orange']\n",
    "\n",
    "ax.bar(types, counts, label=bar_labels, color=bar_colors)\n",
    "\n",
    "ax.set_ylabel('# of Impacts')\n",
    "ax.set_title('FEMA 100-year Flood Impacts')\n",
    "\n",
    "plt.show()"
   ]
  },
  {
   "cell_type": "code",
   "execution_count": 71,
   "metadata": {},
   "outputs": [
    {
     "data": {
      "text/plain": [
       "Text(0.5, 0, 'Median Individual Income in County')"
      ]
     },
     "execution_count": 71,
     "metadata": {},
     "output_type": "execute_result"
    },
    {
     "data": {
      "image/png": "[encoded data removed]",
      "text/plain": [
       "<Figure size 432x288 with 1 Axes>"
      ]
     },
     "metadata": {
      "needs_background": "light"
     },
     "output_type": "display_data"
    }
   ],
   "source": [
    "m = 30106 # median individal income in NC in 2020\n",
    "\n",
    "plt.hist( residential['MedianIncomeCounty'] )\n",
    "plt.plot( np.zeros(1600)+m, np.arange(0,1600,1), c='red' )\n",
    "plt.ylabel('# of impacted residential homes')\n",
    "plt.xlabel('Median Individual Income in County')"
   ]
  },
  {
   "cell_type": "code",
   "execution_count": 81,
   "metadata": {},
   "outputs": [
    {
     "name": "stdout",
     "output_type": "stream",
     "text": [
      "32.81 % residential buildings impacted are in counties below median income\n"
     ]
    }
   ],
   "source": [
    "ix = np.where( residential['MedianIncomeCounty'] < m )\n",
    "p = (len(ix[0])/residential['MedianIncomeCounty'].shape[0])*100.\n",
    "print( np.round(p,2), '% residential buildings impacted are in counties below median income')"
   ]
  },
  {
   "cell_type": "code",
   "execution_count": 74,
   "metadata": {},
   "outputs": [
    {
     "data": {
      "text/plain": [
       "Text(0.5, 0, 'Median Individual Income in County')"
      ]
     },
     "execution_count": 74,
     "metadata": {},
     "output_type": "execute_result"
    },
    {
     "data": {
      "image/png": "[encoded data removed]",
      "text/plain": [
       "<Figure size 432x288 with 1 Axes>"
      ]
     },
     "metadata": {
      "needs_background": "light"
     },
     "output_type": "display_data"
    }
   ],
   "source": [
    "m = 30106 # median individal income in NC in 2020\n",
    "\n",
    "plt.hist( commercial['MedianIncomeCounty'] )\n",
    "plt.plot( np.zeros(150)+m, np.arange(0,150,1), c='red' )\n",
    "plt.ylabel('# of impacted commercial homes')\n",
    "plt.xlabel('Median Individual Income in County')"
   ]
  },
  {
   "cell_type": "code",
   "execution_count": 82,
   "metadata": {},
   "outputs": [
    {
     "name": "stdout",
     "output_type": "stream",
     "text": [
      "59.73 % commercial buildings impacted are in counties below median income\n"
     ]
    }
   ],
   "source": [
    "ix = np.where( commercial['MedianIncomeCounty'] < m )\n",
    "p = (len(ix[0])/commercial['MedianIncomeCounty'].shape[0])*100.\n",
    "print( np.round(p,2), '% commercial buildings impacted are in counties below median income')"
   ]
  },
  {
   "cell_type": "code",
   "execution_count": null,
   "metadata": {},
   "outputs": [],
   "source": []
  }
 ],
 "metadata": {
  "kernelspec": {
   "display_name": "Python 3",
   "language": "python",
   "name": "python3"
  },
  "language_info": {
   "codemirror_mode": {
    "name": "ipython",
    "version": 3
   },
   "file_extension": ".py",
   "mimetype": "text/x-python",
   "name": "python",
   "nbconvert_exporter": "python",
   "pygments_lexer": "ipython3",
   "version": "3.10.6"
  }
 },
 "nbformat": 4,
 "nbformat_minor": 4
}
