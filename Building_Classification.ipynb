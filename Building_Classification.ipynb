{
 "cells": [
  {
   "cell_type": "markdown",
   "metadata": {},
   "source": [
    "# <center><u>Flood Risk Machine Learning Tutorial</u></center>"
   ]
  },
  {
   "cell_type": "markdown",
   "metadata": {},
   "source": [
    "### Introduction"
   ]
  },
  {
   "cell_type": "markdown",
   "metadata": {},
   "source": [
    "<p>Urban flooding causes billions of dollars in damages annually, with severe flood events becoming more frequent and destructive as our climate changes. While extreme weather is a primary driver of flooding, its consequences depend on the interconnectedness of urban systems - referred to as the Urban Multiplex, which includes the power grid, transportation network, natural surface water and groundwater systems, sewerage and drinking water systems, intertwined with the socioeconomic and public health sectors.</p>"
   ]
  },
  {
   "cell_type": "markdown",
   "metadata": {},
   "source": [
    "<p>This tutorial introduces machine learning concepts through an application in one component of the Urban Multiplex - building classification. Accurate and standardized information about buildings (e.g. classification into residential, commercial, industrial) is critical for assessing the number of people affected by flooding, the propagation of shocks throughout the economy, and for forecasting detailed socioeconomic risk from flooding. Yet, a major discrepancy exists in the way data about buildings are collected across the U.S. There is no harmonization in what data are recorded by city, county, or state governments, let alone at the national scale.</p>"
   ]
  },
  {
   "cell_type": "markdown",
   "metadata": {},
   "source": [
    "<p>In this tutorial we explore multiple means of classifying a building (residential/classification/industrial/etc.) based on its features (location, square footage, proximity to other resources, etc.). Moreover, we are interested in how accurate or machine learning models can be using only free and open data. The data used in this tutorial is consistently and openly available for the continental Unites States. We use the state of North Carolina as an expemplar in this tutorial.</p>"
   ]
  },
  {
   "cell_type": "markdown",
   "metadata": {},
   "source": [
    " "
   ]
  },
  {
   "cell_type": "markdown",
   "metadata": {},
   "source": [
    "#### Import required Python libraries"
   ]
  },
  {
   "cell_type": "code",
   "execution_count": 1,
   "metadata": {},
   "outputs": [],
   "source": [
    "import time\n",
    "import pickle\n",
    "#import itertools\n",
    "import numpy as np\n",
    "import pandas as pd\n",
    "#import utilities as utils\n",
    "#import configuration as config\n",
    "import matplotlib.pyplot as plt\n",
    "\n",
    "import tensorflow as tf\n",
    "from keras.utils import to_categorical\n",
    "from tensorflow.keras.layers import Dense\n",
    "from keras.callbacks import EarlyStopping\n",
    "from tensorflow.keras.models import Sequential\n",
    "\n",
    "from sklearn import preprocessing\n",
    "from sklearn.metrics import f1_score\n",
    "from sklearn.model_selection import KFold\n",
    "from sklearn.metrics import balanced_accuracy_score\n",
    "from sklearn.model_selection import train_test_split\n",
    "from sklearn.inspection import permutation_importance\n",
    "from sklearn.metrics import confusion_matrix, ConfusionMatrixDisplay\n",
    "\n",
    "from sklearn.neighbors import KNeighborsClassifier\n",
    "from sklearn.ensemble import RandomForestClassifier\n",
    "from sklearn.linear_model import LogisticRegression"
   ]
  },
  {
   "cell_type": "markdown",
   "metadata": {},
   "source": [
    "#### Setup and Configuration"
   ]
  },
  {
   "cell_type": "code",
   "execution_count": 4,
   "metadata": {},
   "outputs": [],
   "source": [
    "# North Carolina data\n",
    "url = \"https://github.com/geo-smart/flood-risk-ml-tutorial/blob/main/North_Carolina_Buildings.zip?raw=true\"\n",
    "\n",
    "# read data into a Pandas dataframe\n",
    "rawDf = pd.read_csv(url, compression=\"zip\")\n",
    "\n",
    "# ignore first few columns, which are FIPs codes, not needed for ML\n",
    "rawDf = rawDf.iloc[:, 3:] \n",
    "df = rawDf.copy( deep=True )"
   ]
  },
  {
   "cell_type": "markdown",
   "metadata": {},
   "source": [
    "#### The data\n",
    "\n",
    "Our data is a combination of values aggregated from [Open Street Map (OSM)](https://www.openstreetmap.org), the [Multi-Resolution Land Characteristics Consortium (MRLC)](https://www.mrlc.gov/data/type/urban-imperviousness), [United States Census' County Business Patterns (CBP)](https://www.census.gov/programs-surveys/cbp/data/tables.html), and the [United States Census' American Community Survey (ACS)](https://www.census.gov/programs-surveys/acs/data.html).\n",
    "\n",
    "| Column      | Description | Source |\n",
    "| :---------: | :---------- |:-------|\n",
    "| X                    | Title       | OSM |\n",
    "| Y                    | Text        | OSM |\n",
    "| Area                 | Area of building in square meters        | OSM |\n",
    "| MedianIncomeCounty   | Median income of the county in which the building resides        | ACS |\n",
    "| HousingUnitsCounty   | Number of housing units in the county in which the building resides | ACS |\n",
    "| HousingDensityCounty | Number of housing units in the county divided by the number of people residing in the county where the building resides        | ACS |\n",
    "| Impervious           | Percentage of the area surrounding the building that is comprised of impervious surfaces such as roads and other paved surfaces  | MRLC |\n",
    "| AgCount              | Number of agricultural businesses in the county in which the building resides | CBP |\n",
    "| CmCount              | Number of commercial businesses in the county in which the building resides   | CBP |\n",
    "| GvCount              | Number of government buildings in the county in which the building resides    | CBP |\n",
    "| EdCount              | Number of educational buildings in the county in which the building resides   | CBP |\n",
    "| InCount              | Number of industrial buildings in the county in which the building resides    | CBP |\n",
    "| OsmNearestRoad       | Type of nearest road to the building | OSM |\n",
    "| OrnlType             | Building classification | ORNL |"
   ]
  },
  {
   "cell_type": "code",
   "execution_count": 6,
   "metadata": {},
   "outputs": [
    {
     "data": {
      "text/html": [
       "<div>\n",
       "<style scoped>\n",
       "    .dataframe tbody tr th:only-of-type {\n",
       "        vertical-align: middle;\n",
       "    }\n",
       "\n",
       "    .dataframe tbody tr th {\n",
       "        vertical-align: top;\n",
       "    }\n",
       "\n",
       "    .dataframe thead th {\n",
       "        text-align: right;\n",
       "    }\n",
       "</style>\n",
       "<table border=\"1\" class=\"dataframe\">\n",
       "  <thead>\n",
       "    <tr style=\"text-align: right;\">\n",
       "      <th></th>\n",
       "      <th>X</th>\n",
       "      <th>Y</th>\n",
       "      <th>Area</th>\n",
       "      <th>MedianIncomeCounty</th>\n",
       "      <th>HousingUnitsCounty</th>\n",
       "      <th>HousingDensityCounty</th>\n",
       "      <th>Impervious</th>\n",
       "      <th>AgCount</th>\n",
       "      <th>CmCount</th>\n",
       "      <th>GvCount</th>\n",
       "      <th>EdCount</th>\n",
       "      <th>InCount</th>\n",
       "      <th>OsmNearestRoad</th>\n",
       "      <th>OrnlType</th>\n",
       "    </tr>\n",
       "  </thead>\n",
       "  <tbody>\n",
       "    <tr>\n",
       "      <th>0</th>\n",
       "      <td>-83.261157</td>\n",
       "      <td>35.484491</td>\n",
       "      <td>21.951055</td>\n",
       "      <td>22429.0</td>\n",
       "      <td>26649.0</td>\n",
       "      <td>0.618177</td>\n",
       "      <td>4.000000</td>\n",
       "      <td>22</td>\n",
       "      <td>2860</td>\n",
       "      <td>3</td>\n",
       "      <td>51</td>\n",
       "      <td>804</td>\n",
       "      <td>residential</td>\n",
       "      <td>Residential</td>\n",
       "    </tr>\n",
       "    <tr>\n",
       "      <th>1</th>\n",
       "      <td>-83.260972</td>\n",
       "      <td>35.484583</td>\n",
       "      <td>255.155551</td>\n",
       "      <td>22429.0</td>\n",
       "      <td>26649.0</td>\n",
       "      <td>0.618177</td>\n",
       "      <td>5.666667</td>\n",
       "      <td>22</td>\n",
       "      <td>2860</td>\n",
       "      <td>3</td>\n",
       "      <td>51</td>\n",
       "      <td>804</td>\n",
       "      <td>residential</td>\n",
       "      <td>Residential</td>\n",
       "    </tr>\n",
       "    <tr>\n",
       "      <th>2</th>\n",
       "      <td>-83.260417</td>\n",
       "      <td>35.484768</td>\n",
       "      <td>184.625376</td>\n",
       "      <td>22429.0</td>\n",
       "      <td>26649.0</td>\n",
       "      <td>0.618177</td>\n",
       "      <td>7.000000</td>\n",
       "      <td>22</td>\n",
       "      <td>2860</td>\n",
       "      <td>3</td>\n",
       "      <td>51</td>\n",
       "      <td>804</td>\n",
       "      <td>residential</td>\n",
       "      <td>Residential</td>\n",
       "    </tr>\n",
       "    <tr>\n",
       "      <th>3</th>\n",
       "      <td>-83.256806</td>\n",
       "      <td>35.492268</td>\n",
       "      <td>434.205428</td>\n",
       "      <td>22429.0</td>\n",
       "      <td>26649.0</td>\n",
       "      <td>0.618177</td>\n",
       "      <td>22.500000</td>\n",
       "      <td>22</td>\n",
       "      <td>2860</td>\n",
       "      <td>3</td>\n",
       "      <td>51</td>\n",
       "      <td>804</td>\n",
       "      <td>residential</td>\n",
       "      <td>Residential</td>\n",
       "    </tr>\n",
       "    <tr>\n",
       "      <th>4</th>\n",
       "      <td>-83.156435</td>\n",
       "      <td>35.493657</td>\n",
       "      <td>138.361515</td>\n",
       "      <td>22429.0</td>\n",
       "      <td>26649.0</td>\n",
       "      <td>0.618177</td>\n",
       "      <td>4.000000</td>\n",
       "      <td>22</td>\n",
       "      <td>2860</td>\n",
       "      <td>3</td>\n",
       "      <td>51</td>\n",
       "      <td>804</td>\n",
       "      <td>secondary</td>\n",
       "      <td>Residential</td>\n",
       "    </tr>\n",
       "  </tbody>\n",
       "</table>\n",
       "</div>"
      ],
      "text/plain": [
       "           X          Y        Area  MedianIncomeCounty  HousingUnitsCounty  \\\n",
       "0 -83.261157  35.484491   21.951055             22429.0             26649.0   \n",
       "1 -83.260972  35.484583  255.155551             22429.0             26649.0   \n",
       "2 -83.260417  35.484768  184.625376             22429.0             26649.0   \n",
       "3 -83.256806  35.492268  434.205428             22429.0             26649.0   \n",
       "4 -83.156435  35.493657  138.361515             22429.0             26649.0   \n",
       "\n",
       "   HousingDensityCounty  Impervious  AgCount  CmCount  GvCount  EdCount  \\\n",
       "0              0.618177    4.000000       22     2860        3       51   \n",
       "1              0.618177    5.666667       22     2860        3       51   \n",
       "2              0.618177    7.000000       22     2860        3       51   \n",
       "3              0.618177   22.500000       22     2860        3       51   \n",
       "4              0.618177    4.000000       22     2860        3       51   \n",
       "\n",
       "   InCount OsmNearestRoad     OrnlType  \n",
       "0      804    residential  Residential  \n",
       "1      804    residential  Residential  \n",
       "2      804    residential  Residential  \n",
       "3      804    residential  Residential  \n",
       "4      804      secondary  Residential  "
      ]
     },
     "execution_count": 6,
     "metadata": {},
     "output_type": "execute_result"
    }
   ],
   "source": [
    "rawDf.head()"
   ]
  },
  {
   "cell_type": "markdown",
   "metadata": {},
   "source": [
    " "
   ]
  },
  {
   "cell_type": "markdown",
   "metadata": {},
   "source": [
    "#### Data exploration"
   ]
  },
  {
   "cell_type": "code",
   "execution_count": 8,
   "metadata": {},
   "outputs": [
    {
     "name": "stdout",
     "output_type": "stream",
     "text": [
      "Building types and their counts\n",
      "\n",
      "Residential         976690\n",
      "Commercial           64029\n",
      "Industrial           16722\n",
      "Assembly              7323\n",
      "Education             6457\n",
      "Government            4910\n",
      "Agriculture           1651\n",
      "Utility and Misc       362\n",
      "Name: OrnlType, dtype: int64\n",
      "\n"
     ]
    }
   ],
   "source": [
    "# building type distributions\n",
    "print( \"Building types and their counts\" )\n",
    "print()\n",
    "print( df['OrnlType'].value_counts() )\n",
    "print()"
   ]
  },
  {
   "cell_type": "code",
   "execution_count": 9,
   "metadata": {},
   "outputs": [
    {
     "name": "stdout",
     "output_type": "stream",
     "text": [
      "Building type counts as compared to the largest class\n",
      "\n"
     ]
    },
    {
     "data": {
      "text/plain": [
       "Residential            1.000000\n",
       "Commercial            15.253869\n",
       "Industrial            58.407487\n",
       "Assembly             133.372935\n",
       "Education            151.260647\n",
       "Government           198.918534\n",
       "Agriculture          591.574803\n",
       "Utility and Misc    2698.038674\n",
       "Name: OrnlType, dtype: float64"
      ]
     },
     "execution_count": 9,
     "metadata": {},
     "output_type": "execute_result"
    }
   ],
   "source": [
    "print( \"Building type counts as compared to the largest class\" )\n",
    "print()\n",
    "976690/df['OrnlType'].value_counts()"
   ]
  },
  {
   "cell_type": "markdown",
   "metadata": {},
   "source": [
    "<p>We have significant class imbalance. For example, the residential buildings outnumber the commercial buildings 15 to 1. The residentail buildings outnumber the agricultural buildings nearly 600 to 1. This can be a challenge for machine learning classification algorithms. The algorithm may not \"learn\", but rather obtain high accuracy simply by picking the majority class.</p>\n",
    "\n",
    "<p>We will look at techniques for dealing with such imbalance</p>"
   ]
  },
  {
   "cell_type": "markdown",
   "metadata": {},
   "source": [
    "### Binary classification"
   ]
  },
  {
   "cell_type": "markdown",
   "metadata": {},
   "source": [
    "<p>The OsmNearestRoad and OrnlType are currently text. We need to encode these as integers before proceeding with machine learning. We also want to scale our columns to a common axis so that columns with large values don't bias the learning.</p>\n",
    "\n",
    "<p>We'll use a standard scaler, which scales based on the standard scoreas: z = (x - u) / s</p>\n",
    "<p>Where u is the mean of the training samples and s is the standard deviation of the training samples</p>\n",
    "\n",
    "<p>In this first example, we'll look at Binary classification. Binary class is two class classification. We'll look at determining if a building is \"Residential\" or \"Other\" where \"Other\" is all the non-residentail buildings combined.</p>"
   ]
  },
  {
   "cell_type": "code",
   "execution_count": 10,
   "metadata": {},
   "outputs": [],
   "source": [
    "df.loc[df[\"OrnlType\"] != \"Residential\", \"OrnlType\"] = 'Other'\n",
    "\n",
    "df = df.sample(frac=1) # shuffle the dataframe (technically, we randomly resample the entire df)\n",
    "\n",
    "# preprocess the data - scaling\n",
    "scaler = preprocessing.StandardScaler()\n",
    "    \n",
    "columns = ['X', 'Y', 'Area', 'MedianIncomeCounty', \n",
    "           'HousingUnitsCounty', 'HousingDensityCounty',\n",
    "           'Impervious', 'AgCount', 'CmCount', 'GvCount',\n",
    "           'EdCount', 'InCount']\n",
    "df[columns] = scaler.fit_transform(df[columns])\n",
    "\n",
    "# preprossing - drop rows with NaN values\n",
    "df = df.dropna()\n",
    "    \n",
    "# preprocessing - change output labels from text ('Agriculture') to integers\n",
    "nCols = df.shape[1]\n",
    "le = preprocessing.LabelEncoder()\n",
    "le.fit( df.iloc[:, nCols-1] )\n",
    "df.iloc[:, nCols-1] = le.transform( df.iloc[:, nCols-1] )\n",
    "        \n",
    "# preprocessing - change output labels of nearest road type from text to integers\n",
    "le2 = preprocessing.LabelEncoder()\n",
    "le2.fit( df.iloc[:, nCols-2] ) \n",
    "df.iloc[:, nCols-2] = le2.transform( df.iloc[:, nCols-2] )"
   ]
  },
  {
   "cell_type": "markdown",
   "metadata": {},
   "source": [
    "<p>Some machine learning algorithms, e.g. Random Forest, don't require scaling. We'll create a second dataframe with OsmNearestRoad and OrnlType encoded, but without the scaling</p> "
   ]
  },
  {
   "cell_type": "code",
   "execution_count": 11,
   "metadata": {},
   "outputs": [],
   "source": [
    "rawDf.loc[rawDf[\"OrnlType\"] != \"Residential\", \"OrnlType\"] = 'Other'\n",
    "\n",
    "rawDf = rawDf.sample(frac=1) # shuffle the dataframe (technically, we randomly resample the entire df)\n",
    "\n",
    "rawDf = rawDf.dropna()\n",
    "\n",
    "nCols = rawDf.shape[1]\n",
    "le = preprocessing.LabelEncoder()\n",
    "le.fit( rawDf.iloc[:, nCols-1] ) # ornl type\n",
    "rawDf.iloc[:, nCols-1] = le.transform( rawDf.iloc[:, nCols-1] )\n",
    "    \n",
    "le2 = preprocessing.LabelEncoder()\n",
    "le2.fit( rawDf.iloc[:, nCols-2] ) # nearest road type\n",
    "rawDf.iloc[:, nCols-2] = le2.transform( rawDf.iloc[:, nCols-2] )"
   ]
  },
  {
   "cell_type": "markdown",
   "metadata": {},
   "source": [
    "<p>Our \"OrnlType\" values are now encoded as 0 or 1. We can use the inverse_transform to see which one is which.</p>"
   ]
  },
  {
   "cell_type": "code",
   "execution_count": 13,
   "metadata": {},
   "outputs": [
    {
     "data": {
      "text/html": [
       "<div>\n",
       "<style scoped>\n",
       "    .dataframe tbody tr th:only-of-type {\n",
       "        vertical-align: middle;\n",
       "    }\n",
       "\n",
       "    .dataframe tbody tr th {\n",
       "        vertical-align: top;\n",
       "    }\n",
       "\n",
       "    .dataframe thead th {\n",
       "        text-align: right;\n",
       "    }\n",
       "</style>\n",
       "<table border=\"1\" class=\"dataframe\">\n",
       "  <thead>\n",
       "    <tr style=\"text-align: right;\">\n",
       "      <th></th>\n",
       "      <th>X</th>\n",
       "      <th>Y</th>\n",
       "      <th>Area</th>\n",
       "      <th>MedianIncomeCounty</th>\n",
       "      <th>HousingUnitsCounty</th>\n",
       "      <th>HousingDensityCounty</th>\n",
       "      <th>Impervious</th>\n",
       "      <th>AgCount</th>\n",
       "      <th>CmCount</th>\n",
       "      <th>GvCount</th>\n",
       "      <th>EdCount</th>\n",
       "      <th>InCount</th>\n",
       "      <th>OsmNearestRoad</th>\n",
       "      <th>OrnlType</th>\n",
       "    </tr>\n",
       "  </thead>\n",
       "  <tbody>\n",
       "    <tr>\n",
       "      <th>291689</th>\n",
       "      <td>-1.177495</td>\n",
       "      <td>-0.554531</td>\n",
       "      <td>-0.022705</td>\n",
       "      <td>-1.327048</td>\n",
       "      <td>-0.994500</td>\n",
       "      <td>0.052691</td>\n",
       "      <td>-0.803153</td>\n",
       "      <td>-1.277726</td>\n",
       "      <td>-1.082940</td>\n",
       "      <td>-1.048588</td>\n",
       "      <td>-1.134246</td>\n",
       "      <td>-1.068329</td>\n",
       "      <td>4</td>\n",
       "      <td>1</td>\n",
       "    </tr>\n",
       "    <tr>\n",
       "      <th>639435</th>\n",
       "      <td>-1.036932</td>\n",
       "      <td>-0.869745</td>\n",
       "      <td>-0.147610</td>\n",
       "      <td>0.337253</td>\n",
       "      <td>1.051850</td>\n",
       "      <td>0.031186</td>\n",
       "      <td>-0.251473</td>\n",
       "      <td>-0.337799</td>\n",
       "      <td>1.140185</td>\n",
       "      <td>1.278110</td>\n",
       "      <td>0.949244</td>\n",
       "      <td>0.979654</td>\n",
       "      <td>4</td>\n",
       "      <td>1</td>\n",
       "    </tr>\n",
       "    <tr>\n",
       "      <th>240623</th>\n",
       "      <td>0.955903</td>\n",
       "      <td>-0.229497</td>\n",
       "      <td>-0.088269</td>\n",
       "      <td>-0.803459</td>\n",
       "      <td>-1.068631</td>\n",
       "      <td>-0.697542</td>\n",
       "      <td>-0.982076</td>\n",
       "      <td>0.033225</td>\n",
       "      <td>-1.138290</td>\n",
       "      <td>-1.189600</td>\n",
       "      <td>-1.155967</td>\n",
       "      <td>-0.976654</td>\n",
       "      <td>4</td>\n",
       "      <td>1</td>\n",
       "    </tr>\n",
       "    <tr>\n",
       "      <th>1064177</th>\n",
       "      <td>0.619026</td>\n",
       "      <td>1.199258</td>\n",
       "      <td>-0.032880</td>\n",
       "      <td>0.061124</td>\n",
       "      <td>-0.745051</td>\n",
       "      <td>0.324158</td>\n",
       "      <td>-1.160999</td>\n",
       "      <td>-1.277726</td>\n",
       "      <td>-0.785143</td>\n",
       "      <td>-0.625552</td>\n",
       "      <td>-0.540825</td>\n",
       "      <td>-1.002265</td>\n",
       "      <td>4</td>\n",
       "      <td>1</td>\n",
       "    </tr>\n",
       "    <tr>\n",
       "      <th>967278</th>\n",
       "      <td>0.727775</td>\n",
       "      <td>0.668362</td>\n",
       "      <td>-0.068332</td>\n",
       "      <td>1.302284</td>\n",
       "      <td>0.963812</td>\n",
       "      <td>-0.339621</td>\n",
       "      <td>0.784791</td>\n",
       "      <td>1.665731</td>\n",
       "      <td>0.880503</td>\n",
       "      <td>0.643556</td>\n",
       "      <td>1.097817</td>\n",
       "      <td>1.041934</td>\n",
       "      <td>4</td>\n",
       "      <td>1</td>\n",
       "    </tr>\n",
       "  </tbody>\n",
       "</table>\n",
       "</div>"
      ],
      "text/plain": [
       "                X         Y      Area  MedianIncomeCounty  HousingUnitsCounty  \\\n",
       "291689  -1.177495 -0.554531 -0.022705           -1.327048           -0.994500   \n",
       "639435  -1.036932 -0.869745 -0.147610            0.337253            1.051850   \n",
       "240623   0.955903 -0.229497 -0.088269           -0.803459           -1.068631   \n",
       "1064177  0.619026  1.199258 -0.032880            0.061124           -0.745051   \n",
       "967278   0.727775  0.668362 -0.068332            1.302284            0.963812   \n",
       "\n",
       "         HousingDensityCounty  Impervious   AgCount   CmCount   GvCount  \\\n",
       "291689               0.052691   -0.803153 -1.277726 -1.082940 -1.048588   \n",
       "639435               0.031186   -0.251473 -0.337799  1.140185  1.278110   \n",
       "240623              -0.697542   -0.982076  0.033225 -1.138290 -1.189600   \n",
       "1064177              0.324158   -1.160999 -1.277726 -0.785143 -0.625552   \n",
       "967278              -0.339621    0.784791  1.665731  0.880503  0.643556   \n",
       "\n",
       "          EdCount   InCount  OsmNearestRoad  OrnlType  \n",
       "291689  -1.134246 -1.068329               4         1  \n",
       "639435   0.949244  0.979654               4         1  \n",
       "240623  -1.155967 -0.976654               4         1  \n",
       "1064177 -0.540825 -1.002265               4         1  \n",
       "967278   1.097817  1.041934               4         1  "
      ]
     },
     "execution_count": 13,
     "metadata": {},
     "output_type": "execute_result"
    }
   ],
   "source": [
    "df.head()"
   ]
  },
  {
   "cell_type": "code",
   "execution_count": 12,
   "metadata": {},
   "outputs": [
    {
     "data": {
      "text/plain": [
       "array(['Other', 'Residential'], dtype=object)"
      ]
     },
     "execution_count": 12,
     "metadata": {},
     "output_type": "execute_result"
    }
   ],
   "source": [
    "le.inverse_transform([0,1])"
   ]
  },
  {
   "cell_type": "code",
   "execution_count": 14,
   "metadata": {},
   "outputs": [
    {
     "data": {
      "text/plain": [
       "1    976689\n",
       "0    101453\n",
       "Name: OrnlType, dtype: int64"
      ]
     },
     "execution_count": 14,
     "metadata": {},
     "output_type": "execute_result"
    }
   ],
   "source": [
    "df['OrnlType'].value_counts()"
   ]
  },
  {
   "cell_type": "code",
   "execution_count": 15,
   "metadata": {},
   "outputs": [
    {
     "data": {
      "text/plain": [
       "1    1.00000\n",
       "0    9.62701\n",
       "Name: OrnlType, dtype: float64"
      ]
     },
     "execution_count": 15,
     "metadata": {},
     "output_type": "execute_result"
    }
   ],
   "source": [
    "976689/df['OrnlType'].value_counts()"
   ]
  },
  {
   "cell_type": "markdown",
   "metadata": {},
   "source": [
    "<p>We still have nearly 10 times more residential buildings as \"other\" buildings. Let's proceed with various classification techniques and see how we do.</p>"
   ]
  },
  {
   "cell_type": "markdown",
   "metadata": {},
   "source": [
    " "
   ]
  },
  {
   "cell_type": "markdown",
   "metadata": {},
   "source": [
    "### K-Neasest Neighbors (K-NN)"
   ]
  },
  {
   "cell_type": "markdown",
   "metadata": {},
   "source": [
    "<p>With K-NN we... k-fold, balanced accuracy, mico f1</p>"
   ]
  },
  {
   "cell_type": "code",
   "execution_count": 17,
   "metadata": {},
   "outputs": [
    {
     "name": "stdout",
     "output_type": "stream",
     "text": [
      "K: 3\n",
      "  Fold: 1\n",
      "  Balanced Accuracy: 0.8269\n",
      "  Micro F1: 0.9513\n",
      "\n",
      "  Fold: 2\n",
      "  Balanced Accuracy: 0.828\n",
      "  Micro F1: 0.9512\n",
      "\n",
      "  Fold: 3\n",
      "  Balanced Accuracy: 0.8265\n",
      "  Micro F1: 0.9506\n",
      "\n",
      "  Fold: 4\n",
      "  Balanced Accuracy: 0.8277\n",
      "  Micro F1: 0.9517\n",
      "\n",
      "  Fold: 5\n",
      "  Balanced Accuracy: 0.8273\n",
      "  Micro F1: 0.9512\n",
      "\n",
      "Average Balance Accuracy: 0.8273\n",
      "\n",
      "K: 5\n",
      "  Fold: 1\n",
      "  Balanced Accuracy: 0.8269\n",
      "  Micro F1: 0.9531\n",
      "\n",
      "  Fold: 2\n",
      "  Balanced Accuracy: 0.8273\n",
      "  Micro F1: 0.9528\n",
      "\n",
      "  Fold: 3\n",
      "  Balanced Accuracy: 0.828\n",
      "  Micro F1: 0.9528\n",
      "\n",
      "  Fold: 4\n",
      "  Balanced Accuracy: 0.8296\n",
      "  Micro F1: 0.954\n",
      "\n",
      "  Fold: 5\n",
      "  Balanced Accuracy: 0.8286\n",
      "  Micro F1: 0.9531\n",
      "\n",
      "Average Balance Accuracy: 0.8281\n",
      "\n",
      "K: 7\n",
      "  Fold: 1\n",
      "  Balanced Accuracy: 0.8279\n",
      "  Micro F1: 0.9541\n",
      "\n",
      "  Fold: 2\n",
      "  Balanced Accuracy: 0.8282\n",
      "  Micro F1: 0.954\n",
      "\n",
      "  Fold: 3\n",
      "  Balanced Accuracy: 0.8271\n",
      "  Micro F1: 0.9534\n",
      "\n",
      "  Fold: 4\n",
      "  Balanced Accuracy: 0.8286\n",
      "  Micro F1: 0.9544\n",
      "\n",
      "  Fold: 5\n",
      "  Balanced Accuracy: 0.8266\n",
      "  Micro F1: 0.9533\n",
      "\n",
      "Average Balance Accuracy: 0.8277\n",
      "\n",
      "K: 9\n",
      "  Fold: 1\n",
      "  Balanced Accuracy: 0.8275\n",
      "  Micro F1: 0.9546\n",
      "\n",
      "  Fold: 2\n",
      "  Balanced Accuracy: 0.8282\n",
      "  Micro F1: 0.9543\n",
      "\n",
      "  Fold: 3\n",
      "  Balanced Accuracy: 0.8257\n",
      "  Micro F1: 0.9536\n",
      "\n",
      "  Fold: 4\n",
      "  Balanced Accuracy: 0.8274\n",
      "  Micro F1: 0.9546\n",
      "\n",
      "  Fold: 5\n",
      "  Balanced Accuracy: 0.8243\n",
      "  Micro F1: 0.9531\n",
      "\n",
      "Average Balance Accuracy: 0.8266\n",
      "\n"
     ]
    }
   ],
   "source": [
    "kf = KFold( n_splits=5, shuffle=True, random_state=42 )\n",
    "\n",
    "X = df.drop(['OrnlType'], axis=1).values\n",
    "y = df['OrnlType'].values\n",
    "\n",
    "ks = [3,5,7,9]\n",
    "for k in ks:\n",
    "    fold = 1\n",
    "    accs = []\n",
    "    print( \"K:\", k )\n",
    "    for trainIndex, testIndex in kf.split(X):\n",
    "        X_train, X_test = X[trainIndex], X[testIndex]\n",
    "        y_train, y_test = y[trainIndex], y[testIndex]\n",
    "        knn = KNeighborsClassifier(n_neighbors=k)\n",
    "        knn.fit( X_train, y_train )\n",
    "        predictions = knn.predict(X_test)\n",
    "        ba = np.round( balanced_accuracy_score(y_test, predictions), 4 )\n",
    "        print( \"  Fold:\", fold )\n",
    "        print( \"  Balanced Accuracy:\", ba )\n",
    "        print( \"  Micro F1:\", np.round( f1_score(y_test, predictions, average='micro'), 4 ))\n",
    "        print()\n",
    "        accs.append( ba )\n",
    "        fold += 1\n",
    "    print( \"Average Balance Accuracy:\", np.round(np.mean(accs),4) )\n",
    "    print()"
   ]
  },
  {
   "cell_type": "markdown",
   "metadata": {},
   "source": [
    "K = 5 gave the best results. We'll train a model using all the data and K=5. We also demonstrate writing the model to a [Python Pickle](https://docs.python.org/3/library/pickle.html) file for later reuse."
   ]
  },
  {
   "cell_type": "code",
   "execution_count": 20,
   "metadata": {},
   "outputs": [],
   "source": [
    "knn = KNeighborsClassifier(n_neighbors=5)\n",
    "knn.fit( X, y )\n",
    "\n",
    "# save the model to a Python Pickle\n",
    "with open('./knn_5_model.pkl', 'wb') as f:\n",
    "    pickle.dump(knn, f)"
   ]
  },
  {
   "cell_type": "code",
   "execution_count": 21,
   "metadata": {},
   "outputs": [
    {
     "name": "stdout",
     "output_type": "stream",
     "text": [
      "Predictions: [1 1 1 1 1]\n",
      "Actual: [1 1 1 1 1]\n"
     ]
    }
   ],
   "source": [
    "# read the model from file                                                                                                                                                                                                         \n",
    "with open('./knn_5_model.pkl', 'rb') as f:\n",
    "    knn = pickle.load(f)\n",
    "\n",
    "# use the model to make predictions\n",
    "predictions = knn.predict(X)\n",
    "print(\"Predictions:\", predictions[0:5])\n",
    "print(\"Actual:\", y[0:5])"
   ]
  },
  {
   "cell_type": "markdown",
   "metadata": {},
   "source": [
    "<p>Visualize the results using a confusion matrix</p>"
   ]
  },
  {
   "cell_type": "code",
   "execution_count": 22,
   "metadata": {},
   "outputs": [],
   "source": [
    "cm = confusion_matrix( y, predictions, normalize='true' )"
   ]
  },
  {
   "cell_type": "code",
   "execution_count": 23,
   "metadata": {
    "scrolled": true
   },
   "outputs": [
    {
     "data": {
      "text/plain": [
       "<sklearn.metrics._plot.confusion_matrix.ConfusionMatrixDisplay at 0x7ffb05176f50>"
      ]
     },
     "execution_count": 23,
     "metadata": {},
     "output_type": "execute_result"
    },
    {
     "data": {
      "image/png": "[encoded data removed]",
      "text/plain": [
       "<Figure size 360x360 with 2 Axes>"
      ]
     },
     "metadata": {
      "needs_background": "light"
     },
     "output_type": "display_data"
    }
   ],
   "source": [
    "fig, ax = plt.subplots(figsize=(5, 5))\n",
    "disp = ConfusionMatrixDisplay( confusion_matrix=cm, display_labels=knn.classes_ )\n",
    "disp.plot(ax=ax)"
   ]
  },
  {
   "cell_type": "markdown",
   "metadata": {},
   "source": [
    "<p>We correctly predict \"Other\" 74% of the time while correctly predicting \"Residential\" 99% of the time. 26% of the time we predict \"Residential\" when we should have predicted \"Other\" and ~1% of the time we predict \"Other\" when we should have predicted \"Residential\".</p>"
   ]
  },
  {
   "cell_type": "markdown",
   "metadata": {},
   "source": [
    "### Random Forest"
   ]
  },
  {
   "cell_type": "markdown",
   "metadata": {},
   "source": [
    "Random Forest does not require data values to be scaled. Let's apply Random Forest to our unscaled dataframe."
   ]
  },
  {
   "cell_type": "code",
   "execution_count": 24,
   "metadata": {
    "scrolled": false
   },
   "outputs": [
    {
     "data": {
      "text/html": [
       "<div>\n",
       "<style scoped>\n",
       "    .dataframe tbody tr th:only-of-type {\n",
       "        vertical-align: middle;\n",
       "    }\n",
       "\n",
       "    .dataframe tbody tr th {\n",
       "        vertical-align: top;\n",
       "    }\n",
       "\n",
       "    .dataframe thead th {\n",
       "        text-align: right;\n",
       "    }\n",
       "</style>\n",
       "<table border=\"1\" class=\"dataframe\">\n",
       "  <thead>\n",
       "    <tr style=\"text-align: right;\">\n",
       "      <th></th>\n",
       "      <th>X</th>\n",
       "      <th>Y</th>\n",
       "      <th>Area</th>\n",
       "      <th>MedianIncomeCounty</th>\n",
       "      <th>HousingUnitsCounty</th>\n",
       "      <th>HousingDensityCounty</th>\n",
       "      <th>Impervious</th>\n",
       "      <th>AgCount</th>\n",
       "      <th>CmCount</th>\n",
       "      <th>GvCount</th>\n",
       "      <th>EdCount</th>\n",
       "      <th>InCount</th>\n",
       "      <th>OsmNearestRoad</th>\n",
       "      <th>OrnlType</th>\n",
       "    </tr>\n",
       "  </thead>\n",
       "  <tbody>\n",
       "    <tr>\n",
       "      <th>472279</th>\n",
       "      <td>-78.382731</td>\n",
       "      <td>33.975972</td>\n",
       "      <td>524.149027</td>\n",
       "      <td>30529.0</td>\n",
       "      <td>88330.0</td>\n",
       "      <td>0.646193</td>\n",
       "      <td>54.333333</td>\n",
       "      <td>44</td>\n",
       "      <td>8035</td>\n",
       "      <td>3</td>\n",
       "      <td>113</td>\n",
       "      <td>2188</td>\n",
       "      <td>4</td>\n",
       "      <td>0</td>\n",
       "    </tr>\n",
       "    <tr>\n",
       "      <th>1024613</th>\n",
       "      <td>-78.920324</td>\n",
       "      <td>35.934769</td>\n",
       "      <td>178.254200</td>\n",
       "      <td>35085.0</td>\n",
       "      <td>144559.0</td>\n",
       "      <td>0.445026</td>\n",
       "      <td>27.500000</td>\n",
       "      <td>0</td>\n",
       "      <td>26758</td>\n",
       "      <td>12</td>\n",
       "      <td>892</td>\n",
       "      <td>3732</td>\n",
       "      <td>4</td>\n",
       "      <td>1</td>\n",
       "    </tr>\n",
       "    <tr>\n",
       "      <th>12616</th>\n",
       "      <td>-80.583565</td>\n",
       "      <td>35.313380</td>\n",
       "      <td>211.072200</td>\n",
       "      <td>34297.0</td>\n",
       "      <td>87410.0</td>\n",
       "      <td>0.387106</td>\n",
       "      <td>42.666667</td>\n",
       "      <td>19</td>\n",
       "      <td>14422</td>\n",
       "      <td>6</td>\n",
       "      <td>289</td>\n",
       "      <td>3751</td>\n",
       "      <td>4</td>\n",
       "      <td>1</td>\n",
       "    </tr>\n",
       "    <tr>\n",
       "      <th>867992</th>\n",
       "      <td>-78.532639</td>\n",
       "      <td>35.784120</td>\n",
       "      <td>347.930397</td>\n",
       "      <td>41189.0</td>\n",
       "      <td>462582.0</td>\n",
       "      <td>0.409578</td>\n",
       "      <td>6.250000</td>\n",
       "      <td>119</td>\n",
       "      <td>105723</td>\n",
       "      <td>30</td>\n",
       "      <td>2778</td>\n",
       "      <td>17780</td>\n",
       "      <td>4</td>\n",
       "      <td>1</td>\n",
       "    </tr>\n",
       "    <tr>\n",
       "      <th>587696</th>\n",
       "      <td>-80.796991</td>\n",
       "      <td>35.039398</td>\n",
       "      <td>194.211800</td>\n",
       "      <td>36443.0</td>\n",
       "      <td>478966.0</td>\n",
       "      <td>0.429380</td>\n",
       "      <td>35.333333</td>\n",
       "      <td>38</td>\n",
       "      <td>118034</td>\n",
       "      <td>39</td>\n",
       "      <td>2607</td>\n",
       "      <td>17352</td>\n",
       "      <td>4</td>\n",
       "      <td>1</td>\n",
       "    </tr>\n",
       "  </tbody>\n",
       "</table>\n",
       "</div>"
      ],
      "text/plain": [
       "                 X          Y        Area  MedianIncomeCounty  \\\n",
       "472279  -78.382731  33.975972  524.149027             30529.0   \n",
       "1024613 -78.920324  35.934769  178.254200             35085.0   \n",
       "12616   -80.583565  35.313380  211.072200             34297.0   \n",
       "867992  -78.532639  35.784120  347.930397             41189.0   \n",
       "587696  -80.796991  35.039398  194.211800             36443.0   \n",
       "\n",
       "         HousingUnitsCounty  HousingDensityCounty  Impervious  AgCount  \\\n",
       "472279              88330.0              0.646193   54.333333       44   \n",
       "1024613            144559.0              0.445026   27.500000        0   \n",
       "12616               87410.0              0.387106   42.666667       19   \n",
       "867992             462582.0              0.409578    6.250000      119   \n",
       "587696             478966.0              0.429380   35.333333       38   \n",
       "\n",
       "         CmCount  GvCount  EdCount  InCount  OsmNearestRoad  OrnlType  \n",
       "472279      8035        3      113     2188               4         0  \n",
       "1024613    26758       12      892     3732               4         1  \n",
       "12616      14422        6      289     3751               4         1  \n",
       "867992    105723       30     2778    17780               4         1  \n",
       "587696    118034       39     2607    17352               4         1  "
      ]
     },
     "execution_count": 24,
     "metadata": {},
     "output_type": "execute_result"
    }
   ],
   "source": [
    "rawDf.head()"
   ]
  },
  {
   "cell_type": "code",
   "execution_count": 25,
   "metadata": {},
   "outputs": [
    {
     "name": "stdout",
     "output_type": "stream",
     "text": [
      "Fold: 1\n",
      "  Balanced Accuracy: 0.8559\n",
      "  Micro F1: 0.9626\n",
      "\n",
      "Fold: 2\n",
      "  Balanced Accuracy: 0.8559\n",
      "  Micro F1: 0.9622\n",
      "\n",
      "Fold: 3\n",
      "  Balanced Accuracy: 0.859\n",
      "  Micro F1: 0.9631\n",
      "\n",
      "Fold: 4\n",
      "  Balanced Accuracy: 0.8508\n",
      "  Micro F1: 0.9611\n",
      "\n",
      "Fold: 5\n",
      "  Balanced Accuracy: 0.8522\n",
      "  Micro F1: 0.9618\n",
      "\n",
      "Average Balanced Accuracy: 0.8548\n"
     ]
    }
   ],
   "source": [
    "kf = KFold( n_splits=5, shuffle=True, random_state=42 )\n",
    "rf = RandomForestClassifier(class_weight='balanced')\n",
    "\n",
    "X = rawDf.drop(['OrnlType'], axis=1).values\n",
    "y = rawDf['OrnlType'].values\n",
    "\n",
    "accs = []\n",
    "fold = 1\n",
    "for trainIndex, testIndex in kf.split(X):\n",
    "    X_train, X_test = X[trainIndex], X[testIndex]\n",
    "    y_train, y_test = y[trainIndex], y[testIndex]\n",
    "    rf.fit( X_train, y_train )\n",
    "    ba = np.round( balanced_accuracy_score(y_test, rf.predict(X_test)), 4 )\n",
    "    accs.append( ba )\n",
    "    print( \"Fold:\", fold )\n",
    "    print( \"  Balanced Accuracy:\", ba)\n",
    "    print( \"  Micro F1:\", np.round( f1_score(y_test, rf.predict(X_test), average='micro'), 4 ))\n",
    "    print()\n",
    "    fold += 1\n",
    "print( \"Average Balanced Accuracy:\", np.round(np.mean(accs),4) )"
   ]
  },
  {
   "cell_type": "code",
   "execution_count": 31,
   "metadata": {},
   "outputs": [],
   "source": [
    "rf.fit( X_train, y_train )\n",
    "\n",
    "with open('./rf_model.pkl', 'wb') as f:\n",
    "    pickle.dump(rf, f)"
   ]
  },
  {
   "cell_type": "code",
   "execution_count": 32,
   "metadata": {},
   "outputs": [
    {
     "name": "stdout",
     "output_type": "stream",
     "text": [
      "Predictions: [1 1 1 1 1]\n",
      "Actual: [1 1 1 1 1]\n"
     ]
    }
   ],
   "source": [
    "# read the model from file                                                                                                                                                                                                         \n",
    "with open('./rf_model.pkl', 'rb') as f:\n",
    "    rf = pickle.load(f)\n",
    "\n",
    "predictions = rf.predict(X_test)\n",
    "print( \"Predictions:\", predictions[0:5] )\n",
    "print( \"Actual:\", y_test[0:5] )"
   ]
  },
  {
   "cell_type": "code",
   "execution_count": 34,
   "metadata": {},
   "outputs": [],
   "source": [
    "cm = confusion_matrix( y_test, predictions, normalize='true' )"
   ]
  },
  {
   "cell_type": "code",
   "execution_count": 35,
   "metadata": {},
   "outputs": [
    {
     "data": {
      "text/plain": [
       "<sklearn.metrics._plot.confusion_matrix.ConfusionMatrixDisplay at 0x7ffafc29de10>"
      ]
     },
     "execution_count": 35,
     "metadata": {},
     "output_type": "execute_result"
    },
    {
     "data": {
      "image/png": "[encoded data removed]",
      "text/plain": [
       "<Figure size 360x360 with 2 Axes>"
      ]
     },
     "metadata": {
      "needs_background": "light"
     },
     "output_type": "display_data"
    }
   ],
   "source": [
    "fig, ax = plt.subplots(figsize=(5, 5))\n",
    "disp = ConfusionMatrixDisplay( confusion_matrix=cm, display_labels=rf.classes_)\n",
    "disp.plot(ax=ax)"
   ]
  },
  {
   "cell_type": "markdown",
   "metadata": {},
   "source": [
    "### Neural Network"
   ]
  },
  {
   "cell_type": "code",
   "execution_count": 37,
   "metadata": {},
   "outputs": [
    {
     "name": "stderr",
     "output_type": "stream",
     "text": [
      "2023-01-09 12:20:35.334122: I tensorflow/stream_executor/cuda/cuda_gpu_executor.cc:975] successful NUMA node read from SysFS had negative value (-1), but there must be at least one NUMA node, so returning NUMA node zero\n",
      "2023-01-09 12:20:35.334490: I tensorflow/stream_executor/cuda/cuda_gpu_executor.cc:975] successful NUMA node read from SysFS had negative value (-1), but there must be at least one NUMA node, so returning NUMA node zero\n",
      "2023-01-09 12:20:35.334752: I tensorflow/stream_executor/cuda/cuda_gpu_executor.cc:975] successful NUMA node read from SysFS had negative value (-1), but there must be at least one NUMA node, so returning NUMA node zero\n",
      "2023-01-09 12:20:35.335040: I tensorflow/stream_executor/cuda/cuda_gpu_executor.cc:975] successful NUMA node read from SysFS had negative value (-1), but there must be at least one NUMA node, so returning NUMA node zero\n",
      "2023-01-09 12:20:35.335278: I tensorflow/stream_executor/cuda/cuda_gpu_executor.cc:975] successful NUMA node read from SysFS had negative value (-1), but there must be at least one NUMA node, so returning NUMA node zero\n",
      "2023-01-09 12:20:35.335524: I tensorflow/core/common_runtime/gpu/gpu_device.cc:1532] Created device /job:localhost/replica:0/task:0/device:GPU:0 with 5338 MB memory:  -> device: 0, name: NVIDIA GeForce RTX 2060, pci bus id: 0000:01:00.0, compute capability: 7.5\n"
     ]
    }
   ],
   "source": [
    "# This is required for my GPU: GeForce RTX 2060\n",
    "# Without this config, tensorflow cannot properly allocate GPU memory\n",
    "\n",
    "# This is a GPU specific configuration and may not be needed on your GPU\n",
    "\n",
    "config = tf.compat.v1.ConfigProto()\n",
    "config.gpu_options.allow_growth = True\n",
    "config.gpu_options.per_process_gpu_memory_fraction = 0.90\n",
    "session = tf.compat.v1.Session(config=config)"
   ]
  },
  {
   "cell_type": "code",
   "execution_count": 38,
   "metadata": {},
   "outputs": [
    {
     "name": "stdout",
     "output_type": "stream",
     "text": [
      "Creating test/train split...\n"
     ]
    }
   ],
   "source": [
    "# columns: StateFips, CountyFips, StateCountyFips,\n",
    "#          X, Y, Area, MedianIncomeCounty, HousingUnitsCounty,\n",
    "#          HousingDensityCounty, Impervious, AgCount, CmCount,\n",
    "#          GvCount, EdCount, InCount, OsmNearestRoad, OrnlType\n",
    "\n",
    "# test/train split\n",
    "print(\"Creating test/train split...\")\n",
    "train, test = train_test_split(df, test_size=0.2, random_state=42, stratify=df[['OrnlType']])\n",
    "\n",
    "nCols = test.shape[1]\n",
    "xTest = test.iloc[:, :nCols-2]\n",
    "yTest = test.iloc[:, nCols-1]\n",
    "\n",
    "xTrain = train.iloc[:, :nCols-2]\n",
    "yTrain = train.iloc[:, nCols-1]"
   ]
  },
  {
   "cell_type": "code",
   "execution_count": 39,
   "metadata": {},
   "outputs": [
    {
     "name": "stdout",
     "output_type": "stream",
     "text": [
      "Training Size: (862513, 12)\n",
      "Testing Size: (215629, 12)\n"
     ]
    }
   ],
   "source": [
    "print(\"Training Size:\", xTrain.shape)\n",
    "print(\"Testing Size:\", xTest.shape)"
   ]
  },
  {
   "cell_type": "markdown",
   "metadata": {},
   "source": [
    "<p>We want the neural network to weight the fewer \"other\" examples that are available. You can do this by passing Keras weights for each class through a parameter. These will cause the model to \"pay more attention\" to examples from an under-represented class.</p>"
   ]
  },
  {
   "cell_type": "code",
   "execution_count": 44,
   "metadata": {},
   "outputs": [
    {
     "name": "stdout",
     "output_type": "stream",
     "text": [
      "Weight for class 0: 5.31\n",
      "Weight for class 1: 0.55\n"
     ]
    }
   ],
   "source": [
    "## A common weighting technique that involves the dataset size\n",
    "## and the number of examples in each class.\n",
    "\n",
    "# Scaling by total/2 helps keep the loss to a similar magnitude.\n",
    "total = xTrain.shape[0]\n",
    "ix = np.where( yTrain == 0 )\n",
    "zero = len(ix[0])\n",
    "ix = np.where( yTrain == 1 )\n",
    "one = len(ix[0])\n",
    "\n",
    "weight_for_0 = (1 / zero) * (total / 2.0)\n",
    "weight_for_1 = (1 / one) * (total / 2.0)\n",
    "\n",
    "class_weight = {0: weight_for_0, 1: weight_for_1}\n",
    "\n",
    "print('Weight for class 0: {:.2f}'.format(weight_for_0))\n",
    "print('Weight for class 1: {:.2f}'.format(weight_for_1))"
   ]
  },
  {
   "cell_type": "markdown",
   "metadata": {},
   "source": [
    "<p>Define a fairly simple three layer fully connected neural network</p>\n",
    "<p>We will set the network to train for 150 epochs; however, we stop the training early if accuracy hasn't improved over the previous 7 epochs</p>"
   ]
  },
  {
   "cell_type": "code",
   "execution_count": 47,
   "metadata": {},
   "outputs": [],
   "source": [
    "# convert output from scalar to vector format, i.e. building type=2 to [0,0,1,0,0,0,0,0,0,0,0]\n",
    "y = to_categorical(yTrain)\n",
    "\n",
    "# define the keras model\n",
    "model = Sequential()\n",
    "model.add(Dense(30, input_shape=(xTrain.shape[1],), activation='relu'))\n",
    "model.add(Dense(15, activation='relu'))\n",
    "model.add(Dense(2, activation='softmax'))\n",
    "model.compile(loss='binary_crossentropy', optimizer='adam', metrics=['accuracy'])\n",
    "\n",
    "# stop training if we see 7 epochs over which accuracy doesn't improve\n",
    "es = EarlyStopping(monitor='accuracy', patience=7)"
   ]
  },
  {
   "cell_type": "markdown",
   "metadata": {},
   "source": [
    "<p>Output a summary of our neural network to see how many trainable parameters there are</p>"
   ]
  },
  {
   "cell_type": "code",
   "execution_count": 48,
   "metadata": {},
   "outputs": [
    {
     "name": "stdout",
     "output_type": "stream",
     "text": [
      "Model: \"sequential_2\"\n",
      "_________________________________________________________________\n",
      " Layer (type)                Output Shape              Param #   \n",
      "=================================================================\n",
      " dense_6 (Dense)             (None, 30)                390       \n",
      "                                                                 \n",
      " dense_7 (Dense)             (None, 15)                465       \n",
      "                                                                 \n",
      " dense_8 (Dense)             (None, 2)                 32        \n",
      "                                                                 \n",
      "=================================================================\n",
      "Total params: 887\n",
      "Trainable params: 887\n",
      "Non-trainable params: 0\n",
      "_________________________________________________________________\n"
     ]
    }
   ],
   "source": [
    "model.summary()"
   ]
  },
  {
   "cell_type": "markdown",
   "metadata": {},
   "source": [
    "<p>Train the neural network</p>"
   ]
  },
  {
   "cell_type": "code",
   "execution_count": 49,
   "metadata": {},
   "outputs": [
    {
     "name": "stdout",
     "output_type": "stream",
     "text": [
      "Epoch 1/150\n",
      "3370/3370 [==============================] - 12s 4ms/step - loss: 0.3610 - accuracy: 0.8736\n",
      "Epoch 2/150\n",
      "3370/3370 [==============================] - 12s 4ms/step - loss: 0.3415 - accuracy: 0.8940\n",
      "Epoch 3/150\n",
      "3370/3370 [==============================] - 13s 4ms/step - loss: 0.3364 - accuracy: 0.8938\n",
      "Epoch 4/150\n",
      "3370/3370 [==============================] - 12s 3ms/step - loss: 0.3320 - accuracy: 0.8937\n",
      "Epoch 5/150\n",
      "3370/3370 [==============================] - 16s 5ms/step - loss: 0.3282 - accuracy: 0.8937\n",
      "Epoch 6/150\n",
      "3370/3370 [==============================] - 12s 4ms/step - loss: 0.3263 - accuracy: 0.8934\n",
      "Epoch 7/150\n",
      "3370/3370 [==============================] - 12s 3ms/step - loss: 0.3250 - accuracy: 0.8937\n",
      "Epoch 8/150\n",
      "3370/3370 [==============================] - 8s 2ms/step - loss: 0.3240 - accuracy: 0.8934\n",
      "Epoch 9/150\n",
      "3370/3370 [==============================] - 11s 3ms/step - loss: 0.3230 - accuracy: 0.8941\n",
      "Epoch 10/150\n",
      "3370/3370 [==============================] - 10s 3ms/step - loss: 0.3220 - accuracy: 0.8944\n",
      "Epoch 11/150\n",
      "3370/3370 [==============================] - 11s 3ms/step - loss: 0.3214 - accuracy: 0.8944\n",
      "Epoch 12/150\n",
      "3370/3370 [==============================] - 12s 3ms/step - loss: 0.3207 - accuracy: 0.8941\n",
      "Epoch 13/150\n",
      "3370/3370 [==============================] - 13s 4ms/step - loss: 0.3202 - accuracy: 0.8945\n",
      "Epoch 14/150\n",
      "3370/3370 [==============================] - 10s 3ms/step - loss: 0.3196 - accuracy: 0.8941\n",
      "Epoch 15/150\n",
      "3370/3370 [==============================] - 13s 4ms/step - loss: 0.3193 - accuracy: 0.8944\n",
      "Epoch 16/150\n",
      "3370/3370 [==============================] - 12s 4ms/step - loss: 0.3188 - accuracy: 0.8942\n",
      "Epoch 17/150\n",
      "3370/3370 [==============================] - 11s 3ms/step - loss: 0.3185 - accuracy: 0.8946\n",
      "Epoch 18/150\n",
      "3370/3370 [==============================] - 13s 4ms/step - loss: 0.3182 - accuracy: 0.8948\n",
      "Epoch 19/150\n",
      "3370/3370 [==============================] - 10s 3ms/step - loss: 0.3177 - accuracy: 0.8946\n",
      "Epoch 20/150\n",
      "3370/3370 [==============================] - 11s 3ms/step - loss: 0.3172 - accuracy: 0.8945\n",
      "Epoch 21/150\n",
      "3370/3370 [==============================] - 12s 4ms/step - loss: 0.3168 - accuracy: 0.8946\n",
      "Epoch 22/150\n",
      "3370/3370 [==============================] - 13s 4ms/step - loss: 0.3163 - accuracy: 0.8948\n",
      "Epoch 23/150\n",
      "3370/3370 [==============================] - 11s 3ms/step - loss: 0.3159 - accuracy: 0.8950\n",
      "Epoch 24/150\n",
      "3370/3370 [==============================] - 9s 3ms/step - loss: 0.3155 - accuracy: 0.8949\n",
      "Epoch 25/150\n",
      "3370/3370 [==============================] - 14s 4ms/step - loss: 0.3152 - accuracy: 0.8951\n",
      "Epoch 26/150\n",
      "3370/3370 [==============================] - 12s 3ms/step - loss: 0.3150 - accuracy: 0.8952\n",
      "Epoch 27/150\n",
      "3370/3370 [==============================] - 8s 2ms/step - loss: 0.3147 - accuracy: 0.8951\n",
      "Epoch 28/150\n",
      "3370/3370 [==============================] - 9s 3ms/step - loss: 0.3143 - accuracy: 0.8953\n",
      "Epoch 29/150\n",
      "3370/3370 [==============================] - 11s 3ms/step - loss: 0.3143 - accuracy: 0.8955\n",
      "Epoch 30/150\n",
      "3370/3370 [==============================] - 13s 4ms/step - loss: 0.3141 - accuracy: 0.8952\n",
      "Epoch 31/150\n",
      "3370/3370 [==============================] - 9s 3ms/step - loss: 0.3137 - accuracy: 0.8953\n",
      "Epoch 32/150\n",
      "3370/3370 [==============================] - 9s 3ms/step - loss: 0.3137 - accuracy: 0.8952\n",
      "Epoch 33/150\n",
      "3370/3370 [==============================] - 11s 3ms/step - loss: 0.3133 - accuracy: 0.8952\n",
      "Epoch 34/150\n",
      "3370/3370 [==============================] - 12s 4ms/step - loss: 0.3133 - accuracy: 0.8952\n",
      "Epoch 35/150\n",
      "3370/3370 [==============================] - 13s 4ms/step - loss: 0.3131 - accuracy: 0.8953\n",
      "Epoch 36/150\n",
      "3370/3370 [==============================] - 11s 3ms/step - loss: 0.3129 - accuracy: 0.8955\n"
     ]
    }
   ],
   "source": [
    "# fit the model\n",
    "h = model.fit(xTrain, y, epochs=150, batch_size=256, class_weight=class_weight, callbacks=[es])"
   ]
  },
  {
   "cell_type": "code",
   "execution_count": 50,
   "metadata": {},
   "outputs": [
    {
     "data": {
      "text/plain": [
       "Text(0.5, 0, 'Epoch')"
      ]
     },
     "execution_count": 50,
     "metadata": {},
     "output_type": "execute_result"
    },
    {
     "data": {
      "image/png": "[encoded data removed]",
      "text/plain": [
       "<Figure size 432x288 with 1 Axes>"
      ]
     },
     "metadata": {
      "needs_background": "light"
     },
     "output_type": "display_data"
    }
   ],
   "source": [
    "plt.plot( h.history['accuracy'] )\n",
    "plt.title('Training Accuracy')\n",
    "plt.ylabel('Accuracy')\n",
    "plt.xlabel('Epoch')"
   ]
  },
  {
   "cell_type": "code",
   "execution_count": 51,
   "metadata": {},
   "outputs": [],
   "source": [
    "model.save_weights(\"./nn_model.h5\")"
   ]
  },
  {
   "cell_type": "markdown",
   "metadata": {},
   "source": [
    "Evaluate the neural network on the test set"
   ]
  },
  {
   "cell_type": "code",
   "execution_count": 52,
   "metadata": {},
   "outputs": [
    {
     "name": "stdout",
     "output_type": "stream",
     "text": [
      "6739/6739 [==============================] - 12s 2ms/step - loss: 0.3013 - accuracy: 0.8936\n",
      "Accuracy on the test set: 0.8936\n"
     ]
    }
   ],
   "source": [
    "y = to_categorical(yTest)\n",
    "loss, acc = model.evaluate( xTest, y )\n",
    "print(\"Accuracy on the test set:\", np.round(acc,4))"
   ]
  },
  {
   "cell_type": "markdown",
   "metadata": {},
   "source": [
    "Use Balanced Accuracy and Micro F1 to get a better sense of how we did"
   ]
  },
  {
   "cell_type": "code",
   "execution_count": 53,
   "metadata": {},
   "outputs": [
    {
     "name": "stdout",
     "output_type": "stream",
     "text": [
      "6739/6739 [==============================] - 8s 1ms/step\n"
     ]
    },
    {
     "data": {
      "text/plain": [
       "215629"
      ]
     },
     "execution_count": 53,
     "metadata": {},
     "output_type": "execute_result"
    }
   ],
   "source": [
    "ps = model.predict(xTest)\n",
    "predictions = []\n",
    "for p in ps:\n",
    "    predictions.append( np.argmax( p ) )\n",
    "len(predictions)"
   ]
  },
  {
   "cell_type": "code",
   "execution_count": 54,
   "metadata": {},
   "outputs": [
    {
     "name": "stdout",
     "output_type": "stream",
     "text": [
      "Balanced Accuracy: 0.8744\n",
      "Micro F1: 0.8936\n"
     ]
    }
   ],
   "source": [
    "print( \"Balanced Accuracy:\", np.round( balanced_accuracy_score(yTest.values, predictions), 4 ))\n",
    "print( \"Micro F1:\", np.round( f1_score(yTest.values, predictions, average='micro'), 4 ))"
   ]
  },
  {
   "cell_type": "code",
   "execution_count": 55,
   "metadata": {},
   "outputs": [],
   "source": [
    "cm = confusion_matrix( yTest.values, predictions, normalize='true' )"
   ]
  },
  {
   "cell_type": "code",
   "execution_count": 56,
   "metadata": {
    "scrolled": true
   },
   "outputs": [
    {
     "data": {
      "text/plain": [
       "<sklearn.metrics._plot.confusion_matrix.ConfusionMatrixDisplay at 0x7ffafc1cc520>"
      ]
     },
     "execution_count": 56,
     "metadata": {},
     "output_type": "execute_result"
    },
    {
     "data": {
      "image/png": "[encoded data removed]",
      "text/plain": [
       "<Figure size 360x360 with 2 Axes>"
      ]
     },
     "metadata": {
      "needs_background": "light"
     },
     "output_type": "display_data"
    }
   ],
   "source": [
    "fig, ax = plt.subplots(figsize=(5, 5))\n",
    "disp = ConfusionMatrixDisplay( confusion_matrix=cm )\n",
    "disp.plot(ax=ax)"
   ]
  },
  {
   "cell_type": "markdown",
   "metadata": {},
   "source": [
    " "
   ]
  },
  {
   "cell_type": "markdown",
   "metadata": {},
   "source": [
    "## Feature Importance"
   ]
  },
  {
   "cell_type": "markdown",
   "metadata": {},
   "source": [
    "<p>Feature importance is a technique for assessing how important each of our input features are to making accurate predictions. Features with low importance do not contribute much (are not used/do not have much weight) to prediction accuracy. Low importance features can be ignored creating simpler more scalable machine learning modesl.</p>\n",
    "\n",
    "We use a technique called [Permutation Importance](https://scikit-learn.org/stable/modules/permutation_importance.html) in which features are randomly shuffled. If a column's values can be randomly shuffled and prediction accuracy does not decrease, then that feature has low importance.\n",
    "\n",
    "<p>We'll use our Random Forest model to demonstrate feature importance</p>"
   ]
  },
  {
   "cell_type": "code",
   "execution_count": 57,
   "metadata": {},
   "outputs": [
    {
     "name": "stdout",
     "output_type": "stream",
     "text": [
      "Elapsed time to compute the importances: 46.844 seconds\n"
     ]
    },
    {
     "data": {
      "image/png": "[encoded data removed]",
      "text/plain": [
       "<Figure size 432x288 with 1 Axes>"
      ]
     },
     "metadata": {
      "needs_background": "light"
     },
     "output_type": "display_data"
    }
   ],
   "source": [
    "start_time = time.time()\n",
    "result = permutation_importance(\n",
    "    rf, X_test, y_test, n_repeats=1, random_state=42, n_jobs=1\n",
    ")\n",
    "elapsed_time = time.time() - start_time\n",
    "print(f\"Elapsed time to compute the importances: {elapsed_time:.3f} seconds\")\n",
    "\n",
    "forest_importances = pd.Series(result.importances_mean, index=df.columns[:-1])\n",
    "\n",
    "fig, ax = plt.subplots()\n",
    "forest_importances.plot.bar(yerr=result.importances_std, ax=ax)\n",
    "ax.set_title(\"Feature importances using permutation method\")\n",
    "ax.set_ylabel(\"Mean accuracy decrease\")\n",
    "ax.set_yscale('log')\n",
    "fig.tight_layout()\n",
    "plt.show()"
   ]
  },
  {
   "cell_type": "markdown",
   "metadata": {},
   "source": [
    "The features 'HousingUnitsCounty', 'HousingDensityCounty', 'AgCount', 'CmCount', 'GvCount', 'EdCount', and 'InCount' have low importance. Let's retrain a smaller Random Forest model without those features"
   ]
  },
  {
   "cell_type": "markdown",
   "metadata": {},
   "source": [
    "### Remove features that are not important/helpful to simplify the model"
   ]
  },
  {
   "cell_type": "code",
   "execution_count": 58,
   "metadata": {},
   "outputs": [
    {
     "name": "stdout",
     "output_type": "stream",
     "text": [
      "Balanced Accuracy: 0.8482\n",
      "Micro F1: 0.9603\n",
      "\n",
      "Balanced Accuracy: 0.8477\n",
      "Micro F1: 0.9599\n",
      "\n",
      "Balanced Accuracy: 0.8498\n",
      "Micro F1: 0.9605\n",
      "\n",
      "Balanced Accuracy: 0.8435\n",
      "Micro F1: 0.9593\n",
      "\n",
      "Balanced Accuracy: 0.8464\n",
      "Micro F1: 0.9601\n",
      "\n",
      "Average Balanced Accuracy: 0.8471\n"
     ]
    }
   ],
   "source": [
    "kf = KFold( n_splits=5, shuffle=True, random_state=42 )\n",
    "rf = RandomForestClassifier(class_weight='balanced')\n",
    "\n",
    "X = rawDf.drop(['OrnlType', 'HousingUnitsCounty', 'HousingDensityCounty', 'AgCount', 'CmCount',\n",
    "                'GvCount', 'EdCount', 'InCount'], axis=1).values\n",
    "y = rawDf['OrnlType'].values\n",
    "\n",
    "accs = []\n",
    "for trainIndex, testIndex in kf.split(X):\n",
    "    X_train, X_test = X[trainIndex], X[testIndex]\n",
    "    y_train, y_test = y[trainIndex], y[testIndex]\n",
    "    rf.fit( X_train, y_train )\n",
    "    ba = np.round( balanced_accuracy_score(y_test, rf.predict(X_test)), 4 )\n",
    "    accs.append( ba )\n",
    "    print( \"Balanced Accuracy:\", ba)\n",
    "    print( \"Micro F1:\", np.round( f1_score(y_test, rf.predict(X_test), average='micro'), 4 ))\n",
    "    print()\n",
    "print( \"Average Balanced Accuracy:\", np.round(np.mean(accs),4) )"
   ]
  },
  {
   "cell_type": "markdown",
   "metadata": {},
   "source": [
    "Our average Balanced Accuracy from the previous Random Forest model using all the features was 85.48%. Our reduced model has accuracy of 84.71%. We can create a smaller model without much loss in accuracy."
   ]
  },
  {
   "cell_type": "code",
   "execution_count": 59,
   "metadata": {},
   "outputs": [],
   "source": [
    "with open('./rf_reduced_model.pkl', 'wb') as f:\n",
    "    pickle.dump(rf, f)"
   ]
  },
  {
   "cell_type": "markdown",
   "metadata": {},
   "source": [
    "## Strategies to deal with unbalanced classes"
   ]
  },
  {
   "cell_type": "markdown",
   "metadata": {},
   "source": [
    "Undersampling refers to a group of techniques designed to balance the class distribution. Undersampling techniques remove examples from the training dataset that belong to the majority class in order to better balance the class distribution. \n",
    "\n",
    "This is in contrast to oversampling, which involves adding examples to the minority class in an effort to reduce the class distribution imbalance.\n",
    "\n",
    "Near Miss refers to a collection of undersampling methods that select examples based on the distance of majority class examples to minority class examples.\n",
    "\n",
    "The approaches were proposed by Jianping Zhang and Inderjeet Mani in their 2003 paper [KNN Approach to Unbalanced Data Distributions: A Case Study Involving Information Extraction](https://www.site.uottawa.ca/~nat/Workshop2003/jzhang.pdf)\n",
    "\n",
    "There are three versions of the technique, named NearMiss-1, NearMiss-2, and NearMiss-3.\n",
    "\n",
    "* NearMiss-1 selects examples from the majority class that have the smallest average distance to the k closest examples from the minority class. \n",
    "* NearMiss-2 selects examples from the majority class that have the smallest average distance to the k furthest examples from the minority class. \n",
    "* NearMiss-3 involves selecting a given number of majority class examples for each example in the minority class that are closest.\n",
    "\n",
    "Distance is determined in feature space using Euclidean distance.\n",
    "\n",
    "We'll use NearMiss-3, which keeps majority class examples that are on the decision boundary."
   ]
  },
  {
   "cell_type": "code",
   "execution_count": 60,
   "metadata": {},
   "outputs": [],
   "source": [
    "from imblearn.under_sampling import NearMiss\n",
    "\n",
    "# define the undersampling method\n",
    "undersample = NearMiss( version=3, n_neighbors_ver3=5 )\n",
    "\n",
    "X = rawDf.drop(['OrnlType'], axis=1).values\n",
    "y = rawDf['OrnlType'].values\n",
    "\n",
    "# transform the dataset\n",
    "X, y = undersample.fit_resample( X, y )"
   ]
  },
  {
   "cell_type": "code",
   "execution_count": 61,
   "metadata": {},
   "outputs": [
    {
     "name": "stdout",
     "output_type": "stream",
     "text": [
      "Residential: 101453\n",
      "Other: 101453\n"
     ]
    }
   ],
   "source": [
    "ix = np.where( y == 1 )\n",
    "print( \"Residential:\", len(ix[0]) )\n",
    "\n",
    "ix = np.where( y == 0 )\n",
    "print( \"Other:\", len(ix[0]) )"
   ]
  },
  {
   "cell_type": "markdown",
   "metadata": {},
   "source": [
    "### Random Forest example of Near-Miss"
   ]
  },
  {
   "cell_type": "code",
   "execution_count": 62,
   "metadata": {},
   "outputs": [
    {
     "name": "stdout",
     "output_type": "stream",
     "text": [
      "Balanced Accuracy: 0.8426\n",
      "Micro F1: 0.8426\n",
      "\n",
      "Balanced Accuracy: 0.841\n",
      "Micro F1: 0.841\n",
      "\n",
      "Balanced Accuracy: 0.8396\n",
      "Micro F1: 0.8396\n",
      "\n",
      "Balanced Accuracy: 0.8393\n",
      "Micro F1: 0.8393\n",
      "\n",
      "Balanced Accuracy: 0.8386\n",
      "Micro F1: 0.8386\n",
      "\n",
      "Average Balanced Accuracy: 0.8402\n"
     ]
    }
   ],
   "source": [
    "kf = KFold( n_splits=5, shuffle=True, random_state=42 )\n",
    "rf = RandomForestClassifier(class_weight='balanced')\n",
    "\n",
    "accs = []\n",
    "for trainIndex, testIndex in kf.split(X):\n",
    "    X_train, X_test = X[trainIndex], X[testIndex]\n",
    "    y_train, y_test = y[trainIndex], y[testIndex]\n",
    "    rf.fit( X_train, y_train )\n",
    "    ba = np.round( balanced_accuracy_score(y_test, rf.predict(X_test)), 4 )\n",
    "    accs.append( ba )\n",
    "    print( \"Balanced Accuracy:\", ba)\n",
    "    print( \"Micro F1:\", np.round( f1_score(y_test, rf.predict(X_test), average='micro'), 4 ))\n",
    "    print()\n",
    "print( \"Average Balanced Accuracy:\", np.round(np.mean(accs),4) )"
   ]
  },
  {
   "cell_type": "markdown",
   "metadata": {},
   "source": [
    "Our average Balanced Accuracy from the original Random Forest model was 85.48%. The Balanced Accuracy using Near-Miss-3 and balanced classed results in an accuracy of 84%. This technique was not particularly helpful for our application."
   ]
  },
  {
   "cell_type": "code",
   "execution_count": 63,
   "metadata": {},
   "outputs": [],
   "source": [
    "with open('./rf_balanced_model.pkl', 'wb') as f:\n",
    "    pickle.dump(rf, f)"
   ]
  },
  {
   "cell_type": "markdown",
   "metadata": {},
   "source": [
    "### Threshold Moving"
   ]
  },
  {
   "cell_type": "markdown",
   "metadata": {},
   "source": [
    "Perhaps the simplest approach to handle a severe class imbalance is to change the decision threshold. Many classification algorithms will return a probability of class membership where all values equal or greater than a threshold are mapped to one class and all other values are mapped to the other class. The default of many algorithms is to set the threshold at 0.5. Threshold moving simply moves the threshold attempting to achieve higher accuracy."
   ]
  },
  {
   "cell_type": "code",
   "execution_count": 64,
   "metadata": {},
   "outputs": [
    {
     "name": "stdout",
     "output_type": "stream",
     "text": [
      "Fitting the model...\n",
      "Making predictions...\n",
      "Generating precision-recall curve...\n"
     ]
    }
   ],
   "source": [
    "from matplotlib import pyplot\n",
    "from sklearn.metrics import precision_recall_curve\n",
    "\n",
    "# generate dataset\n",
    "X = rawDf.drop(['OrnlType'], axis=1).values\n",
    "y = rawDf['OrnlType'].values\n",
    "\n",
    "# split into train/test sets\n",
    "trainX, testX, trainy, testy = train_test_split(X, y, test_size=0.2, random_state=2, stratify=y)\n",
    "\n",
    "# fit a model\n",
    "print(\"Fitting the model...\")\n",
    "model = RandomForestClassifier(class_weight='balanced')\n",
    "model.fit(trainX, trainy)\n",
    "\n",
    "# predict probabilities\n",
    "print(\"Making predictions...\")\n",
    "yhat = model.predict_proba(testX)\n",
    "\n",
    "# keep probabilities for the positive outcome only\n",
    "yhat = yhat[:, 1]\n",
    "\n",
    "# calculate precision-recall curve\n",
    "print(\"Generating precision-recall curve...\")\n",
    "precision, recall, thresholds = precision_recall_curve(testy, yhat)"
   ]
  },
  {
   "cell_type": "code",
   "execution_count": 65,
   "metadata": {},
   "outputs": [
    {
     "name": "stdout",
     "output_type": "stream",
     "text": [
      "Best Threshold=0.530000, F-Score=0.979\n"
     ]
    }
   ],
   "source": [
    "# convert to f score\n",
    "fscore = (2 * precision * recall) / (precision + recall)\n",
    "\n",
    "# locate the index of the largest f score\n",
    "ix = np.argmax(fscore)\n",
    "print('Best Threshold=%f, F-Score=%.3f' % (thresholds[ix], fscore[ix]))"
   ]
  },
  {
   "cell_type": "code",
   "execution_count": 66,
   "metadata": {},
   "outputs": [
    {
     "data": {
      "image/png": "[encoded data removed]",
      "text/plain": [
       "<Figure size 432x288 with 1 Axes>"
      ]
     },
     "metadata": {
      "needs_background": "light"
     },
     "output_type": "display_data"
    }
   ],
   "source": [
    "# plot the curve for the model\n",
    "no_skill = len(testy[testy==1]) / len(testy)\n",
    "pyplot.plot([0,1], [no_skill,no_skill], linestyle='--', label='No Skill')\n",
    "pyplot.plot(recall, precision, marker='.', label='Random Forest')\n",
    "pyplot.scatter(recall[ix], precision[ix], marker='o', color='black', label='Best')\n",
    "\n",
    "# axis labels\n",
    "pyplot.xlabel('Recall')\n",
    "pyplot.ylabel('Precision')\n",
    "pyplot.legend()\n",
    "\n",
    "# show the plot\n",
    "pyplot.show()"
   ]
  },
  {
   "cell_type": "markdown",
   "metadata": {},
   "source": [
    "Now that we've found the best threshold, what accuracy can we achieve with it?"
   ]
  },
  {
   "cell_type": "code",
   "execution_count": 67,
   "metadata": {},
   "outputs": [
    {
     "name": "stdout",
     "output_type": "stream",
     "text": [
      "Balanced Accuracy: 0.8617\n",
      "Micro F1: 0.9625\n"
     ]
    }
   ],
   "source": [
    "threshold = 0.53\n",
    "\n",
    "predicted_proba = model.predict_proba(testX)\n",
    "predicted = (predicted_proba [:,1] >= threshold).astype('int')\n",
    "\n",
    "ba = np.round( balanced_accuracy_score(testy, predicted), 4 )\n",
    "\n",
    "print( \"Balanced Accuracy:\", ba)\n",
    "print( \"Micro F1:\", np.round( f1_score(testy, predicted, average='micro'), 4 ))"
   ]
  },
  {
   "cell_type": "code",
   "execution_count": 68,
   "metadata": {},
   "outputs": [],
   "source": [
    "with open('./rf_model_threshold_moving.pkl', 'wb') as f:\n",
    "    pickle.dump(model, f)"
   ]
  },
  {
   "cell_type": "markdown",
   "metadata": {},
   "source": [
    " "
   ]
  },
  {
   "cell_type": "markdown",
   "metadata": {},
   "source": [
    "## Multi-class Classification"
   ]
  },
  {
   "cell_type": "markdown",
   "metadata": {},
   "source": [
    "What does all of this look like if we want to do multi-class classification instead of binary classification? Let's look at trying to classify a building as \"Residential\", \"Commercial\", or \"Industrial\"."
   ]
  },
  {
   "cell_type": "code",
   "execution_count": 70,
   "metadata": {},
   "outputs": [
    {
     "name": "stdout",
     "output_type": "stream",
     "text": [
      "\n",
      "Residential    976690\n",
      "Commercial      64029\n",
      "Industrial      16722\n",
      "Name: OrnlType, dtype: int64\n",
      "\n"
     ]
    }
   ],
   "source": [
    "# read into a Pandas dataframe\n",
    "rawDf = pd.read_csv( url, compression=\"zip\" )\n",
    "\n",
    "# ignore first few columns, which are FIPs codes, not needed for ML\n",
    "rawDf = rawDf.iloc[:, 3:] \n",
    "\n",
    "# drop the rows we don't need\n",
    "rawDf = rawDf[ rawDf['OrnlType'] != 'Assembly' ]\n",
    "rawDf = rawDf[ rawDf['OrnlType'] != 'Education' ]\n",
    "rawDf = rawDf[ rawDf['OrnlType'] != 'Government' ]\n",
    "rawDf = rawDf[ rawDf['OrnlType'] != 'Agriculture' ]\n",
    "rawDf = rawDf[ rawDf['OrnlType'] != 'Utility and Misc' ]\n",
    "\n",
    "# building type distributions\n",
    "print()\n",
    "print( rawDf['OrnlType'].value_counts() )\n",
    "print()"
   ]
  },
  {
   "cell_type": "code",
   "execution_count": 71,
   "metadata": {},
   "outputs": [
    {
     "name": "stdout",
     "output_type": "stream",
     "text": [
      "\n",
      "Residential     1.000000\n",
      "Commercial     15.253869\n",
      "Industrial     58.407487\n",
      "Name: OrnlType, dtype: float64\n",
      "\n"
     ]
    }
   ],
   "source": [
    "# building type distributions\n",
    "print()\n",
    "print( 976690/rawDf['OrnlType'].value_counts() )\n",
    "print()"
   ]
  },
  {
   "cell_type": "markdown",
   "metadata": {},
   "source": [
    "## Preprocess"
   ]
  },
  {
   "cell_type": "code",
   "execution_count": 72,
   "metadata": {},
   "outputs": [],
   "source": [
    "rawDf = rawDf.sample(frac=1) # shuffle the dataframe (technically, we randomly resample the entire df)\n",
    "\n",
    "rawDf = rawDf.dropna()\n",
    "\n",
    "nCols = rawDf.shape[1]\n",
    "le = preprocessing.LabelEncoder()\n",
    "le.fit( rawDf.iloc[:, nCols-1] ) # ornl type\n",
    "rawDf.iloc[:, nCols-1] = le.transform( rawDf.iloc[:, nCols-1] )\n",
    "    \n",
    "le2 = preprocessing.LabelEncoder()\n",
    "le2.fit( rawDf.iloc[:, nCols-2] ) # nearest road type\n",
    "rawDf.iloc[:, nCols-2] = le2.transform( rawDf.iloc[:, nCols-2] )"
   ]
  },
  {
   "cell_type": "code",
   "execution_count": 73,
   "metadata": {},
   "outputs": [
    {
     "data": {
      "text/html": [
       "<div>\n",
       "<style scoped>\n",
       "    .dataframe tbody tr th:only-of-type {\n",
       "        vertical-align: middle;\n",
       "    }\n",
       "\n",
       "    .dataframe tbody tr th {\n",
       "        vertical-align: top;\n",
       "    }\n",
       "\n",
       "    .dataframe thead th {\n",
       "        text-align: right;\n",
       "    }\n",
       "</style>\n",
       "<table border=\"1\" class=\"dataframe\">\n",
       "  <thead>\n",
       "    <tr style=\"text-align: right;\">\n",
       "      <th></th>\n",
       "      <th>X</th>\n",
       "      <th>Y</th>\n",
       "      <th>Area</th>\n",
       "      <th>MedianIncomeCounty</th>\n",
       "      <th>HousingUnitsCounty</th>\n",
       "      <th>HousingDensityCounty</th>\n",
       "      <th>Impervious</th>\n",
       "      <th>AgCount</th>\n",
       "      <th>CmCount</th>\n",
       "      <th>GvCount</th>\n",
       "      <th>EdCount</th>\n",
       "      <th>InCount</th>\n",
       "      <th>OsmNearestRoad</th>\n",
       "      <th>OrnlType</th>\n",
       "    </tr>\n",
       "  </thead>\n",
       "  <tbody>\n",
       "    <tr>\n",
       "      <th>854989</th>\n",
       "      <td>-78.353565</td>\n",
       "      <td>35.787454</td>\n",
       "      <td>142.97180</td>\n",
       "      <td>41189.0</td>\n",
       "      <td>462582.0</td>\n",
       "      <td>0.409578</td>\n",
       "      <td>13.000000</td>\n",
       "      <td>119</td>\n",
       "      <td>105723</td>\n",
       "      <td>30</td>\n",
       "      <td>2778</td>\n",
       "      <td>17780</td>\n",
       "      <td>4</td>\n",
       "      <td>2</td>\n",
       "    </tr>\n",
       "    <tr>\n",
       "      <th>640627</th>\n",
       "      <td>-80.838009</td>\n",
       "      <td>35.090417</td>\n",
       "      <td>144.35040</td>\n",
       "      <td>36443.0</td>\n",
       "      <td>478966.0</td>\n",
       "      <td>0.429380</td>\n",
       "      <td>16.500000</td>\n",
       "      <td>38</td>\n",
       "      <td>118034</td>\n",
       "      <td>39</td>\n",
       "      <td>2607</td>\n",
       "      <td>17352</td>\n",
       "      <td>4</td>\n",
       "      <td>2</td>\n",
       "    </tr>\n",
       "    <tr>\n",
       "      <th>3356</th>\n",
       "      <td>-80.644398</td>\n",
       "      <td>35.497824</td>\n",
       "      <td>100.35720</td>\n",
       "      <td>34297.0</td>\n",
       "      <td>87410.0</td>\n",
       "      <td>0.387106</td>\n",
       "      <td>44.500000</td>\n",
       "      <td>19</td>\n",
       "      <td>14422</td>\n",
       "      <td>6</td>\n",
       "      <td>289</td>\n",
       "      <td>3751</td>\n",
       "      <td>4</td>\n",
       "      <td>2</td>\n",
       "    </tr>\n",
       "    <tr>\n",
       "      <th>385683</th>\n",
       "      <td>-79.841620</td>\n",
       "      <td>36.104306</td>\n",
       "      <td>302.60880</td>\n",
       "      <td>30173.0</td>\n",
       "      <td>232277.0</td>\n",
       "      <td>0.429110</td>\n",
       "      <td>17.666667</td>\n",
       "      <td>21</td>\n",
       "      <td>45798</td>\n",
       "      <td>18</td>\n",
       "      <td>915</td>\n",
       "      <td>8411</td>\n",
       "      <td>4</td>\n",
       "      <td>2</td>\n",
       "    </tr>\n",
       "    <tr>\n",
       "      <th>12403</th>\n",
       "      <td>-80.583287</td>\n",
       "      <td>35.310694</td>\n",
       "      <td>223.99749</td>\n",
       "      <td>34297.0</td>\n",
       "      <td>87410.0</td>\n",
       "      <td>0.387106</td>\n",
       "      <td>93.000000</td>\n",
       "      <td>19</td>\n",
       "      <td>14422</td>\n",
       "      <td>6</td>\n",
       "      <td>289</td>\n",
       "      <td>3751</td>\n",
       "      <td>4</td>\n",
       "      <td>2</td>\n",
       "    </tr>\n",
       "  </tbody>\n",
       "</table>\n",
       "</div>"
      ],
      "text/plain": [
       "                X          Y       Area  MedianIncomeCounty  \\\n",
       "854989 -78.353565  35.787454  142.97180             41189.0   \n",
       "640627 -80.838009  35.090417  144.35040             36443.0   \n",
       "3356   -80.644398  35.497824  100.35720             34297.0   \n",
       "385683 -79.841620  36.104306  302.60880             30173.0   \n",
       "12403  -80.583287  35.310694  223.99749             34297.0   \n",
       "\n",
       "        HousingUnitsCounty  HousingDensityCounty  Impervious  AgCount  \\\n",
       "854989            462582.0              0.409578   13.000000      119   \n",
       "640627            478966.0              0.429380   16.500000       38   \n",
       "3356               87410.0              0.387106   44.500000       19   \n",
       "385683            232277.0              0.429110   17.666667       21   \n",
       "12403              87410.0              0.387106   93.000000       19   \n",
       "\n",
       "        CmCount  GvCount  EdCount  InCount  OsmNearestRoad  OrnlType  \n",
       "854989   105723       30     2778    17780               4         2  \n",
       "640627   118034       39     2607    17352               4         2  \n",
       "3356      14422        6      289     3751               4         2  \n",
       "385683    45798       18      915     8411               4         2  \n",
       "12403     14422        6      289     3751               4         2  "
      ]
     },
     "execution_count": 73,
     "metadata": {},
     "output_type": "execute_result"
    }
   ],
   "source": [
    "rawDf.head()"
   ]
  },
  {
   "cell_type": "markdown",
   "metadata": {},
   "source": [
    "## Random Forest Multiclass Classifier"
   ]
  },
  {
   "cell_type": "code",
   "execution_count": 74,
   "metadata": {},
   "outputs": [
    {
     "name": "stdout",
     "output_type": "stream",
     "text": [
      "Balanced Accuracy: 0.7031\n",
      "Micro F1: 0.9637\n",
      "\n",
      "Balanced Accuracy: 0.6995\n",
      "Micro F1: 0.9637\n",
      "\n",
      "Balanced Accuracy: 0.7036\n",
      "Micro F1: 0.9633\n",
      "\n",
      "Balanced Accuracy: 0.7031\n",
      "Micro F1: 0.9633\n",
      "\n",
      "Balanced Accuracy: 0.7011\n",
      "Micro F1: 0.9639\n",
      "\n",
      "Average Balanced Accuracy: 0.7021\n"
     ]
    }
   ],
   "source": [
    "kf = KFold( n_splits=5, shuffle=True, random_state=42 )\n",
    "rf = RandomForestClassifier(class_weight='balanced')\n",
    "\n",
    "X = rawDf.drop(['OrnlType'], axis=1).values\n",
    "y = rawDf['OrnlType'].values\n",
    "\n",
    "accs = []\n",
    "for trainIndex, testIndex in kf.split(X):\n",
    "    X_train, X_test = X[trainIndex], X[testIndex]\n",
    "    y_train, y_test = y[trainIndex], y[testIndex]\n",
    "    rf.fit( X_train, y_train )\n",
    "    ba = np.round( balanced_accuracy_score(y_test, rf.predict(X_test)), 4 )\n",
    "    accs.append( ba )\n",
    "    print( \"Balanced Accuracy:\", ba)\n",
    "    print( \"Micro F1:\", np.round( f1_score(y_test, rf.predict(X_test), average='micro'), 4 ))\n",
    "    print()\n",
    "print( \"Average Balanced Accuracy:\", np.round(np.mean(accs),4) )"
   ]
  },
  {
   "cell_type": "code",
   "execution_count": 75,
   "metadata": {},
   "outputs": [],
   "source": [
    "with open('./rf_model_multi.pkl', 'wb') as f:\n",
    "    pickle.dump(rf, f)"
   ]
  },
  {
   "cell_type": "code",
   "execution_count": 76,
   "metadata": {},
   "outputs": [],
   "source": [
    "predictions = rf.predict(X_test)\n",
    "cm = confusion_matrix( y_test, predictions, normalize='true' )"
   ]
  },
  {
   "cell_type": "code",
   "execution_count": 77,
   "metadata": {},
   "outputs": [
    {
     "data": {
      "text/plain": [
       "<sklearn.metrics._plot.confusion_matrix.ConfusionMatrixDisplay at 0x7ffaf383ed10>"
      ]
     },
     "execution_count": 77,
     "metadata": {},
     "output_type": "execute_result"
    },
    {
     "data": {
      "image/png": "[encoded data removed]",
      "text/plain": [
       "<Figure size 720x720 with 2 Axes>"
      ]
     },
     "metadata": {
      "needs_background": "light"
     },
     "output_type": "display_data"
    }
   ],
   "source": [
    "fig, ax = plt.subplots(figsize=(10, 10))\n",
    "disp = ConfusionMatrixDisplay( confusion_matrix=cm, display_labels=rf.classes_)\n",
    "disp.plot(ax=ax)"
   ]
  },
  {
   "cell_type": "code",
   "execution_count": 79,
   "metadata": {},
   "outputs": [
    {
     "data": {
      "text/plain": [
       "array(['Commercial', 'Industrial', 'Residential'], dtype=object)"
      ]
     },
     "execution_count": 79,
     "metadata": {},
     "output_type": "execute_result"
    }
   ],
   "source": [
    "le.inverse_transform( np.arange(0,3,1) )"
   ]
  },
  {
   "cell_type": "code",
   "execution_count": 80,
   "metadata": {},
   "outputs": [
    {
     "name": "stdout",
     "output_type": "stream",
     "text": [
      "Elapsed time to compute the importances: 42.437 seconds\n"
     ]
    },
    {
     "data": {
      "image/png": "[encoded data removed]",
      "text/plain": [
       "<Figure size 432x288 with 1 Axes>"
      ]
     },
     "metadata": {
      "needs_background": "light"
     },
     "output_type": "display_data"
    }
   ],
   "source": [
    "start_time = time.time()\n",
    "result = permutation_importance(\n",
    "    rf, X_test, y_test, n_repeats=1, random_state=42, n_jobs=1\n",
    ")\n",
    "elapsed_time = time.time() - start_time\n",
    "print(f\"Elapsed time to compute the importances: {elapsed_time:.3f} seconds\")\n",
    "\n",
    "forest_importances = pd.Series(result.importances_mean, index=df.columns[:-1])\n",
    "\n",
    "fig, ax = plt.subplots()\n",
    "forest_importances.plot.bar(yerr=result.importances_std, ax=ax)\n",
    "ax.set_title(\"Feature importances using permutation method\")\n",
    "ax.set_ylabel(\"Mean accuracy decrease\")\n",
    "ax.set_yscale('log')\n",
    "fig.tight_layout()\n",
    "plt.show()"
   ]
  },
  {
   "cell_type": "markdown",
   "metadata": {},
   "source": [
    " "
   ]
  },
  {
   "cell_type": "markdown",
   "metadata": {},
   "source": [
    "## One-vs-One Classification"
   ]
  },
  {
   "cell_type": "markdown",
   "metadata": {},
   "source": [
    "One-vs-One is a multi-class classification strategy for dealing with unbalanced classes. The One-vs-One strategy splits a multi-class classification into one binary classification problem per each pair of classes, e.g. Residentail vs. Commercial, Residential vs. Industrial, Commercial vs. Industrial. The final class assignment is determined by aggregating the results of the binary classifiers."
   ]
  },
  {
   "cell_type": "code",
   "execution_count": 86,
   "metadata": {},
   "outputs": [
    {
     "name": "stdout",
     "output_type": "stream",
     "text": [
      "Training Size: (845952, 12)\n",
      "Testing Size: (211488, 12)\n"
     ]
    }
   ],
   "source": [
    "train, test = train_test_split(rawDf, test_size=0.2, random_state=42, stratify=rawDf[['OrnlType']])\n",
    "\n",
    "nCols = test.shape[1]\n",
    "xTest = test.iloc[:, :nCols-2]\n",
    "yTest = test.iloc[:, nCols-1]\n",
    "\n",
    "xTrain = train.iloc[:, :nCols-2]\n",
    "yTrain = train.iloc[:, nCols-1]\n",
    "\n",
    "print(\"Training Size:\", xTrain.shape)\n",
    "print(\"Testing Size:\", xTest.shape)"
   ]
  },
  {
   "cell_type": "code",
   "execution_count": 87,
   "metadata": {},
   "outputs": [
    {
     "name": "stdout",
     "output_type": "stream",
     "text": [
      "Balanced Accuracy: 0.6694\n",
      "Micro F1: 0.9589\n"
     ]
    }
   ],
   "source": [
    "from sklearn.multiclass import OneVsOneClassifier\n",
    "\n",
    "# define model\n",
    "rf = RandomForestClassifier(class_weight='balanced')\n",
    "\n",
    "# define ovo strategy\n",
    "ovo = OneVsOneClassifier(rf)\n",
    "ovo.fit( xTrain, yTrain )\n",
    "    \n",
    "# make predictions\n",
    "yhat = ovo.predict(xTest)\n",
    "\n",
    "ba = np.round( balanced_accuracy_score(yTest, yhat), 4 )\n",
    "print( \"Balanced Accuracy:\", ba)\n",
    "print( \"Micro F1:\", np.round( f1_score(yTest, yhat, average='micro'), 4 ))"
   ]
  },
  {
   "cell_type": "markdown",
   "metadata": {},
   "source": [
    "## One-vs-Rest Classification"
   ]
  },
  {
   "cell_type": "markdown",
   "metadata": {},
   "source": [
    "The One-vs-Rest strategy is a related approach for dealing with multi-class imbalance. Here, fewer models are created. There is one binary classification problem per class, e.g. Residentail vs. Rest, Commercial vs. Rest, Industrial vs. Rest."
   ]
  },
  {
   "cell_type": "code",
   "execution_count": 89,
   "metadata": {},
   "outputs": [
    {
     "name": "stdout",
     "output_type": "stream",
     "text": [
      "Balanced Accuracy: 0.6729\n",
      "Micro F1: 0.959\n"
     ]
    }
   ],
   "source": [
    "from sklearn.multiclass import OneVsRestClassifier\n",
    "\n",
    "# define model\n",
    "rf = RandomForestClassifier(class_weight='balanced')\n",
    "\n",
    "# define ovr strategy\n",
    "ovr = OneVsRestClassifier(rf)\n",
    "ovr.fit( xTrain, yTrain )\n",
    "    \n",
    "# make predictions\n",
    "yhat = ovr.predict(xTest)\n",
    "\n",
    "ba = np.round( balanced_accuracy_score(yTest, yhat), 4 )\n",
    "print( \"Balanced Accuracy:\", ba)\n",
    "print( \"Micro F1:\", np.round( f1_score(yTest, yhat, average='micro'), 4 ))"
   ]
  },
  {
   "cell_type": "markdown",
   "metadata": {},
   "source": [
    "## KNN for multiclass classification"
   ]
  },
  {
   "cell_type": "code",
   "execution_count": 90,
   "metadata": {},
   "outputs": [],
   "source": [
    "df = rawDf.copy( deep=True ) # make a copy of the dataframe used in random forest\n",
    "\n",
    "# preprocess the data - scaling\n",
    "scaler = preprocessing.StandardScaler()\n",
    "    \n",
    "# columns: StateFips, CountyFips, StateCountyFips,\n",
    "#          X, Y, Area, MedianIncomeCounty, HousingUnitsCounty,\n",
    "#          HousingDensityCounty, Impervious, AgCount, CmCount,\n",
    "#          GvCount, EdCount, InCount, OsmNearestRoad, OrnlType\n",
    "columns = ['X', 'Y', 'Area', 'MedianIncomeCounty', \n",
    "           'HousingUnitsCounty', 'HousingDensityCounty',\n",
    "           'Impervious', 'AgCount', 'CmCount', 'GvCount',\n",
    "           'EdCount', 'InCount']\n",
    "df[columns] = scaler.fit_transform(df[columns])\n",
    "\n",
    "\n",
    "# preprossing - drop rows with NaN values\n",
    "df = df.dropna()\n",
    "    \n",
    "# preprocessing - change output labels from text ('Agriculture') to integers\n",
    "nCols = df.shape[1]\n",
    "le = preprocessing.LabelEncoder()\n",
    "le.fit( df.iloc[:, nCols-1] )\n",
    "df.iloc[:, nCols-1] = le.transform( df.iloc[:, nCols-1] )\n",
    "        \n",
    "# preprocessing - change output labels of nearest road type from text to integers\n",
    "le2 = preprocessing.LabelEncoder()\n",
    "le2.fit( df.iloc[:, nCols-2] ) \n",
    "df.iloc[:, nCols-2] = le2.transform( df.iloc[:, nCols-2] )"
   ]
  },
  {
   "cell_type": "code",
   "execution_count": 91,
   "metadata": {},
   "outputs": [
    {
     "data": {
      "text/html": [
       "<div>\n",
       "<style scoped>\n",
       "    .dataframe tbody tr th:only-of-type {\n",
       "        vertical-align: middle;\n",
       "    }\n",
       "\n",
       "    .dataframe tbody tr th {\n",
       "        vertical-align: top;\n",
       "    }\n",
       "\n",
       "    .dataframe thead th {\n",
       "        text-align: right;\n",
       "    }\n",
       "</style>\n",
       "<table border=\"1\" class=\"dataframe\">\n",
       "  <thead>\n",
       "    <tr style=\"text-align: right;\">\n",
       "      <th></th>\n",
       "      <th>X</th>\n",
       "      <th>Y</th>\n",
       "      <th>Area</th>\n",
       "      <th>MedianIncomeCounty</th>\n",
       "      <th>HousingUnitsCounty</th>\n",
       "      <th>HousingDensityCounty</th>\n",
       "      <th>Impervious</th>\n",
       "      <th>AgCount</th>\n",
       "      <th>CmCount</th>\n",
       "      <th>GvCount</th>\n",
       "      <th>EdCount</th>\n",
       "      <th>InCount</th>\n",
       "      <th>OsmNearestRoad</th>\n",
       "      <th>OrnlType</th>\n",
       "    </tr>\n",
       "  </thead>\n",
       "  <tbody>\n",
       "    <tr>\n",
       "      <th>854989</th>\n",
       "      <td>1.096412</td>\n",
       "      <td>0.595195</td>\n",
       "      <td>-0.183983</td>\n",
       "      <td>1.299877</td>\n",
       "      <td>0.954782</td>\n",
       "      <td>-0.334340</td>\n",
       "      <td>-0.886254</td>\n",
       "      <td>1.660125</td>\n",
       "      <td>0.871075</td>\n",
       "      <td>0.633792</td>\n",
       "      <td>1.089096</td>\n",
       "      <td>1.033296</td>\n",
       "      <td>4</td>\n",
       "      <td>2</td>\n",
       "    </tr>\n",
       "    <tr>\n",
       "      <th>640627</th>\n",
       "      <td>-1.030308</td>\n",
       "      <td>-0.829443</td>\n",
       "      <td>-0.182778</td>\n",
       "      <td>0.327283</td>\n",
       "      <td>1.042954</td>\n",
       "      <td>0.041094</td>\n",
       "      <td>-0.727841</td>\n",
       "      <td>-0.343048</td>\n",
       "      <td>1.131002</td>\n",
       "      <td>1.269076</td>\n",
       "      <td>0.940354</td>\n",
       "      <td>0.970872</td>\n",
       "      <td>4</td>\n",
       "      <td>2</td>\n",
       "    </tr>\n",
       "    <tr>\n",
       "      <th>3356</th>\n",
       "      <td>-0.864574</td>\n",
       "      <td>0.003236</td>\n",
       "      <td>-0.221242</td>\n",
       "      <td>-0.112496</td>\n",
       "      <td>-1.064237</td>\n",
       "      <td>-0.760414</td>\n",
       "      <td>0.539460</td>\n",
       "      <td>-0.812929</td>\n",
       "      <td>-1.056596</td>\n",
       "      <td>-1.060298</td>\n",
       "      <td>-1.075929</td>\n",
       "      <td>-1.012826</td>\n",
       "      <td>4</td>\n",
       "      <td>2</td>\n",
       "    </tr>\n",
       "    <tr>\n",
       "      <th>385683</th>\n",
       "      <td>-0.177385</td>\n",
       "      <td>1.242792</td>\n",
       "      <td>-0.044408</td>\n",
       "      <td>-0.957624</td>\n",
       "      <td>-0.284623</td>\n",
       "      <td>0.035976</td>\n",
       "      <td>-0.675037</td>\n",
       "      <td>-0.763467</td>\n",
       "      <td>-0.394143</td>\n",
       "      <td>-0.213253</td>\n",
       "      <td>-0.531411</td>\n",
       "      <td>-0.333167</td>\n",
       "      <td>4</td>\n",
       "      <td>2</td>\n",
       "    </tr>\n",
       "    <tr>\n",
       "      <th>12403</th>\n",
       "      <td>-0.812262</td>\n",
       "      <td>-0.379229</td>\n",
       "      <td>-0.113140</td>\n",
       "      <td>-0.112496</td>\n",
       "      <td>-1.064237</td>\n",
       "      <td>-0.760414</td>\n",
       "      <td>2.734606</td>\n",
       "      <td>-0.812929</td>\n",
       "      <td>-1.056596</td>\n",
       "      <td>-1.060298</td>\n",
       "      <td>-1.075929</td>\n",
       "      <td>-1.012826</td>\n",
       "      <td>4</td>\n",
       "      <td>2</td>\n",
       "    </tr>\n",
       "  </tbody>\n",
       "</table>\n",
       "</div>"
      ],
      "text/plain": [
       "               X         Y      Area  MedianIncomeCounty  HousingUnitsCounty  \\\n",
       "854989  1.096412  0.595195 -0.183983            1.299877            0.954782   \n",
       "640627 -1.030308 -0.829443 -0.182778            0.327283            1.042954   \n",
       "3356   -0.864574  0.003236 -0.221242           -0.112496           -1.064237   \n",
       "385683 -0.177385  1.242792 -0.044408           -0.957624           -0.284623   \n",
       "12403  -0.812262 -0.379229 -0.113140           -0.112496           -1.064237   \n",
       "\n",
       "        HousingDensityCounty  Impervious   AgCount   CmCount   GvCount  \\\n",
       "854989             -0.334340   -0.886254  1.660125  0.871075  0.633792   \n",
       "640627              0.041094   -0.727841 -0.343048  1.131002  1.269076   \n",
       "3356               -0.760414    0.539460 -0.812929 -1.056596 -1.060298   \n",
       "385683              0.035976   -0.675037 -0.763467 -0.394143 -0.213253   \n",
       "12403              -0.760414    2.734606 -0.812929 -1.056596 -1.060298   \n",
       "\n",
       "         EdCount   InCount  OsmNearestRoad  OrnlType  \n",
       "854989  1.089096  1.033296               4         2  \n",
       "640627  0.940354  0.970872               4         2  \n",
       "3356   -1.075929 -1.012826               4         2  \n",
       "385683 -0.531411 -0.333167               4         2  \n",
       "12403  -1.075929 -1.012826               4         2  "
      ]
     },
     "execution_count": 91,
     "metadata": {},
     "output_type": "execute_result"
    }
   ],
   "source": [
    "df.head()"
   ]
  },
  {
   "cell_type": "code",
   "execution_count": 93,
   "metadata": {},
   "outputs": [
    {
     "name": "stdout",
     "output_type": "stream",
     "text": [
      "K: 3\n",
      "  Fold: 1\n",
      "  Balanced Accuracy: 0.6264\n",
      "  Micro F1: 0.9504\n",
      "  Fold: 2\n",
      "  Balanced Accuracy: 0.6234\n",
      "  Micro F1: 0.9504\n",
      "  Fold: 3\n",
      "  Balanced Accuracy: 0.6306\n",
      "  Micro F1: 0.9502\n",
      "  Fold: 4\n",
      "  Balanced Accuracy: 0.6233\n",
      "  Micro F1: 0.9492\n",
      "  Fold: 5\n",
      "  Balanced Accuracy: 0.6261\n",
      "  Micro F1: 0.9504\n",
      "Average Balance Accuracy: 0.626\n",
      "\n",
      "K: 5\n",
      "  Fold: 1\n",
      "  Balanced Accuracy: 0.6281\n",
      "  Micro F1: 0.9519\n",
      "  Fold: 2\n",
      "  Balanced Accuracy: 0.6285\n",
      "  Micro F1: 0.9523\n",
      "  Fold: 3\n",
      "  Balanced Accuracy: 0.6301\n",
      "  Micro F1: 0.9515\n",
      "  Fold: 4\n",
      "  Balanced Accuracy: 0.6243\n",
      "  Micro F1: 0.9511\n",
      "  Fold: 5\n",
      "  Balanced Accuracy: 0.6243\n",
      "  Micro F1: 0.952\n",
      "Average Balance Accuracy: 0.6271\n",
      "\n",
      "K: 7\n",
      "  Fold: 1\n",
      "  Balanced Accuracy: 0.6236\n",
      "  Micro F1: 0.9526\n",
      "  Fold: 2\n",
      "  Balanced Accuracy: 0.6243\n",
      "  Micro F1: 0.9532\n",
      "  Fold: 3\n",
      "  Balanced Accuracy: 0.6236\n",
      "  Micro F1: 0.9524\n",
      "  Fold: 4\n",
      "  Balanced Accuracy: 0.6196\n",
      "  Micro F1: 0.9521\n",
      "  Fold: 5\n",
      "  Balanced Accuracy: 0.618\n",
      "  Micro F1: 0.9528\n",
      "Average Balance Accuracy: 0.6218\n",
      "\n",
      "K: 9\n",
      "  Fold: 1\n",
      "  Balanced Accuracy: 0.6207\n",
      "  Micro F1: 0.9531\n",
      "  Fold: 2\n",
      "  Balanced Accuracy: 0.6205\n",
      "  Micro F1: 0.9536\n",
      "  Fold: 3\n",
      "  Balanced Accuracy: 0.6188\n",
      "  Micro F1: 0.9527\n",
      "  Fold: 4\n",
      "  Balanced Accuracy: 0.6188\n",
      "  Micro F1: 0.9527\n",
      "  Fold: 5\n",
      "  Balanced Accuracy: 0.6134\n",
      "  Micro F1: 0.9533\n",
      "Average Balance Accuracy: 0.6184\n",
      "\n"
     ]
    }
   ],
   "source": [
    "kf = KFold( n_splits=5, shuffle=True, random_state=42 )\n",
    "\n",
    "X = df.drop(['OrnlType'], axis=1).values\n",
    "y = df['OrnlType'].values\n",
    "\n",
    "ks = [3,5,7,9]\n",
    "for k in ks:\n",
    "    fold = 1\n",
    "    accs = []\n",
    "    print( \"K:\", k )\n",
    "    for trainIndex, testIndex in kf.split(X):\n",
    "        X_train, X_test = X[trainIndex], X[testIndex]\n",
    "        y_train, y_test = y[trainIndex], y[testIndex]\n",
    "        knn = KNeighborsClassifier(n_neighbors=k)\n",
    "        knn.fit( X_train, y_train )\n",
    "        predictions = knn.predict(X_test)\n",
    "        ba = np.round( balanced_accuracy_score(y_test, predictions), 4 )\n",
    "        print( \"  Fold:\", fold )\n",
    "        print( \"  Balanced Accuracy:\", ba )\n",
    "        print( \"  Micro F1:\", np.round( f1_score(y_test, predictions, average='micro'), 4 ))\n",
    "        accs.append( ba )\n",
    "        fold += 1\n",
    "    print( \"Average Balance Accuracy:\", np.round(np.mean(accs),4) )\n",
    "    print()"
   ]
  },
  {
   "cell_type": "markdown",
   "metadata": {},
   "source": [
    "### K-NN with One-vs-One and One-vs-Rest "
   ]
  },
  {
   "cell_type": "code",
   "execution_count": 94,
   "metadata": {},
   "outputs": [
    {
     "name": "stdout",
     "output_type": "stream",
     "text": [
      "One-vs-One:\n",
      "  Balanced Accuracy: 0.5669\n",
      "  Micro F1: 0.9432\n",
      "\n",
      "One-vs-Rest:\n",
      "  Balanced Accuracy: 0.5635\n",
      "  Micro F1: 0.9423\n"
     ]
    }
   ],
   "source": [
    "# define model\n",
    "knn = KNeighborsClassifier(n_neighbors=5)\n",
    "\n",
    "# define ovo strategy\n",
    "ovo = OneVsOneClassifier(knn)\n",
    "ovo.fit( xTrain, yTrain )\n",
    "    \n",
    "# make predictions\n",
    "yhat = ovo.predict(xTest)\n",
    "\n",
    "ba = np.round( balanced_accuracy_score(yTest, yhat), 4 )\n",
    "print( \"One-vs-One:\")\n",
    "print( \"  Balanced Accuracy:\", ba)\n",
    "print( \"  Micro F1:\", np.round( f1_score(yTest, yhat, average='micro'), 4 ))\n",
    "print()\n",
    "\n",
    "# define ovr strategy\n",
    "ovr = OneVsRestClassifier(knn)\n",
    "ovr.fit( xTrain, yTrain )\n",
    "    \n",
    "# make predictions\n",
    "yhat = ovr.predict(xTest)\n",
    "\n",
    "ba = np.round( balanced_accuracy_score(yTest, yhat), 4 )\n",
    "print( \"One-vs-Rest:\" )\n",
    "print( \"  Balanced Accuracy:\", ba)\n",
    "print( \"  Micro F1:\", np.round( f1_score(yTest, yhat, average='micro'), 4 ))"
   ]
  },
  {
   "cell_type": "markdown",
   "metadata": {},
   "source": [
    "### Neural Network for multiclass classification"
   ]
  },
  {
   "cell_type": "code",
   "execution_count": 95,
   "metadata": {},
   "outputs": [
    {
     "name": "stdout",
     "output_type": "stream",
     "text": [
      "Weight for class 0: 8.26\n",
      "Weight for class 1: 31.62\n",
      "Weight for class 2: 0.54\n"
     ]
    }
   ],
   "source": [
    "# Scaling by total/2 helps keep the loss to a similar magnitude.\n",
    "total = xTrain.shape[0]\n",
    "ix = np.where( yTrain == 0 )\n",
    "zero = len(ix[0])\n",
    "ix = np.where( yTrain == 1 )\n",
    "one = len(ix[0])\n",
    "ix = np.where( yTrain == 2 )\n",
    "two = len(ix[0])\n",
    "\n",
    "weight_for_0 = (1 / zero) * (total / 2.0)\n",
    "weight_for_1 = (1 / one) * (total / 2.0)\n",
    "weight_for_2 = (1 / two) * (total / 2.0)\n",
    "\n",
    "class_weight = {0: weight_for_0, 1: weight_for_1, 2: weight_for_2}\n",
    "\n",
    "print('Weight for class 0: {:.2f}'.format(weight_for_0))\n",
    "print('Weight for class 1: {:.2f}'.format(weight_for_1))\n",
    "print('Weight for class 2: {:.2f}'.format(weight_for_2))"
   ]
  },
  {
   "cell_type": "code",
   "execution_count": 107,
   "metadata": {},
   "outputs": [
    {
     "name": "stdout",
     "output_type": "stream",
     "text": [
      "Epoch 1/150\n",
      "2644/2644 [==============================] - 11s 4ms/step - loss: 390.0697 - accuracy: 0.4751 - val_loss: 1.6089 - val_accuracy: 0.6604\n",
      "Epoch 2/150\n",
      "2644/2644 [==============================] - 9s 3ms/step - loss: 3.4188 - accuracy: 0.5588 - val_loss: 1.0646 - val_accuracy: 0.6207\n",
      "Epoch 3/150\n",
      "2644/2644 [==============================] - 11s 4ms/step - loss: 2.3866 - accuracy: 0.6423 - val_loss: 1.1167 - val_accuracy: 0.0158\n",
      "Epoch 4/150\n",
      "2644/2644 [==============================] - 12s 4ms/step - loss: 1.6684 - accuracy: 0.1783 - val_loss: 1.1054 - val_accuracy: 0.0605\n",
      "Epoch 5/150\n",
      "2644/2644 [==============================] - 8s 3ms/step - loss: 1.6481 - accuracy: 0.2643 - val_loss: 1.1025 - val_accuracy: 0.0158\n",
      "Epoch 6/150\n",
      "2644/2644 [==============================] - 12s 5ms/step - loss: 1.6482 - accuracy: 0.2130 - val_loss: 1.0881 - val_accuracy: 0.9237\n",
      "Epoch 7/150\n",
      "2644/2644 [==============================] - 13s 5ms/step - loss: 1.6483 - accuracy: 0.2807 - val_loss: 1.1018 - val_accuracy: 0.0158\n",
      "Epoch 8/150\n",
      "2644/2644 [==============================] - 11s 4ms/step - loss: 1.6483 - accuracy: 0.3121 - val_loss: 1.0908 - val_accuracy: 0.0158\n",
      "Epoch 9/150\n",
      "2644/2644 [==============================] - 14s 5ms/step - loss: 1.6483 - accuracy: 0.3040 - val_loss: 1.1348 - val_accuracy: 0.0158\n",
      "Epoch 10/150\n",
      "2644/2644 [==============================] - 14s 5ms/step - loss: 1.6483 - accuracy: 0.2822 - val_loss: 1.1146 - val_accuracy: 0.0158\n",
      "Epoch 11/150\n",
      "2644/2644 [==============================] - 14s 5ms/step - loss: 1.6483 - accuracy: 0.2490 - val_loss: 1.1147 - val_accuracy: 0.0605\n",
      "Epoch 12/150\n",
      "2644/2644 [==============================] - 13s 5ms/step - loss: 1.6482 - accuracy: 0.2878 - val_loss: 1.1041 - val_accuracy: 0.0158\n",
      "Epoch 13/150\n",
      "2644/2644 [==============================] - 13s 5ms/step - loss: 1.6482 - accuracy: 0.3044 - val_loss: 1.1081 - val_accuracy: 0.0605\n"
     ]
    }
   ],
   "source": [
    "# convert output from scalar to vector format, i.e. building type=2 to [0,0,1]\n",
    "y = to_categorical(yTrain)\n",
    "\n",
    "# define the keras model\n",
    "model = Sequential()\n",
    "model.add(Dense(300, input_shape=(xTrain.shape[1],), activation='relu'))\n",
    "model.add(Dense(150, activation='relu'))\n",
    "model.add(Dense(75, activation='relu'))\n",
    "model.add(Dense(3, activation='softmax'))\n",
    "model.compile(loss='categorical_crossentropy', optimizer='adam', metrics=['accuracy'])\n",
    "\n",
    "# stop training if we see 7 epochs over which val_accuracy doesn't improve\n",
    "es = EarlyStopping(monitor='val_accuracy', patience=7, restore_best_weights=True)\n",
    "\n",
    "# fit the model\n",
    "h = model.fit(xTrain, y, epochs=150, batch_size=256, callbacks=[es], \\\n",
    "              class_weight=class_weight, validation_split=0.2)"
   ]
  },
  {
   "cell_type": "code",
   "execution_count": 108,
   "metadata": {},
   "outputs": [
    {
     "data": {
      "text/plain": [
       "<matplotlib.legend.Legend at 0x7ffadad67eb0>"
      ]
     },
     "execution_count": 108,
     "metadata": {},
     "output_type": "execute_result"
    },
    {
     "data": {
      "image/png": "[encoded data removed]",
      "text/plain": [
       "<Figure size 432x288 with 1 Axes>"
      ]
     },
     "metadata": {
      "needs_background": "light"
     },
     "output_type": "display_data"
    }
   ],
   "source": [
    "plt.plot( h.history['accuracy'], label='Training' )\n",
    "plt.plot( h.history['val_accuracy'], label='Validation' )\n",
    "plt.title('Training Accuracy')\n",
    "plt.ylabel('Accuracy')\n",
    "plt.xlabel('Epoch')\n",
    "plt.legend()"
   ]
  },
  {
   "cell_type": "code",
   "execution_count": 109,
   "metadata": {},
   "outputs": [
    {
     "name": "stdout",
     "output_type": "stream",
     "text": [
      "6609/6609 [==============================] - 19s 3ms/step - loss: 1.0881 - accuracy: 0.9236\n",
      "Accuracy on the test set: 0.9236\n"
     ]
    }
   ],
   "source": [
    "y = to_categorical(yTest)\n",
    "loss, acc = model.evaluate( xTest, y )\n",
    "print(\"Accuracy on the test set:\", np.round(acc,4))"
   ]
  },
  {
   "cell_type": "code",
   "execution_count": 110,
   "metadata": {},
   "outputs": [
    {
     "name": "stdout",
     "output_type": "stream",
     "text": [
      "6609/6609 [==============================] - 8s 1ms/step\n"
     ]
    },
    {
     "data": {
      "text/plain": [
       "211488"
      ]
     },
     "execution_count": 110,
     "metadata": {},
     "output_type": "execute_result"
    }
   ],
   "source": [
    "ps = model.predict(xTest)\n",
    "predictions = []\n",
    "for p in ps:\n",
    "    predictions.append( np.argmax( p ) )\n",
    "len(predictions)"
   ]
  },
  {
   "cell_type": "code",
   "execution_count": 111,
   "metadata": {},
   "outputs": [
    {
     "name": "stdout",
     "output_type": "stream",
     "text": [
      "Balanced Accuracy: 0.3333\n",
      "Micro F1: 0.9236\n"
     ]
    }
   ],
   "source": [
    "print( \"Balanced Accuracy:\", np.round( balanced_accuracy_score(yTest.values, predictions), 4 ))\n",
    "print( \"Micro F1:\", np.round( f1_score(yTest.values, predictions, average='micro'), 4 ))"
   ]
  },
  {
   "cell_type": "markdown",
   "metadata": {},
   "source": [
    " "
   ]
  },
  {
   "cell_type": "markdown",
   "metadata": {},
   "source": [
    "## Classify Unknown Buildings in North Carolina"
   ]
  },
  {
   "cell_type": "code",
   "execution_count": 113,
   "metadata": {},
   "outputs": [
    {
     "data": {
      "text/html": [
       "<div>\n",
       "<style scoped>\n",
       "    .dataframe tbody tr th:only-of-type {\n",
       "        vertical-align: middle;\n",
       "    }\n",
       "\n",
       "    .dataframe tbody tr th {\n",
       "        vertical-align: top;\n",
       "    }\n",
       "\n",
       "    .dataframe thead th {\n",
       "        text-align: right;\n",
       "    }\n",
       "</style>\n",
       "<table border=\"1\" class=\"dataframe\">\n",
       "  <thead>\n",
       "    <tr style=\"text-align: right;\">\n",
       "      <th></th>\n",
       "      <th>StateFips</th>\n",
       "      <th>CountyFips</th>\n",
       "      <th>StateCountyFips</th>\n",
       "      <th>X</th>\n",
       "      <th>Y</th>\n",
       "      <th>Area</th>\n",
       "      <th>MedianIncomeCounty</th>\n",
       "      <th>HousingUnitsCounty</th>\n",
       "      <th>HousingDensityCounty</th>\n",
       "      <th>Impervious</th>\n",
       "      <th>AgCount</th>\n",
       "      <th>CmCount</th>\n",
       "      <th>GvCount</th>\n",
       "      <th>EdCount</th>\n",
       "      <th>InCount</th>\n",
       "      <th>OsmNearestRoad</th>\n",
       "      <th>FEMA_100yr</th>\n",
       "    </tr>\n",
       "  </thead>\n",
       "  <tbody>\n",
       "    <tr>\n",
       "      <th>0</th>\n",
       "      <td>37</td>\n",
       "      <td>99</td>\n",
       "      <td>37099</td>\n",
       "      <td>-83.260602</td>\n",
       "      <td>35.484954</td>\n",
       "      <td>20.716411</td>\n",
       "      <td>22429.0</td>\n",
       "      <td>26649.0</td>\n",
       "      <td>0.618177</td>\n",
       "      <td>2.0</td>\n",
       "      <td>22</td>\n",
       "      <td>2860</td>\n",
       "      <td>3</td>\n",
       "      <td>51</td>\n",
       "      <td>804</td>\n",
       "      <td>tertiary</td>\n",
       "      <td>0.0</td>\n",
       "    </tr>\n",
       "    <tr>\n",
       "      <th>1</th>\n",
       "      <td>37</td>\n",
       "      <td>99</td>\n",
       "      <td>37099</td>\n",
       "      <td>-83.155694</td>\n",
       "      <td>35.493472</td>\n",
       "      <td>68.605588</td>\n",
       "      <td>22429.0</td>\n",
       "      <td>26649.0</td>\n",
       "      <td>0.618177</td>\n",
       "      <td>6.0</td>\n",
       "      <td>22</td>\n",
       "      <td>2860</td>\n",
       "      <td>3</td>\n",
       "      <td>51</td>\n",
       "      <td>804</td>\n",
       "      <td>secondary</td>\n",
       "      <td>0.0</td>\n",
       "    </tr>\n",
       "    <tr>\n",
       "      <th>2</th>\n",
       "      <td>37</td>\n",
       "      <td>99</td>\n",
       "      <td>37099</td>\n",
       "      <td>-83.155694</td>\n",
       "      <td>35.493287</td>\n",
       "      <td>246.025647</td>\n",
       "      <td>22429.0</td>\n",
       "      <td>26649.0</td>\n",
       "      <td>0.618177</td>\n",
       "      <td>8.0</td>\n",
       "      <td>22</td>\n",
       "      <td>2860</td>\n",
       "      <td>3</td>\n",
       "      <td>51</td>\n",
       "      <td>804</td>\n",
       "      <td>secondary</td>\n",
       "      <td>0.0</td>\n",
       "    </tr>\n",
       "    <tr>\n",
       "      <th>3</th>\n",
       "      <td>37</td>\n",
       "      <td>99</td>\n",
       "      <td>37099</td>\n",
       "      <td>-83.154768</td>\n",
       "      <td>35.491620</td>\n",
       "      <td>142.232825</td>\n",
       "      <td>22429.0</td>\n",
       "      <td>26649.0</td>\n",
       "      <td>0.618177</td>\n",
       "      <td>0.0</td>\n",
       "      <td>22</td>\n",
       "      <td>2860</td>\n",
       "      <td>3</td>\n",
       "      <td>51</td>\n",
       "      <td>804</td>\n",
       "      <td>secondary</td>\n",
       "      <td>0.0</td>\n",
       "    </tr>\n",
       "    <tr>\n",
       "      <th>4</th>\n",
       "      <td>37</td>\n",
       "      <td>99</td>\n",
       "      <td>37099</td>\n",
       "      <td>-83.158009</td>\n",
       "      <td>35.486898</td>\n",
       "      <td>170.658810</td>\n",
       "      <td>22429.0</td>\n",
       "      <td>26649.0</td>\n",
       "      <td>0.618177</td>\n",
       "      <td>0.5</td>\n",
       "      <td>22</td>\n",
       "      <td>2860</td>\n",
       "      <td>3</td>\n",
       "      <td>51</td>\n",
       "      <td>804</td>\n",
       "      <td>residential</td>\n",
       "      <td>0.0</td>\n",
       "    </tr>\n",
       "  </tbody>\n",
       "</table>\n",
       "</div>"
      ],
      "text/plain": [
       "   StateFips  CountyFips  StateCountyFips          X          Y        Area  \\\n",
       "0         37          99            37099 -83.260602  35.484954   20.716411   \n",
       "1         37          99            37099 -83.155694  35.493472   68.605588   \n",
       "2         37          99            37099 -83.155694  35.493287  246.025647   \n",
       "3         37          99            37099 -83.154768  35.491620  142.232825   \n",
       "4         37          99            37099 -83.158009  35.486898  170.658810   \n",
       "\n",
       "   MedianIncomeCounty  HousingUnitsCounty  HousingDensityCounty  Impervious  \\\n",
       "0             22429.0             26649.0              0.618177         2.0   \n",
       "1             22429.0             26649.0              0.618177         6.0   \n",
       "2             22429.0             26649.0              0.618177         8.0   \n",
       "3             22429.0             26649.0              0.618177         0.0   \n",
       "4             22429.0             26649.0              0.618177         0.5   \n",
       "\n",
       "   AgCount  CmCount  GvCount  EdCount  InCount OsmNearestRoad  FEMA_100yr  \n",
       "0       22     2860        3       51      804       tertiary         0.0  \n",
       "1       22     2860        3       51      804      secondary         0.0  \n",
       "2       22     2860        3       51      804      secondary         0.0  \n",
       "3       22     2860        3       51      804      secondary         0.0  \n",
       "4       22     2860        3       51      804    residential         0.0  "
      ]
     },
     "execution_count": 113,
     "metadata": {},
     "output_type": "execute_result"
    }
   ],
   "source": [
    "# unknown buildings in North Carolina\n",
    "url = \"https://github.com/geo-smart/flood-risk-ml-tutorial/blob/main/unknownBuildings.zip?raw=true\"\n",
    "\n",
    "unknown = pd.read_csv( url, compression=\"zip\" )\n",
    "unknown.head()"
   ]
  },
  {
   "cell_type": "code",
   "execution_count": 115,
   "metadata": {},
   "outputs": [],
   "source": [
    "# read the models from file                                                                                                                                                                                                         \n",
    "with open('./rf_model_multi.pkl', 'rb') as f:\n",
    "    rf = pickle.load(f)"
   ]
  },
  {
   "cell_type": "code",
   "execution_count": 116,
   "metadata": {},
   "outputs": [],
   "source": [
    "# shuffle the dataframe (technically, we randomly resample the entire df)\n",
    "unknown = unknown.sample(frac=1) \n",
    "\n",
    "unknown = unknown.dropna()\n",
    "\n",
    "nCols = unknown.shape[1]    \n",
    "le = preprocessing.LabelEncoder()\n",
    "le.fit( unknown.iloc[:, nCols-2] ) # nearest road type\n",
    "unknown.iloc[:, nCols-2] = le.transform( unknown.iloc[:, nCols-2] )"
   ]
  },
  {
   "cell_type": "code",
   "execution_count": 117,
   "metadata": {},
   "outputs": [
    {
     "data": {
      "text/html": [
       "<div>\n",
       "<style scoped>\n",
       "    .dataframe tbody tr th:only-of-type {\n",
       "        vertical-align: middle;\n",
       "    }\n",
       "\n",
       "    .dataframe tbody tr th {\n",
       "        vertical-align: top;\n",
       "    }\n",
       "\n",
       "    .dataframe thead th {\n",
       "        text-align: right;\n",
       "    }\n",
       "</style>\n",
       "<table border=\"1\" class=\"dataframe\">\n",
       "  <thead>\n",
       "    <tr style=\"text-align: right;\">\n",
       "      <th></th>\n",
       "      <th>StateFips</th>\n",
       "      <th>CountyFips</th>\n",
       "      <th>StateCountyFips</th>\n",
       "      <th>X</th>\n",
       "      <th>Y</th>\n",
       "      <th>Area</th>\n",
       "      <th>MedianIncomeCounty</th>\n",
       "      <th>HousingUnitsCounty</th>\n",
       "      <th>HousingDensityCounty</th>\n",
       "      <th>Impervious</th>\n",
       "      <th>AgCount</th>\n",
       "      <th>CmCount</th>\n",
       "      <th>GvCount</th>\n",
       "      <th>EdCount</th>\n",
       "      <th>InCount</th>\n",
       "      <th>OsmNearestRoad</th>\n",
       "      <th>FEMA_100yr</th>\n",
       "    </tr>\n",
       "  </thead>\n",
       "  <tbody>\n",
       "    <tr>\n",
       "      <th>126380</th>\n",
       "      <td>37</td>\n",
       "      <td>119</td>\n",
       "      <td>37119</td>\n",
       "      <td>-80.852176</td>\n",
       "      <td>35.267731</td>\n",
       "      <td>52.609633</td>\n",
       "      <td>36443.0</td>\n",
       "      <td>478966.0</td>\n",
       "      <td>0.429380</td>\n",
       "      <td>18.666667</td>\n",
       "      <td>38</td>\n",
       "      <td>118034</td>\n",
       "      <td>39</td>\n",
       "      <td>2607</td>\n",
       "      <td>17352</td>\n",
       "      <td>4</td>\n",
       "      <td>0.0</td>\n",
       "    </tr>\n",
       "    <tr>\n",
       "      <th>150765</th>\n",
       "      <td>37</td>\n",
       "      <td>183</td>\n",
       "      <td>37183</td>\n",
       "      <td>-78.867268</td>\n",
       "      <td>35.787639</td>\n",
       "      <td>413.875972</td>\n",
       "      <td>41189.0</td>\n",
       "      <td>462582.0</td>\n",
       "      <td>0.409578</td>\n",
       "      <td>34.000000</td>\n",
       "      <td>119</td>\n",
       "      <td>105723</td>\n",
       "      <td>30</td>\n",
       "      <td>2778</td>\n",
       "      <td>17780</td>\n",
       "      <td>4</td>\n",
       "      <td>0.0</td>\n",
       "    </tr>\n",
       "    <tr>\n",
       "      <th>37354</th>\n",
       "      <td>37</td>\n",
       "      <td>179</td>\n",
       "      <td>37179</td>\n",
       "      <td>-80.529491</td>\n",
       "      <td>35.196898</td>\n",
       "      <td>88.530520</td>\n",
       "      <td>35468.0</td>\n",
       "      <td>83788.0</td>\n",
       "      <td>0.351656</td>\n",
       "      <td>0.000000</td>\n",
       "      <td>44</td>\n",
       "      <td>13966</td>\n",
       "      <td>6</td>\n",
       "      <td>311</td>\n",
       "      <td>5324</td>\n",
       "      <td>4</td>\n",
       "      <td>0.0</td>\n",
       "    </tr>\n",
       "    <tr>\n",
       "      <th>201620</th>\n",
       "      <td>37</td>\n",
       "      <td>183</td>\n",
       "      <td>37183</td>\n",
       "      <td>-78.695046</td>\n",
       "      <td>35.782269</td>\n",
       "      <td>26.646813</td>\n",
       "      <td>41189.0</td>\n",
       "      <td>462582.0</td>\n",
       "      <td>0.409578</td>\n",
       "      <td>6.000000</td>\n",
       "      <td>119</td>\n",
       "      <td>105723</td>\n",
       "      <td>30</td>\n",
       "      <td>2778</td>\n",
       "      <td>17780</td>\n",
       "      <td>4</td>\n",
       "      <td>0.0</td>\n",
       "    </tr>\n",
       "    <tr>\n",
       "      <th>168469</th>\n",
       "      <td>37</td>\n",
       "      <td>183</td>\n",
       "      <td>37183</td>\n",
       "      <td>-78.547268</td>\n",
       "      <td>35.798194</td>\n",
       "      <td>13.088892</td>\n",
       "      <td>41189.0</td>\n",
       "      <td>462582.0</td>\n",
       "      <td>0.409578</td>\n",
       "      <td>50.333333</td>\n",
       "      <td>119</td>\n",
       "      <td>105723</td>\n",
       "      <td>30</td>\n",
       "      <td>2778</td>\n",
       "      <td>17780</td>\n",
       "      <td>7</td>\n",
       "      <td>0.0</td>\n",
       "    </tr>\n",
       "  </tbody>\n",
       "</table>\n",
       "</div>"
      ],
      "text/plain": [
       "        StateFips  CountyFips  StateCountyFips          X          Y  \\\n",
       "126380         37         119            37119 -80.852176  35.267731   \n",
       "150765         37         183            37183 -78.867268  35.787639   \n",
       "37354          37         179            37179 -80.529491  35.196898   \n",
       "201620         37         183            37183 -78.695046  35.782269   \n",
       "168469         37         183            37183 -78.547268  35.798194   \n",
       "\n",
       "              Area  MedianIncomeCounty  HousingUnitsCounty  \\\n",
       "126380   52.609633             36443.0            478966.0   \n",
       "150765  413.875972             41189.0            462582.0   \n",
       "37354    88.530520             35468.0             83788.0   \n",
       "201620   26.646813             41189.0            462582.0   \n",
       "168469   13.088892             41189.0            462582.0   \n",
       "\n",
       "        HousingDensityCounty  Impervious  AgCount  CmCount  GvCount  EdCount  \\\n",
       "126380              0.429380   18.666667       38   118034       39     2607   \n",
       "150765              0.409578   34.000000      119   105723       30     2778   \n",
       "37354               0.351656    0.000000       44    13966        6      311   \n",
       "201620              0.409578    6.000000      119   105723       30     2778   \n",
       "168469              0.409578   50.333333      119   105723       30     2778   \n",
       "\n",
       "        InCount  OsmNearestRoad  FEMA_100yr  \n",
       "126380    17352               4         0.0  \n",
       "150765    17780               4         0.0  \n",
       "37354      5324               4         0.0  \n",
       "201620    17780               4         0.0  \n",
       "168469    17780               7         0.0  "
      ]
     },
     "execution_count": 117,
     "metadata": {},
     "output_type": "execute_result"
    }
   ],
   "source": [
    "unknown.head()"
   ]
  },
  {
   "cell_type": "code",
   "execution_count": 118,
   "metadata": {},
   "outputs": [
    {
     "name": "stdout",
     "output_type": "stream",
     "text": [
      "219054 unknown buildings in North Carolina\n"
     ]
    }
   ],
   "source": [
    "print( unknown.shape[0], 'unknown buildings in North Carolina')"
   ]
  },
  {
   "cell_type": "markdown",
   "metadata": {},
   "source": [
    "### Make predictions for all unknown buildings in North Carolina"
   ]
  },
  {
   "cell_type": "code",
   "execution_count": 119,
   "metadata": {},
   "outputs": [],
   "source": [
    "# generate dataset\n",
    "X = unknown.drop(['StateFips','CountyFips','StateCountyFips','FEMA_100yr'], axis=1).values\n",
    "\n",
    "# make predictions\n",
    "predictions = rf.predict(X)"
   ]
  },
  {
   "cell_type": "code",
   "execution_count": 124,
   "metadata": {},
   "outputs": [
    {
     "name": "stdout",
     "output_type": "stream",
     "text": [
      "residential    212954\n",
      "commercial       5324\n",
      "industrial        776\n",
      "Name: predictions, dtype: int64\n"
     ]
    }
   ],
   "source": [
    "# 0 = 'Commercial', 1 = 'Industrial', 2 = 'Residential'\n",
    "pString = []\n",
    "\n",
    "# update prediction array\n",
    "for p in predictions:\n",
    "    if ( p == 0 ):\n",
    "        pString.append('commercial')\n",
    "    elif ( p == 1 ):\n",
    "        pString.append('industrial')\n",
    "    elif ( p == 2 ):\n",
    "        pString.append('residential')\n",
    "\n",
    "# add a column to the dataframe\n",
    "unknown['predictions'] = pString\n",
    "\n",
    "print( unknown['predictions'].value_counts() )"
   ]
  },
  {
   "cell_type": "code",
   "execution_count": 125,
   "metadata": {},
   "outputs": [
    {
     "data": {
      "text/html": [
       "<div>\n",
       "<style scoped>\n",
       "    .dataframe tbody tr th:only-of-type {\n",
       "        vertical-align: middle;\n",
       "    }\n",
       "\n",
       "    .dataframe tbody tr th {\n",
       "        vertical-align: top;\n",
       "    }\n",
       "\n",
       "    .dataframe thead th {\n",
       "        text-align: right;\n",
       "    }\n",
       "</style>\n",
       "<table border=\"1\" class=\"dataframe\">\n",
       "  <thead>\n",
       "    <tr style=\"text-align: right;\">\n",
       "      <th></th>\n",
       "      <th>StateFips</th>\n",
       "      <th>CountyFips</th>\n",
       "      <th>StateCountyFips</th>\n",
       "      <th>X</th>\n",
       "      <th>Y</th>\n",
       "      <th>Area</th>\n",
       "      <th>MedianIncomeCounty</th>\n",
       "      <th>HousingUnitsCounty</th>\n",
       "      <th>HousingDensityCounty</th>\n",
       "      <th>Impervious</th>\n",
       "      <th>AgCount</th>\n",
       "      <th>CmCount</th>\n",
       "      <th>GvCount</th>\n",
       "      <th>EdCount</th>\n",
       "      <th>InCount</th>\n",
       "      <th>OsmNearestRoad</th>\n",
       "      <th>FEMA_100yr</th>\n",
       "      <th>predictions</th>\n",
       "    </tr>\n",
       "  </thead>\n",
       "  <tbody>\n",
       "    <tr>\n",
       "      <th>126380</th>\n",
       "      <td>37</td>\n",
       "      <td>119</td>\n",
       "      <td>37119</td>\n",
       "      <td>-80.852176</td>\n",
       "      <td>35.267731</td>\n",
       "      <td>52.609633</td>\n",
       "      <td>36443.0</td>\n",
       "      <td>478966.0</td>\n",
       "      <td>0.429380</td>\n",
       "      <td>18.666667</td>\n",
       "      <td>38</td>\n",
       "      <td>118034</td>\n",
       "      <td>39</td>\n",
       "      <td>2607</td>\n",
       "      <td>17352</td>\n",
       "      <td>4</td>\n",
       "      <td>0.0</td>\n",
       "      <td>residential</td>\n",
       "    </tr>\n",
       "    <tr>\n",
       "      <th>150765</th>\n",
       "      <td>37</td>\n",
       "      <td>183</td>\n",
       "      <td>37183</td>\n",
       "      <td>-78.867268</td>\n",
       "      <td>35.787639</td>\n",
       "      <td>413.875972</td>\n",
       "      <td>41189.0</td>\n",
       "      <td>462582.0</td>\n",
       "      <td>0.409578</td>\n",
       "      <td>34.000000</td>\n",
       "      <td>119</td>\n",
       "      <td>105723</td>\n",
       "      <td>30</td>\n",
       "      <td>2778</td>\n",
       "      <td>17780</td>\n",
       "      <td>4</td>\n",
       "      <td>0.0</td>\n",
       "      <td>residential</td>\n",
       "    </tr>\n",
       "    <tr>\n",
       "      <th>37354</th>\n",
       "      <td>37</td>\n",
       "      <td>179</td>\n",
       "      <td>37179</td>\n",
       "      <td>-80.529491</td>\n",
       "      <td>35.196898</td>\n",
       "      <td>88.530520</td>\n",
       "      <td>35468.0</td>\n",
       "      <td>83788.0</td>\n",
       "      <td>0.351656</td>\n",
       "      <td>0.000000</td>\n",
       "      <td>44</td>\n",
       "      <td>13966</td>\n",
       "      <td>6</td>\n",
       "      <td>311</td>\n",
       "      <td>5324</td>\n",
       "      <td>4</td>\n",
       "      <td>0.0</td>\n",
       "      <td>residential</td>\n",
       "    </tr>\n",
       "    <tr>\n",
       "      <th>201620</th>\n",
       "      <td>37</td>\n",
       "      <td>183</td>\n",
       "      <td>37183</td>\n",
       "      <td>-78.695046</td>\n",
       "      <td>35.782269</td>\n",
       "      <td>26.646813</td>\n",
       "      <td>41189.0</td>\n",
       "      <td>462582.0</td>\n",
       "      <td>0.409578</td>\n",
       "      <td>6.000000</td>\n",
       "      <td>119</td>\n",
       "      <td>105723</td>\n",
       "      <td>30</td>\n",
       "      <td>2778</td>\n",
       "      <td>17780</td>\n",
       "      <td>4</td>\n",
       "      <td>0.0</td>\n",
       "      <td>residential</td>\n",
       "    </tr>\n",
       "    <tr>\n",
       "      <th>168469</th>\n",
       "      <td>37</td>\n",
       "      <td>183</td>\n",
       "      <td>37183</td>\n",
       "      <td>-78.547268</td>\n",
       "      <td>35.798194</td>\n",
       "      <td>13.088892</td>\n",
       "      <td>41189.0</td>\n",
       "      <td>462582.0</td>\n",
       "      <td>0.409578</td>\n",
       "      <td>50.333333</td>\n",
       "      <td>119</td>\n",
       "      <td>105723</td>\n",
       "      <td>30</td>\n",
       "      <td>2778</td>\n",
       "      <td>17780</td>\n",
       "      <td>7</td>\n",
       "      <td>0.0</td>\n",
       "      <td>residential</td>\n",
       "    </tr>\n",
       "  </tbody>\n",
       "</table>\n",
       "</div>"
      ],
      "text/plain": [
       "        StateFips  CountyFips  StateCountyFips          X          Y  \\\n",
       "126380         37         119            37119 -80.852176  35.267731   \n",
       "150765         37         183            37183 -78.867268  35.787639   \n",
       "37354          37         179            37179 -80.529491  35.196898   \n",
       "201620         37         183            37183 -78.695046  35.782269   \n",
       "168469         37         183            37183 -78.547268  35.798194   \n",
       "\n",
       "              Area  MedianIncomeCounty  HousingUnitsCounty  \\\n",
       "126380   52.609633             36443.0            478966.0   \n",
       "150765  413.875972             41189.0            462582.0   \n",
       "37354    88.530520             35468.0             83788.0   \n",
       "201620   26.646813             41189.0            462582.0   \n",
       "168469   13.088892             41189.0            462582.0   \n",
       "\n",
       "        HousingDensityCounty  Impervious  AgCount  CmCount  GvCount  EdCount  \\\n",
       "126380              0.429380   18.666667       38   118034       39     2607   \n",
       "150765              0.409578   34.000000      119   105723       30     2778   \n",
       "37354               0.351656    0.000000       44    13966        6      311   \n",
       "201620              0.409578    6.000000      119   105723       30     2778   \n",
       "168469              0.409578   50.333333      119   105723       30     2778   \n",
       "\n",
       "        InCount  OsmNearestRoad  FEMA_100yr  predictions  \n",
       "126380    17352               4         0.0  residential  \n",
       "150765    17780               4         0.0  residential  \n",
       "37354      5324               4         0.0  residential  \n",
       "201620    17780               4         0.0  residential  \n",
       "168469    17780               7         0.0  residential  "
      ]
     },
     "execution_count": 125,
     "metadata": {},
     "output_type": "execute_result"
    }
   ],
   "source": [
    "unknown.head()"
   ]
  },
  {
   "cell_type": "markdown",
   "metadata": {},
   "source": [
    "### Connect predictions with socio-economic data and FEMA 100-year flood predictions"
   ]
  },
  {
   "cell_type": "markdown",
   "metadata": {},
   "source": [
    "We obtained the 100-year flood map from the FEMA National Flood Hazards Layer. The phrase “100-year flood” is used to describe the extent of a flood that statistically has a 1-percent chance of occurring in any given year [1]. Here, it is used for illustrative purposes of an overall disaster response application. Rows with a 1 in the \"FEMA_100yr\" column were found be flooded at a significant depth in the FEMA 100-year flood maps.\n",
    "\n",
    "[1] Maidment, David 2009. “FEMA Flood Map Accuracy.”World Envi-ronmental and Water Resources Congress 2009: Great Rivers1–10.Microsoft. 2018.US Building Footprints.Noy, Natasha, Yuqing Gao, Anshu Ja"
   ]
  },
  {
   "cell_type": "code",
   "execution_count": 137,
   "metadata": {},
   "outputs": [
    {
     "name": "stdout",
     "output_type": "stream",
     "text": [
      "5838 buildings impacted by the 100-year flood\n"
     ]
    }
   ],
   "source": [
    "flood = unknown[ unknown['FEMA_100yr'] == 1 ]\n",
    "print(flood.shape[0], \"buildings impacted by the 100-year flood\")"
   ]
  },
  {
   "cell_type": "code",
   "execution_count": 159,
   "metadata": {},
   "outputs": [
    {
     "name": "stdout",
     "output_type": "stream",
     "text": [
      "Residential buildings impacted by 100-year flood: 5452\n",
      "Commercial buildings impacted by 100-year flood: 349\n",
      "Industrial buildings impacted by 100-year flood: 37\n"
     ]
    }
   ],
   "source": [
    "residential = flood[ flood['predictions'] == 'residential' ]\n",
    "commercial = flood[ flood['predictions'] == 'commercial' ]\n",
    "industrial = flood[ flood['predictions'] == 'industrial' ]\n",
    "\n",
    "print(\"Residential buildings impacted by 100-year flood:\", residential.shape[0])\n",
    "print(\"Commercial buildings impacted by 100-year flood:\", commercial.shape[0])\n",
    "print(\"Industrial buildings impacted by 100-year flood:\", industrial.shape[0])"
   ]
  },
  {
   "cell_type": "code",
   "execution_count": 139,
   "metadata": {},
   "outputs": [
    {
     "data": {
      "image/png": "[encoded data removed]",
      "text/plain": [
       "<Figure size 432x288 with 1 Axes>"
      ]
     },
     "metadata": {
      "needs_background": "light"
     },
     "output_type": "display_data"
    }
   ],
   "source": [
    "fig, ax = plt.subplots()\n",
    "\n",
    "types = ['Residential', 'Commercial', 'Industrial']\n",
    "counts = [ residential.shape[0], commercial.shape[0], industrial.shape[0]]\n",
    "bar_colors = ['red', 'blue', 'orange']\n",
    "\n",
    "ax.bar(types, counts, color=bar_colors)\n",
    "\n",
    "ax.set_ylabel('# of Impacts')\n",
    "ax.set_title('FEMA 100-year Flood Impacts')\n",
    "ax.set_yscale('log')"
   ]
  },
  {
   "cell_type": "code",
   "execution_count": 145,
   "metadata": {},
   "outputs": [
    {
     "data": {
      "text/plain": [
       "Text(0.5, 0, 'Median Individual Income in County')"
      ]
     },
     "execution_count": 145,
     "metadata": {},
     "output_type": "execute_result"
    },
    {
     "data": {
      "image/png": "[encoded data removed]",
      "text/plain": [
       "<Figure size 432x288 with 1 Axes>"
      ]
     },
     "metadata": {
      "needs_background": "light"
     },
     "output_type": "display_data"
    }
   ],
   "source": [
    "m = 30106 # median individal income in NC in 2020\n",
    "\n",
    "plt.hist( residential['MedianIncomeCounty'] )\n",
    "plt.plot( np.zeros(1600)+m, np.arange(0,1600,1), c='red' )\n",
    "plt.ylabel('# of impacted residential homes')\n",
    "plt.xlabel('Median Individual Income in County')"
   ]
  },
  {
   "cell_type": "code",
   "execution_count": 146,
   "metadata": {},
   "outputs": [
    {
     "name": "stdout",
     "output_type": "stream",
     "text": [
      "33.27 % residential buildings impacted are in counties below median income\n"
     ]
    }
   ],
   "source": [
    "ix = np.where( residential['MedianIncomeCounty'] < m )\n",
    "p = (len(ix[0])/residential['MedianIncomeCounty'].shape[0])*100.\n",
    "print( np.round(p,2), '% residential buildings impacted are in counties below median income')"
   ]
  },
  {
   "cell_type": "code",
   "execution_count": 153,
   "metadata": {},
   "outputs": [
    {
     "data": {
      "text/plain": [
       "Text(0.5, 0, 'Median Individual Income in County')"
      ]
     },
     "execution_count": 153,
     "metadata": {},
     "output_type": "execute_result"
    },
    {
     "data": {
      "image/png": "[encoded data removed]",
      "text/plain": [
       "<Figure size 432x288 with 1 Axes>"
      ]
     },
     "metadata": {
      "needs_background": "light"
     },
     "output_type": "display_data"
    }
   ],
   "source": [
    "m = 30106 # median individal income in NC in 2020\n",
    "\n",
    "plt.hist( commercial['MedianIncomeCounty'] )\n",
    "plt.plot( np.zeros(150)+m, np.arange(0,150,1), c='red' )\n",
    "plt.ylabel('# of impacted commercial buildings')\n",
    "plt.xlabel('Median Individual Income in County')"
   ]
  },
  {
   "cell_type": "code",
   "execution_count": 148,
   "metadata": {},
   "outputs": [
    {
     "name": "stdout",
     "output_type": "stream",
     "text": [
      "62.46 % commercial buildings impacted are in counties below median income\n"
     ]
    }
   ],
   "source": [
    "ix = np.where( commercial['MedianIncomeCounty'] < m )\n",
    "p = (len(ix[0])/commercial['MedianIncomeCounty'].shape[0])*100.\n",
    "print( np.round(p,2), '% commercial buildings impacted are in counties below median income')"
   ]
  },
  {
   "cell_type": "code",
   "execution_count": 154,
   "metadata": {
    "scrolled": true
   },
   "outputs": [
    {
     "data": {
      "text/plain": [
       "Text(0.5, 0, 'Median Individual Income in County')"
      ]
     },
     "execution_count": 154,
     "metadata": {},
     "output_type": "execute_result"
    },
    {
     "data": {
      "image/png": "[encoded data removed]",
      "text/plain": [
       "<Figure size 432x288 with 1 Axes>"
      ]
     },
     "metadata": {
      "needs_background": "light"
     },
     "output_type": "display_data"
    }
   ],
   "source": [
    "m = 30106 # median individal income in NC in 2020\n",
    "\n",
    "plt.hist( industrial['MedianIncomeCounty'] )\n",
    "plt.plot( np.zeros(15)+m, np.arange(0,15,1), c='red' )\n",
    "plt.ylabel('# of impacted industrial buildings')\n",
    "plt.xlabel('Median Individual Income in County')"
   ]
  },
  {
   "cell_type": "code",
   "execution_count": 155,
   "metadata": {},
   "outputs": [
    {
     "name": "stdout",
     "output_type": "stream",
     "text": [
      "40.54 % industrial buildings impacted are in counties below median income\n"
     ]
    }
   ],
   "source": [
    "ix = np.where( industrial['MedianIncomeCounty'] < m )\n",
    "p = (len(ix[0])/industrial['MedianIncomeCounty'].shape[0])*100.\n",
    "print( np.round(p,2), '% industrial buildings impacted are in counties below median income')"
   ]
  },
  {
   "cell_type": "code",
   "execution_count": 157,
   "metadata": {},
   "outputs": [
    {
     "data": {
      "text/plain": [
       "(37, 18)"
      ]
     },
     "execution_count": 157,
     "metadata": {},
     "output_type": "execute_result"
    }
   ],
   "source": [
    "industrial.shape"
   ]
  },
  {
   "cell_type": "code",
   "execution_count": null,
   "metadata": {},
   "outputs": [],
   "source": []
  }
 ],
 "metadata": {
  "kernelspec": {
   "display_name": "Python 3",
   "language": "python",
   "name": "python3"
  },
  "language_info": {
   "codemirror_mode": {
    "name": "ipython",
    "version": 3
   },
   "file_extension": ".py",
   "mimetype": "text/x-python",
   "name": "python",
   "nbconvert_exporter": "python",
   "pygments_lexer": "ipython3",
   "version": "3.10.6"
  }
 },
 "nbformat": 4,
 "nbformat_minor": 4
}
