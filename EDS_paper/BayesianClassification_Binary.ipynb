{
 "cells": [
  {
   "cell_type": "code",
   "execution_count": 1,
   "id": "d1bb37a6",
   "metadata": {},
   "outputs": [
    {
     "name": "stderr",
     "output_type": "stream",
     "text": [
      "2023-11-27 13:59:58.732426: I tensorflow/core/platform/cpu_feature_guard.cc:182] This TensorFlow binary is optimized to use available CPU instructions in performance-critical operations.\n",
      "To enable the following instructions: AVX2 AVX512F FMA, in other operations, rebuild TensorFlow with the appropriate compiler flags.\n",
      "2023-11-27 13:59:59.287559: W tensorflow/compiler/tf2tensorrt/utils/py_utils.cc:38] TF-TRT Warning: Could not find TensorRT\n"
     ]
    }
   ],
   "source": [
    "import pandas as pd\n",
    "\n",
    "import numpy as np\n",
    "import tensorflow as tf\n",
    "import tensorflow_probability as tfp\n",
    "from tensorflow.keras.models import Sequential\n",
    "from tensorflow.keras.layers import Dense\n",
    "from tensorflow.keras.optimizers import Adam\n",
    "\n",
    "import matplotlib.pyplot as plt"
   ]
  },
  {
   "cell_type": "markdown",
   "id": "d9e19465",
   "metadata": {},
   "source": [
    "### Setup and Configuration"
   ]
  },
  {
   "cell_type": "code",
   "execution_count": 2,
   "id": "68eb4db6",
   "metadata": {},
   "outputs": [],
   "source": [
    "# North Carolina data\n",
    "url = \"https://github.com/geo-smart/flood-risk-ml-tutorial/blob/main/North_Carolina_Buildings.zip?raw=true\"\n",
    "\n",
    "# read data into a Pandas dataframe\n",
    "rawDf = pd.read_csv(url, compression=\"zip\")\n",
    "\n",
    "# ignore first few columns, which are FIPs codes, not needed for ML\n",
    "rawDf = rawDf.iloc[:, 3:] \n",
    "df = rawDf.copy( deep=True )"
   ]
  },
  {
   "cell_type": "code",
   "execution_count": 3,
   "id": "999bfa70",
   "metadata": {},
   "outputs": [
    {
     "name": "stdout",
     "output_type": "stream",
     "text": [
      "\n",
      "Residential    976690\n",
      "Other          101454\n",
      "Name: BuildingType, dtype: int64\n",
      "\n",
      "Residential    1.000000\n",
      "Other          9.626925\n",
      "Name: BuildingType, dtype: float64\n",
      "\n"
     ]
    }
   ],
   "source": [
    "# classify a building as \"Residential\" or \"Other\"\n",
    "df.loc[df[\"BuildingType\"] == \"Commercial\", \"BuildingType\"] = 'Other'\n",
    "df.loc[df[\"BuildingType\"] == \"Industrial\", \"BuildingType\"] = 'Other'\n",
    "df.loc[df[\"BuildingType\"] == \"Assembly\", \"BuildingType\"] = 'Other'\n",
    "df.loc[df[\"BuildingType\"] == \"Education\", \"BuildingType\"] = 'Other'\n",
    "df.loc[df[\"BuildingType\"] == \"Government\", \"BuildingType\"] = 'Other'\n",
    "df.loc[df[\"BuildingType\"] == \"Agriculture\", \"BuildingType\"] = 'Other'\n",
    "df.loc[df[\"BuildingType\"] == \"Utility and Misc\", \"BuildingType\"] = 'Other'\n",
    "\n",
    "# building type distributions\n",
    "print()\n",
    "print( df['BuildingType'].value_counts() )\n",
    "print()\n",
    "print( 976690/df['BuildingType'].value_counts() )\n",
    "print()"
   ]
  },
  {
   "cell_type": "code",
   "execution_count": 4,
   "id": "1e299cf1",
   "metadata": {},
   "outputs": [
    {
     "name": "stderr",
     "output_type": "stream",
     "text": [
      "/tmp/ipykernel_59499/1358776107.py:19: DeprecationWarning: In a future version, `df.iloc[:, i] = newvals` will attempt to set the values inplace instead of always setting a new array. To retain the old behavior, use either `df[df.columns[i]] = newvals` or, if columns are non-unique, `df.isetitem(i, newvals)`\n",
      "  df.iloc[:, nCols-1] = le.transform( df.iloc[:, nCols-1] )\n",
      "/tmp/ipykernel_59499/1358776107.py:23: DeprecationWarning: In a future version, `df.iloc[:, i] = newvals` will attempt to set the values inplace instead of always setting a new array. To retain the old behavior, use either `df[df.columns[i]] = newvals` or, if columns are non-unique, `df.isetitem(i, newvals)`\n",
      "  df.iloc[:, nCols-2] = le2.transform( df.iloc[:, nCols-2] )\n"
     ]
    }
   ],
   "source": [
    "from sklearn import preprocessing\n",
    "\n",
    "df = df.sample(frac=1) # shuffle the dataframe (technically, we randomly resample the entire df)\n",
    "\n",
    "# preprocess the data - scaling\n",
    "scaler = preprocessing.StandardScaler()\n",
    "    \n",
    "columns = ['X', 'Y', 'Area', 'MedianIncomeCounty', \n",
    "           'HousingUnitsCounty', 'HousingDensityCounty',\n",
    "           'Impervious', 'AgCount', 'CmCount', 'GvCount',\n",
    "           'EdCount', 'InCount']\n",
    "df[columns] = scaler.fit_transform(df[columns])\n",
    "\n",
    "df = df.dropna()\n",
    "\n",
    "nCols = df.shape[1]\n",
    "le = preprocessing.LabelEncoder()\n",
    "le.fit( df.iloc[:, nCols-1] ) # ornl type\n",
    "df.iloc[:, nCols-1] = le.transform( df.iloc[:, nCols-1] )\n",
    "    \n",
    "le2 = preprocessing.LabelEncoder()\n",
    "le2.fit( df.iloc[:, nCols-2] ) # nearest road type\n",
    "df.iloc[:, nCols-2] = le2.transform( df.iloc[:, nCols-2] )"
   ]
  },
  {
   "cell_type": "code",
   "execution_count": 5,
   "id": "958d6b5e",
   "metadata": {},
   "outputs": [
    {
     "data": {
      "text/html": [
       "<div>\n",
       "<style scoped>\n",
       "    .dataframe tbody tr th:only-of-type {\n",
       "        vertical-align: middle;\n",
       "    }\n",
       "\n",
       "    .dataframe tbody tr th {\n",
       "        vertical-align: top;\n",
       "    }\n",
       "\n",
       "    .dataframe thead th {\n",
       "        text-align: right;\n",
       "    }\n",
       "</style>\n",
       "<table border=\"1\" class=\"dataframe\">\n",
       "  <thead>\n",
       "    <tr style=\"text-align: right;\">\n",
       "      <th></th>\n",
       "      <th>X</th>\n",
       "      <th>Y</th>\n",
       "      <th>Area</th>\n",
       "      <th>MedianIncomeCounty</th>\n",
       "      <th>HousingUnitsCounty</th>\n",
       "      <th>HousingDensityCounty</th>\n",
       "      <th>Impervious</th>\n",
       "      <th>AgCount</th>\n",
       "      <th>CmCount</th>\n",
       "      <th>GvCount</th>\n",
       "      <th>EdCount</th>\n",
       "      <th>InCount</th>\n",
       "      <th>OsmNearestRoad</th>\n",
       "      <th>BuildingType</th>\n",
       "    </tr>\n",
       "  </thead>\n",
       "  <tbody>\n",
       "    <tr>\n",
       "      <th>109191</th>\n",
       "      <td>-0.969762</td>\n",
       "      <td>-1.080139</td>\n",
       "      <td>-0.098919</td>\n",
       "      <td>0.139001</td>\n",
       "      <td>-1.071597</td>\n",
       "      <td>-1.424272</td>\n",
       "      <td>0.851887</td>\n",
       "      <td>-0.189389</td>\n",
       "      <td>-1.054971</td>\n",
       "      <td>-1.048588</td>\n",
       "      <td>-1.045623</td>\n",
       "      <td>-0.770605</td>\n",
       "      <td>4</td>\n",
       "      <td>1</td>\n",
       "    </tr>\n",
       "    <tr>\n",
       "      <th>249110</th>\n",
       "      <td>0.937555</td>\n",
       "      <td>0.297244</td>\n",
       "      <td>-0.029512</td>\n",
       "      <td>-0.803459</td>\n",
       "      <td>-1.068631</td>\n",
       "      <td>-0.697542</td>\n",
       "      <td>-0.982076</td>\n",
       "      <td>0.033225</td>\n",
       "      <td>-1.138290</td>\n",
       "      <td>-1.189600</td>\n",
       "      <td>-1.155967</td>\n",
       "      <td>-0.976654</td>\n",
       "      <td>4</td>\n",
       "      <td>1</td>\n",
       "    </tr>\n",
       "    <tr>\n",
       "      <th>632766</th>\n",
       "      <td>-0.989369</td>\n",
       "      <td>-0.520914</td>\n",
       "      <td>-0.257804</td>\n",
       "      <td>0.337253</td>\n",
       "      <td>1.051850</td>\n",
       "      <td>0.031186</td>\n",
       "      <td>0.479131</td>\n",
       "      <td>-0.337799</td>\n",
       "      <td>1.140185</td>\n",
       "      <td>1.278110</td>\n",
       "      <td>0.949244</td>\n",
       "      <td>0.979654</td>\n",
       "      <td>4</td>\n",
       "      <td>0</td>\n",
       "    </tr>\n",
       "    <tr>\n",
       "      <th>320545</th>\n",
       "      <td>-0.250256</td>\n",
       "      <td>1.009261</td>\n",
       "      <td>-0.132568</td>\n",
       "      <td>-0.937660</td>\n",
       "      <td>-0.273707</td>\n",
       "      <td>0.026131</td>\n",
       "      <td>-1.384653</td>\n",
       "      <td>-0.758292</td>\n",
       "      <td>-0.383523</td>\n",
       "      <td>-0.202516</td>\n",
       "      <td>-0.520841</td>\n",
       "      <td>-0.321399</td>\n",
       "      <td>4</td>\n",
       "      <td>1</td>\n",
       "    </tr>\n",
       "    <tr>\n",
       "      <th>483257</th>\n",
       "      <td>1.390741</td>\n",
       "      <td>-3.345183</td>\n",
       "      <td>-0.025571</td>\n",
       "      <td>-0.865273</td>\n",
       "      <td>-1.047191</td>\n",
       "      <td>4.091188</td>\n",
       "      <td>-0.609319</td>\n",
       "      <td>-0.189389</td>\n",
       "      <td>-1.180076</td>\n",
       "      <td>-1.260106</td>\n",
       "      <td>-1.217655</td>\n",
       "      <td>-1.226941</td>\n",
       "      <td>4</td>\n",
       "      <td>1</td>\n",
       "    </tr>\n",
       "  </tbody>\n",
       "</table>\n",
       "</div>"
      ],
      "text/plain": [
       "               X         Y      Area  MedianIncomeCounty  HousingUnitsCounty  \\\n",
       "109191 -0.969762 -1.080139 -0.098919            0.139001           -1.071597   \n",
       "249110  0.937555  0.297244 -0.029512           -0.803459           -1.068631   \n",
       "632766 -0.989369 -0.520914 -0.257804            0.337253            1.051850   \n",
       "320545 -0.250256  1.009261 -0.132568           -0.937660           -0.273707   \n",
       "483257  1.390741 -3.345183 -0.025571           -0.865273           -1.047191   \n",
       "\n",
       "        HousingDensityCounty  Impervious   AgCount   CmCount   GvCount  \\\n",
       "109191             -1.424272    0.851887 -0.189389 -1.054971 -1.048588   \n",
       "249110             -0.697542   -0.982076  0.033225 -1.138290 -1.189600   \n",
       "632766              0.031186    0.479131 -0.337799  1.140185  1.278110   \n",
       "320545              0.026131   -1.384653 -0.758292 -0.383523 -0.202516   \n",
       "483257              4.091188   -0.609319 -0.189389 -1.180076 -1.260106   \n",
       "\n",
       "         EdCount   InCount  OsmNearestRoad  BuildingType  \n",
       "109191 -1.045623 -0.770605               4             1  \n",
       "249110 -1.155967 -0.976654               4             1  \n",
       "632766  0.949244  0.979654               4             0  \n",
       "320545 -0.520841 -0.321399               4             1  \n",
       "483257 -1.217655 -1.226941               4             1  "
      ]
     },
     "execution_count": 5,
     "metadata": {},
     "output_type": "execute_result"
    }
   ],
   "source": [
    "df.head()"
   ]
  },
  {
   "cell_type": "code",
   "execution_count": 6,
   "id": "61b9c6ee",
   "metadata": {},
   "outputs": [
    {
     "name": "stdout",
     "output_type": "stream",
     "text": [
      "Number of classes: 2\n"
     ]
    }
   ],
   "source": [
    "nClasses = len(df['BuildingType'].unique())\n",
    "print(\"Number of classes:\", nClasses)"
   ]
  },
  {
   "cell_type": "code",
   "execution_count": 9,
   "id": "f2ae35fd",
   "metadata": {},
   "outputs": [
    {
     "name": "stdout",
     "output_type": "stream",
     "text": [
      "Training Size: (862513, 13)\n",
      "Testing Size: (215629, 13)\n"
     ]
    }
   ],
   "source": [
    "from sklearn.model_selection import train_test_split\n",
    "\n",
    "train, test = train_test_split(df, test_size=0.2, random_state=42, stratify=df[['BuildingType']])\n",
    "\n",
    "nCols = test.shape[1]\n",
    "xTest = test.iloc[:, :nCols-1]\n",
    "yTest = test.iloc[:, nCols-1]\n",
    "\n",
    "xTrain = train.iloc[:, :nCols-1]\n",
    "yTrain = train.iloc[:, nCols-1]\n",
    "\n",
    "print(\"Training Size:\", xTrain.shape)\n",
    "print(\"Testing Size:\", xTest.shape)\n",
    "\n",
    "# save test/train split\n",
    "xTrain.to_pickle(\"./xTrain_binary.pkl\") \n",
    "yTrain.to_pickle(\"./yTrain_binary.pkl\") \n",
    "xTest.to_pickle(\"./xTest_binary.pkl\")  \n",
    "yTest.to_pickle(\"./yTest_binary.pkl\")  "
   ]
  },
  {
   "cell_type": "markdown",
   "id": "6167606a",
   "metadata": {},
   "source": [
    "### Bayesian Neural Network"
   ]
  },
  {
   "cell_type": "code",
   "execution_count": 10,
   "id": "78574d2f",
   "metadata": {},
   "outputs": [],
   "source": [
    "xTrain = pd.read_pickle(\"./xTrain_binary.pkl\")  \n",
    "yTrain = pd.read_pickle(\"./yTrain_binary.pkl\")  \n",
    "xTest = pd.read_pickle(\"./xTest_binary.pkl\")  \n",
    "yTest = pd.read_pickle(\"./yTest_binary.pkl\")  "
   ]
  },
  {
   "cell_type": "code",
   "execution_count": 11,
   "id": "b9fb60d5",
   "metadata": {},
   "outputs": [
    {
     "name": "stdout",
     "output_type": "stream",
     "text": [
      "Weight for class 0: 5.31\n",
      "Weight for class 1: 0.55\n"
     ]
    }
   ],
   "source": [
    "# Scaling by total/2 helps keep the loss to a similar magnitude.\n",
    "total = xTrain.shape[0]\n",
    "ix = np.where( yTrain == 0 )\n",
    "zero = len(ix[0])\n",
    "ix = np.where( yTrain == 1 )\n",
    "one = len(ix[0])\n",
    "\n",
    "weight_for_0 = (1 / zero) * (total / 2.0)\n",
    "weight_for_1 = (1 / one) * (total / 2.0)\n",
    "\n",
    "class_weight = {0: weight_for_0, 1: weight_for_1}\n",
    "\n",
    "print('Weight for class 0: {:.2f}'.format(weight_for_0))\n",
    "print('Weight for class 1: {:.2f}'.format(weight_for_1))"
   ]
  },
  {
   "cell_type": "code",
   "execution_count": 12,
   "id": "63f8937e",
   "metadata": {},
   "outputs": [
    {
     "name": "stderr",
     "output_type": "stream",
     "text": [
      "/home/jupyter-narock/.local/lib/python3.9/site-packages/tensorflow_probability/python/layers/util.py:98: UserWarning: `layer.add_variable` is deprecated and will be removed in a future version. Please use the `layer.add_weight()` method instead.\n",
      "  loc = add_variable_fn(\n",
      "2023-11-26 13:07:42.166429: I tensorflow/core/common_runtime/gpu/gpu_device.cc:1635] Created device /job:localhost/replica:0/task:0/device:GPU:0 with 5337 MB memory:  -> device: 0, name: NVIDIA GeForce GTX TITAN Black, pci bus id: 0000:65:00.0, compute capability: 3.5\n",
      "/home/jupyter-narock/.local/lib/python3.9/site-packages/tensorflow_probability/python/layers/util.py:108: UserWarning: `layer.add_variable` is deprecated and will be removed in a future version. Please use the `layer.add_weight()` method instead.\n",
      "  untransformed_scale = add_variable_fn(\n"
     ]
    }
   ],
   "source": [
    "from keras import backend as K \n",
    "\n",
    "# Keras keeps models hanging around in memory. If we retrain a model, Keras will\n",
    "# start from the previously concluded weight values. This resets everything.\n",
    "K.clear_session()\n",
    "\n",
    "# KL divergence weighted by the number of training samples, using\n",
    "# lambda function to pass as input to the kernel_divergence_fn on\n",
    "# flipout layers.\n",
    "kl_divergence_function = (lambda q, p, _: tfd.kl_divergence(q, p) /  \n",
    "                            tf.cast(xTrain.shape[0], dtype=tf.float32))\n",
    "\n",
    "tfd = tfp.distributions\n",
    "\n",
    "# Define a logistic regression model as a Bernoulli distribution\n",
    "# parameterized by logits from a single linear layer. We use the Flipout\n",
    "# Monte Carlo estimator for the layer: this enables lower variance\n",
    "# stochastic gradients than naive reparameterization.\n",
    "input_layer = tf.keras.layers.Input(shape=xTrain.shape[1])\n",
    "\n",
    "#dense_layer = tfp.layers.DenseFlipout(\n",
    "#    units=1,\n",
    "#    activation='sigmoid',\n",
    "#    kernel_posterior_fn=tfp.layers.default_mean_field_normal_fn(),\n",
    "#    bias_posterior_fn=tfp.layers.default_mean_field_normal_fn(),\n",
    "#    kernel_divergence_fn=kl_divergence_function)(input_layer)\n",
    "\n",
    "layer1 = tfp.layers.DenseFlipout(\n",
    "    units=26,\n",
    "    activation='sigmoid',\n",
    "    kernel_posterior_fn=tfp.layers.default_mean_field_normal_fn(),\n",
    "    bias_posterior_fn=tfp.layers.default_mean_field_normal_fn(),\n",
    "    kernel_divergence_fn=kl_divergence_function)(input_layer)\n",
    "\n",
    "layer2 = tfp.layers.DenseFlipout(\n",
    "    units=13,\n",
    "    activation='sigmoid',\n",
    "    kernel_posterior_fn=tfp.layers.default_mean_field_normal_fn(),\n",
    "    bias_posterior_fn=tfp.layers.default_mean_field_normal_fn(),\n",
    "    kernel_divergence_fn=kl_divergence_function)(layer1)\n",
    "\n",
    "layer3 = tfp.layers.DenseFlipout(\n",
    "    units=8,\n",
    "    activation='sigmoid',\n",
    "    kernel_posterior_fn=tfp.layers.default_mean_field_normal_fn(),\n",
    "    bias_posterior_fn=tfp.layers.default_mean_field_normal_fn(),\n",
    "    kernel_divergence_fn=kl_divergence_function)(layer2)\n",
    "\n",
    "layer4 = tfp.layers.DenseFlipout(\n",
    "    units=4,\n",
    "    activation='sigmoid',\n",
    "    kernel_posterior_fn=tfp.layers.default_mean_field_normal_fn(),\n",
    "    bias_posterior_fn=tfp.layers.default_mean_field_normal_fn(),\n",
    "    kernel_divergence_fn=kl_divergence_function)(layer3)\n",
    "\n",
    "out = tfp.layers.DenseFlipout(\n",
    "    units=2,\n",
    "    activation='softmax',\n",
    "    kernel_posterior_fn=tfp.layers.default_mean_field_normal_fn(),\n",
    "    bias_posterior_fn=tfp.layers.default_mean_field_normal_fn(),\n",
    "    kernel_divergence_fn=kl_divergence_function)(layer4)\n",
    "\n",
    "# Model compilation\n",
    "#bnn = tf.keras.Model(inputs=input_layer, outputs=dense_layer)\n",
    "bnn = tf.keras.Model(inputs=input_layer, outputs=out)\n",
    "optimizer = tf.keras.optimizers.Adam(learning_rate=0.01)\n",
    "  \n",
    "# We use the binary_crossentropy loss since this toy example contains\n",
    "# two labels. The Keras API will then automatically add the\n",
    "# Kullback-Leibler divergence (contained on the individual layers of\n",
    "# the model), to the cross entropy loss, effectively\n",
    "# calcuating the (negated) Evidence Lower Bound Loss (ELBO)\n",
    "bnn.compile(optimizer, loss='binary_crossentropy', metrics=['accuracy'])"
   ]
  },
  {
   "cell_type": "code",
   "execution_count": 13,
   "id": "6c70029b",
   "metadata": {},
   "outputs": [
    {
     "name": "stdout",
     "output_type": "stream",
     "text": [
      "Model: \"model\"\n",
      "_________________________________________________________________\n",
      " Layer (type)                Output Shape              Param #   \n",
      "=================================================================\n",
      " input_1 (InputLayer)        [(None, 13)]              0         \n",
      "                                                                 \n",
      " dense_flipout (DenseFlipout  (None, 26)               728       \n",
      " )                                                               \n",
      "                                                                 \n",
      " dense_flipout_1 (DenseFlipo  (None, 13)               702       \n",
      " ut)                                                             \n",
      "                                                                 \n",
      " dense_flipout_2 (DenseFlipo  (None, 8)                224       \n",
      " ut)                                                             \n",
      "                                                                 \n",
      " dense_flipout_3 (DenseFlipo  (None, 4)                72        \n",
      " ut)                                                             \n",
      "                                                                 \n",
      " dense_flipout_4 (DenseFlipo  (None, 2)                20        \n",
      " ut)                                                             \n",
      "                                                                 \n",
      "=================================================================\n",
      "Total params: 1,746\n",
      "Trainable params: 1,746\n",
      "Non-trainable params: 0\n",
      "_________________________________________________________________\n"
     ]
    }
   ],
   "source": [
    "bnn.summary()"
   ]
  },
  {
   "cell_type": "code",
   "execution_count": 14,
   "id": "494e0dfa",
   "metadata": {},
   "outputs": [
    {
     "name": "stdout",
     "output_type": "stream",
     "text": [
      "Epoch 1/25\n"
     ]
    },
    {
     "name": "stderr",
     "output_type": "stream",
     "text": [
      "2023-11-26 13:07:56.898836: I tensorflow/compiler/xla/service/service.cc:169] XLA service 0x7fdd9003b330 initialized for platform CUDA (this does not guarantee that XLA will be used). Devices:\n",
      "2023-11-26 13:07:56.898892: I tensorflow/compiler/xla/service/service.cc:177]   StreamExecutor device (0): NVIDIA GeForce GTX TITAN Black, Compute Capability 3.5\n",
      "2023-11-26 13:07:56.905451: I tensorflow/compiler/mlir/tensorflow/utils/dump_mlir_util.cc:269] disabling MLIR crash reproducer, set env var `MLIR_CRASH_REPRODUCER_DIRECTORY` to enable.\n",
      "2023-11-26 13:07:57.036695: I tensorflow/compiler/xla/stream_executor/cuda/cuda_dnn.cc:424] Loaded cuDNN version 8600\n",
      "2023-11-26 13:07:57.089561: I tensorflow/tsl/platform/default/subprocess.cc:304] Start cannot spawn child process: No such file or directory\n",
      "2023-11-26 13:07:57.150242: I ./tensorflow/compiler/jit/device_compiler.h:180] Compiled cluster using XLA!  This line is logged at most once for the lifetime of the process.\n"
     ]
    },
    {
     "name": "stdout",
     "output_type": "stream",
     "text": [
      "5391/5391 [==============================] - 89s 16ms/step - loss: 0.3501 - accuracy: 0.8879 - val_loss: 0.2917 - val_accuracy: 0.9057\n",
      "Epoch 2/25\n",
      "5391/5391 [==============================] - 84s 16ms/step - loss: 0.3174 - accuracy: 0.9008 - val_loss: 0.2579 - val_accuracy: 0.9143\n",
      "Epoch 3/25\n",
      "5391/5391 [==============================] - 85s 16ms/step - loss: 0.3116 - accuracy: 0.9024 - val_loss: 0.2867 - val_accuracy: 0.9055\n",
      "Epoch 4/25\n",
      "5391/5391 [==============================] - 85s 16ms/step - loss: 0.3066 - accuracy: 0.9030 - val_loss: 0.2982 - val_accuracy: 0.8998\n",
      "Epoch 5/25\n",
      "5391/5391 [==============================] - 85s 16ms/step - loss: 0.3027 - accuracy: 0.9020 - val_loss: 0.2564 - val_accuracy: 0.9139\n",
      "Epoch 6/25\n",
      "5391/5391 [==============================] - 84s 16ms/step - loss: 0.3004 - accuracy: 0.9031 - val_loss: 0.3280 - val_accuracy: 0.8774\n",
      "Epoch 7/25\n",
      "5391/5391 [==============================] - 85s 16ms/step - loss: 0.2992 - accuracy: 0.9022 - val_loss: 0.3256 - val_accuracy: 0.8859\n",
      "Epoch 8/25\n",
      "5391/5391 [==============================] - 84s 16ms/step - loss: 0.2977 - accuracy: 0.9029 - val_loss: 0.2975 - val_accuracy: 0.8986\n",
      "Epoch 9/25\n",
      "5391/5391 [==============================] - 84s 16ms/step - loss: 0.2964 - accuracy: 0.9026 - val_loss: 0.2636 - val_accuracy: 0.9078\n",
      "Epoch 10/25\n",
      "5391/5391 [==============================] - 84s 16ms/step - loss: 0.2959 - accuracy: 0.9027 - val_loss: 0.2604 - val_accuracy: 0.9177\n",
      "Epoch 11/25\n",
      "5391/5391 [==============================] - 85s 16ms/step - loss: 0.2954 - accuracy: 0.9024 - val_loss: 0.2950 - val_accuracy: 0.8920\n",
      "Epoch 12/25\n",
      "5391/5391 [==============================] - 85s 16ms/step - loss: 0.2952 - accuracy: 0.9013 - val_loss: 0.2766 - val_accuracy: 0.9034\n",
      "Epoch 13/25\n",
      "5391/5391 [==============================] - 85s 16ms/step - loss: 0.2943 - accuracy: 0.9019 - val_loss: 0.2516 - val_accuracy: 0.9150\n",
      "Epoch 14/25\n",
      "5391/5391 [==============================] - 85s 16ms/step - loss: 0.2940 - accuracy: 0.9026 - val_loss: 0.2630 - val_accuracy: 0.9085\n",
      "Epoch 15/25\n",
      "5391/5391 [==============================] - 85s 16ms/step - loss: 0.2931 - accuracy: 0.9033 - val_loss: 0.3247 - val_accuracy: 0.8708\n",
      "Epoch 16/25\n",
      "5391/5391 [==============================] - 85s 16ms/step - loss: 0.2930 - accuracy: 0.9025 - val_loss: 0.2610 - val_accuracy: 0.9102\n",
      "Epoch 17/25\n",
      "5391/5391 [==============================] - 85s 16ms/step - loss: 0.2920 - accuracy: 0.9020 - val_loss: 0.2604 - val_accuracy: 0.9107\n",
      "Epoch 18/25\n",
      "5391/5391 [==============================] - 85s 16ms/step - loss: 0.2920 - accuracy: 0.9042 - val_loss: 0.2988 - val_accuracy: 0.8934\n",
      "Epoch 19/25\n",
      "5391/5391 [==============================] - 85s 16ms/step - loss: 0.2917 - accuracy: 0.9039 - val_loss: 0.2908 - val_accuracy: 0.8993\n",
      "Epoch 20/25\n",
      "5391/5391 [==============================] - 85s 16ms/step - loss: 0.2914 - accuracy: 0.9046 - val_loss: 0.2670 - val_accuracy: 0.9141\n",
      "Epoch 21/25\n",
      "5391/5391 [==============================] - 84s 16ms/step - loss: 0.2918 - accuracy: 0.9055 - val_loss: 0.2854 - val_accuracy: 0.9040\n",
      "Epoch 22/25\n",
      "5391/5391 [==============================] - 85s 16ms/step - loss: 0.2914 - accuracy: 0.9049 - val_loss: 0.3036 - val_accuracy: 0.9025\n",
      "Epoch 23/25\n",
      "5391/5391 [==============================] - 84s 16ms/step - loss: 0.2916 - accuracy: 0.9050 - val_loss: 0.2720 - val_accuracy: 0.9068\n",
      "Epoch 24/25\n",
      "5391/5391 [==============================] - 85s 16ms/step - loss: 0.2911 - accuracy: 0.9058 - val_loss: 0.2587 - val_accuracy: 0.9089\n",
      "Epoch 25/25\n",
      "5391/5391 [==============================] - 84s 16ms/step - loss: 0.2914 - accuracy: 0.9054 - val_loss: 0.2579 - val_accuracy: 0.9148\n"
     ]
    }
   ],
   "source": [
    "history = bnn.fit( xTrain, tf.one_hot(yTrain,nClasses), \n",
    "                   epochs=25, verbose=1, batch_size=128, class_weight=class_weight,\n",
    "                   use_multiprocessing=True, validation_split=0.2)"
   ]
  },
  {
   "cell_type": "code",
   "execution_count": 15,
   "id": "119724ee",
   "metadata": {},
   "outputs": [
    {
     "data": {
      "text/plain": [
       "Text(0.5, 0, 'Epoch')"
      ]
     },
     "execution_count": 15,
     "metadata": {},
     "output_type": "execute_result"
    },
    {
     "data": {
      "image/png": "[encoded data removed]",
      "text/plain": [
       "<Figure size 432x288 with 1 Axes>"
      ]
     },
     "metadata": {
      "needs_background": "light"
     },
     "output_type": "display_data"
    }
   ],
   "source": [
    "plt.plot( history.history['accuracy'], label=\"Accuracy\")\n",
    "#plt.plot( history.history['val_accuracy'], label=\"val_acc\")\n",
    "plt.title('Model Accuracy')\n",
    "plt.ylabel('Accuracy')\n",
    "plt.xlabel('Epoch')\n",
    "#plt.legend()"
   ]
  },
  {
   "cell_type": "code",
   "execution_count": 16,
   "id": "87cacc97",
   "metadata": {},
   "outputs": [
    {
     "data": {
      "text/plain": [
       "<matplotlib.legend.Legend at 0x7fdec1694520>"
      ]
     },
     "execution_count": 16,
     "metadata": {},
     "output_type": "execute_result"
    },
    {
     "data": {
      "image/png": "[encoded data removed]",
      "text/plain": [
       "<Figure size 432x288 with 1 Axes>"
      ]
     },
     "metadata": {
      "needs_background": "light"
     },
     "output_type": "display_data"
    }
   ],
   "source": [
    "plt.plot( history.history['loss'], label=\"loss\")\n",
    "plt.plot( history.history['val_loss'], label=\"val_loss\")\n",
    "plt.title('Model Loss')\n",
    "plt.ylabel('Loss')\n",
    "plt.xlabel('Epoch')\n",
    "plt.legend()"
   ]
  },
  {
   "cell_type": "code",
   "execution_count": 17,
   "id": "900420d6",
   "metadata": {},
   "outputs": [],
   "source": [
    "# serialize weights to HDF5\n",
    "bnn.save_weights(\"bnn_binary.h5\")"
   ]
  },
  {
   "cell_type": "markdown",
   "id": "ae0a0f29",
   "metadata": {},
   "source": [
    "### Analysis"
   ]
  },
  {
   "cell_type": "code",
   "execution_count": 30,
   "id": "91eefec2",
   "metadata": {},
   "outputs": [],
   "source": [
    "nClasses = 2\n",
    "bnn.load_weights(\"bnn_binary.h5\")"
   ]
  },
  {
   "cell_type": "code",
   "execution_count": 31,
   "id": "af858d85",
   "metadata": {},
   "outputs": [],
   "source": [
    "import numpy as np\n",
    "\n",
    "def getPredictions( model, data, T ):\n",
    "\n",
    "    n = data.shape[0]\n",
    "    preds = np.zeros( shape=(n,nClasses,T) )\n",
    "    \n",
    "    for t in range(T):\n",
    "        if ( t == 10 ): print(\"Iteration 10...\")\n",
    "        if ( t == 30 ): print(\"Iteration 30...\")\n",
    "        if ( t == 50 ): print(\"Iteration 50...\")\n",
    "        if ( t == 70 ): print(\"Iteration 70...\")\n",
    "        if ( t == 90 ): print(\"Iteration 90...\")\n",
    "        preds[:,:,t] = model(data)\n",
    "        \n",
    "    return preds"
   ]
  },
  {
   "cell_type": "code",
   "execution_count": 32,
   "id": "9bf48df9",
   "metadata": {},
   "outputs": [
    {
     "name": "stdout",
     "output_type": "stream",
     "text": [
      "Iteration 10...\n",
      "Iteration 30...\n",
      "Iteration 50...\n",
      "Iteration 70...\n",
      "Iteration 90...\n"
     ]
    },
    {
     "data": {
      "text/plain": [
       "(215629, 2, 100)"
      ]
     },
     "execution_count": 32,
     "metadata": {},
     "output_type": "execute_result"
    }
   ],
   "source": [
    "T = 100\n",
    "preds = getPredictions( bnn, xTest.values, T )\n",
    "preds.shape"
   ]
  },
  {
   "cell_type": "code",
   "execution_count": 33,
   "id": "f6054b90",
   "metadata": {},
   "outputs": [],
   "source": [
    "def getUncertainty( preds, T ):\n",
    "    \n",
    "    n = preds.shape[0]\n",
    "    errors = np.zeros( shape=(n, nClasses) )\n",
    "    means = np.zeros( shape=(n, nClasses) )\n",
    "    \n",
    "    for ix in range(n):\n",
    "        for j in range(nClasses):\n",
    "        \n",
    "            means[ix,j] = np.mean( preds[ix,j,:] )\n",
    "            #errors[ix,j] = (1./T) * np.sum( (preds[ix,j,:] - means[ix,j])**2 )\n",
    "            errors[ix,j] = 2. * np.std(preds[ix,j,:])\n",
    "            \n",
    "    return means, errors"
   ]
  },
  {
   "cell_type": "code",
   "execution_count": 34,
   "id": "9a7053ea",
   "metadata": {},
   "outputs": [],
   "source": [
    "means, errors = getUncertainty( preds, T )"
   ]
  },
  {
   "cell_type": "code",
   "execution_count": 35,
   "id": "ea15ee5b",
   "metadata": {},
   "outputs": [],
   "source": [
    "bnnPreds = []\n",
    "for ix in range(len(means)):\n",
    "    ix = np.where( means[ix] == np.max(means[ix]) )\n",
    "    bnnPreds.append( ix[0][0] )\n",
    "\n",
    "bnnPreds = np.array(bnnPreds)"
   ]
  },
  {
   "cell_type": "code",
   "execution_count": 36,
   "id": "9d999949",
   "metadata": {},
   "outputs": [],
   "source": [
    "font = {'family' : 'normal',\n",
    "    'weight' : 'bold',\n",
    "    'size'   : 22}\n",
    "plt.rc('font', **font)"
   ]
  },
  {
   "cell_type": "code",
   "execution_count": 37,
   "id": "0723dfea",
   "metadata": {},
   "outputs": [],
   "source": [
    "from sklearn.metrics import confusion_matrix, ConfusionMatrixDisplay\n",
    "\n",
    "cm = confusion_matrix( yTest, bnnPreds, normalize='true' )"
   ]
  },
  {
   "cell_type": "code",
   "execution_count": 39,
   "id": "a836b4a7",
   "metadata": {},
   "outputs": [
    {
     "data": {
      "text/plain": [
       "<sklearn.metrics._plot.confusion_matrix.ConfusionMatrixDisplay at 0x7fdea62b9940>"
      ]
     },
     "execution_count": 39,
     "metadata": {},
     "output_type": "execute_result"
    },
    {
     "name": "stderr",
     "output_type": "stream",
     "text": [
      "findfont: Font family ['normal'] not found. Falling back to DejaVu Sans.\n"
     ]
    },
    {
     "data": {
      "image/png": "[encoded data removed]",
      "text/plain": [
       "<Figure size 720x720 with 2 Axes>"
      ]
     },
     "metadata": {
      "needs_background": "light"
     },
     "output_type": "display_data"
    }
   ],
   "source": [
    "fig, ax = plt.subplots(figsize=(10, 10))\n",
    "disp = ConfusionMatrixDisplay( confusion_matrix=cm, display_labels=le.inverse_transform([0,1]))#rf.classes_)\n",
    "disp.plot(ax=ax, cmap='gist_yarg')"
   ]
  },
  {
   "cell_type": "code",
   "execution_count": 41,
   "id": "1302335f",
   "metadata": {},
   "outputs": [
    {
     "name": "stdout",
     "output_type": "stream",
     "text": [
      "Balanced Accuracy: 0.8841\n",
      "Macro F1: 0.8019\n",
      "Macro Precision: 0.7568\n",
      "Macro Recall: 0.8841\n"
     ]
    }
   ],
   "source": [
    "from sklearn.metrics import f1_score\n",
    "from sklearn.metrics import recall_score\n",
    "from sklearn.metrics import precision_score\n",
    "from sklearn.metrics import balanced_accuracy_score\n",
    "\n",
    "print( \"Balanced Accuracy:\", np.round( balanced_accuracy_score(yTest.values, bnnPreds), 4 ))\n",
    "print( \"Macro F1:\", np.round( f1_score(yTest.values, bnnPreds, average='macro'), 4 ))\n",
    "print( \"Macro Precision:\", np.round( precision_score(yTest.values, bnnPreds, average='macro'), 4 ))\n",
    "print( \"Macro Recall:\", np.round( recall_score(yTest.values, bnnPreds, average='macro'), 4 ))"
   ]
  },
  {
   "cell_type": "markdown",
   "id": "a5f7d01f",
   "metadata": {},
   "source": [
    "#### Hypothesis Testing"
   ]
  },
  {
   "cell_type": "code",
   "execution_count": 42,
   "id": "e40860ea",
   "metadata": {},
   "outputs": [],
   "source": [
    "from scipy import stats\n",
    "\n",
    "def tTest( sample1, sample2 ):\n",
    "    \n",
    "    t_stat, p_value = stats.ttest_ind( sample1, sample2 )\n",
    "\n",
    "    # True = significant difference, False = not significant\n",
    "    alpha = 0.05\n",
    "    if p_value < alpha:\n",
    "        return True\n",
    "    else:\n",
    "        return False"
   ]
  },
  {
   "cell_type": "code",
   "execution_count": 43,
   "id": "f21b1255",
   "metadata": {},
   "outputs": [
    {
     "name": "stdout",
     "output_type": "stream",
     "text": [
      "Total buildins: 215629\n",
      "Predications made: 207780\n",
      "% of buildings with prediction: 96.36\n"
     ]
    }
   ],
   "source": [
    "ixs = []\n",
    "bnnPreds = []\n",
    "predsMade = 0\n",
    "n = preds.shape[0]\n",
    "\n",
    "noPrediction = []\n",
    "\n",
    "for i in range(n):\n",
    "    \n",
    "    ix = np.argsort( -means[i,:] ) # sort in descending order\n",
    "    \n",
    "    sample1 = preds[i, ix[0], :]\n",
    "    sample2 = preds[i, ix[1], :]\n",
    "    significant = tTest( sample1, sample2 )\n",
    "    \n",
    "    mx = np.max( means[i,:] )\n",
    "    ix = np.where( means[i,:] == mx )\n",
    "    \n",
    "    if ( significant and (mx >= 0.65) ):\n",
    "        predsMade += 1\n",
    "        bnnPreds.append(ix[0][0])\n",
    "        ixs.append(i)\n",
    "    else:\n",
    "        noPrediction.append(i)\n",
    "        \n",
    "print(\"Total buildins:\", n)\n",
    "print(\"Predications made:\", predsMade)\n",
    "print(\"% of buildings with prediction:\", np.round( (predsMade/n)*100., 2) )"
   ]
  },
  {
   "cell_type": "code",
   "execution_count": 44,
   "id": "671e44b4",
   "metadata": {},
   "outputs": [],
   "source": [
    "cm = confusion_matrix( yTest.values[ixs], bnnPreds, normalize='true' )"
   ]
  },
  {
   "cell_type": "code",
   "execution_count": 45,
   "id": "cd48acd5",
   "metadata": {},
   "outputs": [
    {
     "data": {
      "text/plain": [
       "<sklearn.metrics._plot.confusion_matrix.ConfusionMatrixDisplay at 0x7fdec2010a30>"
      ]
     },
     "execution_count": 45,
     "metadata": {},
     "output_type": "execute_result"
    },
    {
     "data": {
      "image/png": "[encoded data removed]",
      "text/plain": [
       "<Figure size 720x720 with 2 Axes>"
      ]
     },
     "metadata": {
      "needs_background": "light"
     },
     "output_type": "display_data"
    }
   ],
   "source": [
    "fig, ax = plt.subplots(figsize=(10, 10))\n",
    "disp = ConfusionMatrixDisplay( confusion_matrix=cm, display_labels=le.inverse_transform([0,1]))#rf.classes_)\n",
    "disp.plot(ax=ax, cmap='gist_yarg')"
   ]
  },
  {
   "cell_type": "code",
   "execution_count": 49,
   "id": "8e5dfab2",
   "metadata": {},
   "outputs": [
    {
     "name": "stdout",
     "output_type": "stream",
     "text": [
      "Balanced Accuracy: 0.8991\n",
      "Macro F1: 0.8253\n",
      "Macro Precision: 0.7808\n",
      "Macro Recall: 0.8991\n"
     ]
    }
   ],
   "source": [
    "print( \"Balanced Accuracy:\", np.round( balanced_accuracy_score(yTest.values[ixs], bnnPreds), 4 ))\n",
    "print( \"Macro F1:\", np.round( f1_score(yTest.values[ixs], bnnPreds, average='macro'), 4 ))\n",
    "print( \"Macro Precision:\", np.round( precision_score(yTest.values[ixs], bnnPreds, average='macro'), 4 ))\n",
    "print( \"Macro Recall:\", np.round( recall_score(yTest.values[ixs], bnnPreds, average='macro'), 4 ))"
   ]
  },
  {
   "cell_type": "code",
   "execution_count": null,
   "id": "27e1d3e6",
   "metadata": {},
   "outputs": [],
   "source": []
  },
  {
   "cell_type": "code",
   "execution_count": 10,
   "id": "5006cb2c",
   "metadata": {},
   "outputs": [],
   "source": [
    "font = {'family' : 'normal',\n",
    "        'weight' : 'bold',\n",
    "        'size'   : 16}\n",
    "\n",
    "plt.rc('font', **font)"
   ]
  },
  {
   "cell_type": "code",
   "execution_count": 20,
   "id": "538cf18c",
   "metadata": {},
   "outputs": [
    {
     "data": {
      "image/png": "[encoded data removed]",
      "text/plain": [
       "<Figure size 1080x360 with 3 Axes>"
      ]
     },
     "metadata": {
      "needs_background": "light"
     },
     "output_type": "display_data"
    }
   ],
   "source": [
    "fig, (ax1, ax2, ax3) = plt.subplots(1, 3, figsize=(15,5))\n",
    "\n",
    "ax1.scatter( [1,2], [40,60], s=52 )\n",
    "ax1.set_ylim( 0, 100 )\n",
    "ax1.set_xlim( 0, 3 )\n",
    "ax1.set_title( 'Neural Network')\n",
    "ax1.set_ylabel( 'Probability (%)' )\n",
    "ax1.xaxis.set_tick_params(labelbottom=False)\n",
    "\n",
    "ax2.errorbar( [1,2], [40, 60], yerr=[5,5], fmt=\"o\" )\n",
    "ax2.set_ylim( 0, 100 )\n",
    "ax2.set_xlim( 0, 3 )\n",
    "ax2.set_title( 'BNN' )\n",
    "ax2.xaxis.set_tick_params(labelbottom=False)\n",
    "\n",
    "ax3.errorbar( [1,2], [45, 55], yerr=[15,15], fmt=\"o\" )\n",
    "ax3.set_ylim( 0, 100 )\n",
    "ax3.set_xlim( 0, 3 )\n",
    "ax3.set_title( 'BNN' )\n",
    "ax3.xaxis.set_tick_params(labelbottom=False)"
   ]
  },
  {
   "cell_type": "code",
   "execution_count": 88,
   "id": "23e0faeb",
   "metadata": {},
   "outputs": [
    {
     "name": "stdout",
     "output_type": "stream",
     "text": [
      "2 [0.05852261 0.10924447 0.83223292] [0.00330635 0.00526524 0.00806944]\n"
     ]
    },
    {
     "data": {
      "text/plain": [
       "Text(0, 0.5, 'Probability')"
      ]
     },
     "execution_count": 88,
     "metadata": {},
     "output_type": "execute_result"
    },
    {
     "data": {
      "image/png": "[encoded data removed]",
      "text/plain": [
       "<Figure size 432x288 with 1 Axes>"
      ]
     },
     "metadata": {
      "needs_background": "light"
     },
     "output_type": "display_data"
    }
   ],
   "source": [
    "for i in range( means.shape[0] ):\n",
    "\n",
    "    mx = np.max( means[i,:] )\n",
    "    ex = np.max( errors[i,:] )\n",
    "    if ( mx > 0.7 and yTest.iloc[i] == 2  and ex < 0.1 ):\n",
    "        print( yTest.iloc[i], means[i,:], errors[i,:] )\n",
    "        x = [1,2,3]\n",
    "        y = means[i,:]*100.\n",
    "        e = errors[i,:]*100.\n",
    "        break \n",
    "        \n",
    "plt.scatter( x, y ) \n",
    "plt.errorbar( x, y, yerr=e, fmt=\"o\")\n",
    "plt.ylim(0,100)\n",
    "plt.title('Probabilistic Building Type Prediction')\n",
    "plt.ylabel('Probability')"
   ]
  },
  {
   "cell_type": "code",
   "execution_count": null,
   "id": "36740e36",
   "metadata": {},
   "outputs": [],
   "source": []
  },
  {
   "cell_type": "code",
   "execution_count": null,
   "id": "57530152",
   "metadata": {},
   "outputs": [],
   "source": []
  }
 ],
 "metadata": {
  "kernelspec": {
   "display_name": "Python 3 (ipykernel)",
   "language": "python",
   "name": "python3"
  },
  "language_info": {
   "codemirror_mode": {
    "name": "ipython",
    "version": 3
   },
   "file_extension": ".py",
   "mimetype": "text/x-python",
   "name": "python",
   "nbconvert_exporter": "python",
   "pygments_lexer": "ipython3",
   "version": "3.9.13"
  }
 },
 "nbformat": 4,
 "nbformat_minor": 5
}
