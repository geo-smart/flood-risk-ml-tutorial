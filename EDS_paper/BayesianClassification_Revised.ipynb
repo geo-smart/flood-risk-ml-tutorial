{
 "cells": [
  {
   "cell_type": "code",
   "execution_count": 1,
   "id": "d1bb37a6",
   "metadata": {},
   "outputs": [
    {
     "name": "stderr",
     "output_type": "stream",
     "text": [
      "2024-12-10 10:53:40.860321: I tensorflow/core/platform/cpu_feature_guard.cc:182] This TensorFlow binary is optimized to use available CPU instructions in performance-critical operations.\n",
      "To enable the following instructions: AVX2 AVX512F FMA, in other operations, rebuild TensorFlow with the appropriate compiler flags.\n",
      "2024-12-10 10:53:41.431474: W tensorflow/compiler/tf2tensorrt/utils/py_utils.cc:38] TF-TRT Warning: Could not find TensorRT\n"
     ]
    }
   ],
   "source": [
    "import pickle\n",
    "import numpy as np\n",
    "import pandas as pd\n",
    "import tensorflow as tf\n",
    "from tensorflow import keras\n",
    "from sklearn import preprocessing\n",
    "from tensorflow.keras import layers\n",
    "import tensorflow_probability as tfp\n",
    "from tensorflow.keras.layers import Dense\n",
    "from tensorflow.keras.optimizers import Adam\n",
    "from tensorflow.keras.models import Sequential\n",
    "\n",
    "import matplotlib.pyplot as plt"
   ]
  },
  {
   "cell_type": "markdown",
   "id": "d9e19465",
   "metadata": {},
   "source": [
    "### Setup and Configuration"
   ]
  },
  {
   "cell_type": "code",
   "execution_count": 55,
   "id": "68eb4db6",
   "metadata": {},
   "outputs": [],
   "source": [
    "# North Carolina data\n",
    "url = \"https://github.com/geo-smart/flood-risk-ml-tutorial/blob/main/North_Carolina_Buildings.zip?raw=true\"\n",
    "\n",
    "# read data into a Pandas dataframe\n",
    "rawDf = pd.read_csv(url, compression=\"zip\")\n",
    "\n",
    "# ignore first few columns, which are FIPs codes, not needed for ML\n",
    "rawDf = rawDf.iloc[:, 3:] \n",
    "df = rawDf.copy( deep=True )"
   ]
  },
  {
   "cell_type": "code",
   "execution_count": 56,
   "id": "999bfa70",
   "metadata": {},
   "outputs": [
    {
     "name": "stdout",
     "output_type": "stream",
     "text": [
      "\n",
      "BuildingType\n",
      "Residential    976690\n",
      "Commercial      64029\n",
      "Other           37425\n",
      "Name: count, dtype: int64\n",
      "\n",
      "BuildingType\n",
      "Residential     1.000000\n",
      "Commercial     15.253869\n",
      "Other          26.097261\n",
      "Name: count, dtype: float64\n",
      "\n"
     ]
    }
   ],
   "source": [
    "# classify a building as \"Residential\", \"Commercial\", or \"Other\"\n",
    "df.loc[df[\"BuildingType\"] == \"Industrial\", \"BuildingType\"] = 'Other'\n",
    "df.loc[df[\"BuildingType\"] == \"Assembly\", \"BuildingType\"] = 'Other'\n",
    "df.loc[df[\"BuildingType\"] == \"Education\", \"BuildingType\"] = 'Other'\n",
    "df.loc[df[\"BuildingType\"] == \"Government\", \"BuildingType\"] = 'Other'\n",
    "df.loc[df[\"BuildingType\"] == \"Agriculture\", \"BuildingType\"] = 'Other'\n",
    "df.loc[df[\"BuildingType\"] == \"Utility and Misc\", \"BuildingType\"] = 'Other'\n",
    "\n",
    "# building type distributions\n",
    "print()\n",
    "print( df['BuildingType'].value_counts() )\n",
    "print()\n",
    "print( 976690/df['BuildingType'].value_counts() )\n",
    "print()"
   ]
  },
  {
   "cell_type": "code",
   "execution_count": 57,
   "id": "195ceac5",
   "metadata": {},
   "outputs": [],
   "source": [
    "df = df.drop( columns=['X', 'Y'] )\n",
    "\n",
    "df = df.dropna()\n",
    "df = df.sample(frac=1) # shuffle the dataframe (technically, we randomly resample the entire df)"
   ]
  },
  {
   "cell_type": "code",
   "execution_count": 58,
   "id": "b3d50fb9",
   "metadata": {},
   "outputs": [],
   "source": [
    "le = preprocessing.LabelEncoder()\n",
    "\n",
    "# encode building types\n",
    "X = df.drop(['BuildingType'], axis=1)\n",
    "y = df['BuildingType'].values\n",
    "\n",
    "le.fit( y ) \n",
    "y = le.transform( y )\n",
    "y = y.astype(int)"
   ]
  },
  {
   "cell_type": "code",
   "execution_count": 59,
   "id": "1fb16617",
   "metadata": {},
   "outputs": [
    {
     "data": {
      "text/html": [
       "<div>\n",
       "<style scoped>\n",
       "    .dataframe tbody tr th:only-of-type {\n",
       "        vertical-align: middle;\n",
       "    }\n",
       "\n",
       "    .dataframe tbody tr th {\n",
       "        vertical-align: top;\n",
       "    }\n",
       "\n",
       "    .dataframe thead th {\n",
       "        text-align: right;\n",
       "    }\n",
       "</style>\n",
       "<table border=\"1\" class=\"dataframe\">\n",
       "  <thead>\n",
       "    <tr style=\"text-align: right;\">\n",
       "      <th></th>\n",
       "      <th>Area</th>\n",
       "      <th>MedianIncomeCounty</th>\n",
       "      <th>HousingUnitsCounty</th>\n",
       "      <th>HousingDensityCounty</th>\n",
       "      <th>Impervious</th>\n",
       "      <th>AgCount</th>\n",
       "      <th>CmCount</th>\n",
       "      <th>GvCount</th>\n",
       "      <th>EdCount</th>\n",
       "      <th>InCount</th>\n",
       "      <th>OsmNearestRoad</th>\n",
       "    </tr>\n",
       "  </thead>\n",
       "  <tbody>\n",
       "    <tr>\n",
       "      <th>359097</th>\n",
       "      <td>160.527600</td>\n",
       "      <td>30173.0</td>\n",
       "      <td>232277.0</td>\n",
       "      <td>0.429110</td>\n",
       "      <td>17.000000</td>\n",
       "      <td>21</td>\n",
       "      <td>45798</td>\n",
       "      <td>18</td>\n",
       "      <td>915</td>\n",
       "      <td>8411</td>\n",
       "      <td>4</td>\n",
       "    </tr>\n",
       "    <tr>\n",
       "      <th>119747</th>\n",
       "      <td>150.697572</td>\n",
       "      <td>35468.0</td>\n",
       "      <td>83788.0</td>\n",
       "      <td>0.351656</td>\n",
       "      <td>28.333333</td>\n",
       "      <td>44</td>\n",
       "      <td>13966</td>\n",
       "      <td>6</td>\n",
       "      <td>311</td>\n",
       "      <td>5324</td>\n",
       "      <td>4</td>\n",
       "    </tr>\n",
       "    <tr>\n",
       "      <th>46139</th>\n",
       "      <td>381.525728</td>\n",
       "      <td>19820.0</td>\n",
       "      <td>32637.0</td>\n",
       "      <td>0.603428</td>\n",
       "      <td>87.000000</td>\n",
       "      <td>30</td>\n",
       "      <td>5381</td>\n",
       "      <td>0</td>\n",
       "      <td>123</td>\n",
       "      <td>1181</td>\n",
       "      <td>9</td>\n",
       "    </tr>\n",
       "    <tr>\n",
       "      <th>618341</th>\n",
       "      <td>140.525700</td>\n",
       "      <td>36443.0</td>\n",
       "      <td>478966.0</td>\n",
       "      <td>0.429380</td>\n",
       "      <td>47.000000</td>\n",
       "      <td>38</td>\n",
       "      <td>118034</td>\n",
       "      <td>39</td>\n",
       "      <td>2607</td>\n",
       "      <td>17352</td>\n",
       "      <td>4</td>\n",
       "    </tr>\n",
       "    <tr>\n",
       "      <th>947104</th>\n",
       "      <td>673.464400</td>\n",
       "      <td>41189.0</td>\n",
       "      <td>462582.0</td>\n",
       "      <td>0.409578</td>\n",
       "      <td>20.000000</td>\n",
       "      <td>119</td>\n",
       "      <td>105723</td>\n",
       "      <td>30</td>\n",
       "      <td>2778</td>\n",
       "      <td>17780</td>\n",
       "      <td>4</td>\n",
       "    </tr>\n",
       "  </tbody>\n",
       "</table>\n",
       "</div>"
      ],
      "text/plain": [
       "              Area  MedianIncomeCounty  HousingUnitsCounty  \\\n",
       "359097  160.527600             30173.0            232277.0   \n",
       "119747  150.697572             35468.0             83788.0   \n",
       "46139   381.525728             19820.0             32637.0   \n",
       "618341  140.525700             36443.0            478966.0   \n",
       "947104  673.464400             41189.0            462582.0   \n",
       "\n",
       "        HousingDensityCounty  Impervious  AgCount  CmCount  GvCount  EdCount  \\\n",
       "359097              0.429110   17.000000       21    45798       18      915   \n",
       "119747              0.351656   28.333333       44    13966        6      311   \n",
       "46139               0.603428   87.000000       30     5381        0      123   \n",
       "618341              0.429380   47.000000       38   118034       39     2607   \n",
       "947104              0.409578   20.000000      119   105723       30     2778   \n",
       "\n",
       "        InCount OsmNearestRoad  \n",
       "359097     8411              4  \n",
       "119747     5324              4  \n",
       "46139      1181              9  \n",
       "618341    17352              4  \n",
       "947104    17780              4  "
      ]
     },
     "execution_count": 59,
     "metadata": {},
     "output_type": "execute_result"
    }
   ],
   "source": [
    "# encode nearest roads\n",
    "le2 = preprocessing.LabelEncoder()\n",
    "le2.fit( X.iloc[:, -1] ) # nearest road type\n",
    "X.iloc[:, -1] = le2.transform( X.iloc[:, -1] )\n",
    "X.head()"
   ]
  },
  {
   "cell_type": "markdown",
   "id": "dcaa9aaf",
   "metadata": {},
   "source": [
    "### Apply Undersampling"
   ]
  },
  {
   "cell_type": "code",
   "execution_count": 60,
   "id": "26a6b97f",
   "metadata": {},
   "outputs": [
    {
     "name": "stdout",
     "output_type": "stream",
     "text": [
      "[0 1 2]\n",
      "['Commercial' 'Other' 'Residential']\n"
     ]
    }
   ],
   "source": [
    "print( np.unique( y ) )\n",
    "print( le.inverse_transform([0,1,2]) )"
   ]
  },
  {
   "cell_type": "code",
   "execution_count": 71,
   "id": "85e2165a",
   "metadata": {},
   "outputs": [],
   "source": [
    "#from imblearn.under_sampling import RandomUnderSampler\n",
    "from imblearn.under_sampling import NearMiss\n",
    "\n",
    "# define the undersampling method\n",
    "nm = NearMiss( version=1 )\n",
    "\n",
    "# transform the dataset\n",
    "Xsub, ysub = nm.fit_resample( X.values, y )"
   ]
  },
  {
   "cell_type": "code",
   "execution_count": 72,
   "id": "99e2e7f7",
   "metadata": {},
   "outputs": [
    {
     "name": "stdout",
     "output_type": "stream",
     "text": [
      "Class 0 37424\n",
      "Class 1 37424\n",
      "Class 2 37424\n"
     ]
    }
   ],
   "source": [
    "for i in range(3):\n",
    "\n",
    "    ix = np.where( ysub == i )\n",
    "    print( \"Class\", i, len(ix[0]) )"
   ]
  },
  {
   "cell_type": "markdown",
   "id": "9be4b2e0",
   "metadata": {},
   "source": [
    "### Visualize features"
   ]
  },
  {
   "cell_type": "code",
   "execution_count": 73,
   "id": "dce75cb7",
   "metadata": {},
   "outputs": [
    {
     "data": {
      "text/plain": [
       "Index(['Area', 'MedianIncomeCounty', 'HousingUnitsCounty',\n",
       "       'HousingDensityCounty', 'Impervious', 'AgCount', 'CmCount', 'GvCount',\n",
       "       'EdCount', 'InCount', 'OsmNearestRoad'],\n",
       "      dtype='object')"
      ]
     },
     "execution_count": 73,
     "metadata": {},
     "output_type": "execute_result"
    }
   ],
   "source": [
    "columns = X.columns\n",
    "columns"
   ]
  },
  {
   "cell_type": "code",
   "execution_count": 74,
   "id": "b870711a",
   "metadata": {},
   "outputs": [
    {
     "data": {
      "text/plain": [
       "Text(0.5, 1.0, 'HousingDensityCounty')"
      ]
     },
     "execution_count": 74,
     "metadata": {},
     "output_type": "execute_result"
    },
    {
     "data": {
      "image/png": "[encoded data removed]",
      "text/plain": [
       "<Figure size 1440x360 with 4 Axes>"
      ]
     },
     "metadata": {
      "needs_background": "light"
     },
     "output_type": "display_data"
    }
   ],
   "source": [
    "fig, axes = plt.subplots(1, 4, figsize=(20, 5))\n",
    "\n",
    "axes[0].hist( np.log10(Xsub[:,0]) )\n",
    "axes[0].set_title('Log10' + columns[0])\n",
    "axes[0].set_yscale('log')\n",
    "\n",
    "axes[1].hist( Xsub[:,1] )\n",
    "axes[1].set_title(columns[1])\n",
    "#axes[1].set_yscale('log')\n",
    "\n",
    "axes[2].hist( Xsub[:,2] )\n",
    "axes[2].set_title(columns[2])\n",
    "#axes[2].set_yscale('log')\n",
    "\n",
    "axes[3].hist( Xsub[:,3] )\n",
    "axes[3].set_title(columns[3])\n",
    "#axes[3].set_yscale('log')"
   ]
  },
  {
   "cell_type": "code",
   "execution_count": 75,
   "id": "41f89d1b",
   "metadata": {},
   "outputs": [
    {
     "data": {
      "text/plain": [
       "Text(0.5, 1.0, 'GvCount')"
      ]
     },
     "execution_count": 75,
     "metadata": {},
     "output_type": "execute_result"
    },
    {
     "data": {
      "image/png": "[encoded data removed]",
      "text/plain": [
       "<Figure size 1440x360 with 4 Axes>"
      ]
     },
     "metadata": {
      "needs_background": "light"
     },
     "output_type": "display_data"
    }
   ],
   "source": [
    "fig, axes = plt.subplots(1, 4, figsize=(20, 5))\n",
    "\n",
    "axes[0].hist( Xsub[:,4] )\n",
    "axes[0].set_title(columns[4])\n",
    "#axes[0].set_yscale('log')\n",
    "\n",
    "axes[1].hist( Xsub[:,5] )\n",
    "axes[1].set_title(columns[5])\n",
    "#axes[1].set_yscale('log')\n",
    "\n",
    "axes[2].hist( Xsub[:,6] )\n",
    "axes[2].set_title(columns[6])\n",
    "#axes[2].set_yscale('log')\n",
    "\n",
    "axes[3].hist( Xsub[:,7] )\n",
    "axes[3].set_title(columns[7])\n",
    "#axes[3].set_yscale('log')"
   ]
  },
  {
   "cell_type": "code",
   "execution_count": 76,
   "id": "deb31b4c",
   "metadata": {},
   "outputs": [
    {
     "data": {
      "text/plain": [
       "Text(0.5, 1.0, 'OsmNearestRoad')"
      ]
     },
     "execution_count": 76,
     "metadata": {},
     "output_type": "execute_result"
    },
    {
     "data": {
      "image/png": "[encoded data removed]",
      "text/plain": [
       "<Figure size 1440x360 with 3 Axes>"
      ]
     },
     "metadata": {
      "needs_background": "light"
     },
     "output_type": "display_data"
    }
   ],
   "source": [
    "fig, axes = plt.subplots(1, 3, figsize=(20, 5))\n",
    "\n",
    "axes[0].hist( Xsub[:,8] )\n",
    "axes[0].set_title(columns[8])\n",
    "#axes[0].set_yscale('log')\n",
    "\n",
    "axes[1].hist( Xsub[:,9] )\n",
    "axes[1].set_title(columns[9])\n",
    "#axes[1].set_yscale('log')\n",
    "\n",
    "axes[2].hist( Xsub[:,10] )\n",
    "axes[2].set_title(columns[10])\n",
    "#axes[2].set_yscale('log')"
   ]
  },
  {
   "cell_type": "code",
   "execution_count": 77,
   "id": "32ac8b51",
   "metadata": {},
   "outputs": [
    {
     "data": {
      "text/plain": [
       "(array([1.0000e+00, 0.0000e+00, 1.0000e+00, 2.1000e+01, 7.5100e+02,\n",
       "        4.2571e+04, 5.1467e+04, 1.5474e+04, 1.9090e+03, 7.7000e+01]),\n",
       " array([-2.27018749, -1.50398819, -0.73778889,  0.0284104 ,  0.7946097 ,\n",
       "         1.560809  ,  2.32700829,  3.09320759,  3.85940689,  4.62560618,\n",
       "         5.39180548]),\n",
       " <BarContainer object of 10 artists>)"
      ]
     },
     "execution_count": 77,
     "metadata": {},
     "output_type": "execute_result"
    },
    {
     "data": {
      "image/png": "[encoded data removed]",
      "text/plain": [
       "<Figure size 432x288 with 1 Axes>"
      ]
     },
     "metadata": {
      "needs_background": "light"
     },
     "output_type": "display_data"
    }
   ],
   "source": [
    "Xsub[:,0] = np.log10(Xsub[:,0])\n",
    "plt.hist(Xsub[:,0])"
   ]
  },
  {
   "cell_type": "code",
   "execution_count": 78,
   "id": "4d50b7e8",
   "metadata": {},
   "outputs": [
    {
     "data": {
      "text/plain": [
       "Index(['Area', 'MedianIncomeCounty', 'HousingUnitsCounty',\n",
       "       'HousingDensityCounty', 'Impervious', 'AgCount', 'CmCount', 'GvCount',\n",
       "       'EdCount', 'InCount', 'OsmNearestRoad'],\n",
       "      dtype='object')"
      ]
     },
     "execution_count": 78,
     "metadata": {},
     "output_type": "execute_result"
    }
   ],
   "source": [
    "columns"
   ]
  },
  {
   "cell_type": "code",
   "execution_count": 85,
   "id": "75be9d24",
   "metadata": {},
   "outputs": [
    {
     "data": {
      "text/plain": [
       "(112272, 11)"
      ]
     },
     "execution_count": 85,
     "metadata": {},
     "output_type": "execute_result"
    }
   ],
   "source": [
    "Xsub.shape"
   ]
  },
  {
   "cell_type": "code",
   "execution_count": 86,
   "id": "27b32244",
   "metadata": {},
   "outputs": [],
   "source": [
    "# preprocess the data - scaling\n",
    "scaler = preprocessing.MinMaxScaler()\n",
    "\n",
    "nearestRoad = Xsub[:,10]\n",
    "Xscaled = scaler.fit_transform( Xsub )\n",
    "Xscaled[:,10] = nearestRoad"
   ]
  },
  {
   "cell_type": "code",
   "execution_count": 87,
   "id": "75f2df04",
   "metadata": {},
   "outputs": [
    {
     "data": {
      "text/plain": [
       "array([5.10391003e-01, 7.24499007e-01, 2.98888602e-01, 1.62156715e-01,\n",
       "       6.66666667e-03, 0.00000000e+00, 2.26179475e-01, 3.07692308e-01,\n",
       "       3.21094312e-01, 2.08206516e-01, 7.00000000e+00])"
      ]
     },
     "execution_count": 87,
     "metadata": {},
     "output_type": "execute_result"
    }
   ],
   "source": [
    "Xscaled[0,:]"
   ]
  },
  {
   "cell_type": "code",
   "execution_count": 89,
   "id": "aa40894b",
   "metadata": {},
   "outputs": [],
   "source": [
    "# write scalar and two encoders to pickle\n",
    "\n",
    "with open(\"scaler.pkl\", \"wb\") as f:\n",
    "    pickle.dump(scaler, f)\n",
    "    \n",
    "with open(\"roadType.pkl\", \"wb\") as f:\n",
    "    pickle.dump(le2, f)\n",
    "    \n",
    "with open(\"bldType.pkl\", \"wb\") as f:\n",
    "    pickle.dump(le, f)"
   ]
  },
  {
   "cell_type": "code",
   "execution_count": 90,
   "id": "372b1506",
   "metadata": {},
   "outputs": [
    {
     "data": {
      "text/plain": [
       "((112272, 11), (112272,))"
      ]
     },
     "execution_count": 90,
     "metadata": {},
     "output_type": "execute_result"
    }
   ],
   "source": [
    "Xscaled.shape, ysub.shape"
   ]
  },
  {
   "cell_type": "code",
   "execution_count": 91,
   "id": "f2ae35fd",
   "metadata": {},
   "outputs": [
    {
     "name": "stdout",
     "output_type": "stream",
     "text": [
      "Training Size: (89817, 11)\n",
      "Testing Size: (22455, 11)\n"
     ]
    }
   ],
   "source": [
    "from sklearn.model_selection import train_test_split\n",
    "\n",
    "X_train, X_test, y_train, y_test = train_test_split(Xscaled, ysub, test_size=0.2, random_state=42)\n",
    "\n",
    "print(\"Training Size:\", X_train.shape)\n",
    "print(\"Testing Size:\", X_test.shape)\n",
    "\n",
    "# Pickle the array\n",
    "with open('xTrain_revised.pkl', 'wb') as f:\n",
    "    pickle.dump(X_train, f) \n",
    "with open('xTest_revised.pkl', 'wb') as f:\n",
    "    pickle.dump(X_test, f) \n",
    "with open('yTrain_revised.pkl', 'wb') as f:\n",
    "    pickle.dump(y_train, f) \n",
    "with open('yTest_revised.pkl', 'wb') as f:\n",
    "    pickle.dump(y_test, f) "
   ]
  },
  {
   "cell_type": "markdown",
   "id": "6167606a",
   "metadata": {},
   "source": [
    "### Bayesian Neural Network"
   ]
  },
  {
   "cell_type": "code",
   "execution_count": 14,
   "id": "78574d2f",
   "metadata": {},
   "outputs": [],
   "source": [
    "# Load the pickled array\n",
    "with open('xTrain_revised.pkl', 'rb') as f:\n",
    "    X_train = pickle.load(f)\n",
    "with open('xTest_revised.pkl', 'rb') as f:\n",
    "    X_test = pickle.load(f)\n",
    "with open('yTrain_revised.pkl', 'rb') as f:\n",
    "    y_train = pickle.load(f)\n",
    "with open('yTest_revised.pkl', 'rb') as f:\n",
    "    y_test = pickle.load(f)"
   ]
  },
  {
   "cell_type": "code",
   "execution_count": 92,
   "id": "724efdae",
   "metadata": {},
   "outputs": [
    {
     "name": "stdout",
     "output_type": "stream",
     "text": [
      "Model: \"model\"\n",
      "_________________________________________________________________\n",
      " Layer (type)                Output Shape              Param #   \n",
      "=================================================================\n",
      " input_1 (InputLayer)        [(None, 11)]              0         \n",
      "                                                                 \n",
      " dense (Dense)               (None, 20)                240       \n",
      "                                                                 \n",
      " dense_1 (Dense)             (None, 10)                210       \n",
      "                                                                 \n",
      " dense_2 (Dense)             (None, 5)                 55        \n",
      "                                                                 \n",
      " dense_3 (Dense)             (None, 3)                 18        \n",
      "                                                                 \n",
      " one_hot_categorical (OneHot  ((None, 3),              0         \n",
      " Categorical)                 (None, 3))                         \n",
      "                                                                 \n",
      "=================================================================\n",
      "Total params: 523\n",
      "Trainable params: 523\n",
      "Non-trainable params: 0\n",
      "_________________________________________________________________\n"
     ]
    },
    {
     "name": "stderr",
     "output_type": "stream",
     "text": [
      "2024-12-10 11:44:53.250064: I tensorflow/core/common_runtime/gpu/gpu_device.cc:1635] Created device /job:localhost/replica:0/task:0/device:GPU:0 with 5337 MB memory:  -> device: 0, name: NVIDIA GeForce GTX TITAN Black, pci bus id: 0000:65:00.0, compute capability: 3.5\n"
     ]
    }
   ],
   "source": [
    "nClasses = 3\n",
    "\n",
    "# Reset Keras and remove any old models from memory.\n",
    "import keras.backend as K\n",
    "K.clear_session()\n",
    "\n",
    "inputs = keras.layers.Input(shape=X_train.shape[1])\n",
    "    \n",
    "hidden1 = keras.layers.Dense(20, activation='relu')(inputs)\n",
    "hidden2 = keras.layers.Dense(10, activation='relu')(hidden1)\n",
    "hidden3 = keras.layers.Dense(5, activation='relu')(hidden2)\n",
    "\n",
    "distribution_params = layers.Dense(nClasses)(hidden3)\n",
    "outputs = tfp.layers.OneHotCategorical(1)(distribution_params)\n",
    "\n",
    "model = keras.Model(inputs=inputs, outputs=outputs)\n",
    "\n",
    "model.summary()"
   ]
  },
  {
   "cell_type": "code",
   "execution_count": 93,
   "id": "b9fb60d5",
   "metadata": {},
   "outputs": [],
   "source": [
    "from tensorflow.keras.optimizers import RMSprop\n",
    "\n",
    "def nll(y_true, y_pred):\n",
    "    return -y_pred.log_prob(y_true)\n",
    "\n",
    "model.compile( loss=nll, optimizer=RMSprop(learning_rate=0.005), metrics=['accuracy'] )"
   ]
  },
  {
   "cell_type": "code",
   "execution_count": 94,
   "id": "ea44e7a3",
   "metadata": {},
   "outputs": [],
   "source": [
    "y = tf.one_hot(y_train,nClasses)"
   ]
  },
  {
   "cell_type": "code",
   "execution_count": 95,
   "id": "63f8937e",
   "metadata": {
    "scrolled": true
   },
   "outputs": [
    {
     "name": "stdout",
     "output_type": "stream",
     "text": [
      "Epoch 1/200\n"
     ]
    },
    {
     "name": "stderr",
     "output_type": "stream",
     "text": [
      "2024-12-10 11:45:06.997418: I tensorflow/compiler/xla/service/service.cc:169] XLA service 0x7043a8013060 initialized for platform CUDA (this does not guarantee that XLA will be used). Devices:\n",
      "2024-12-10 11:45:06.997480: I tensorflow/compiler/xla/service/service.cc:177]   StreamExecutor device (0): NVIDIA GeForce GTX TITAN Black, Compute Capability 3.5\n",
      "2024-12-10 11:45:07.009278: I tensorflow/compiler/mlir/tensorflow/utils/dump_mlir_util.cc:269] disabling MLIR crash reproducer, set env var `MLIR_CRASH_REPRODUCER_DIRECTORY` to enable.\n",
      "2024-12-10 11:45:07.162116: I tensorflow/compiler/xla/stream_executor/cuda/cuda_dnn.cc:424] Loaded cuDNN version 8600\n",
      "2024-12-10 11:45:07.208350: I tensorflow/tsl/platform/default/subprocess.cc:304] Start cannot spawn child process: No such file or directory\n",
      "2024-12-10 11:45:07.271374: I ./tensorflow/compiler/jit/device_compiler.h:180] Compiled cluster using XLA!  This line is logged at most once for the lifetime of the process.\n"
     ]
    },
    {
     "name": "stdout",
     "output_type": "stream",
     "text": [
      "562/562 [==============================] - 5s 6ms/step - loss: 0.7473 - accuracy: 0.5178 - val_loss: 0.7313 - val_accuracy: 0.5381\n",
      "Epoch 2/200\n",
      "562/562 [==============================] - 3s 6ms/step - loss: 0.6502 - accuracy: 0.5929 - val_loss: 0.6186 - val_accuracy: 0.6105\n",
      "Epoch 3/200\n",
      "562/562 [==============================] - 3s 6ms/step - loss: 0.6298 - accuracy: 0.6127 - val_loss: 0.6229 - val_accuracy: 0.6132\n",
      "Epoch 4/200\n",
      "562/562 [==============================] - 3s 6ms/step - loss: 0.6170 - accuracy: 0.6223 - val_loss: 0.6689 - val_accuracy: 0.6285\n",
      "Epoch 5/200\n",
      "562/562 [==============================] - 3s 6ms/step - loss: 0.6106 - accuracy: 0.6285 - val_loss: 0.6367 - val_accuracy: 0.6188\n",
      "Epoch 6/200\n",
      "562/562 [==============================] - 3s 6ms/step - loss: 0.6041 - accuracy: 0.6307 - val_loss: 0.6057 - val_accuracy: 0.6415\n",
      "Epoch 7/200\n",
      "562/562 [==============================] - 3s 6ms/step - loss: 0.5995 - accuracy: 0.6345 - val_loss: 0.6627 - val_accuracy: 0.6323\n",
      "Epoch 8/200\n",
      "562/562 [==============================] - 3s 6ms/step - loss: 0.5951 - accuracy: 0.6378 - val_loss: 1.0005 - val_accuracy: 0.5126\n",
      "Epoch 9/200\n",
      "562/562 [==============================] - 3s 6ms/step - loss: 0.5915 - accuracy: 0.6397 - val_loss: 0.5662 - val_accuracy: 0.6424\n",
      "Epoch 10/200\n",
      "562/562 [==============================] - 3s 6ms/step - loss: 0.5888 - accuracy: 0.6424 - val_loss: 0.6086 - val_accuracy: 0.6399\n",
      "Epoch 11/200\n",
      "562/562 [==============================] - 3s 6ms/step - loss: 0.5867 - accuracy: 0.6400 - val_loss: 0.5928 - val_accuracy: 0.6475\n",
      "Epoch 12/200\n",
      "562/562 [==============================] - 3s 6ms/step - loss: 0.5845 - accuracy: 0.6425 - val_loss: 0.6177 - val_accuracy: 0.6393\n",
      "Epoch 13/200\n",
      "562/562 [==============================] - 3s 6ms/step - loss: 0.5836 - accuracy: 0.6459 - val_loss: 0.5764 - val_accuracy: 0.6468\n",
      "Epoch 14/200\n",
      "562/562 [==============================] - 3s 6ms/step - loss: 0.5819 - accuracy: 0.6453 - val_loss: 0.5795 - val_accuracy: 0.6512\n",
      "Epoch 15/200\n",
      "562/562 [==============================] - 3s 6ms/step - loss: 0.5813 - accuracy: 0.6475 - val_loss: 0.5751 - val_accuracy: 0.6620\n",
      "Epoch 16/200\n",
      "562/562 [==============================] - 3s 6ms/step - loss: 0.5799 - accuracy: 0.6471 - val_loss: 0.5694 - val_accuracy: 0.6416\n",
      "Epoch 17/200\n",
      "562/562 [==============================] - 3s 6ms/step - loss: 0.5780 - accuracy: 0.6493 - val_loss: 0.6018 - val_accuracy: 0.6358\n",
      "Epoch 18/200\n",
      "562/562 [==============================] - 3s 6ms/step - loss: 0.5777 - accuracy: 0.6479 - val_loss: 0.6562 - val_accuracy: 0.6165\n",
      "Epoch 19/200\n",
      "562/562 [==============================] - 3s 6ms/step - loss: 0.5758 - accuracy: 0.6513 - val_loss: 0.5683 - val_accuracy: 0.6410\n",
      "Epoch 20/200\n",
      "562/562 [==============================] - 3s 6ms/step - loss: 0.5747 - accuracy: 0.6479 - val_loss: 0.5554 - val_accuracy: 0.6496\n",
      "Epoch 21/200\n",
      "562/562 [==============================] - 3s 6ms/step - loss: 0.5738 - accuracy: 0.6496 - val_loss: 0.5701 - val_accuracy: 0.6629\n",
      "Epoch 22/200\n",
      "562/562 [==============================] - 3s 6ms/step - loss: 0.5738 - accuracy: 0.6498 - val_loss: 0.5704 - val_accuracy: 0.6547\n",
      "Epoch 23/200\n",
      "562/562 [==============================] - 3s 6ms/step - loss: 0.5723 - accuracy: 0.6489 - val_loss: 0.5927 - val_accuracy: 0.6467\n",
      "Epoch 24/200\n",
      "562/562 [==============================] - 3s 6ms/step - loss: 0.5697 - accuracy: 0.6543 - val_loss: 0.5887 - val_accuracy: 0.6571\n",
      "Epoch 25/200\n",
      "562/562 [==============================] - 3s 6ms/step - loss: 0.5692 - accuracy: 0.6559 - val_loss: 0.5523 - val_accuracy: 0.6561\n",
      "Epoch 26/200\n",
      "562/562 [==============================] - 3s 6ms/step - loss: 0.5676 - accuracy: 0.6543 - val_loss: 0.5459 - val_accuracy: 0.6538\n",
      "Epoch 27/200\n",
      "562/562 [==============================] - 3s 6ms/step - loss: 0.5668 - accuracy: 0.6555 - val_loss: 0.5607 - val_accuracy: 0.6710\n",
      "Epoch 28/200\n",
      "562/562 [==============================] - 3s 6ms/step - loss: 0.5660 - accuracy: 0.6543 - val_loss: 0.5523 - val_accuracy: 0.6612\n",
      "Epoch 29/200\n",
      "562/562 [==============================] - 3s 6ms/step - loss: 0.5647 - accuracy: 0.6553 - val_loss: 0.5569 - val_accuracy: 0.6619\n",
      "Epoch 30/200\n",
      "562/562 [==============================] - 3s 6ms/step - loss: 0.5637 - accuracy: 0.6558 - val_loss: 0.5778 - val_accuracy: 0.6371\n",
      "Epoch 31/200\n",
      "562/562 [==============================] - 3s 6ms/step - loss: 0.5624 - accuracy: 0.6587 - val_loss: 0.5449 - val_accuracy: 0.6645\n",
      "Epoch 32/200\n",
      "562/562 [==============================] - 3s 6ms/step - loss: 0.5620 - accuracy: 0.6598 - val_loss: 0.5727 - val_accuracy: 0.6572\n",
      "Epoch 33/200\n",
      "562/562 [==============================] - 3s 6ms/step - loss: 0.5624 - accuracy: 0.6571 - val_loss: 0.5436 - val_accuracy: 0.6565\n",
      "Epoch 34/200\n",
      "562/562 [==============================] - 3s 6ms/step - loss: 0.5625 - accuracy: 0.6582 - val_loss: 0.5655 - val_accuracy: 0.6561\n",
      "Epoch 35/200\n",
      "562/562 [==============================] - 3s 6ms/step - loss: 0.5610 - accuracy: 0.6556 - val_loss: 0.5899 - val_accuracy: 0.6426\n",
      "Epoch 36/200\n",
      "562/562 [==============================] - 3s 6ms/step - loss: 0.5599 - accuracy: 0.6581 - val_loss: 0.5543 - val_accuracy: 0.6571\n",
      "Epoch 37/200\n",
      "562/562 [==============================] - 3s 6ms/step - loss: 0.5599 - accuracy: 0.6596 - val_loss: 0.5700 - val_accuracy: 0.6509\n",
      "Epoch 38/200\n",
      "562/562 [==============================] - 3s 6ms/step - loss: 0.5595 - accuracy: 0.6570 - val_loss: 0.5676 - val_accuracy: 0.6598\n",
      "Epoch 39/200\n",
      "562/562 [==============================] - 3s 6ms/step - loss: 0.5593 - accuracy: 0.6585 - val_loss: 0.5415 - val_accuracy: 0.6648\n",
      "Epoch 40/200\n",
      "562/562 [==============================] - 3s 6ms/step - loss: 0.5582 - accuracy: 0.6619 - val_loss: 0.5645 - val_accuracy: 0.6649\n",
      "Epoch 41/200\n",
      "562/562 [==============================] - 3s 6ms/step - loss: 0.5574 - accuracy: 0.6608 - val_loss: 0.5423 - val_accuracy: 0.6680\n",
      "Epoch 42/200\n",
      "562/562 [==============================] - 3s 6ms/step - loss: 0.5574 - accuracy: 0.6624 - val_loss: 0.5981 - val_accuracy: 0.6264\n",
      "Epoch 43/200\n",
      "562/562 [==============================] - 3s 6ms/step - loss: 0.5582 - accuracy: 0.6608 - val_loss: 0.5412 - val_accuracy: 0.6735\n",
      "Epoch 44/200\n",
      "562/562 [==============================] - 3s 6ms/step - loss: 0.5576 - accuracy: 0.6591 - val_loss: 0.5594 - val_accuracy: 0.6642\n",
      "Epoch 45/200\n",
      "562/562 [==============================] - 3s 6ms/step - loss: 0.5576 - accuracy: 0.6599 - val_loss: 0.5656 - val_accuracy: 0.6565\n",
      "Epoch 46/200\n",
      "562/562 [==============================] - 3s 6ms/step - loss: 0.5563 - accuracy: 0.6574 - val_loss: 0.5655 - val_accuracy: 0.6628\n",
      "Epoch 47/200\n",
      "562/562 [==============================] - 3s 6ms/step - loss: 0.5562 - accuracy: 0.6607 - val_loss: 0.5555 - val_accuracy: 0.6613\n",
      "Epoch 48/200\n",
      "562/562 [==============================] - 3s 6ms/step - loss: 0.5564 - accuracy: 0.6610 - val_loss: 0.5453 - val_accuracy: 0.6599\n",
      "Epoch 49/200\n",
      "562/562 [==============================] - 3s 6ms/step - loss: 0.5549 - accuracy: 0.6636 - val_loss: 0.5494 - val_accuracy: 0.6568\n",
      "Epoch 50/200\n",
      "562/562 [==============================] - 3s 6ms/step - loss: 0.5554 - accuracy: 0.6610 - val_loss: 0.5532 - val_accuracy: 0.6727\n",
      "Epoch 51/200\n",
      "562/562 [==============================] - 3s 6ms/step - loss: 0.5556 - accuracy: 0.6653 - val_loss: 0.5436 - val_accuracy: 0.6691\n",
      "Epoch 52/200\n",
      "562/562 [==============================] - 3s 6ms/step - loss: 0.5554 - accuracy: 0.6611 - val_loss: 0.5505 - val_accuracy: 0.6637\n",
      "Epoch 53/200\n",
      "562/562 [==============================] - 3s 6ms/step - loss: 0.5549 - accuracy: 0.6624 - val_loss: 0.5380 - val_accuracy: 0.6684\n",
      "Epoch 54/200\n",
      "562/562 [==============================] - 3s 6ms/step - loss: 0.5540 - accuracy: 0.6629 - val_loss: 0.5813 - val_accuracy: 0.6680\n",
      "Epoch 55/200\n",
      "562/562 [==============================] - 3s 6ms/step - loss: 0.5543 - accuracy: 0.6619 - val_loss: 0.5826 - val_accuracy: 0.6655\n",
      "Epoch 56/200\n",
      "562/562 [==============================] - 3s 6ms/step - loss: 0.5534 - accuracy: 0.6640 - val_loss: 0.5408 - val_accuracy: 0.6608\n",
      "Epoch 57/200\n",
      "562/562 [==============================] - 3s 6ms/step - loss: 0.5538 - accuracy: 0.6634 - val_loss: 0.5453 - val_accuracy: 0.6702\n",
      "Epoch 58/200\n",
      "562/562 [==============================] - 3s 6ms/step - loss: 0.5545 - accuracy: 0.6594 - val_loss: 0.6289 - val_accuracy: 0.6350\n",
      "Epoch 59/200\n",
      "562/562 [==============================] - 3s 6ms/step - loss: 0.5534 - accuracy: 0.6653 - val_loss: 0.5540 - val_accuracy: 0.6671\n",
      "Epoch 60/200\n",
      "562/562 [==============================] - 3s 6ms/step - loss: 0.5525 - accuracy: 0.6678 - val_loss: 0.5475 - val_accuracy: 0.6690\n",
      "Epoch 61/200\n",
      "562/562 [==============================] - 3s 6ms/step - loss: 0.5528 - accuracy: 0.6646 - val_loss: 0.6467 - val_accuracy: 0.6305\n",
      "Epoch 62/200\n",
      "562/562 [==============================] - 3s 6ms/step - loss: 0.5523 - accuracy: 0.6647 - val_loss: 0.5675 - val_accuracy: 0.6451\n",
      "Epoch 63/200\n",
      "562/562 [==============================] - 3s 6ms/step - loss: 0.5515 - accuracy: 0.6647 - val_loss: 0.5446 - val_accuracy: 0.6730\n",
      "Epoch 64/200\n",
      "562/562 [==============================] - 3s 6ms/step - loss: 0.5522 - accuracy: 0.6647 - val_loss: 0.5494 - val_accuracy: 0.6653\n",
      "Epoch 65/200\n",
      "562/562 [==============================] - 3s 6ms/step - loss: 0.5520 - accuracy: 0.6655 - val_loss: 0.5553 - val_accuracy: 0.6713\n",
      "Epoch 66/200\n",
      "562/562 [==============================] - 3s 6ms/step - loss: 0.5513 - accuracy: 0.6643 - val_loss: 0.5745 - val_accuracy: 0.6579\n",
      "Epoch 67/200\n",
      "562/562 [==============================] - 3s 6ms/step - loss: 0.5526 - accuracy: 0.6614 - val_loss: 0.5427 - val_accuracy: 0.6707\n",
      "Epoch 68/200\n",
      "562/562 [==============================] - 3s 6ms/step - loss: 0.5516 - accuracy: 0.6667 - val_loss: 0.5441 - val_accuracy: 0.6638\n",
      "Epoch 69/200\n",
      "562/562 [==============================] - 3s 6ms/step - loss: 0.5518 - accuracy: 0.6638 - val_loss: 0.5462 - val_accuracy: 0.6562\n",
      "Epoch 70/200\n",
      "562/562 [==============================] - 3s 6ms/step - loss: 0.5516 - accuracy: 0.6640 - val_loss: 0.5358 - val_accuracy: 0.6708\n",
      "Epoch 71/200\n",
      "562/562 [==============================] - 3s 6ms/step - loss: 0.5507 - accuracy: 0.6651 - val_loss: 0.5486 - val_accuracy: 0.6732\n",
      "Epoch 72/200\n",
      "562/562 [==============================] - 3s 6ms/step - loss: 0.5508 - accuracy: 0.6660 - val_loss: 0.5524 - val_accuracy: 0.6614\n",
      "Epoch 73/200\n",
      "562/562 [==============================] - 3s 6ms/step - loss: 0.5508 - accuracy: 0.6612 - val_loss: 0.5385 - val_accuracy: 0.6599\n",
      "Epoch 74/200\n",
      "562/562 [==============================] - 3s 6ms/step - loss: 0.5504 - accuracy: 0.6642 - val_loss: 0.5507 - val_accuracy: 0.6565\n",
      "Epoch 75/200\n",
      "562/562 [==============================] - 3s 6ms/step - loss: 0.5503 - accuracy: 0.6675 - val_loss: 0.6286 - val_accuracy: 0.6267\n",
      "Epoch 76/200\n",
      "562/562 [==============================] - 3s 6ms/step - loss: 0.5494 - accuracy: 0.6662 - val_loss: 0.5748 - val_accuracy: 0.6599\n",
      "Epoch 77/200\n",
      "562/562 [==============================] - 3s 6ms/step - loss: 0.5489 - accuracy: 0.6652 - val_loss: 0.5854 - val_accuracy: 0.6595\n",
      "Epoch 78/200\n",
      "562/562 [==============================] - 3s 6ms/step - loss: 0.5481 - accuracy: 0.6666 - val_loss: 0.5641 - val_accuracy: 0.6676\n",
      "Epoch 79/200\n",
      "562/562 [==============================] - 3s 6ms/step - loss: 0.5521 - accuracy: 0.6644 - val_loss: 0.5435 - val_accuracy: 0.6666\n",
      "Epoch 80/200\n",
      "562/562 [==============================] - 3s 6ms/step - loss: 0.5490 - accuracy: 0.6651 - val_loss: 0.5547 - val_accuracy: 0.6715\n",
      "Epoch 81/200\n",
      "562/562 [==============================] - 3s 6ms/step - loss: 0.5487 - accuracy: 0.6659 - val_loss: 0.5510 - val_accuracy: 0.6611\n",
      "Epoch 82/200\n",
      "562/562 [==============================] - 3s 6ms/step - loss: 0.5495 - accuracy: 0.6682 - val_loss: 0.5464 - val_accuracy: 0.6676\n",
      "Epoch 83/200\n",
      "562/562 [==============================] - 3s 6ms/step - loss: 0.5489 - accuracy: 0.6670 - val_loss: 0.5679 - val_accuracy: 0.6561\n",
      "Epoch 84/200\n",
      "562/562 [==============================] - 3s 6ms/step - loss: 0.5506 - accuracy: 0.6646 - val_loss: 0.5426 - val_accuracy: 0.6696\n",
      "Epoch 85/200\n",
      "562/562 [==============================] - 3s 6ms/step - loss: 0.5494 - accuracy: 0.6670 - val_loss: 0.5343 - val_accuracy: 0.6761\n",
      "Epoch 86/200\n",
      "562/562 [==============================] - 3s 6ms/step - loss: 0.5490 - accuracy: 0.6652 - val_loss: 0.5522 - val_accuracy: 0.6614\n",
      "Epoch 87/200\n",
      "562/562 [==============================] - 3s 6ms/step - loss: 0.5488 - accuracy: 0.6673 - val_loss: 0.5446 - val_accuracy: 0.6653\n",
      "Epoch 88/200\n",
      "562/562 [==============================] - 3s 6ms/step - loss: 0.5475 - accuracy: 0.6641 - val_loss: 0.5345 - val_accuracy: 0.6707\n",
      "Epoch 89/200\n",
      "562/562 [==============================] - 3s 6ms/step - loss: 0.5482 - accuracy: 0.6666 - val_loss: 0.5677 - val_accuracy: 0.6637\n",
      "Epoch 90/200\n",
      "562/562 [==============================] - 3s 6ms/step - loss: 0.5476 - accuracy: 0.6668 - val_loss: 0.5489 - val_accuracy: 0.6559\n",
      "Epoch 91/200\n",
      "562/562 [==============================] - 3s 6ms/step - loss: 0.5482 - accuracy: 0.6673 - val_loss: 0.5414 - val_accuracy: 0.6726\n",
      "Epoch 92/200\n",
      "562/562 [==============================] - 3s 6ms/step - loss: 0.5493 - accuracy: 0.6625 - val_loss: 0.5415 - val_accuracy: 0.6652\n",
      "Epoch 93/200\n",
      "562/562 [==============================] - 3s 6ms/step - loss: 0.5492 - accuracy: 0.6660 - val_loss: 0.5466 - val_accuracy: 0.6683\n",
      "Epoch 94/200\n",
      "562/562 [==============================] - 3s 6ms/step - loss: 0.5480 - accuracy: 0.6664 - val_loss: 0.5793 - val_accuracy: 0.6516\n",
      "Epoch 95/200\n",
      "562/562 [==============================] - 3s 6ms/step - loss: 0.5476 - accuracy: 0.6673 - val_loss: 0.5824 - val_accuracy: 0.6436\n",
      "Epoch 96/200\n",
      "562/562 [==============================] - 3s 6ms/step - loss: 0.5467 - accuracy: 0.6698 - val_loss: 0.6350 - val_accuracy: 0.6359\n",
      "Epoch 97/200\n",
      "562/562 [==============================] - 3s 6ms/step - loss: 0.5481 - accuracy: 0.6640 - val_loss: 0.5366 - val_accuracy: 0.6869\n",
      "Epoch 98/200\n",
      "562/562 [==============================] - 3s 6ms/step - loss: 0.5477 - accuracy: 0.6643 - val_loss: 0.5382 - val_accuracy: 0.6697\n",
      "Epoch 99/200\n",
      "562/562 [==============================] - 3s 6ms/step - loss: 0.5480 - accuracy: 0.6656 - val_loss: 0.5372 - val_accuracy: 0.6702\n",
      "Epoch 100/200\n",
      "562/562 [==============================] - 3s 6ms/step - loss: 0.5478 - accuracy: 0.6669 - val_loss: 0.5350 - val_accuracy: 0.6756\n",
      "Epoch 101/200\n",
      "562/562 [==============================] - 3s 6ms/step - loss: 0.5467 - accuracy: 0.6669 - val_loss: 0.5347 - val_accuracy: 0.6707\n",
      "Epoch 102/200\n",
      "562/562 [==============================] - 3s 6ms/step - loss: 0.5467 - accuracy: 0.6681 - val_loss: 0.5753 - val_accuracy: 0.6554\n",
      "Epoch 103/200\n",
      "562/562 [==============================] - 3s 6ms/step - loss: 0.5471 - accuracy: 0.6643 - val_loss: 0.5368 - val_accuracy: 0.6766\n",
      "Epoch 104/200\n",
      "562/562 [==============================] - 3s 6ms/step - loss: 0.5470 - accuracy: 0.6681 - val_loss: 0.5402 - val_accuracy: 0.6742\n",
      "Epoch 105/200\n",
      "562/562 [==============================] - 3s 6ms/step - loss: 0.5460 - accuracy: 0.6654 - val_loss: 0.5317 - val_accuracy: 0.6806\n",
      "Epoch 106/200\n",
      "562/562 [==============================] - 3s 6ms/step - loss: 0.5460 - accuracy: 0.6684 - val_loss: 0.5394 - val_accuracy: 0.6612\n",
      "Epoch 107/200\n",
      "562/562 [==============================] - 3s 6ms/step - loss: 0.5461 - accuracy: 0.6658 - val_loss: 0.5568 - val_accuracy: 0.6563\n",
      "Epoch 108/200\n",
      "562/562 [==============================] - 3s 6ms/step - loss: 0.5465 - accuracy: 0.6688 - val_loss: 0.5570 - val_accuracy: 0.6683\n",
      "Epoch 109/200\n",
      "562/562 [==============================] - 3s 6ms/step - loss: 0.5469 - accuracy: 0.6706 - val_loss: 0.5325 - val_accuracy: 0.6711\n",
      "Epoch 110/200\n",
      "562/562 [==============================] - 3s 6ms/step - loss: 0.5469 - accuracy: 0.6646 - val_loss: 0.5343 - val_accuracy: 0.6707\n",
      "Epoch 111/200\n",
      "562/562 [==============================] - 3s 6ms/step - loss: 0.5471 - accuracy: 0.6690 - val_loss: 0.5669 - val_accuracy: 0.6551\n",
      "Epoch 112/200\n",
      "562/562 [==============================] - 3s 6ms/step - loss: 0.5465 - accuracy: 0.6651 - val_loss: 0.5395 - val_accuracy: 0.6849\n",
      "Epoch 113/200\n",
      "562/562 [==============================] - 3s 6ms/step - loss: 0.5456 - accuracy: 0.6696 - val_loss: 0.5334 - val_accuracy: 0.6630\n",
      "Epoch 114/200\n",
      "562/562 [==============================] - 3s 6ms/step - loss: 0.5461 - accuracy: 0.6711 - val_loss: 0.6083 - val_accuracy: 0.6448\n",
      "Epoch 115/200\n",
      "562/562 [==============================] - 3s 6ms/step - loss: 0.5460 - accuracy: 0.6668 - val_loss: 0.5760 - val_accuracy: 0.6445\n",
      "Epoch 116/200\n",
      "562/562 [==============================] - 3s 6ms/step - loss: 0.5467 - accuracy: 0.6674 - val_loss: 0.5485 - val_accuracy: 0.6551\n",
      "Epoch 117/200\n",
      "562/562 [==============================] - 3s 6ms/step - loss: 0.5466 - accuracy: 0.6688 - val_loss: 0.5409 - val_accuracy: 0.6784\n",
      "Epoch 118/200\n",
      "562/562 [==============================] - 3s 6ms/step - loss: 0.5461 - accuracy: 0.6691 - val_loss: 0.5794 - val_accuracy: 0.6480\n",
      "Epoch 119/200\n",
      "562/562 [==============================] - 3s 6ms/step - loss: 0.5463 - accuracy: 0.6698 - val_loss: 0.5647 - val_accuracy: 0.6705\n",
      "Epoch 120/200\n",
      "562/562 [==============================] - 3s 6ms/step - loss: 0.5461 - accuracy: 0.6688 - val_loss: 0.5510 - val_accuracy: 0.6562\n",
      "Epoch 121/200\n",
      "562/562 [==============================] - 3s 6ms/step - loss: 0.5454 - accuracy: 0.6655 - val_loss: 0.5653 - val_accuracy: 0.6556\n",
      "Epoch 122/200\n",
      "562/562 [==============================] - 3s 6ms/step - loss: 0.5465 - accuracy: 0.6703 - val_loss: 0.5452 - val_accuracy: 0.6713\n",
      "Epoch 123/200\n",
      "562/562 [==============================] - 3s 6ms/step - loss: 0.5460 - accuracy: 0.6676 - val_loss: 0.5361 - val_accuracy: 0.6834\n",
      "Epoch 124/200\n",
      "562/562 [==============================] - 3s 6ms/step - loss: 0.5452 - accuracy: 0.6672 - val_loss: 0.5462 - val_accuracy: 0.6639\n",
      "Epoch 125/200\n",
      "562/562 [==============================] - 3s 6ms/step - loss: 0.5464 - accuracy: 0.6695 - val_loss: 0.5339 - val_accuracy: 0.6674\n",
      "Epoch 126/200\n",
      "562/562 [==============================] - 3s 6ms/step - loss: 0.5462 - accuracy: 0.6661 - val_loss: 0.5360 - val_accuracy: 0.6685\n",
      "Epoch 127/200\n",
      "562/562 [==============================] - 3s 6ms/step - loss: 0.5450 - accuracy: 0.6669 - val_loss: 0.5392 - val_accuracy: 0.6735\n",
      "Epoch 128/200\n",
      "562/562 [==============================] - 3s 6ms/step - loss: 0.5453 - accuracy: 0.6729 - val_loss: 0.5672 - val_accuracy: 0.6605\n",
      "Epoch 129/200\n",
      "562/562 [==============================] - 3s 6ms/step - loss: 0.5449 - accuracy: 0.6688 - val_loss: 0.5350 - val_accuracy: 0.6789\n",
      "Epoch 130/200\n",
      "562/562 [==============================] - 3s 6ms/step - loss: 0.5456 - accuracy: 0.6653 - val_loss: 0.5693 - val_accuracy: 0.6655\n",
      "Epoch 131/200\n",
      "562/562 [==============================] - 3s 6ms/step - loss: 0.5458 - accuracy: 0.6668 - val_loss: 0.5555 - val_accuracy: 0.6595\n",
      "Epoch 132/200\n",
      "562/562 [==============================] - 3s 6ms/step - loss: 0.5460 - accuracy: 0.6700 - val_loss: 0.5419 - val_accuracy: 0.6521\n",
      "Epoch 133/200\n",
      "562/562 [==============================] - 3s 6ms/step - loss: 0.5460 - accuracy: 0.6696 - val_loss: 0.5426 - val_accuracy: 0.6733\n",
      "Epoch 134/200\n",
      "562/562 [==============================] - 3s 6ms/step - loss: 0.5456 - accuracy: 0.6695 - val_loss: 0.5408 - val_accuracy: 0.6637\n",
      "Epoch 135/200\n",
      "562/562 [==============================] - 3s 6ms/step - loss: 0.5447 - accuracy: 0.6687 - val_loss: 0.5727 - val_accuracy: 0.6573\n",
      "Epoch 136/200\n",
      "562/562 [==============================] - 3s 6ms/step - loss: 0.5456 - accuracy: 0.6662 - val_loss: 0.5451 - val_accuracy: 0.6600\n",
      "Epoch 137/200\n",
      "562/562 [==============================] - 3s 6ms/step - loss: 0.5441 - accuracy: 0.6703 - val_loss: 0.5361 - val_accuracy: 0.6756\n",
      "Epoch 138/200\n",
      "562/562 [==============================] - 3s 6ms/step - loss: 0.5452 - accuracy: 0.6686 - val_loss: 0.5592 - val_accuracy: 0.6678\n",
      "Epoch 139/200\n",
      "562/562 [==============================] - 3s 6ms/step - loss: 0.5450 - accuracy: 0.6678 - val_loss: 0.5358 - val_accuracy: 0.6830\n",
      "Epoch 140/200\n",
      "562/562 [==============================] - 3s 6ms/step - loss: 0.5448 - accuracy: 0.6684 - val_loss: 0.5364 - val_accuracy: 0.6745\n",
      "Epoch 141/200\n",
      "562/562 [==============================] - 3s 6ms/step - loss: 0.5445 - accuracy: 0.6704 - val_loss: 0.5344 - val_accuracy: 0.6742\n",
      "Epoch 142/200\n",
      "562/562 [==============================] - 3s 6ms/step - loss: 0.5445 - accuracy: 0.6667 - val_loss: 0.5337 - val_accuracy: 0.6760\n",
      "Epoch 143/200\n",
      "562/562 [==============================] - 3s 6ms/step - loss: 0.5449 - accuracy: 0.6712 - val_loss: 0.5363 - val_accuracy: 0.6778\n",
      "Epoch 144/200\n",
      "562/562 [==============================] - 3s 6ms/step - loss: 0.5443 - accuracy: 0.6702 - val_loss: 0.6296 - val_accuracy: 0.6220\n",
      "Epoch 145/200\n",
      "562/562 [==============================] - 3s 6ms/step - loss: 0.5450 - accuracy: 0.6689 - val_loss: 0.5451 - val_accuracy: 0.6550\n",
      "Epoch 146/200\n",
      "562/562 [==============================] - 3s 6ms/step - loss: 0.5450 - accuracy: 0.6670 - val_loss: 0.5324 - val_accuracy: 0.6741\n",
      "Epoch 147/200\n",
      "562/562 [==============================] - 3s 6ms/step - loss: 0.5445 - accuracy: 0.6676 - val_loss: 0.5466 - val_accuracy: 0.6701\n",
      "Epoch 148/200\n",
      "562/562 [==============================] - 3s 6ms/step - loss: 0.5448 - accuracy: 0.6686 - val_loss: 0.6288 - val_accuracy: 0.6327\n",
      "Epoch 149/200\n",
      "562/562 [==============================] - 3s 6ms/step - loss: 0.5442 - accuracy: 0.6664 - val_loss: 0.5518 - val_accuracy: 0.6592\n",
      "Epoch 150/200\n",
      "562/562 [==============================] - 3s 6ms/step - loss: 0.5447 - accuracy: 0.6688 - val_loss: 0.5353 - val_accuracy: 0.6801\n",
      "Epoch 151/200\n",
      "562/562 [==============================] - 3s 6ms/step - loss: 0.5463 - accuracy: 0.6654 - val_loss: 0.5317 - val_accuracy: 0.6877\n",
      "Epoch 152/200\n",
      "562/562 [==============================] - 3s 6ms/step - loss: 0.5442 - accuracy: 0.6687 - val_loss: 0.5568 - val_accuracy: 0.6678\n",
      "Epoch 153/200\n",
      "562/562 [==============================] - 3s 6ms/step - loss: 0.5444 - accuracy: 0.6673 - val_loss: 0.5441 - val_accuracy: 0.6652\n",
      "Epoch 154/200\n",
      "562/562 [==============================] - 3s 6ms/step - loss: 0.5446 - accuracy: 0.6704 - val_loss: 0.5503 - val_accuracy: 0.6723\n",
      "Epoch 155/200\n",
      "562/562 [==============================] - 3s 6ms/step - loss: 0.5448 - accuracy: 0.6664 - val_loss: 0.5409 - val_accuracy: 0.6742\n",
      "Epoch 156/200\n",
      "562/562 [==============================] - 3s 6ms/step - loss: 0.5446 - accuracy: 0.6696 - val_loss: 0.5411 - val_accuracy: 0.6662\n",
      "Epoch 157/200\n",
      "562/562 [==============================] - 3s 6ms/step - loss: 0.5454 - accuracy: 0.6703 - val_loss: 0.5699 - val_accuracy: 0.6580\n",
      "Epoch 158/200\n",
      "562/562 [==============================] - 3s 6ms/step - loss: 0.5447 - accuracy: 0.6697 - val_loss: 0.5752 - val_accuracy: 0.6564\n",
      "Epoch 159/200\n",
      "562/562 [==============================] - 3s 6ms/step - loss: 0.5453 - accuracy: 0.6696 - val_loss: 0.5304 - val_accuracy: 0.6777\n",
      "Epoch 160/200\n",
      "562/562 [==============================] - 3s 6ms/step - loss: 0.5443 - accuracy: 0.6685 - val_loss: 0.5469 - val_accuracy: 0.6732\n",
      "Epoch 161/200\n",
      "562/562 [==============================] - 3s 6ms/step - loss: 0.5439 - accuracy: 0.6696 - val_loss: 0.5346 - val_accuracy: 0.6762\n",
      "Epoch 162/200\n",
      "562/562 [==============================] - 3s 6ms/step - loss: 0.5451 - accuracy: 0.6681 - val_loss: 0.5374 - val_accuracy: 0.6673\n",
      "Epoch 163/200\n",
      "562/562 [==============================] - 3s 6ms/step - loss: 0.5444 - accuracy: 0.6690 - val_loss: 0.5441 - val_accuracy: 0.6711\n",
      "Epoch 164/200\n",
      "562/562 [==============================] - 3s 6ms/step - loss: 0.5449 - accuracy: 0.6693 - val_loss: 0.5312 - val_accuracy: 0.6838\n",
      "Epoch 165/200\n",
      "562/562 [==============================] - 3s 6ms/step - loss: 0.5448 - accuracy: 0.6710 - val_loss: 0.6083 - val_accuracy: 0.6228\n",
      "Epoch 166/200\n",
      "562/562 [==============================] - 3s 6ms/step - loss: 0.5438 - accuracy: 0.6684 - val_loss: 0.5374 - val_accuracy: 0.6708\n",
      "Epoch 167/200\n",
      "562/562 [==============================] - 3s 6ms/step - loss: 0.5437 - accuracy: 0.6692 - val_loss: 0.5331 - val_accuracy: 0.6747\n",
      "Epoch 168/200\n",
      "562/562 [==============================] - 3s 6ms/step - loss: 0.5436 - accuracy: 0.6682 - val_loss: 0.5439 - val_accuracy: 0.6597\n",
      "Epoch 169/200\n",
      "562/562 [==============================] - 3s 6ms/step - loss: 0.5445 - accuracy: 0.6693 - val_loss: 0.5424 - val_accuracy: 0.6725\n",
      "Epoch 170/200\n",
      "562/562 [==============================] - 3s 6ms/step - loss: 0.5443 - accuracy: 0.6670 - val_loss: 0.5339 - val_accuracy: 0.6773\n",
      "Epoch 171/200\n",
      "562/562 [==============================] - 3s 6ms/step - loss: 0.5446 - accuracy: 0.6686 - val_loss: 0.5936 - val_accuracy: 0.6412\n",
      "Epoch 172/200\n",
      "562/562 [==============================] - 3s 6ms/step - loss: 0.5452 - accuracy: 0.6661 - val_loss: 0.5756 - val_accuracy: 0.6502\n",
      "Epoch 173/200\n",
      "562/562 [==============================] - 3s 6ms/step - loss: 0.5445 - accuracy: 0.6712 - val_loss: 0.5482 - val_accuracy: 0.6772\n",
      "Epoch 174/200\n",
      "562/562 [==============================] - 3s 6ms/step - loss: 0.5447 - accuracy: 0.6702 - val_loss: 0.5459 - val_accuracy: 0.6651\n",
      "Epoch 175/200\n",
      "562/562 [==============================] - 3s 6ms/step - loss: 0.5446 - accuracy: 0.6697 - val_loss: 0.5421 - val_accuracy: 0.6767\n",
      "Epoch 176/200\n",
      "562/562 [==============================] - 3s 6ms/step - loss: 0.5435 - accuracy: 0.6720 - val_loss: 0.5415 - val_accuracy: 0.6647\n",
      "Epoch 177/200\n",
      "562/562 [==============================] - 3s 6ms/step - loss: 0.5438 - accuracy: 0.6706 - val_loss: 0.5424 - val_accuracy: 0.6741\n",
      "Epoch 178/200\n",
      "562/562 [==============================] - 3s 6ms/step - loss: 0.5449 - accuracy: 0.6678 - val_loss: 0.5372 - val_accuracy: 0.6618\n",
      "Epoch 179/200\n",
      "562/562 [==============================] - 3s 6ms/step - loss: 0.5442 - accuracy: 0.6679 - val_loss: 0.5547 - val_accuracy: 0.6644\n",
      "Epoch 180/200\n",
      "562/562 [==============================] - 3s 6ms/step - loss: 0.5439 - accuracy: 0.6710 - val_loss: 0.5373 - val_accuracy: 0.6738\n",
      "Epoch 181/200\n",
      "562/562 [==============================] - 3s 6ms/step - loss: 0.5443 - accuracy: 0.6708 - val_loss: 0.5605 - val_accuracy: 0.6796\n",
      "Epoch 182/200\n",
      "562/562 [==============================] - 3s 6ms/step - loss: 0.5438 - accuracy: 0.6697 - val_loss: 0.5431 - val_accuracy: 0.6836\n",
      "Epoch 183/200\n",
      "562/562 [==============================] - 3s 6ms/step - loss: 0.5435 - accuracy: 0.6693 - val_loss: 0.5422 - val_accuracy: 0.6808\n",
      "Epoch 184/200\n",
      "562/562 [==============================] - 3s 6ms/step - loss: 0.5437 - accuracy: 0.6699 - val_loss: 0.5319 - val_accuracy: 0.6696\n",
      "Epoch 185/200\n",
      "562/562 [==============================] - 3s 6ms/step - loss: 0.5439 - accuracy: 0.6678 - val_loss: 0.5595 - val_accuracy: 0.6622\n",
      "Epoch 186/200\n",
      "562/562 [==============================] - 3s 6ms/step - loss: 0.5424 - accuracy: 0.6690 - val_loss: 0.5399 - val_accuracy: 0.6770\n",
      "Epoch 187/200\n",
      "562/562 [==============================] - 3s 6ms/step - loss: 0.5440 - accuracy: 0.6689 - val_loss: 0.5515 - val_accuracy: 0.6707\n",
      "Epoch 188/200\n",
      "562/562 [==============================] - 3s 6ms/step - loss: 0.5441 - accuracy: 0.6701 - val_loss: 0.5299 - val_accuracy: 0.6810\n",
      "Epoch 189/200\n",
      "562/562 [==============================] - 3s 6ms/step - loss: 0.5435 - accuracy: 0.6691 - val_loss: 0.5349 - val_accuracy: 0.6780\n",
      "Epoch 190/200\n",
      "562/562 [==============================] - 3s 6ms/step - loss: 0.5444 - accuracy: 0.6708 - val_loss: 0.5414 - val_accuracy: 0.6706\n",
      "Epoch 191/200\n",
      "562/562 [==============================] - 3s 6ms/step - loss: 0.5439 - accuracy: 0.6687 - val_loss: 0.5401 - val_accuracy: 0.6560\n",
      "Epoch 192/200\n",
      "562/562 [==============================] - 3s 6ms/step - loss: 0.5438 - accuracy: 0.6696 - val_loss: 0.5490 - val_accuracy: 0.6654\n",
      "Epoch 193/200\n",
      "562/562 [==============================] - 3s 6ms/step - loss: 0.5428 - accuracy: 0.6697 - val_loss: 0.5655 - val_accuracy: 0.6662\n",
      "Epoch 194/200\n",
      "562/562 [==============================] - 3s 6ms/step - loss: 0.5432 - accuracy: 0.6709 - val_loss: 0.5417 - val_accuracy: 0.6735\n",
      "Epoch 195/200\n",
      "562/562 [==============================] - 3s 6ms/step - loss: 0.5436 - accuracy: 0.6698 - val_loss: 0.5327 - val_accuracy: 0.6760\n",
      "Epoch 196/200\n",
      "562/562 [==============================] - 3s 6ms/step - loss: 0.5432 - accuracy: 0.6695 - val_loss: 0.5349 - val_accuracy: 0.6743\n",
      "Epoch 197/200\n",
      "562/562 [==============================] - 3s 6ms/step - loss: 0.5428 - accuracy: 0.6657 - val_loss: 0.5375 - val_accuracy: 0.6701\n",
      "Epoch 198/200\n",
      "562/562 [==============================] - 3s 6ms/step - loss: 0.5436 - accuracy: 0.6682 - val_loss: 0.5335 - val_accuracy: 0.6812\n",
      "Epoch 199/200\n",
      "562/562 [==============================] - 3s 6ms/step - loss: 0.5433 - accuracy: 0.6731 - val_loss: 0.5405 - val_accuracy: 0.6604\n",
      "Epoch 200/200\n",
      "562/562 [==============================] - 3s 6ms/step - loss: 0.5430 - accuracy: 0.6716 - val_loss: 0.5438 - val_accuracy: 0.6793\n"
     ]
    }
   ],
   "source": [
    "history = model.fit( X_train, y, epochs=200, verbose=1, validation_split=0.2, batch_size=128 )"
   ]
  },
  {
   "cell_type": "code",
   "execution_count": 96,
   "id": "119724ee",
   "metadata": {},
   "outputs": [
    {
     "data": {
      "text/plain": [
       "<matplotlib.legend.Legend at 0x704521f59d90>"
      ]
     },
     "execution_count": 96,
     "metadata": {},
     "output_type": "execute_result"
    },
    {
     "data": {
      "image/png": "[encoded data removed]",
      "text/plain": [
       "<Figure size 432x288 with 1 Axes>"
      ]
     },
     "metadata": {
      "needs_background": "light"
     },
     "output_type": "display_data"
    }
   ],
   "source": [
    "plt.plot( history.history['accuracy'], label=\"Accuracy\")\n",
    "plt.plot( history.history['val_accuracy'], label=\"val_acc\")\n",
    "plt.title('Model Accuracy')\n",
    "plt.ylabel('Accuracy')\n",
    "plt.xlabel('Epoch')\n",
    "plt.legend()"
   ]
  },
  {
   "cell_type": "code",
   "execution_count": 97,
   "id": "87cacc97",
   "metadata": {},
   "outputs": [
    {
     "data": {
      "text/plain": [
       "<matplotlib.legend.Legend at 0x7045221997c0>"
      ]
     },
     "execution_count": 97,
     "metadata": {},
     "output_type": "execute_result"
    },
    {
     "data": {
      "image/png": "[encoded data removed]",
      "text/plain": [
       "<Figure size 432x288 with 1 Axes>"
      ]
     },
     "metadata": {
      "needs_background": "light"
     },
     "output_type": "display_data"
    }
   ],
   "source": [
    "plt.plot( history.history['loss'], label=\"loss\")\n",
    "plt.plot( history.history['val_loss'], label=\"val_loss\")\n",
    "plt.title('Model Loss')\n",
    "plt.ylabel('Loss')\n",
    "plt.xlabel('Epoch')\n",
    "plt.legend()"
   ]
  },
  {
   "cell_type": "code",
   "execution_count": 98,
   "id": "900420d6",
   "metadata": {},
   "outputs": [],
   "source": [
    "# serialize weights to HDF5\n",
    "model.save_weights(\"bnn_revised.h5\")"
   ]
  },
  {
   "cell_type": "markdown",
   "id": "ae0a0f29",
   "metadata": {},
   "source": [
    "### Analysis"
   ]
  },
  {
   "cell_type": "code",
   "execution_count": 11,
   "id": "91eefec2",
   "metadata": {},
   "outputs": [],
   "source": [
    "nClasses = 3\n",
    "model.load_weights(\"bnn_revised.h5\")"
   ]
  },
  {
   "cell_type": "code",
   "execution_count": 136,
   "id": "af858d85",
   "metadata": {},
   "outputs": [],
   "source": [
    "preds = []\n",
    "p = model( X_test )\n",
    "en = model( X_test ).entropy()\n",
    "\n",
    "for i in range( p.shape[0] ):\n",
    "    preds.append( np.argmax(p[i,:]) )"
   ]
  },
  {
   "cell_type": "code",
   "execution_count": 137,
   "id": "9bf48df9",
   "metadata": {},
   "outputs": [],
   "source": [
    "font = { 'weight' : 'bold', 'size' : 24 }\n",
    "plt.rc('font', **font)"
   ]
  },
  {
   "cell_type": "code",
   "execution_count": 138,
   "id": "f6054b90",
   "metadata": {},
   "outputs": [
    {
     "data": {
      "text/plain": [
       "<sklearn.metrics._plot.confusion_matrix.ConfusionMatrixDisplay at 0x7043be95fb20>"
      ]
     },
     "execution_count": 138,
     "metadata": {},
     "output_type": "execute_result"
    },
    {
     "name": "stderr",
     "output_type": "stream",
     "text": [
      "findfont: Font family ['normal'] not found. Falling back to DejaVu Sans.\n",
      "findfont: Font family ['normal'] not found. Falling back to DejaVu Sans.\n"
     ]
    },
    {
     "data": {
      "image/png": "[encoded data removed]",
      "text/plain": [
       "<Figure size 864x864 with 2 Axes>"
      ]
     },
     "metadata": {
      "needs_background": "light"
     },
     "output_type": "display_data"
    }
   ],
   "source": [
    "from sklearn.metrics import confusion_matrix, ConfusionMatrixDisplay\n",
    "\n",
    "fig, ax = plt.subplots(figsize=(12, 12))\n",
    "\n",
    "cm = confusion_matrix( y_test.astype(int), preds, normalize='true' )\n",
    "disp = ConfusionMatrixDisplay( confusion_matrix=cm, display_labels=le.inverse_transform([0,1,2]) )\n",
    "disp.plot(ax=ax, cmap='gist_yarg')"
   ]
  },
  {
   "cell_type": "code",
   "execution_count": 139,
   "id": "9a7053ea",
   "metadata": {},
   "outputs": [
    {
     "name": "stdout",
     "output_type": "stream",
     "text": [
      "Macro F1: 0.669\n",
      "Macro Precision: 0.6682\n",
      "Macro Recall: 0.6724\n",
      "Accuracy: 0.6717\n"
     ]
    }
   ],
   "source": [
    "from sklearn.metrics import f1_score\n",
    "from sklearn.metrics import recall_score\n",
    "from sklearn.metrics import precision_score\n",
    "from sklearn.metrics import accuracy_score\n",
    "\n",
    "y_test = y_test.astype(int)\n",
    "\n",
    "print( \"Macro F1:\", np.round( f1_score(y_test, preds, average='macro'), 4 ))\n",
    "print( \"Macro Precision:\", np.round( precision_score(y_test, preds, average='macro'), 4 ))\n",
    "print( \"Macro Recall:\", np.round( recall_score(y_test, preds, average='macro'), 4 ))\n",
    "print( \"Accuracy:\", np.round( accuracy_score(y_test, preds), 4 ))"
   ]
  },
  {
   "cell_type": "code",
   "execution_count": null,
   "id": "aae3fa84",
   "metadata": {},
   "outputs": [],
   "source": []
  },
  {
   "cell_type": "code",
   "execution_count": 103,
   "id": "855fea21",
   "metadata": {},
   "outputs": [],
   "source": [
    "en = np.array(en)"
   ]
  },
  {
   "cell_type": "code",
   "execution_count": 106,
   "id": "33ca2ab1",
   "metadata": {},
   "outputs": [
    {
     "data": {
      "text/plain": [
       "Text(0.5, 1.0, 'Entropy of Incorrect Predictions')"
      ]
     },
     "execution_count": 106,
     "metadata": {},
     "output_type": "execute_result"
    },
    {
     "data": {
      "image/png": "[encoded data removed]",
      "text/plain": [
       "<Figure size 432x288 with 1 Axes>"
      ]
     },
     "metadata": {
      "needs_background": "light"
     },
     "output_type": "display_data"
    }
   ],
   "source": [
    "font = {'weight' : 'bold', 'size'   : 16}\n",
    "plt.rc('font', **font)\n",
    "\n",
    "correct = np.where( preds == y_test )\n",
    "incorrect = np.where( preds != y_test )\n",
    "\n",
    "plt.hist( en[incorrect] )\n",
    "#plt.hist( en[correct], alpha=0.35 )\n",
    "#plt.yscale('log')\n",
    "plt.xlabel( 'Entropy' )\n",
    "plt.ylabel( 'Counts' )\n",
    "plt.title( 'Entropy of Incorrect Predictions' )"
   ]
  },
  {
   "cell_type": "markdown",
   "id": "a5f7d01f",
   "metadata": {},
   "source": [
    "#### Entropy-Accuracy Evaluation"
   ]
  },
  {
   "cell_type": "code",
   "execution_count": 107,
   "id": "159d2237",
   "metadata": {},
   "outputs": [],
   "source": [
    "np.max(en)\n",
    "preds = np.array(preds)"
   ]
  },
  {
   "cell_type": "code",
   "execution_count": 108,
   "id": "b958abeb",
   "metadata": {
    "scrolled": true
   },
   "outputs": [
    {
     "name": "stdout",
     "output_type": "stream",
     "text": [
      "Threshold: 0.3\n",
      "X, Y: (5572,) (5572,)\n",
      "Percent of predictions: 0.24814072589623692\n",
      "Balanced Accuracy: 0.7551\n",
      "Macro F1: 0.7551\n",
      "Macro Precision: 0.7551\n",
      "Macro Recall: 0.7551\n",
      "\n",
      "Threshold: 0.4\n",
      "X, Y: (7930,) (7930,)\n",
      "Percent of predictions: 0.35315074593631707\n",
      "Balanced Accuracy: 0.8091\n",
      "Macro F1: 0.8125\n",
      "Macro Precision: 0.816\n",
      "Macro Recall: 0.8091\n",
      "\n",
      "Threshold: 0.5\n",
      "X, Y: (10050,) (10050,)\n",
      "Percent of predictions: 0.447561790247161\n",
      "Balanced Accuracy: 0.7967\n",
      "Macro F1: 0.7993\n",
      "Macro Precision: 0.8028\n",
      "Macro Recall: 0.7967\n",
      "\n",
      "Threshold: 0.6000000000000001\n",
      "X, Y: (12668,) (12668,)\n",
      "Percent of predictions: 0.5641505232687597\n",
      "Balanced Accuracy: 0.7642\n",
      "Macro F1: 0.7662\n",
      "Macro Precision: 0.7699\n",
      "Macro Recall: 0.7642\n",
      "\n",
      "Threshold: 0.7000000000000002\n",
      "X, Y: (17868,) (17868,)\n",
      "Percent of predictions: 0.7957247828991316\n",
      "Balanced Accuracy: 0.717\n",
      "Macro F1: 0.7151\n",
      "Macro Precision: 0.716\n",
      "Macro Recall: 0.717\n",
      "\n",
      "Threshold: 0.8000000000000003\n",
      "X, Y: (19869,) (19869,)\n",
      "Percent of predictions: 0.8848363393453574\n",
      "Balanced Accuracy: 0.7025\n",
      "Macro F1: 0.7001\n",
      "Macro Precision: 0.7003\n",
      "Macro Recall: 0.7025\n",
      "\n",
      "Threshold: 0.9000000000000001\n",
      "X, Y: (20745,) (20745,)\n",
      "Percent of predictions: 0.9238476953907816\n",
      "Balanced Accuracy: 0.6942\n",
      "Macro F1: 0.6916\n",
      "Macro Precision: 0.6914\n",
      "Macro Recall: 0.6942\n",
      "\n",
      "Threshold: 1.0000000000000002\n",
      "X, Y: (21525,) (21525,)\n",
      "Percent of predictions: 0.9585838343353373\n",
      "Balanced Accuracy: 0.6846\n",
      "Macro F1: 0.6817\n",
      "Macro Precision: 0.6811\n",
      "Macro Recall: 0.6846\n",
      "\n"
     ]
    }
   ],
   "source": [
    "from sklearn.metrics import balanced_accuracy_score\n",
    "\n",
    "testValues = np.arange(0.3, 1.1, 0.1)\n",
    "\n",
    "acc = []\n",
    "thr = []\n",
    "pct = []\n",
    "\n",
    "n = preds.shape[0]\n",
    "\n",
    "for t in testValues:\n",
    "    \n",
    "    ixs = np.where( en <= t )\n",
    "    y = y_test[ixs]\n",
    "    x = preds[ixs]\n",
    "    \n",
    "    acc.append( balanced_accuracy_score(y,x) )\n",
    "    thr.append( t )\n",
    "    pct.append( len(ixs[0])/n )\n",
    "\n",
    "    print( \"Threshold:\", t )\n",
    "    print( \"X, Y:\", y.shape, x.shape)\n",
    "    print( \"Percent of predictions:\", len(ixs[0])/n )\n",
    "    print( \"Balanced Accuracy:\", np.round( balanced_accuracy_score(y,x), 4 ))\n",
    "    print( \"Macro F1:\", np.round( f1_score(y,x, average='macro'), 4 ))\n",
    "    print( \"Macro Precision:\", np.round( precision_score(y,x, average='macro'), 4 ))\n",
    "    print( \"Macro Recall:\", np.round( recall_score(y,x, average='macro'), 4 ))\n",
    "    print()"
   ]
  },
  {
   "cell_type": "code",
   "execution_count": 109,
   "id": "b3033855",
   "metadata": {},
   "outputs": [
    {
     "data": {
      "text/plain": [
       "(0.0, 1.0)"
      ]
     },
     "execution_count": 109,
     "metadata": {},
     "output_type": "execute_result"
    },
    {
     "name": "stderr",
     "output_type": "stream",
     "text": [
      "findfont: Font family ['normal'] not found. Falling back to DejaVu Sans.\n",
      "findfont: Font family ['normal'] not found. Falling back to DejaVu Sans.\n"
     ]
    },
    {
     "data": {
      "image/png": "[encoded data removed]",
      "text/plain": [
       "<Figure size 432x288 with 2 Axes>"
      ]
     },
     "metadata": {
      "needs_background": "light"
     },
     "output_type": "display_data"
    }
   ],
   "source": [
    "font = {'family' : 'normal',\n",
    "    'weight' : 'bold',\n",
    "    'size'   : 16}\n",
    "plt.rc('font', **font)\n",
    "\n",
    "plt.scatter( np.array(pct)*100., acc, c=thr )\n",
    "plt.colorbar()\n",
    "plt.xlabel('% of data used in predictions')\n",
    "plt.ylabel('Prediction Accuracy')\n",
    "plt.ylim(0,1)"
   ]
  },
  {
   "cell_type": "code",
   "execution_count": 110,
   "id": "b51f0388",
   "metadata": {},
   "outputs": [
    {
     "data": {
      "text/plain": [
       "<sklearn.metrics._plot.confusion_matrix.ConfusionMatrixDisplay at 0x70451fc4e760>"
      ]
     },
     "execution_count": 110,
     "metadata": {},
     "output_type": "execute_result"
    },
    {
     "data": {
      "image/png": "[encoded data removed]",
      "text/plain": [
       "<Figure size 720x720 with 2 Axes>"
      ]
     },
     "metadata": {
      "needs_background": "light"
     },
     "output_type": "display_data"
    }
   ],
   "source": [
    "from sklearn.metrics import confusion_matrix, ConfusionMatrixDisplay\n",
    "\n",
    "th = 0.4\n",
    "\n",
    "ixs = np.where( en <= th )\n",
    "y = y_test[ixs]\n",
    "x = preds[ixs]\n",
    "    \n",
    "cm = confusion_matrix( x, y, normalize='true' )\n",
    "\n",
    "fig, ax = plt.subplots(figsize=(10, 10))\n",
    "disp = ConfusionMatrixDisplay( confusion_matrix=cm, display_labels=le.inverse_transform([0,1,2]))#rf.classes_)\n",
    "disp.plot(ax=ax, cmap='gist_yarg')"
   ]
  },
  {
   "cell_type": "code",
   "execution_count": 111,
   "id": "16eaa4a3",
   "metadata": {},
   "outputs": [
    {
     "name": "stdout",
     "output_type": "stream",
     "text": [
      "Balanced Accuracy: 0.816\n",
      "Macro F1: 0.8125\n",
      "Macro Precision: 0.8091\n",
      "Macro Recall: 0.816\n"
     ]
    }
   ],
   "source": [
    "print( \"Balanced Accuracy:\", np.round( balanced_accuracy_score(x,y), 4 ))\n",
    "print( \"Macro F1:\", np.round( f1_score(x,y, average='macro'), 4 ))\n",
    "print( \"Macro Precision:\", np.round( precision_score(x,y, average='macro'), 4 ))\n",
    "print( \"Macro Recall:\", np.round( recall_score(x,y, average='macro'), 4 ))"
   ]
  },
  {
   "cell_type": "markdown",
   "id": "f7d83dd9",
   "metadata": {},
   "source": [
    "### Where is the model confused?"
   ]
  },
  {
   "cell_type": "code",
   "execution_count": 115,
   "id": "b989912f",
   "metadata": {},
   "outputs": [],
   "source": [
    "ix0 = np.where( (preds == y_test) & (en < 0.5) )\n",
    "ix1 = np.where( (preds != y_test) & (en >= 0.5) )"
   ]
  },
  {
   "cell_type": "code",
   "execution_count": 125,
   "id": "e2dae941",
   "metadata": {},
   "outputs": [
    {
     "data": {
      "text/plain": [
       "Index(['Area', 'MedianIncomeCounty', 'HousingUnitsCounty',\n",
       "       'HousingDensityCounty', 'Impervious', 'AgCount', 'CmCount', 'GvCount',\n",
       "       'EdCount', 'InCount', 'OsmNearestRoad'],\n",
       "      dtype='object')"
      ]
     },
     "execution_count": 125,
     "metadata": {},
     "output_type": "execute_result"
    }
   ],
   "source": [
    "columns"
   ]
  },
  {
   "cell_type": "code",
   "execution_count": 147,
   "id": "c18d3713",
   "metadata": {},
   "outputs": [
    {
     "data": {
      "image/png": "[encoded data removed]",
      "text/plain": [
       "<Figure size 432x288 with 1 Axes>"
      ]
     },
     "metadata": {
      "needs_background": "light"
     },
     "output_type": "display_data"
    }
   ],
   "source": [
    "plt.hist( Xsub[ix0[0],10], label='correct' )\n",
    "plt.hist( Xsub[ix1[0],10], label='incorrect')\n",
    "plt.legend()\n",
    "plt.yscale('log')"
   ]
  },
  {
   "cell_type": "code",
   "execution_count": null,
   "id": "2b7bfb92",
   "metadata": {},
   "outputs": [],
   "source": []
  }
 ],
 "metadata": {
  "kernelspec": {
   "display_name": "Python 3 (ipykernel)",
   "language": "python",
   "name": "python3"
  },
  "language_info": {
   "codemirror_mode": {
    "name": "ipython",
    "version": 3
   },
   "file_extension": ".py",
   "mimetype": "text/x-python",
   "name": "python",
   "nbconvert_exporter": "python",
   "pygments_lexer": "ipython3",
   "version": "3.9.13"
  }
 },
 "nbformat": 4,
 "nbformat_minor": 5
}
