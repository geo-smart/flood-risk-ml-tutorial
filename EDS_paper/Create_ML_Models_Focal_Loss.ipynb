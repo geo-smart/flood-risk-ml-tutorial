{
 "cells": [
  {
   "cell_type": "code",
   "execution_count": 1,
   "metadata": {},
   "outputs": [],
   "source": [
    "import time\n",
    "import pickle\n",
    "import itertools\n",
    "import numpy as np\n",
    "import pandas as pd\n",
    "import utilities as utils\n",
    "import configuration as config\n",
    "import matplotlib.pyplot as plt\n",
    "\n",
    "import tensorflow as tf\n",
    "#from keras.utils import to_categorical\n",
    "from tensorflow.keras.layers import Dense\n",
    "from keras.callbacks import EarlyStopping\n",
    "from tensorflow.keras.models import Sequential\n",
    "\n",
    "#from focal_loss import SparseCategoricalFocalLoss\n",
    "\n",
    "from sklearn import preprocessing\n",
    "from sklearn.metrics import f1_score\n",
    "from sklearn.model_selection import KFold\n",
    "from sklearn.metrics import balanced_accuracy_score\n",
    "from sklearn.model_selection import train_test_split\n",
    "from sklearn.inspection import permutation_importance\n",
    "from sklearn.metrics import confusion_matrix, ConfusionMatrixDisplay\n",
    "\n",
    "from sklearn.neighbors import KNeighborsClassifier\n",
    "from sklearn.ensemble import RandomForestClassifier\n",
    "from sklearn.linear_model import LogisticRegression"
   ]
  },
  {
   "cell_type": "markdown",
   "metadata": {},
   "source": [
    "#### Setup and Configuration"
   ]
  },
  {
   "cell_type": "code",
   "execution_count": 2,
   "metadata": {},
   "outputs": [],
   "source": [
    "# North Carolina\n",
    "state = 37\n",
    "\n",
    "# input file\n",
    "inFile = config.outDir + 'ML_Training_' + str(state) + '.csv'"
   ]
  },
  {
   "cell_type": "code",
   "execution_count": 3,
   "metadata": {},
   "outputs": [
    {
     "name": "stdout",
     "output_type": "stream",
     "text": [
      "\n",
      "Residential         976690\n",
      "Commercial           64029\n",
      "Industrial           16722\n",
      "Assembly              7323\n",
      "Education             6457\n",
      "Government            4910\n",
      "Agriculture           1651\n",
      "Utility and Misc       362\n",
      "Name: OrnlType, dtype: int64\n",
      "\n"
     ]
    }
   ],
   "source": [
    "# read into a Pandas dataframe\n",
    "df = pd.read_csv( inFile )\n",
    "\n",
    "# ignore first few columns, which are FIPs codes, not needed for ML\n",
    "df = df.iloc[:, 3:] \n",
    "\n",
    "# building type distributions\n",
    "print()\n",
    "print( df['OrnlType'].value_counts() )\n",
    "print()"
   ]
  },
  {
   "cell_type": "code",
   "execution_count": 4,
   "metadata": {},
   "outputs": [
    {
     "data": {
      "text/plain": [
       "Residential            1.000000\n",
       "Commercial            15.253869\n",
       "Industrial            58.407487\n",
       "Assembly             133.372935\n",
       "Education            151.260647\n",
       "Government           198.918534\n",
       "Agriculture          591.574803\n",
       "Utility and Misc    2698.038674\n",
       "Name: OrnlType, dtype: float64"
      ]
     },
     "execution_count": 4,
     "metadata": {},
     "output_type": "execute_result"
    }
   ],
   "source": [
    "976690/df['OrnlType'].value_counts()"
   ]
  },
  {
   "cell_type": "markdown",
   "metadata": {},
   "source": [
    "## Pre-processing"
   ]
  },
  {
   "cell_type": "code",
   "execution_count": 5,
   "metadata": {},
   "outputs": [],
   "source": [
    "df.loc[df[\"OrnlType\"] != \"Residential\", \"OrnlType\"] = 'Other'\n",
    "\n",
    "df = df.sample(frac=1) # shuffle the dataframe (technically, we randomly resample the entire df)\n",
    "\n",
    "# preprocess the data - scaling\n",
    "scaler = preprocessing.StandardScaler()\n",
    "    \n",
    "# columns: StateFips, CountyFips, StateCountyFips,\n",
    "#          X, Y, Area, MedianIncomeCounty, HousingUnitsCounty,\n",
    "#          HousingDensityCounty, Impervious, AgCount, CmCount,\n",
    "#          GvCount, EdCount, InCount, OsmNearestRoad, OrnlType\n",
    "columns = ['X', 'Y', 'Area', 'MedianIncomeCounty', \n",
    "           'HousingUnitsCounty', 'HousingDensityCounty',\n",
    "           'Impervious', 'AgCount', 'CmCount', 'GvCount',\n",
    "           'EdCount', 'InCount']\n",
    "df[columns] = scaler.fit_transform(df[columns])\n",
    "\n",
    "\n",
    "# preprossing - drop rows with NaN values\n",
    "df = df.dropna()\n",
    "    \n",
    "# preprocessing - change output labels from text ('Agriculture') to integers\n",
    "nCols = df.shape[1]\n",
    "le = preprocessing.LabelEncoder()\n",
    "le.fit( df.iloc[:, nCols-1] )\n",
    "df.iloc[:, nCols-1] = le.transform( df.iloc[:, nCols-1] )\n",
    "        \n",
    "# preprocessing - change output labels of nearest road type from text to integers\n",
    "le2 = preprocessing.LabelEncoder()\n",
    "le2.fit( df.iloc[:, nCols-2] ) \n",
    "df.iloc[:, nCols-2] = le2.transform( df.iloc[:, nCols-2] )"
   ]
  },
  {
   "cell_type": "code",
   "execution_count": 7,
   "metadata": {},
   "outputs": [
    {
     "data": {
      "text/plain": [
       "array(['Other', 'Residential'], dtype=object)"
      ]
     },
     "execution_count": 7,
     "metadata": {},
     "output_type": "execute_result"
    }
   ],
   "source": [
    "le.inverse_transform([0,1])"
   ]
  },
  {
   "cell_type": "code",
   "execution_count": 8,
   "metadata": {},
   "outputs": [
    {
     "data": {
      "text/html": [
       "<div>\n",
       "<style scoped>\n",
       "    .dataframe tbody tr th:only-of-type {\n",
       "        vertical-align: middle;\n",
       "    }\n",
       "\n",
       "    .dataframe tbody tr th {\n",
       "        vertical-align: top;\n",
       "    }\n",
       "\n",
       "    .dataframe thead th {\n",
       "        text-align: right;\n",
       "    }\n",
       "</style>\n",
       "<table border=\"1\" class=\"dataframe\">\n",
       "  <thead>\n",
       "    <tr style=\"text-align: right;\">\n",
       "      <th></th>\n",
       "      <th>X</th>\n",
       "      <th>Y</th>\n",
       "      <th>Area</th>\n",
       "      <th>MedianIncomeCounty</th>\n",
       "      <th>HousingUnitsCounty</th>\n",
       "      <th>HousingDensityCounty</th>\n",
       "      <th>Impervious</th>\n",
       "      <th>AgCount</th>\n",
       "      <th>CmCount</th>\n",
       "      <th>GvCount</th>\n",
       "      <th>EdCount</th>\n",
       "      <th>InCount</th>\n",
       "      <th>OsmNearestRoad</th>\n",
       "      <th>OrnlType</th>\n",
       "    </tr>\n",
       "  </thead>\n",
       "  <tbody>\n",
       "    <tr>\n",
       "      <th>487030</th>\n",
       "      <td>-1.075439</td>\n",
       "      <td>-0.348103</td>\n",
       "      <td>-0.026605</td>\n",
       "      <td>0.337253</td>\n",
       "      <td>1.051850</td>\n",
       "      <td>0.031186</td>\n",
       "      <td>-0.788243</td>\n",
       "      <td>-0.337799</td>\n",
       "      <td>1.140185</td>\n",
       "      <td>1.278110</td>\n",
       "      <td>0.949244</td>\n",
       "      <td>0.979654</td>\n",
       "      <td>4</td>\n",
       "      <td>1</td>\n",
       "    </tr>\n",
       "    <tr>\n",
       "      <th>1003604</th>\n",
       "      <td>0.740532</td>\n",
       "      <td>0.260605</td>\n",
       "      <td>-0.105158</td>\n",
       "      <td>1.302284</td>\n",
       "      <td>0.963812</td>\n",
       "      <td>-0.339621</td>\n",
       "      <td>-1.354833</td>\n",
       "      <td>1.665731</td>\n",
       "      <td>0.880503</td>\n",
       "      <td>0.643556</td>\n",
       "      <td>1.097817</td>\n",
       "      <td>1.041934</td>\n",
       "      <td>4</td>\n",
       "      <td>1</td>\n",
       "    </tr>\n",
       "    <tr>\n",
       "      <th>839001</th>\n",
       "      <td>0.906766</td>\n",
       "      <td>0.687815</td>\n",
       "      <td>-0.173168</td>\n",
       "      <td>1.302284</td>\n",
       "      <td>0.963812</td>\n",
       "      <td>-0.339621</td>\n",
       "      <td>0.628233</td>\n",
       "      <td>1.665731</td>\n",
       "      <td>0.880503</td>\n",
       "      <td>0.643556</td>\n",
       "      <td>1.097817</td>\n",
       "      <td>1.041934</td>\n",
       "      <td>4</td>\n",
       "      <td>1</td>\n",
       "    </tr>\n",
       "    <tr>\n",
       "      <th>330798</th>\n",
       "      <td>-0.159225</td>\n",
       "      <td>1.268571</td>\n",
       "      <td>-0.155860</td>\n",
       "      <td>-0.937660</td>\n",
       "      <td>-0.273707</td>\n",
       "      <td>0.026131</td>\n",
       "      <td>-0.311114</td>\n",
       "      <td>-0.758292</td>\n",
       "      <td>-0.383523</td>\n",
       "      <td>-0.202516</td>\n",
       "      <td>-0.520841</td>\n",
       "      <td>-0.321399</td>\n",
       "      <td>5</td>\n",
       "      <td>1</td>\n",
       "    </tr>\n",
       "    <tr>\n",
       "      <th>348352</th>\n",
       "      <td>-0.111268</td>\n",
       "      <td>1.278203</td>\n",
       "      <td>-0.126456</td>\n",
       "      <td>-0.937660</td>\n",
       "      <td>-0.273707</td>\n",
       "      <td>0.026131</td>\n",
       "      <td>-0.400575</td>\n",
       "      <td>-0.758292</td>\n",
       "      <td>-0.383523</td>\n",
       "      <td>-0.202516</td>\n",
       "      <td>-0.520841</td>\n",
       "      <td>-0.321399</td>\n",
       "      <td>4</td>\n",
       "      <td>1</td>\n",
       "    </tr>\n",
       "  </tbody>\n",
       "</table>\n",
       "</div>"
      ],
      "text/plain": [
       "                X         Y      Area  MedianIncomeCounty  HousingUnitsCounty  \\\n",
       "487030  -1.075439 -0.348103 -0.026605            0.337253            1.051850   \n",
       "1003604  0.740532  0.260605 -0.105158            1.302284            0.963812   \n",
       "839001   0.906766  0.687815 -0.173168            1.302284            0.963812   \n",
       "330798  -0.159225  1.268571 -0.155860           -0.937660           -0.273707   \n",
       "348352  -0.111268  1.278203 -0.126456           -0.937660           -0.273707   \n",
       "\n",
       "         HousingDensityCounty  Impervious   AgCount   CmCount   GvCount  \\\n",
       "487030               0.031186   -0.788243 -0.337799  1.140185  1.278110   \n",
       "1003604             -0.339621   -1.354833  1.665731  0.880503  0.643556   \n",
       "839001              -0.339621    0.628233  1.665731  0.880503  0.643556   \n",
       "330798               0.026131   -0.311114 -0.758292 -0.383523 -0.202516   \n",
       "348352               0.026131   -0.400575 -0.758292 -0.383523 -0.202516   \n",
       "\n",
       "          EdCount   InCount  OsmNearestRoad  OrnlType  \n",
       "487030   0.949244  0.979654               4         1  \n",
       "1003604  1.097817  1.041934               4         1  \n",
       "839001   1.097817  1.041934               4         1  \n",
       "330798  -0.520841 -0.321399               5         1  \n",
       "348352  -0.520841 -0.321399               4         1  "
      ]
     },
     "execution_count": 8,
     "metadata": {},
     "output_type": "execute_result"
    }
   ],
   "source": [
    "df.head()"
   ]
  },
  {
   "cell_type": "markdown",
   "metadata": {},
   "source": [
    "## Neural Network with focal loss (binary)"
   ]
  },
  {
   "cell_type": "code",
   "execution_count": 10,
   "metadata": {},
   "outputs": [
    {
     "name": "stderr",
     "output_type": "stream",
     "text": [
      "2023-11-30 10:10:07.760433: I tensorflow/core/platform/cpu_feature_guard.cc:151] This TensorFlow binary is optimized with oneAPI Deep Neural Network Library (oneDNN) to use the following CPU instructions in performance-critical operations:  AVX2 FMA\n",
      "To enable them in other operations, rebuild TensorFlow with the appropriate compiler flags.\n",
      "2023-11-30 10:10:07.831288: I tensorflow/stream_executor/cuda/cuda_gpu_executor.cc:936] successful NUMA node read from SysFS had negative value (-1), but there must be at least one NUMA node, so returning NUMA node zero\n",
      "2023-11-30 10:10:08.056318: I tensorflow/stream_executor/cuda/cuda_gpu_executor.cc:936] successful NUMA node read from SysFS had negative value (-1), but there must be at least one NUMA node, so returning NUMA node zero\n",
      "2023-11-30 10:10:08.056567: I tensorflow/stream_executor/cuda/cuda_gpu_executor.cc:936] successful NUMA node read from SysFS had negative value (-1), but there must be at least one NUMA node, so returning NUMA node zero\n",
      "2023-11-30 10:10:09.253354: I tensorflow/stream_executor/cuda/cuda_gpu_executor.cc:936] successful NUMA node read from SysFS had negative value (-1), but there must be at least one NUMA node, so returning NUMA node zero\n",
      "2023-11-30 10:10:09.253535: I tensorflow/stream_executor/cuda/cuda_gpu_executor.cc:936] successful NUMA node read from SysFS had negative value (-1), but there must be at least one NUMA node, so returning NUMA node zero\n",
      "2023-11-30 10:10:09.253658: I tensorflow/stream_executor/cuda/cuda_gpu_executor.cc:936] successful NUMA node read from SysFS had negative value (-1), but there must be at least one NUMA node, so returning NUMA node zero\n",
      "2023-11-30 10:10:09.254682: I tensorflow/core/common_runtime/gpu/gpu_device.cc:1525] Created device /job:localhost/replica:0/task:0/device:GPU:0 with 5331 MB memory:  -> device: 0, name: NVIDIA GeForce RTX 2060, pci bus id: 0000:01:00.0, compute capability: 7.5\n"
     ]
    }
   ],
   "source": [
    "# This is required for my GPU: GeForce RTX 2060\n",
    "# Without this config, tensorflow cannot properly allocate GPU memory\n",
    "\n",
    "# This is a GPU specific configuration and may not be needed on your GPU\n",
    "\n",
    "config = tf.compat.v1.ConfigProto()\n",
    "config.gpu_options.allow_growth = True\n",
    "config.gpu_options.per_process_gpu_memory_fraction = 0.90\n",
    "session = tf.compat.v1.Session(config=config)"
   ]
  },
  {
   "cell_type": "code",
   "execution_count": 12,
   "metadata": {},
   "outputs": [
    {
     "name": "stdout",
     "output_type": "stream",
     "text": [
      "Creating test/train split...\n",
      "shape: (215629, 14)\n"
     ]
    }
   ],
   "source": [
    "# columns: StateFips, CountyFips, StateCountyFips,\n",
    "#          X, Y, Area, MedianIncomeCounty, HousingUnitsCounty,\n",
    "#          HousingDensityCounty, Impervious, AgCount, CmCount,\n",
    "#          GvCount, EdCount, InCount, OsmNearestRoad, OrnlType\n",
    "\n",
    "# test/train split\n",
    "print(\"Creating test/train split...\")\n",
    "train, test = train_test_split(df, test_size=0.2, random_state=42, stratify=df[['OrnlType']])\n",
    "\n",
    "print(\"shape:\", test.shape)\n",
    "\n",
    "nCols = test.shape[1]\n",
    "xTest = test.iloc[:, :nCols-1]\n",
    "yTest = test.iloc[:, nCols-1]\n",
    "\n",
    "xTrain = train.iloc[:, :nCols-1]\n",
    "yTrain = train.iloc[:, nCols-1]"
   ]
  },
  {
   "cell_type": "code",
   "execution_count": 13,
   "metadata": {},
   "outputs": [
    {
     "name": "stdout",
     "output_type": "stream",
     "text": [
      "Training Size: (862513, 13)\n",
      "Testing Size: (215629, 13)\n"
     ]
    }
   ],
   "source": [
    "print(\"Training Size:\", xTrain.shape)\n",
    "print(\"Testing Size:\", xTest.shape)"
   ]
  },
  {
   "cell_type": "code",
   "execution_count": 14,
   "metadata": {},
   "outputs": [
    {
     "name": "stdout",
     "output_type": "stream",
     "text": [
      "[[0. 1.]\n",
      " [0. 1.]\n",
      " [1. 0.]\n",
      " ...\n",
      " [0. 1.]\n",
      " [0. 1.]\n",
      " [0. 1.]]\n"
     ]
    }
   ],
   "source": [
    "binary_matrix = np.eye(np.max(yTrain) + 1)[yTrain]\n",
    "\n",
    "print(binary_matrix)"
   ]
  },
  {
   "cell_type": "code",
   "execution_count": 15,
   "metadata": {},
   "outputs": [
    {
     "data": {
      "text/plain": [
       "1"
      ]
     },
     "execution_count": 15,
     "metadata": {},
     "output_type": "execute_result"
    }
   ],
   "source": [
    "yTrain[0]"
   ]
  },
  {
   "cell_type": "code",
   "execution_count": 16,
   "metadata": {
    "scrolled": true
   },
   "outputs": [
    {
     "name": "stderr",
     "output_type": "stream",
     "text": [
      "2023-11-30 10:11:12.342661: I tensorflow/stream_executor/cuda/cuda_gpu_executor.cc:936] successful NUMA node read from SysFS had negative value (-1), but there must be at least one NUMA node, so returning NUMA node zero\n",
      "2023-11-30 10:11:12.342847: I tensorflow/stream_executor/cuda/cuda_gpu_executor.cc:936] successful NUMA node read from SysFS had negative value (-1), but there must be at least one NUMA node, so returning NUMA node zero\n",
      "2023-11-30 10:11:12.342952: I tensorflow/stream_executor/cuda/cuda_gpu_executor.cc:936] successful NUMA node read from SysFS had negative value (-1), but there must be at least one NUMA node, so returning NUMA node zero\n",
      "2023-11-30 10:11:12.343198: I tensorflow/stream_executor/cuda/cuda_gpu_executor.cc:936] successful NUMA node read from SysFS had negative value (-1), but there must be at least one NUMA node, so returning NUMA node zero\n",
      "2023-11-30 10:11:12.343309: I tensorflow/stream_executor/cuda/cuda_gpu_executor.cc:936] successful NUMA node read from SysFS had negative value (-1), but there must be at least one NUMA node, so returning NUMA node zero\n",
      "2023-11-30 10:11:12.343411: I tensorflow/stream_executor/cuda/cuda_gpu_executor.cc:936] successful NUMA node read from SysFS had negative value (-1), but there must be at least one NUMA node, so returning NUMA node zero\n",
      "2023-11-30 10:11:12.343547: I tensorflow/stream_executor/cuda/cuda_gpu_executor.cc:936] successful NUMA node read from SysFS had negative value (-1), but there must be at least one NUMA node, so returning NUMA node zero\n",
      "2023-11-30 10:11:12.343654: I tensorflow/stream_executor/cuda/cuda_gpu_executor.cc:936] successful NUMA node read from SysFS had negative value (-1), but there must be at least one NUMA node, so returning NUMA node zero\n",
      "2023-11-30 10:11:12.343730: I tensorflow/core/common_runtime/gpu/gpu_device.cc:1525] Created device /job:localhost/replica:0/task:0/device:GPU:0 with 5331 MB memory:  -> device: 0, name: NVIDIA GeForce RTX 2060, pci bus id: 0000:01:00.0, compute capability: 7.5\n"
     ]
    },
    {
     "name": "stdout",
     "output_type": "stream",
     "text": [
      "Epoch 1/150\n"
     ]
    },
    {
     "name": "stderr",
     "output_type": "stream",
     "text": [
      "/home/narock/.local/lib/python3.10/site-packages/tensorflow/python/util/dispatch.py:1082: UserWarning: \"`binary_crossentropy` received `from_logits=True`, but the `output` argument was produced by a sigmoid or softmax activation and thus does not represent logits. Was this intended?\"\n",
      "  return dispatch_target(*args, **kwargs)\n"
     ]
    },
    {
     "name": "stdout",
     "output_type": "stream",
     "text": [
      "3370/3370 [==============================] - 17s 4ms/step - loss: 0.0413 - accuracy: 0.9459\n",
      "Epoch 2/150\n",
      "3370/3370 [==============================] - 16s 5ms/step - loss: 0.0382 - accuracy: 0.9492\n",
      "Epoch 3/150\n",
      "3370/3370 [==============================] - 13s 4ms/step - loss: 0.0377 - accuracy: 0.9499\n",
      "Epoch 4/150\n",
      "3370/3370 [==============================] - 15s 4ms/step - loss: 0.0374 - accuracy: 0.9503\n",
      "Epoch 5/150\n",
      "3370/3370 [==============================] - 11s 3ms/step - loss: 0.0372 - accuracy: 0.9505\n",
      "Epoch 6/150\n",
      "3370/3370 [==============================] - 8s 2ms/step - loss: 0.0370 - accuracy: 0.9506\n",
      "Epoch 7/150\n",
      "3370/3370 [==============================] - 10s 3ms/step - loss: 0.0368 - accuracy: 0.9507\n",
      "Epoch 8/150\n",
      "3370/3370 [==============================] - 13s 4ms/step - loss: 0.0366 - accuracy: 0.9507\n",
      "Epoch 9/150\n",
      "3370/3370 [==============================] - 15s 4ms/step - loss: 0.0365 - accuracy: 0.9508\n",
      "Epoch 10/150\n",
      "3370/3370 [==============================] - 16s 5ms/step - loss: 0.0363 - accuracy: 0.9509\n",
      "Epoch 11/150\n",
      "3370/3370 [==============================] - 13s 4ms/step - loss: 0.0362 - accuracy: 0.9508\n",
      "Epoch 12/150\n",
      "3370/3370 [==============================] - 14s 4ms/step - loss: 0.0361 - accuracy: 0.9509\n",
      "Epoch 13/150\n",
      "3370/3370 [==============================] - 16s 5ms/step - loss: 0.0360 - accuracy: 0.9511\n",
      "Epoch 14/150\n",
      "3370/3370 [==============================] - 14s 4ms/step - loss: 0.0359 - accuracy: 0.9511\n",
      "Epoch 15/150\n",
      "3370/3370 [==============================] - 14s 4ms/step - loss: 0.0358 - accuracy: 0.9512\n",
      "Epoch 16/150\n",
      "3370/3370 [==============================] - 14s 4ms/step - loss: 0.0357 - accuracy: 0.9513\n",
      "Epoch 17/150\n",
      "3370/3370 [==============================] - 14s 4ms/step - loss: 0.0357 - accuracy: 0.9512\n",
      "Epoch 18/150\n",
      "3370/3370 [==============================] - 13s 4ms/step - loss: 0.0356 - accuracy: 0.9513\n",
      "Epoch 19/150\n",
      "3370/3370 [==============================] - 14s 4ms/step - loss: 0.0355 - accuracy: 0.9514\n",
      "Epoch 20/150\n",
      "3370/3370 [==============================] - 12s 4ms/step - loss: 0.0355 - accuracy: 0.9514\n",
      "Epoch 21/150\n",
      "3370/3370 [==============================] - 13s 4ms/step - loss: 0.0355 - accuracy: 0.9515\n",
      "Epoch 22/150\n",
      "3370/3370 [==============================] - 14s 4ms/step - loss: 0.0354 - accuracy: 0.9515\n",
      "Epoch 23/150\n",
      "3370/3370 [==============================] - 12s 4ms/step - loss: 0.0354 - accuracy: 0.9515\n",
      "Epoch 24/150\n",
      "3370/3370 [==============================] - 12s 4ms/step - loss: 0.0354 - accuracy: 0.9515\n",
      "Epoch 25/150\n",
      "3370/3370 [==============================] - 16s 5ms/step - loss: 0.0353 - accuracy: 0.9515\n",
      "Epoch 26/150\n",
      "3370/3370 [==============================] - 14s 4ms/step - loss: 0.0353 - accuracy: 0.9517\n",
      "Epoch 27/150\n",
      "3370/3370 [==============================] - 14s 4ms/step - loss: 0.0352 - accuracy: 0.9516\n",
      "Epoch 28/150\n",
      "3370/3370 [==============================] - 14s 4ms/step - loss: 0.0352 - accuracy: 0.9517\n",
      "Epoch 29/150\n",
      "3370/3370 [==============================] - 12s 4ms/step - loss: 0.0352 - accuracy: 0.9517\n",
      "Epoch 30/150\n",
      "3370/3370 [==============================] - 12s 4ms/step - loss: 0.0352 - accuracy: 0.9519\n",
      "Epoch 31/150\n",
      "3370/3370 [==============================] - 16s 5ms/step - loss: 0.0352 - accuracy: 0.9518\n",
      "Epoch 32/150\n",
      "3370/3370 [==============================] - 15s 4ms/step - loss: 0.0352 - accuracy: 0.9517\n",
      "Epoch 33/150\n",
      "3370/3370 [==============================] - 14s 4ms/step - loss: 0.0351 - accuracy: 0.9519\n",
      "Epoch 34/150\n",
      "3370/3370 [==============================] - 12s 4ms/step - loss: 0.0351 - accuracy: 0.9517\n",
      "Epoch 35/150\n",
      "3370/3370 [==============================] - 14s 4ms/step - loss: 0.0351 - accuracy: 0.9519\n",
      "Epoch 36/150\n",
      "3370/3370 [==============================] - 13s 4ms/step - loss: 0.0351 - accuracy: 0.9519\n",
      "Epoch 37/150\n",
      "3370/3370 [==============================] - 16s 5ms/step - loss: 0.0351 - accuracy: 0.9520\n",
      "Epoch 38/150\n",
      "3370/3370 [==============================] - 15s 4ms/step - loss: 0.0350 - accuracy: 0.9520\n",
      "Epoch 39/150\n",
      "3370/3370 [==============================] - 14s 4ms/step - loss: 0.0351 - accuracy: 0.9519\n",
      "Epoch 40/150\n",
      "3370/3370 [==============================] - 14s 4ms/step - loss: 0.0350 - accuracy: 0.9519\n",
      "Epoch 41/150\n",
      "3370/3370 [==============================] - 15s 4ms/step - loss: 0.0350 - accuracy: 0.9519\n",
      "Epoch 42/150\n",
      "3370/3370 [==============================] - 15s 4ms/step - loss: 0.0350 - accuracy: 0.9520\n",
      "Epoch 43/150\n",
      "3370/3370 [==============================] - 11s 3ms/step - loss: 0.0350 - accuracy: 0.9521\n",
      "Epoch 44/150\n",
      "3370/3370 [==============================] - 13s 4ms/step - loss: 0.0350 - accuracy: 0.9520\n",
      "Epoch 45/150\n",
      "3370/3370 [==============================] - 13s 4ms/step - loss: 0.0350 - accuracy: 0.9521\n",
      "Epoch 46/150\n",
      "3370/3370 [==============================] - 13s 4ms/step - loss: 0.0349 - accuracy: 0.9521\n",
      "Epoch 47/150\n",
      "3370/3370 [==============================] - 10s 3ms/step - loss: 0.0349 - accuracy: 0.9521\n",
      "Epoch 48/150\n",
      "3370/3370 [==============================] - 10s 3ms/step - loss: 0.0349 - accuracy: 0.9521\n",
      "Epoch 49/150\n",
      "3370/3370 [==============================] - 11s 3ms/step - loss: 0.0349 - accuracy: 0.9521\n",
      "Epoch 50/150\n",
      "3370/3370 [==============================] - 10s 3ms/step - loss: 0.0349 - accuracy: 0.9519\n",
      "Epoch 51/150\n",
      "3370/3370 [==============================] - 11s 3ms/step - loss: 0.0349 - accuracy: 0.9521\n",
      "Epoch 52/150\n",
      "3370/3370 [==============================] - 12s 4ms/step - loss: 0.0349 - accuracy: 0.9521\n",
      "Epoch 53/150\n",
      "3370/3370 [==============================] - 14s 4ms/step - loss: 0.0348 - accuracy: 0.9520\n",
      "Epoch 54/150\n",
      "3370/3370 [==============================] - 12s 4ms/step - loss: 0.0348 - accuracy: 0.9522\n",
      "Epoch 55/150\n",
      "3370/3370 [==============================] - 15s 4ms/step - loss: 0.0348 - accuracy: 0.9522\n",
      "Epoch 56/150\n",
      "3370/3370 [==============================] - 14s 4ms/step - loss: 0.0348 - accuracy: 0.9522\n",
      "Epoch 57/150\n",
      "3370/3370 [==============================] - 13s 4ms/step - loss: 0.0348 - accuracy: 0.9523\n",
      "Epoch 58/150\n",
      "3370/3370 [==============================] - 11s 3ms/step - loss: 0.0348 - accuracy: 0.9522\n",
      "Epoch 59/150\n",
      "3370/3370 [==============================] - 11s 3ms/step - loss: 0.0348 - accuracy: 0.9523\n",
      "Epoch 60/150\n",
      "3370/3370 [==============================] - 9s 3ms/step - loss: 0.0348 - accuracy: 0.9522\n",
      "Epoch 61/150\n",
      "3370/3370 [==============================] - 9s 3ms/step - loss: 0.0347 - accuracy: 0.9523\n",
      "Epoch 62/150\n",
      "3370/3370 [==============================] - 10s 3ms/step - loss: 0.0348 - accuracy: 0.9521\n",
      "Epoch 63/150\n",
      "3370/3370 [==============================] - 10s 3ms/step - loss: 0.0347 - accuracy: 0.9522\n",
      "Epoch 64/150\n",
      "3370/3370 [==============================] - 12s 4ms/step - loss: 0.0347 - accuracy: 0.9523\n",
      "Epoch 65/150\n",
      "3370/3370 [==============================] - 10s 3ms/step - loss: 0.0347 - accuracy: 0.9523\n",
      "Epoch 66/150\n",
      "3370/3370 [==============================] - 10s 3ms/step - loss: 0.0347 - accuracy: 0.9522\n",
      "Epoch 67/150\n",
      "3370/3370 [==============================] - 10s 3ms/step - loss: 0.0347 - accuracy: 0.9523\n",
      "Epoch 68/150\n",
      "3370/3370 [==============================] - 12s 4ms/step - loss: 0.0347 - accuracy: 0.9523\n",
      "Epoch 69/150\n",
      "3370/3370 [==============================] - 12s 4ms/step - loss: 0.0347 - accuracy: 0.9523\n",
      "Epoch 70/150\n",
      "3370/3370 [==============================] - 13s 4ms/step - loss: 0.0347 - accuracy: 0.9523\n",
      "Epoch 71/150\n",
      "3370/3370 [==============================] - 13s 4ms/step - loss: 0.0347 - accuracy: 0.9524\n",
      "Epoch 72/150\n",
      "3370/3370 [==============================] - 12s 4ms/step - loss: 0.0347 - accuracy: 0.9523\n",
      "Epoch 73/150\n",
      "3370/3370 [==============================] - 12s 3ms/step - loss: 0.0346 - accuracy: 0.9523\n",
      "Epoch 74/150\n",
      "3370/3370 [==============================] - 14s 4ms/step - loss: 0.0346 - accuracy: 0.9523\n",
      "Epoch 75/150\n",
      "3370/3370 [==============================] - 10s 3ms/step - loss: 0.0346 - accuracy: 0.9524\n",
      "Epoch 76/150\n",
      "3370/3370 [==============================] - 13s 4ms/step - loss: 0.0346 - accuracy: 0.9523\n",
      "Epoch 77/150\n",
      "3370/3370 [==============================] - 13s 4ms/step - loss: 0.0346 - accuracy: 0.9523\n",
      "Epoch 78/150\n",
      "3370/3370 [==============================] - 11s 3ms/step - loss: 0.0346 - accuracy: 0.9524\n",
      "Epoch 79/150\n"
     ]
    },
    {
     "name": "stdout",
     "output_type": "stream",
     "text": [
      "3370/3370 [==============================] - 16s 5ms/step - loss: 0.0346 - accuracy: 0.9525\n",
      "Epoch 80/150\n",
      "3370/3370 [==============================] - 17s 5ms/step - loss: 0.0346 - accuracy: 0.9525\n",
      "Epoch 81/150\n",
      "3370/3370 [==============================] - 13s 4ms/step - loss: 0.0346 - accuracy: 0.9525\n",
      "Epoch 82/150\n",
      "3370/3370 [==============================] - 15s 5ms/step - loss: 0.0346 - accuracy: 0.9525\n",
      "Epoch 83/150\n",
      "3370/3370 [==============================] - 15s 5ms/step - loss: 0.0346 - accuracy: 0.9524\n",
      "Epoch 84/150\n",
      "3370/3370 [==============================] - 15s 5ms/step - loss: 0.0346 - accuracy: 0.9524\n",
      "Epoch 85/150\n",
      "3370/3370 [==============================] - 15s 4ms/step - loss: 0.0346 - accuracy: 0.9524\n",
      "Epoch 86/150\n",
      "3370/3370 [==============================] - 15s 4ms/step - loss: 0.0346 - accuracy: 0.9525\n",
      "Epoch 87/150\n",
      "3370/3370 [==============================] - 16s 5ms/step - loss: 0.0345 - accuracy: 0.9525\n",
      "Epoch 88/150\n",
      "3370/3370 [==============================] - 16s 5ms/step - loss: 0.0345 - accuracy: 0.9525\n",
      "Epoch 89/150\n",
      "3370/3370 [==============================] - 16s 5ms/step - loss: 0.0345 - accuracy: 0.9525\n",
      "Epoch 90/150\n",
      "3370/3370 [==============================] - 12s 4ms/step - loss: 0.0345 - accuracy: 0.9525\n",
      "Epoch 91/150\n",
      "3370/3370 [==============================] - 14s 4ms/step - loss: 0.0345 - accuracy: 0.9525\n",
      "Epoch 92/150\n",
      "3370/3370 [==============================] - 11s 3ms/step - loss: 0.0345 - accuracy: 0.9525\n",
      "Epoch 93/150\n",
      "3370/3370 [==============================] - 16s 5ms/step - loss: 0.0345 - accuracy: 0.9525\n"
     ]
    }
   ],
   "source": [
    "# convert output from scalar to vector format, i.e. building type=2 to [0,0,1,0,0,0,0,0,0,0,0]\n",
    "#y = to_categorical(yTrain)\n",
    "y = binary_matrix\n",
    "\n",
    "# define the keras model\n",
    "model = Sequential()\n",
    "model.add(Dense(30, input_shape=(xTrain.shape[1],), activation='relu'))\n",
    "model.add(Dense(15, activation='relu'))\n",
    "model.add(Dense(2, activation='softmax'))\n",
    "model.compile(loss=tf.keras.losses.BinaryFocalCrossentropy(gamma=2.0, from_logits=True), \n",
    "              optimizer='adam', metrics=['accuracy'])\n",
    "\n",
    "# stop training if we see 7 epochs over which accuracy doesn't improve\n",
    "es = EarlyStopping(monitor='accuracy', patience=7)\n",
    "\n",
    "# fit the model\n",
    "h = model.fit(xTrain, y, epochs=150, batch_size=256, callbacks=[es])"
   ]
  },
  {
   "cell_type": "code",
   "execution_count": 17,
   "metadata": {},
   "outputs": [
    {
     "name": "stdout",
     "output_type": "stream",
     "text": [
      "Model: \"sequential\"\n",
      "_________________________________________________________________\n",
      " Layer (type)                Output Shape              Param #   \n",
      "=================================================================\n",
      " dense (Dense)               (None, 30)                420       \n",
      "                                                                 \n",
      " dense_1 (Dense)             (None, 15)                465       \n",
      "                                                                 \n",
      " dense_2 (Dense)             (None, 2)                 32        \n",
      "                                                                 \n",
      "=================================================================\n",
      "Total params: 917\n",
      "Trainable params: 917\n",
      "Non-trainable params: 0\n",
      "_________________________________________________________________\n"
     ]
    }
   ],
   "source": [
    "model.summary()"
   ]
  },
  {
   "cell_type": "code",
   "execution_count": 18,
   "metadata": {},
   "outputs": [
    {
     "data": {
      "text/plain": [
       "Text(0.5, 0, 'Epoch')"
      ]
     },
     "execution_count": 18,
     "metadata": {},
     "output_type": "execute_result"
    },
    {
     "data": {
      "image/png": "[encoded data removed]",
      "text/plain": [
       "<Figure size 432x288 with 1 Axes>"
      ]
     },
     "metadata": {
      "needs_background": "light"
     },
     "output_type": "display_data"
    }
   ],
   "source": [
    "plt.plot( h.history['accuracy'] )\n",
    "plt.title('Training Accuracy')\n",
    "plt.ylabel('Accuracy')\n",
    "plt.xlabel('Epoch')"
   ]
  },
  {
   "cell_type": "code",
   "execution_count": 19,
   "metadata": {},
   "outputs": [],
   "source": [
    "model.save_weights(\"./focal_loss_binary_model.h5\")"
   ]
  },
  {
   "cell_type": "code",
   "execution_count": 20,
   "metadata": {},
   "outputs": [
    {
     "name": "stdout",
     "output_type": "stream",
     "text": [
      "  97/6739 [..............................] - ETA: 6s - loss: 0.0377 - accuracy: 0.9491 "
     ]
    },
    {
     "name": "stderr",
     "output_type": "stream",
     "text": [
      "/home/narock/.local/lib/python3.10/site-packages/tensorflow/python/util/dispatch.py:1082: UserWarning: \"`binary_crossentropy` received `from_logits=True`, but the `output` argument was produced by a sigmoid or softmax activation and thus does not represent logits. Was this intended?\"\n",
      "  return dispatch_target(*args, **kwargs)\n"
     ]
    },
    {
     "name": "stdout",
     "output_type": "stream",
     "text": [
      "6739/6739 [==============================] - 7s 974us/step - loss: 0.0352 - accuracy: 0.9524\n",
      "Accuracy on the test set: 0.9524\n"
     ]
    }
   ],
   "source": [
    "#y = to_categorical(yTest)\n",
    "y = np.eye(np.max(yTest) + 1)[yTest]\n",
    "\n",
    "loss, acc = model.evaluate( xTest, y )\n",
    "print(\"Accuracy on the test set:\", np.round(acc,4))"
   ]
  },
  {
   "cell_type": "code",
   "execution_count": 21,
   "metadata": {},
   "outputs": [
    {
     "data": {
      "text/plain": [
       "215629"
      ]
     },
     "execution_count": 21,
     "metadata": {},
     "output_type": "execute_result"
    }
   ],
   "source": [
    "ps = model.predict(xTest)\n",
    "predictions = []\n",
    "for p in ps:\n",
    "    predictions.append( np.argmax( p ) )\n",
    "len(predictions)"
   ]
  },
  {
   "cell_type": "code",
   "execution_count": 25,
   "metadata": {
    "scrolled": true
   },
   "outputs": [
    {
     "name": "stdout",
     "output_type": "stream",
     "text": [
      "Balanced Accuracy: 0.8086\n",
      "Macro F1: 0.8439\n",
      "Macro Precision: 0.89\n",
      "Macro Recall: 0.81\n"
     ]
    }
   ],
   "source": [
    "from sklearn.metrics import precision_score, recall_score\n",
    "\n",
    "testy = yTest.values\n",
    "\n",
    "print( \"Balanced Accuracy:\", np.round( balanced_accuracy_score(testy, predictions), 4 ) )\n",
    "print( \"Macro F1:\", np.round( f1_score(testy, predictions, average='macro'), 4 ))\n",
    "print( \"Macro Precision:\", np.round( precision_score(testy, predictions, average='macro'), 2 ) )\n",
    "print( \"Macro Recall:\", np.round( recall_score(testy, predictions, average='macro'), 2 ) )"
   ]
  },
  {
   "cell_type": "code",
   "execution_count": 26,
   "metadata": {},
   "outputs": [],
   "source": [
    "cm = confusion_matrix( testy, predictions, normalize='true' )"
   ]
  },
  {
   "cell_type": "code",
   "execution_count": 27,
   "metadata": {},
   "outputs": [
    {
     "data": {
      "text/plain": [
       "<sklearn.metrics._plot.confusion_matrix.ConfusionMatrixDisplay at 0x7f80fcb03f70>"
      ]
     },
     "execution_count": 27,
     "metadata": {},
     "output_type": "execute_result"
    },
    {
     "name": "stderr",
     "output_type": "stream",
     "text": [
      "findfont: Font family ['normal'] not found. Falling back to DejaVu Sans.\n",
      "findfont: Font family ['normal'] not found. Falling back to DejaVu Sans.\n"
     ]
    },
    {
     "data": {
      "image/png": "[encoded data removed]",
      "text/plain": [
       "<Figure size 720x720 with 2 Axes>"
      ]
     },
     "metadata": {
      "needs_background": "light"
     },
     "output_type": "display_data"
    }
   ],
   "source": [
    "font = {'family' : 'normal',\n",
    "    'weight' : 'bold',\n",
    "    'size'   : 22}\n",
    "plt.rc('font', **font)\n",
    "\n",
    "fig, ax = plt.subplots(figsize=(10, 10))\n",
    "disp = ConfusionMatrixDisplay( confusion_matrix=cm, display_labels=le.inverse_transform([0,1]))#rf.classes_)\n",
    "disp.plot(ax=ax, cmap='gist_yarg')"
   ]
  },
  {
   "cell_type": "markdown",
   "metadata": {},
   "source": [
    "## Neural Network for multiclass classification - 3 classes"
   ]
  },
  {
   "cell_type": "code",
   "execution_count": 34,
   "metadata": {},
   "outputs": [
    {
     "name": "stdout",
     "output_type": "stream",
     "text": [
      "\n",
      "Residential         976690\n",
      "Commercial           64029\n",
      "Industrial           16722\n",
      "Assembly              7323\n",
      "Education             6457\n",
      "Government            4910\n",
      "Agriculture           1651\n",
      "Utility and Misc       362\n",
      "Name: OrnlType, dtype: int64\n",
      "\n"
     ]
    }
   ],
   "source": [
    "# read into a Pandas dataframe\n",
    "df = pd.read_csv( inFile )\n",
    "\n",
    "# ignore first few columns, which are FIPs codes, not needed for ML\n",
    "df = df.iloc[:, 3:] \n",
    "\n",
    "# building type distributions\n",
    "print()\n",
    "print( df['OrnlType'].value_counts() )\n",
    "print()"
   ]
  },
  {
   "cell_type": "code",
   "execution_count": 35,
   "metadata": {},
   "outputs": [
    {
     "data": {
      "text/plain": [
       "Residential    976690\n",
       "Commercial      64029\n",
       "Other           37425\n",
       "Name: OrnlType, dtype: int64"
      ]
     },
     "execution_count": 35,
     "metadata": {},
     "output_type": "execute_result"
    }
   ],
   "source": [
    "df = df.sample(frac=1) # shuffle the dataframe (technically, we randomly resample the entire df)\n",
    "\n",
    "# change the rows we don't need\n",
    "df.loc[df[\"OrnlType\"] == \"Industrial\", \"OrnlType\"] = 'Other'\n",
    "df.loc[df[\"OrnlType\"] == \"Assembly\", \"OrnlType\"] = 'Other'\n",
    "df.loc[df[\"OrnlType\"] == \"Education\", \"OrnlType\"] = 'Other'\n",
    "df.loc[df[\"OrnlType\"] == \"Government\", \"OrnlType\"] = 'Other'\n",
    "df.loc[df[\"OrnlType\"] == \"Agriculture\", \"OrnlType\"] = 'Other'\n",
    "df.loc[df[\"OrnlType\"] == \"Utility and Misc\", \"OrnlType\"] = 'Other'\n",
    "\n",
    "df['OrnlType'].value_counts()"
   ]
  },
  {
   "cell_type": "code",
   "execution_count": 36,
   "metadata": {},
   "outputs": [],
   "source": [
    "# preprocess the data - scaling\n",
    "scaler = preprocessing.StandardScaler()\n",
    "    \n",
    "# columns: StateFips, CountyFips, StateCountyFips,\n",
    "#          X, Y, Area, MedianIncomeCounty, HousingUnitsCounty,\n",
    "#          HousingDensityCounty, Impervious, AgCount, CmCount,\n",
    "#          GvCount, EdCount, InCount, OsmNearestRoad, OrnlType\n",
    "columns = ['X', 'Y', 'Area', 'MedianIncomeCounty', \n",
    "           'HousingUnitsCounty', 'HousingDensityCounty',\n",
    "           'Impervious', 'AgCount', 'CmCount', 'GvCount',\n",
    "           'EdCount', 'InCount']\n",
    "df[columns] = scaler.fit_transform(df[columns])\n",
    "\n",
    "\n",
    "# preprossing - drop rows with NaN values\n",
    "df = df.dropna()\n",
    "    \n",
    "# preprocessing - change output labels from text ('Agriculture') to integers\n",
    "nCols = df.shape[1]\n",
    "le = preprocessing.LabelEncoder()\n",
    "le.fit( df.iloc[:, nCols-1] )\n",
    "df.iloc[:, nCols-1] = le.transform( df.iloc[:, nCols-1] )\n",
    "        \n",
    "# preprocessing - change output labels of nearest road type from text to integers\n",
    "le2 = preprocessing.LabelEncoder()\n",
    "le2.fit( df.iloc[:, nCols-2] ) \n",
    "df.iloc[:, nCols-2] = le2.transform( df.iloc[:, nCols-2] )"
   ]
  },
  {
   "cell_type": "code",
   "execution_count": 37,
   "metadata": {},
   "outputs": [
    {
     "data": {
      "text/plain": [
       "array(['Commercial', 'Other', 'Residential'], dtype=object)"
      ]
     },
     "execution_count": 37,
     "metadata": {},
     "output_type": "execute_result"
    }
   ],
   "source": [
    "le.inverse_transform([0,1,2])"
   ]
  },
  {
   "cell_type": "code",
   "execution_count": 38,
   "metadata": {},
   "outputs": [
    {
     "name": "stdout",
     "output_type": "stream",
     "text": [
      "Creating test/train split...\n",
      "Training Size: (862513, 13)\n",
      "Testing Size: (215629, 13)\n",
      "[0 1 2]\n"
     ]
    }
   ],
   "source": [
    "# columns: StateFips, CountyFips, StateCountyFips,\n",
    "#          X, Y, Area, MedianIncomeCounty, HousingUnitsCounty,\n",
    "#          HousingDensityCounty, Impervious, AgCount, CmCount,\n",
    "#          GvCount, EdCount, InCount, OsmNearestRoad, OrnlType\n",
    "\n",
    "# test/train split\n",
    "print(\"Creating test/train split...\")\n",
    "train, test = train_test_split(df, test_size=0.2, random_state=42, stratify=df[['OrnlType']])\n",
    "\n",
    "nCols = test.shape[1]\n",
    "xTest = test.iloc[:, :nCols-1]\n",
    "yTest = test.iloc[:, nCols-1]\n",
    "\n",
    "xTrain = train.iloc[:, :nCols-1]\n",
    "yTrain = train.iloc[:, nCols-1]\n",
    "\n",
    "print(\"Training Size:\", xTrain.shape)\n",
    "print(\"Testing Size:\", xTest.shape)\n",
    "print( np.unique(df.OrnlType) )"
   ]
  },
  {
   "cell_type": "code",
   "execution_count": 39,
   "metadata": {},
   "outputs": [
    {
     "data": {
      "text/plain": [
       "array([0, 1, 2])"
      ]
     },
     "execution_count": 39,
     "metadata": {},
     "output_type": "execute_result"
    }
   ],
   "source": [
    "np.unique(df.OrnlType)"
   ]
  },
  {
   "cell_type": "code",
   "execution_count": 40,
   "metadata": {},
   "outputs": [
    {
     "name": "stdout",
     "output_type": "stream",
     "text": [
      "<function binary_focal_loss.<locals>.binary_focal_loss_fixed at 0x7f80f9bf5360>\n",
      "<function categorical_focal_loss.<locals>.categorical_focal_loss_fixed at 0x7f80f8fb7910>\n"
     ]
    }
   ],
   "source": [
    "\"\"\"\n",
    "Define our custom loss function.\n",
    "\"\"\"\n",
    "import numpy as np\n",
    "from keras import backend as K\n",
    "import tensorflow as tf\n",
    "\n",
    "import dill\n",
    "\n",
    "\n",
    "def binary_focal_loss(gamma=2., alpha=.25):\n",
    "    \"\"\"\n",
    "    Binary form of focal loss.\n",
    "\n",
    "      FL(p_t) = -alpha * (1 - p_t)**gamma * log(p_t)\n",
    "\n",
    "      where p = sigmoid(x), p_t = p or 1 - p depending on if the label is 1 or 0, respectively.\n",
    "\n",
    "    References:\n",
    "        https://arxiv.org/pdf/1708.02002.pdf\n",
    "    Usage:\n",
    "     model.compile(loss=[binary_focal_loss(alpha=.25, gamma=2)], metrics=[\"accuracy\"], optimizer=adam)\n",
    "\n",
    "    \"\"\"\n",
    "\n",
    "    def binary_focal_loss_fixed(y_true, y_pred):\n",
    "        \"\"\"\n",
    "        :param y_true: A tensor of the same shape as `y_pred`\n",
    "        :param y_pred:  A tensor resulting from a sigmoid\n",
    "        :return: Output tensor.\n",
    "        \"\"\"\n",
    "        y_true = tf.cast(y_true, tf.float32)\n",
    "        # Define epsilon so that the back-propagation will not result in NaN for 0 divisor case\n",
    "        epsilon = K.epsilon()\n",
    "        # Add the epsilon to prediction value\n",
    "        # y_pred = y_pred + epsilon\n",
    "        # Clip the prediciton value\n",
    "        y_pred = K.clip(y_pred, epsilon, 1.0 - epsilon)\n",
    "        # Calculate p_t\n",
    "        p_t = tf.where(K.equal(y_true, 1), y_pred, 1 - y_pred)\n",
    "        # Calculate alpha_t\n",
    "        alpha_factor = K.ones_like(y_true) * alpha\n",
    "        alpha_t = tf.where(K.equal(y_true, 1), alpha_factor, 1 - alpha_factor)\n",
    "        # Calculate cross entropy\n",
    "        cross_entropy = -K.log(p_t)\n",
    "        weight = alpha_t * K.pow((1 - p_t), gamma)\n",
    "        # Calculate focal loss\n",
    "        loss = weight * cross_entropy\n",
    "        # Sum the losses in mini_batch\n",
    "        loss = K.mean(K.sum(loss, axis=1))\n",
    "        return loss\n",
    "\n",
    "    return binary_focal_loss_fixed\n",
    "\n",
    "\n",
    "def categorical_focal_loss(alpha, gamma=2.):\n",
    "    \"\"\"\n",
    "    Softmax version of focal loss.\n",
    "    When there is a skew between different categories/labels in your data set, you can try to apply this function as a\n",
    "    loss.\n",
    "           m\n",
    "      FL = ∑  -alpha * (1 - p_o,c)^gamma * y_o,c * log(p_o,c)\n",
    "          c=1\n",
    "\n",
    "      where m = number of classes, c = class and o = observation\n",
    "\n",
    "    Parameters:\n",
    "      alpha -- the same as weighing factor in balanced cross entropy. Alpha is used to specify the weight of different\n",
    "      categories/labels, the size of the array needs to be consistent with the number of classes.\n",
    "      gamma -- focusing parameter for modulating factor (1-p)\n",
    "\n",
    "    Default value:\n",
    "      gamma -- 2.0 as mentioned in the paper\n",
    "      alpha -- 0.25 as mentioned in the paper\n",
    "\n",
    "    References:\n",
    "        Official paper: https://arxiv.org/pdf/1708.02002.pdf\n",
    "        https://www.tensorflow.org/api_docs/python/tf/keras/backend/categorical_crossentropy\n",
    "\n",
    "    Usage:\n",
    "     model.compile(loss=[categorical_focal_loss(alpha=[[.25, .25, .25]], gamma=2)], metrics=[\"accuracy\"], optimizer=adam)\n",
    "    \"\"\"\n",
    "\n",
    "    alpha = np.array(alpha, dtype=np.float32)\n",
    "\n",
    "    def categorical_focal_loss_fixed(y_true, y_pred):\n",
    "        \"\"\"\n",
    "        :param y_true: A tensor of the same shape as `y_pred`\n",
    "        :param y_pred: A tensor resulting from a softmax\n",
    "        :return: Output tensor.\n",
    "        \"\"\"\n",
    "\n",
    "        # Clip the prediction value to prevent NaN's and Inf's\n",
    "        epsilon = K.epsilon()\n",
    "        y_pred = K.clip(y_pred, epsilon, 1. - epsilon)\n",
    "\n",
    "        # Calculate Cross Entropy\n",
    "        cross_entropy = -y_true * K.log(y_pred)\n",
    "\n",
    "        # Calculate Focal Loss\n",
    "        loss = alpha * K.pow(1 - y_pred, gamma) * cross_entropy\n",
    "\n",
    "        # Compute mean loss in mini_batch\n",
    "        return K.mean(K.sum(loss, axis=-1))\n",
    "\n",
    "    return categorical_focal_loss_fixed\n",
    "\n",
    "\n",
    "if __name__ == '__main__':\n",
    "\n",
    "    # Test serialization of nested functions\n",
    "    bin_inner = dill.loads(dill.dumps(binary_focal_loss(gamma=2., alpha=.25)))\n",
    "    print(bin_inner)\n",
    "\n",
    "    cat_inner = dill.loads(dill.dumps(categorical_focal_loss(gamma=2., alpha=.25)))\n",
    "    print(cat_inner)\n"
   ]
  },
  {
   "cell_type": "code",
   "execution_count": 44,
   "metadata": {},
   "outputs": [],
   "source": [
    "tf.keras.backend.clear_session()"
   ]
  },
  {
   "cell_type": "code",
   "execution_count": 45,
   "metadata": {
    "scrolled": true
   },
   "outputs": [
    {
     "name": "stdout",
     "output_type": "stream",
     "text": [
      "Epoch 1/150\n",
      "3370/3370 [==============================] - 12s 4ms/step - loss: 0.0232 - accuracy: 0.9285\n",
      "Epoch 2/150\n",
      "3370/3370 [==============================] - 14s 4ms/step - loss: 0.0215 - accuracy: 0.9316\n",
      "Epoch 3/150\n",
      "3370/3370 [==============================] - 14s 4ms/step - loss: 0.0213 - accuracy: 0.9323\n",
      "Epoch 4/150\n",
      "3370/3370 [==============================] - 11s 3ms/step - loss: 0.0211 - accuracy: 0.9327\n",
      "Epoch 5/150\n",
      "3370/3370 [==============================] - 10s 3ms/step - loss: 0.0210 - accuracy: 0.9332\n",
      "Epoch 6/150\n",
      "3370/3370 [==============================] - 12s 3ms/step - loss: 0.0209 - accuracy: 0.9333\n",
      "Epoch 7/150\n",
      "3370/3370 [==============================] - 11s 3ms/step - loss: 0.0208 - accuracy: 0.9334\n",
      "Epoch 8/150\n",
      "3370/3370 [==============================] - 11s 3ms/step - loss: 0.0207 - accuracy: 0.9335\n",
      "Epoch 9/150\n",
      "3370/3370 [==============================] - 10s 3ms/step - loss: 0.0206 - accuracy: 0.9336\n",
      "Epoch 10/150\n",
      "3370/3370 [==============================] - 13s 4ms/step - loss: 0.0204 - accuracy: 0.9337\n",
      "Epoch 11/150\n",
      "3370/3370 [==============================] - 16s 5ms/step - loss: 0.0204 - accuracy: 0.9340\n",
      "Epoch 12/150\n",
      "3370/3370 [==============================] - 17s 5ms/step - loss: 0.0203 - accuracy: 0.9341\n",
      "Epoch 13/150\n",
      "3370/3370 [==============================] - 14s 4ms/step - loss: 0.0203 - accuracy: 0.9340\n",
      "Epoch 14/150\n",
      "3370/3370 [==============================] - 15s 4ms/step - loss: 0.0203 - accuracy: 0.9342\n",
      "Epoch 15/150\n",
      "3370/3370 [==============================] - 16s 5ms/step - loss: 0.0202 - accuracy: 0.9344\n",
      "Epoch 16/150\n",
      "3370/3370 [==============================] - 13s 4ms/step - loss: 0.0202 - accuracy: 0.9343\n",
      "Epoch 17/150\n",
      "3370/3370 [==============================] - 11s 3ms/step - loss: 0.0202 - accuracy: 0.9342\n",
      "Epoch 18/150\n",
      "3370/3370 [==============================] - 11s 3ms/step - loss: 0.0201 - accuracy: 0.9344\n",
      "Epoch 19/150\n",
      "3370/3370 [==============================] - 14s 4ms/step - loss: 0.0201 - accuracy: 0.9344\n",
      "Epoch 20/150\n",
      "3370/3370 [==============================] - 11s 3ms/step - loss: 0.0201 - accuracy: 0.9344\n",
      "Epoch 21/150\n",
      "3370/3370 [==============================] - 12s 3ms/step - loss: 0.0201 - accuracy: 0.9344\n",
      "Epoch 22/150\n",
      "3370/3370 [==============================] - 13s 4ms/step - loss: 0.0201 - accuracy: 0.9344\n",
      "Epoch 23/150\n",
      "3370/3370 [==============================] - 14s 4ms/step - loss: 0.0201 - accuracy: 0.9345\n",
      "Epoch 24/150\n",
      "3370/3370 [==============================] - 13s 4ms/step - loss: 0.0200 - accuracy: 0.9345\n",
      "Epoch 25/150\n",
      "3370/3370 [==============================] - 14s 4ms/step - loss: 0.0200 - accuracy: 0.9345\n",
      "Epoch 26/150\n",
      "3370/3370 [==============================] - 11s 3ms/step - loss: 0.0200 - accuracy: 0.9345\n",
      "Epoch 27/150\n",
      "3370/3370 [==============================] - 15s 5ms/step - loss: 0.0200 - accuracy: 0.9345\n",
      "Epoch 28/150\n",
      "3370/3370 [==============================] - 11s 3ms/step - loss: 0.0200 - accuracy: 0.9346\n",
      "Epoch 29/150\n",
      "3370/3370 [==============================] - 12s 4ms/step - loss: 0.0200 - accuracy: 0.9347\n",
      "Epoch 30/150\n",
      "3370/3370 [==============================] - 15s 4ms/step - loss: 0.0200 - accuracy: 0.9347\n",
      "Epoch 31/150\n",
      "3370/3370 [==============================] - 15s 4ms/step - loss: 0.0199 - accuracy: 0.9347\n",
      "Epoch 32/150\n",
      "3370/3370 [==============================] - 13s 4ms/step - loss: 0.0199 - accuracy: 0.9347\n",
      "Epoch 33/150\n",
      "3370/3370 [==============================] - 9s 3ms/step - loss: 0.0199 - accuracy: 0.9349\n",
      "Epoch 34/150\n",
      "3370/3370 [==============================] - 13s 4ms/step - loss: 0.0199 - accuracy: 0.9348\n",
      "Epoch 35/150\n",
      "3370/3370 [==============================] - 15s 4ms/step - loss: 0.0199 - accuracy: 0.9349\n",
      "Epoch 36/150\n",
      "3370/3370 [==============================] - 20s 6ms/step - loss: 0.0199 - accuracy: 0.9347\n",
      "Epoch 37/150\n",
      "3370/3370 [==============================] - 12s 3ms/step - loss: 0.0199 - accuracy: 0.9349\n",
      "Epoch 38/150\n",
      "3370/3370 [==============================] - 19s 6ms/step - loss: 0.0199 - accuracy: 0.9349\n",
      "Epoch 39/150\n",
      "3370/3370 [==============================] - 15s 4ms/step - loss: 0.0199 - accuracy: 0.9348\n",
      "Epoch 40/150\n",
      "3370/3370 [==============================] - 16s 5ms/step - loss: 0.0199 - accuracy: 0.9348\n",
      "Epoch 41/150\n",
      "3370/3370 [==============================] - 20s 6ms/step - loss: 0.0199 - accuracy: 0.9348\n",
      "Epoch 42/150\n",
      "3370/3370 [==============================] - 16s 5ms/step - loss: 0.0199 - accuracy: 0.9348\n"
     ]
    }
   ],
   "source": [
    "# convert output from scalar to vector format, i.e. building type=2 to [0,0,1,0,0,0,0,0,0,0,0]\n",
    "#y = to_categorical(yTrain)\n",
    "y = np.eye(np.max(yTrain) + 1)[yTrain]\n",
    "\n",
    "\n",
    "# define the keras model\n",
    "model = Sequential()\n",
    "model.add(Dense(30, input_shape=(xTrain.shape[1],), activation='relu'))\n",
    "model.add(Dense(15, activation='relu'))\n",
    "model.add(Dense(3, activation='softmax'))\n",
    "model.compile(loss=[categorical_focal_loss(alpha=[[.25, .25, .25]], gamma=2)], \n",
    "              optimizer='adam', metrics=['accuracy'])\n",
    "\n",
    "# stop training if we see 7 epochs over which accuracy doesn't improve\n",
    "es = EarlyStopping(monitor='accuracy', patience=7)\n",
    "\n",
    "# fit the model\n",
    "h = model.fit(xTrain, y, epochs=150, batch_size=256, callbacks=[es])"
   ]
  },
  {
   "cell_type": "code",
   "execution_count": 46,
   "metadata": {},
   "outputs": [
    {
     "data": {
      "text/plain": [
       "Text(0.5, 0, 'Epoch')"
      ]
     },
     "execution_count": 46,
     "metadata": {},
     "output_type": "execute_result"
    },
    {
     "name": "stderr",
     "output_type": "stream",
     "text": [
      "findfont: Font family ['normal'] not found. Falling back to DejaVu Sans.\n"
     ]
    },
    {
     "data": {
      "image/png": "[encoded data removed]",
      "text/plain": [
       "<Figure size 432x288 with 1 Axes>"
      ]
     },
     "metadata": {
      "needs_background": "light"
     },
     "output_type": "display_data"
    }
   ],
   "source": [
    "plt.plot( h.history['accuracy'] )\n",
    "plt.title('Training Accuracy')\n",
    "plt.ylabel('Accuracy')\n",
    "plt.xlabel('Epoch')"
   ]
  },
  {
   "cell_type": "code",
   "execution_count": 47,
   "metadata": {},
   "outputs": [
    {
     "name": "stdout",
     "output_type": "stream",
     "text": [
      "6739/6739 [==============================] - 6s 884us/step - loss: 0.0200 - accuracy: 0.9348\n",
      "Accuracy on the test set: 0.9348\n"
     ]
    }
   ],
   "source": [
    "#y = to_categorical(yTest)\n",
    "y = np.eye(np.max(yTest) + 1)[yTest]\n",
    "\n",
    "loss, acc = model.evaluate( xTest, y )\n",
    "print(\"Accuracy on the test set:\", np.round(acc,4))"
   ]
  },
  {
   "cell_type": "code",
   "execution_count": 48,
   "metadata": {},
   "outputs": [
    {
     "data": {
      "text/plain": [
       "215629"
      ]
     },
     "execution_count": 48,
     "metadata": {},
     "output_type": "execute_result"
    }
   ],
   "source": [
    "ps = model.predict(xTest)\n",
    "predictions = []\n",
    "for p in ps:\n",
    "    predictions.append( np.argmax( p ) )\n",
    "len(predictions)"
   ]
  },
  {
   "cell_type": "code",
   "execution_count": 50,
   "metadata": {},
   "outputs": [
    {
     "name": "stdout",
     "output_type": "stream",
     "text": [
      "Balanced Accuracy: 0.5788\n",
      "Macro F1: 0.6193\n",
      "Macro Precision: 0.71\n",
      "Macro Recall: 0.58\n"
     ]
    }
   ],
   "source": [
    "testy = yTest.values\n",
    "\n",
    "print( \"Balanced Accuracy:\", np.round( balanced_accuracy_score(testy, predictions), 4 ) )\n",
    "print( \"Macro F1:\", np.round( f1_score(testy, predictions, average='macro'), 4 ))\n",
    "print( \"Macro Precision:\", np.round( precision_score(testy, predictions, average='macro'), 2 ) )\n",
    "print( \"Macro Recall:\", np.round( recall_score(testy, predictions, average='macro'), 2 ) )"
   ]
  }
 ],
 "metadata": {
  "kernelspec": {
   "display_name": "Python 3",
   "language": "python",
   "name": "python3"
  },
  "language_info": {
   "codemirror_mode": {
    "name": "ipython",
    "version": 3
   },
   "file_extension": ".py",
   "mimetype": "text/x-python",
   "name": "python",
   "nbconvert_exporter": "python",
   "pygments_lexer": "ipython3",
   "version": "3.10.12"
  }
 },
 "nbformat": 4,
 "nbformat_minor": 4
}
