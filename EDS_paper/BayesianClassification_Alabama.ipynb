{
 "cells": [
  {
   "cell_type": "code",
   "execution_count": 1,
   "id": "d1bb37a6",
   "metadata": {},
   "outputs": [
    {
     "name": "stderr",
     "output_type": "stream",
     "text": [
      "2023-11-21 14:03:26.848130: I tensorflow/core/platform/cpu_feature_guard.cc:182] This TensorFlow binary is optimized to use available CPU instructions in performance-critical operations.\n",
      "To enable the following instructions: AVX2 AVX512F FMA, in other operations, rebuild TensorFlow with the appropriate compiler flags.\n",
      "2023-11-21 14:03:27.416360: W tensorflow/compiler/tf2tensorrt/utils/py_utils.cc:38] TF-TRT Warning: Could not find TensorRT\n"
     ]
    }
   ],
   "source": [
    "import pandas as pd\n",
    "\n",
    "import numpy as np\n",
    "import tensorflow as tf\n",
    "import tensorflow_probability as tfp\n",
    "from tensorflow.keras.models import Sequential\n",
    "from tensorflow.keras.layers import Dense\n",
    "from tensorflow.keras.optimizers import Adam\n",
    "\n",
    "import matplotlib.pyplot as plt"
   ]
  },
  {
   "cell_type": "markdown",
   "id": "d9e19465",
   "metadata": {},
   "source": [
    "### Setup and Configuration"
   ]
  },
  {
   "cell_type": "code",
   "execution_count": 8,
   "id": "68eb4db6",
   "metadata": {},
   "outputs": [
    {
     "data": {
      "text/html": [
       "<div>\n",
       "<style scoped>\n",
       "    .dataframe tbody tr th:only-of-type {\n",
       "        vertical-align: middle;\n",
       "    }\n",
       "\n",
       "    .dataframe tbody tr th {\n",
       "        vertical-align: top;\n",
       "    }\n",
       "\n",
       "    .dataframe thead th {\n",
       "        text-align: right;\n",
       "    }\n",
       "</style>\n",
       "<table border=\"1\" class=\"dataframe\">\n",
       "  <thead>\n",
       "    <tr style=\"text-align: right;\">\n",
       "      <th></th>\n",
       "      <th>X</th>\n",
       "      <th>Y</th>\n",
       "      <th>Area</th>\n",
       "      <th>MedianIncomeCounty</th>\n",
       "      <th>HousingUnitsCounty</th>\n",
       "      <th>HousingDensityCounty</th>\n",
       "      <th>Impervious</th>\n",
       "      <th>AgCount</th>\n",
       "      <th>CmCount</th>\n",
       "      <th>GvCount</th>\n",
       "      <th>EdCount</th>\n",
       "      <th>InCount</th>\n",
       "      <th>OsmNearestRoad</th>\n",
       "      <th>BuildingType</th>\n",
       "    </tr>\n",
       "  </thead>\n",
       "  <tbody>\n",
       "    <tr>\n",
       "      <th>0</th>\n",
       "      <td>-86.452369</td>\n",
       "      <td>32.454446</td>\n",
       "      <td>2168.997509</td>\n",
       "      <td>62660.0</td>\n",
       "      <td>24170.0</td>\n",
       "      <td>2.409557</td>\n",
       "      <td>77</td>\n",
       "      <td>10.0</td>\n",
       "      <td>602.0</td>\n",
       "      <td>3.0</td>\n",
       "      <td>6.0</td>\n",
       "      <td>119.0</td>\n",
       "      <td>residential</td>\n",
       "      <td>Education</td>\n",
       "    </tr>\n",
       "    <tr>\n",
       "      <th>1</th>\n",
       "      <td>-86.451701</td>\n",
       "      <td>32.454445</td>\n",
       "      <td>3918.400075</td>\n",
       "      <td>62660.0</td>\n",
       "      <td>24170.0</td>\n",
       "      <td>2.409557</td>\n",
       "      <td>94</td>\n",
       "      <td>10.0</td>\n",
       "      <td>602.0</td>\n",
       "      <td>3.0</td>\n",
       "      <td>6.0</td>\n",
       "      <td>119.0</td>\n",
       "      <td>residential</td>\n",
       "      <td>Education</td>\n",
       "    </tr>\n",
       "    <tr>\n",
       "      <th>2</th>\n",
       "      <td>-86.451652</td>\n",
       "      <td>32.453549</td>\n",
       "      <td>501.138397</td>\n",
       "      <td>62660.0</td>\n",
       "      <td>24170.0</td>\n",
       "      <td>2.409557</td>\n",
       "      <td>47</td>\n",
       "      <td>10.0</td>\n",
       "      <td>602.0</td>\n",
       "      <td>3.0</td>\n",
       "      <td>6.0</td>\n",
       "      <td>119.0</td>\n",
       "      <td>residential</td>\n",
       "      <td>Education</td>\n",
       "    </tr>\n",
       "    <tr>\n",
       "      <th>3</th>\n",
       "      <td>-86.456148</td>\n",
       "      <td>32.454743</td>\n",
       "      <td>487.162570</td>\n",
       "      <td>62660.0</td>\n",
       "      <td>24170.0</td>\n",
       "      <td>2.409557</td>\n",
       "      <td>56</td>\n",
       "      <td>10.0</td>\n",
       "      <td>602.0</td>\n",
       "      <td>3.0</td>\n",
       "      <td>6.0</td>\n",
       "      <td>119.0</td>\n",
       "      <td>residential</td>\n",
       "      <td>Education</td>\n",
       "    </tr>\n",
       "    <tr>\n",
       "      <th>4</th>\n",
       "      <td>-86.451483</td>\n",
       "      <td>32.454827</td>\n",
       "      <td>16.444244</td>\n",
       "      <td>62660.0</td>\n",
       "      <td>24170.0</td>\n",
       "      <td>2.409557</td>\n",
       "      <td>83</td>\n",
       "      <td>10.0</td>\n",
       "      <td>602.0</td>\n",
       "      <td>3.0</td>\n",
       "      <td>6.0</td>\n",
       "      <td>119.0</td>\n",
       "      <td>residential</td>\n",
       "      <td>Education</td>\n",
       "    </tr>\n",
       "  </tbody>\n",
       "</table>\n",
       "</div>"
      ],
      "text/plain": [
       "           X          Y         Area  MedianIncomeCounty  HousingUnitsCounty  \\\n",
       "0 -86.452369  32.454446  2168.997509             62660.0             24170.0   \n",
       "1 -86.451701  32.454445  3918.400075             62660.0             24170.0   \n",
       "2 -86.451652  32.453549   501.138397             62660.0             24170.0   \n",
       "3 -86.456148  32.454743   487.162570             62660.0             24170.0   \n",
       "4 -86.451483  32.454827    16.444244             62660.0             24170.0   \n",
       "\n",
       "   HousingDensityCounty  Impervious  AgCount  CmCount  GvCount  EdCount  \\\n",
       "0              2.409557          77     10.0    602.0      3.0      6.0   \n",
       "1              2.409557          94     10.0    602.0      3.0      6.0   \n",
       "2              2.409557          47     10.0    602.0      3.0      6.0   \n",
       "3              2.409557          56     10.0    602.0      3.0      6.0   \n",
       "4              2.409557          83     10.0    602.0      3.0      6.0   \n",
       "\n",
       "   InCount OsmNearestRoad BuildingType  \n",
       "0    119.0    residential    Education  \n",
       "1    119.0    residential    Education  \n",
       "2    119.0    residential    Education  \n",
       "3    119.0    residential    Education  \n",
       "4    119.0    residential    Education  "
      ]
     },
     "execution_count": 8,
     "metadata": {},
     "output_type": "execute_result"
    }
   ],
   "source": [
    "# Alabama data\n",
    "file = \"./ML_Training_01.csv\"\n",
    "\n",
    "# read data into a Pandas dataframe\n",
    "df = pd.read_csv(file)\n",
    "\n",
    "# ignore first few columns, which are FIPs codes, not needed for ML\n",
    "df = df.iloc[:, 3:] \n",
    "\n",
    "df = df.rename( columns={\"OrnlType\":\"BuildingType\"} )\n",
    "df.head()"
   ]
  },
  {
   "cell_type": "code",
   "execution_count": 13,
   "id": "999bfa70",
   "metadata": {},
   "outputs": [
    {
     "name": "stdout",
     "output_type": "stream",
     "text": [
      "\n",
      "Residential    2060502\n",
      "Commercial      136922\n",
      "Other           110849\n",
      "Name: BuildingType, dtype: int64\n",
      "\n",
      "Residential     1.000000\n",
      "Commercial     15.048728\n",
      "Other          18.588368\n",
      "Name: BuildingType, dtype: float64\n",
      "\n"
     ]
    }
   ],
   "source": [
    "# classify a building as \"Residential\", \"Commercial\", or \"Other\"\n",
    "df.loc[df[\"BuildingType\"] == \"Industrial\", \"BuildingType\"] = 'Other'\n",
    "df.loc[df[\"BuildingType\"] == \"Assembly\", \"BuildingType\"] = 'Other'\n",
    "df.loc[df[\"BuildingType\"] == \"Education\", \"BuildingType\"] = 'Other'\n",
    "df.loc[df[\"BuildingType\"] == \"Government\", \"BuildingType\"] = 'Other'\n",
    "df.loc[df[\"BuildingType\"] == \"Agriculture\", \"BuildingType\"] = 'Other'\n",
    "df.loc[df[\"BuildingType\"] == \"Utility and Misc\", \"BuildingType\"] = 'Other'\n",
    "\n",
    "# building type distributions\n",
    "x = df['BuildingType'].value_counts()\n",
    "print()\n",
    "print( x )\n",
    "print()\n",
    "print( x[0]/df['BuildingType'].value_counts() )\n",
    "print()"
   ]
  },
  {
   "cell_type": "code",
   "execution_count": 14,
   "id": "1e299cf1",
   "metadata": {},
   "outputs": [
    {
     "name": "stderr",
     "output_type": "stream",
     "text": [
      "/tmp/ipykernel_201838/1358776107.py:19: DeprecationWarning: In a future version, `df.iloc[:, i] = newvals` will attempt to set the values inplace instead of always setting a new array. To retain the old behavior, use either `df[df.columns[i]] = newvals` or, if columns are non-unique, `df.isetitem(i, newvals)`\n",
      "  df.iloc[:, nCols-1] = le.transform( df.iloc[:, nCols-1] )\n",
      "/tmp/ipykernel_201838/1358776107.py:23: DeprecationWarning: In a future version, `df.iloc[:, i] = newvals` will attempt to set the values inplace instead of always setting a new array. To retain the old behavior, use either `df[df.columns[i]] = newvals` or, if columns are non-unique, `df.isetitem(i, newvals)`\n",
      "  df.iloc[:, nCols-2] = le2.transform( df.iloc[:, nCols-2] )\n"
     ]
    }
   ],
   "source": [
    "from sklearn import preprocessing\n",
    "\n",
    "df = df.sample(frac=1) # shuffle the dataframe (technically, we randomly resample the entire df)\n",
    "\n",
    "# preprocess the data - scaling\n",
    "scaler = preprocessing.StandardScaler()\n",
    "    \n",
    "columns = ['X', 'Y', 'Area', 'MedianIncomeCounty', \n",
    "           'HousingUnitsCounty', 'HousingDensityCounty',\n",
    "           'Impervious', 'AgCount', 'CmCount', 'GvCount',\n",
    "           'EdCount', 'InCount']\n",
    "df[columns] = scaler.fit_transform(df[columns])\n",
    "\n",
    "df = df.dropna()\n",
    "\n",
    "nCols = df.shape[1]\n",
    "le = preprocessing.LabelEncoder()\n",
    "le.fit( df.iloc[:, nCols-1] ) # ornl type\n",
    "df.iloc[:, nCols-1] = le.transform( df.iloc[:, nCols-1] )\n",
    "    \n",
    "le2 = preprocessing.LabelEncoder()\n",
    "le2.fit( df.iloc[:, nCols-2] ) # nearest road type\n",
    "df.iloc[:, nCols-2] = le2.transform( df.iloc[:, nCols-2] )"
   ]
  },
  {
   "cell_type": "code",
   "execution_count": 15,
   "id": "958d6b5e",
   "metadata": {},
   "outputs": [
    {
     "data": {
      "text/html": [
       "<div>\n",
       "<style scoped>\n",
       "    .dataframe tbody tr th:only-of-type {\n",
       "        vertical-align: middle;\n",
       "    }\n",
       "\n",
       "    .dataframe tbody tr th {\n",
       "        vertical-align: top;\n",
       "    }\n",
       "\n",
       "    .dataframe thead th {\n",
       "        text-align: right;\n",
       "    }\n",
       "</style>\n",
       "<table border=\"1\" class=\"dataframe\">\n",
       "  <thead>\n",
       "    <tr style=\"text-align: right;\">\n",
       "      <th></th>\n",
       "      <th>X</th>\n",
       "      <th>Y</th>\n",
       "      <th>Area</th>\n",
       "      <th>MedianIncomeCounty</th>\n",
       "      <th>HousingUnitsCounty</th>\n",
       "      <th>HousingDensityCounty</th>\n",
       "      <th>Impervious</th>\n",
       "      <th>AgCount</th>\n",
       "      <th>CmCount</th>\n",
       "      <th>GvCount</th>\n",
       "      <th>EdCount</th>\n",
       "      <th>InCount</th>\n",
       "      <th>OsmNearestRoad</th>\n",
       "      <th>BuildingType</th>\n",
       "    </tr>\n",
       "  </thead>\n",
       "  <tbody>\n",
       "    <tr>\n",
       "      <th>949447</th>\n",
       "      <td>-0.188732</td>\n",
       "      <td>0.294984</td>\n",
       "      <td>-0.167009</td>\n",
       "      <td>0.374683</td>\n",
       "      <td>2.322184</td>\n",
       "      <td>-0.024318</td>\n",
       "      <td>0.789931</td>\n",
       "      <td>-0.507780</td>\n",
       "      <td>2.387892</td>\n",
       "      <td>1.377641</td>\n",
       "      <td>2.080504</td>\n",
       "      <td>2.245948</td>\n",
       "      <td>4</td>\n",
       "      <td>2</td>\n",
       "    </tr>\n",
       "    <tr>\n",
       "      <th>2018575</th>\n",
       "      <td>-0.091686</td>\n",
       "      <td>0.210615</td>\n",
       "      <td>-0.322905</td>\n",
       "      <td>2.668814</td>\n",
       "      <td>-0.044329</td>\n",
       "      <td>1.872737</td>\n",
       "      <td>0.661468</td>\n",
       "      <td>0.136188</td>\n",
       "      <td>0.103582</td>\n",
       "      <td>-1.105771</td>\n",
       "      <td>0.247364</td>\n",
       "      <td>0.414567</td>\n",
       "      <td>4</td>\n",
       "      <td>2</td>\n",
       "    </tr>\n",
       "    <tr>\n",
       "      <th>1644613</th>\n",
       "      <td>-1.647388</td>\n",
       "      <td>-1.832330</td>\n",
       "      <td>-0.299032</td>\n",
       "      <td>-0.302436</td>\n",
       "      <td>0.989616</td>\n",
       "      <td>0.370678</td>\n",
       "      <td>-1.051383</td>\n",
       "      <td>2.988046</td>\n",
       "      <td>0.781750</td>\n",
       "      <td>1.116229</td>\n",
       "      <td>0.577660</td>\n",
       "      <td>1.041752</td>\n",
       "      <td>4</td>\n",
       "      <td>2</td>\n",
       "    </tr>\n",
       "    <tr>\n",
       "      <th>1596416</th>\n",
       "      <td>-1.691669</td>\n",
       "      <td>-1.987812</td>\n",
       "      <td>-0.373215</td>\n",
       "      <td>-0.302436</td>\n",
       "      <td>0.989616</td>\n",
       "      <td>0.370678</td>\n",
       "      <td>-0.023673</td>\n",
       "      <td>2.988046</td>\n",
       "      <td>0.781750</td>\n",
       "      <td>1.116229</td>\n",
       "      <td>0.577660</td>\n",
       "      <td>1.041752</td>\n",
       "      <td>4</td>\n",
       "      <td>2</td>\n",
       "    </tr>\n",
       "    <tr>\n",
       "      <th>1885326</th>\n",
       "      <td>-0.274081</td>\n",
       "      <td>1.127910</td>\n",
       "      <td>-0.101051</td>\n",
       "      <td>0.166470</td>\n",
       "      <td>-0.426574</td>\n",
       "      <td>0.732498</td>\n",
       "      <td>0.789931</td>\n",
       "      <td>-0.691770</td>\n",
       "      <td>-0.417104</td>\n",
       "      <td>-0.975065</td>\n",
       "      <td>-0.644434</td>\n",
       "      <td>-0.181742</td>\n",
       "      <td>4</td>\n",
       "      <td>2</td>\n",
       "    </tr>\n",
       "  </tbody>\n",
       "</table>\n",
       "</div>"
      ],
      "text/plain": [
       "                X         Y      Area  MedianIncomeCounty  HousingUnitsCounty  \\\n",
       "949447  -0.188732  0.294984 -0.167009            0.374683            2.322184   \n",
       "2018575 -0.091686  0.210615 -0.322905            2.668814           -0.044329   \n",
       "1644613 -1.647388 -1.832330 -0.299032           -0.302436            0.989616   \n",
       "1596416 -1.691669 -1.987812 -0.373215           -0.302436            0.989616   \n",
       "1885326 -0.274081  1.127910 -0.101051            0.166470           -0.426574   \n",
       "\n",
       "         HousingDensityCounty  Impervious   AgCount   CmCount   GvCount  \\\n",
       "949447              -0.024318    0.789931 -0.507780  2.387892  1.377641   \n",
       "2018575              1.872737    0.661468  0.136188  0.103582 -1.105771   \n",
       "1644613              0.370678   -1.051383  2.988046  0.781750  1.116229   \n",
       "1596416              0.370678   -0.023673  2.988046  0.781750  1.116229   \n",
       "1885326              0.732498    0.789931 -0.691770 -0.417104 -0.975065   \n",
       "\n",
       "          EdCount   InCount  OsmNearestRoad  BuildingType  \n",
       "949447   2.080504  2.245948               4             2  \n",
       "2018575  0.247364  0.414567               4             2  \n",
       "1644613  0.577660  1.041752               4             2  \n",
       "1596416  0.577660  1.041752               4             2  \n",
       "1885326 -0.644434 -0.181742               4             2  "
      ]
     },
     "execution_count": 15,
     "metadata": {},
     "output_type": "execute_result"
    }
   ],
   "source": [
    "df.head()"
   ]
  },
  {
   "cell_type": "code",
   "execution_count": 16,
   "id": "61b9c6ee",
   "metadata": {},
   "outputs": [
    {
     "name": "stdout",
     "output_type": "stream",
     "text": [
      "Number of classes: 3\n"
     ]
    }
   ],
   "source": [
    "nClasses = len(df['BuildingType'].unique())\n",
    "print(\"Number of classes:\", nClasses)"
   ]
  },
  {
   "cell_type": "code",
   "execution_count": 17,
   "id": "bb4e5f39",
   "metadata": {},
   "outputs": [],
   "source": [
    "buildingTypes = np.array(df['BuildingType'])\n",
    "df = df.drop( columns=['BuildingType'] )"
   ]
  },
  {
   "cell_type": "markdown",
   "id": "6167606a",
   "metadata": {},
   "source": [
    "### Bayesian Neural Network"
   ]
  },
  {
   "cell_type": "code",
   "execution_count": 21,
   "id": "63f8937e",
   "metadata": {},
   "outputs": [],
   "source": [
    "from keras import backend as K \n",
    "\n",
    "# Keras keeps models hanging around in memory. If we retrain a model, Keras will\n",
    "# start from the previously concluded weight values. This resets everything.\n",
    "K.clear_session()\n",
    "\n",
    "# KL divergence weighted by the number of training samples, using\n",
    "# lambda function to pass as input to the kernel_divergence_fn on\n",
    "# flipout layers.\n",
    "kl_divergence_function = (lambda q, p, _: tfd.kl_divergence(q, p) /  \n",
    "                            tf.cast(df.shape[0], dtype=tf.float32))\n",
    "\n",
    "tfd = tfp.distributions\n",
    "\n",
    "# Define a logistic regression model as a Bernoulli distribution\n",
    "# parameterized by logits from a single linear layer. We use the Flipout\n",
    "# Monte Carlo estimator for the layer: this enables lower variance\n",
    "# stochastic gradients than naive reparameterization.\n",
    "input_layer = tf.keras.layers.Input(shape=df.shape[1])\n",
    "\n",
    "#dense_layer = tfp.layers.DenseFlipout(\n",
    "#    units=1,\n",
    "#    activation='sigmoid',\n",
    "#    kernel_posterior_fn=tfp.layers.default_mean_field_normal_fn(),\n",
    "#    bias_posterior_fn=tfp.layers.default_mean_field_normal_fn(),\n",
    "#    kernel_divergence_fn=kl_divergence_function)(input_layer)\n",
    "\n",
    "layer1 = tfp.layers.DenseFlipout(\n",
    "    units=26,\n",
    "    activation='sigmoid',\n",
    "    kernel_posterior_fn=tfp.layers.default_mean_field_normal_fn(),\n",
    "    bias_posterior_fn=tfp.layers.default_mean_field_normal_fn(),\n",
    "    kernel_divergence_fn=kl_divergence_function)(input_layer)\n",
    "\n",
    "layer2 = tfp.layers.DenseFlipout(\n",
    "    units=13,\n",
    "    activation='sigmoid',\n",
    "    kernel_posterior_fn=tfp.layers.default_mean_field_normal_fn(),\n",
    "    bias_posterior_fn=tfp.layers.default_mean_field_normal_fn(),\n",
    "    kernel_divergence_fn=kl_divergence_function)(layer1)\n",
    "\n",
    "layer3 = tfp.layers.DenseFlipout(\n",
    "    units=8,\n",
    "    activation='sigmoid',\n",
    "    kernel_posterior_fn=tfp.layers.default_mean_field_normal_fn(),\n",
    "    bias_posterior_fn=tfp.layers.default_mean_field_normal_fn(),\n",
    "    kernel_divergence_fn=kl_divergence_function)(layer2)\n",
    "\n",
    "layer4 = tfp.layers.DenseFlipout(\n",
    "    units=4,\n",
    "    activation='sigmoid',\n",
    "    kernel_posterior_fn=tfp.layers.default_mean_field_normal_fn(),\n",
    "    bias_posterior_fn=tfp.layers.default_mean_field_normal_fn(),\n",
    "    kernel_divergence_fn=kl_divergence_function)(layer3)\n",
    "\n",
    "out = tfp.layers.DenseFlipout(\n",
    "    units=3,\n",
    "    activation='softmax',\n",
    "    kernel_posterior_fn=tfp.layers.default_mean_field_normal_fn(),\n",
    "    bias_posterior_fn=tfp.layers.default_mean_field_normal_fn(),\n",
    "    kernel_divergence_fn=kl_divergence_function)(layer4)\n",
    "\n",
    "# Model compilation\n",
    "#bnn = tf.keras.Model(inputs=input_layer, outputs=dense_layer)\n",
    "bnn = tf.keras.Model(inputs=input_layer, outputs=out)\n",
    "optimizer = tf.keras.optimizers.Adam(learning_rate=0.01)\n",
    "  \n",
    "# We use the binary_crossentropy loss since this toy example contains\n",
    "# two labels. The Keras API will then automatically add the\n",
    "# Kullback-Leibler divergence (contained on the individual layers of\n",
    "# the model), to the cross entropy loss, effectively\n",
    "# calcuating the (negated) Evidence Lower Bound Loss (ELBO)\n",
    "bnn.compile(optimizer, loss='categorical_crossentropy', metrics=['accuracy'])"
   ]
  },
  {
   "cell_type": "code",
   "execution_count": 22,
   "id": "6c70029b",
   "metadata": {},
   "outputs": [
    {
     "name": "stdout",
     "output_type": "stream",
     "text": [
      "Model: \"model\"\n",
      "_________________________________________________________________\n",
      " Layer (type)                Output Shape              Param #   \n",
      "=================================================================\n",
      " input_1 (InputLayer)        [(None, 13)]              0         \n",
      "                                                                 \n",
      " dense_flipout (DenseFlipout  (None, 26)               728       \n",
      " )                                                               \n",
      "                                                                 \n",
      " dense_flipout_1 (DenseFlipo  (None, 13)               702       \n",
      " ut)                                                             \n",
      "                                                                 \n",
      " dense_flipout_2 (DenseFlipo  (None, 8)                224       \n",
      " ut)                                                             \n",
      "                                                                 \n",
      " dense_flipout_3 (DenseFlipo  (None, 4)                72        \n",
      " ut)                                                             \n",
      "                                                                 \n",
      " dense_flipout_4 (DenseFlipo  (None, 3)                30        \n",
      " ut)                                                             \n",
      "                                                                 \n",
      "=================================================================\n",
      "Total params: 1,756\n",
      "Trainable params: 1,756\n",
      "Non-trainable params: 0\n",
      "_________________________________________________________________\n"
     ]
    }
   ],
   "source": [
    "bnn.summary()"
   ]
  },
  {
   "cell_type": "code",
   "execution_count": 24,
   "id": "91eefec2",
   "metadata": {},
   "outputs": [],
   "source": [
    "bnn.load_weights(\"bnn.h5\")"
   ]
  },
  {
   "cell_type": "markdown",
   "id": "ae0a0f29",
   "metadata": {},
   "source": [
    "### Analysis"
   ]
  },
  {
   "cell_type": "code",
   "execution_count": 25,
   "id": "af858d85",
   "metadata": {},
   "outputs": [],
   "source": [
    "import numpy as np\n",
    "\n",
    "def getPredictions( model, data, T ):\n",
    "\n",
    "    n = data.shape[0]\n",
    "    preds = np.zeros( shape=(n,nClasses,T) )\n",
    "    \n",
    "    for t in range(T):\n",
    "        if ( t == 10 ): print(\"Iteration 10...\")\n",
    "        if ( t == 30 ): print(\"Iteration 30...\")\n",
    "        if ( t == 50 ): print(\"Iteration 50...\")\n",
    "        if ( t == 70 ): print(\"Iteration 70...\")\n",
    "        if ( t == 90 ): print(\"Iteration 90...\")\n",
    "        preds[:,:,t] = model(data)\n",
    "        \n",
    "    return preds"
   ]
  },
  {
   "cell_type": "code",
   "execution_count": 26,
   "id": "9bf48df9",
   "metadata": {},
   "outputs": [
    {
     "name": "stdout",
     "output_type": "stream",
     "text": [
      "Iteration 10...\n",
      "Iteration 30...\n",
      "Iteration 50...\n",
      "Iteration 70...\n",
      "Iteration 90...\n"
     ]
    },
    {
     "data": {
      "text/plain": [
       "(1140006, 3, 100)"
      ]
     },
     "execution_count": 26,
     "metadata": {},
     "output_type": "execute_result"
    }
   ],
   "source": [
    "T = 100\n",
    "preds = getPredictions( bnn, df.values, T )\n",
    "preds.shape"
   ]
  },
  {
   "cell_type": "code",
   "execution_count": 27,
   "id": "f6054b90",
   "metadata": {},
   "outputs": [],
   "source": [
    "def getUncertainty( preds, T ):\n",
    "    \n",
    "    n = preds.shape[0]\n",
    "    errors = np.zeros( shape=(n, nClasses) )\n",
    "    means = np.zeros( shape=(n, nClasses) )\n",
    "    \n",
    "    for ix in range(n):\n",
    "        for j in range(nClasses):\n",
    "        \n",
    "            means[ix,j] = np.mean( preds[ix,j,:] )\n",
    "            #errors[ix,j] = (1./T) * np.sum( (preds[ix,j,:] - means[ix,j])**2 )\n",
    "            errors[ix,j] = 2. * np.std(preds[ix,j,:])\n",
    "            \n",
    "    return means, errors"
   ]
  },
  {
   "cell_type": "code",
   "execution_count": 28,
   "id": "9a7053ea",
   "metadata": {},
   "outputs": [],
   "source": [
    "means, errors = getUncertainty( preds, T )"
   ]
  },
  {
   "cell_type": "code",
   "execution_count": 29,
   "id": "ea15ee5b",
   "metadata": {},
   "outputs": [],
   "source": [
    "bnnPreds = []\n",
    "for ix in range(len(means)):\n",
    "    ix = np.where( means[ix] == np.max(means[ix]) )\n",
    "    bnnPreds.append( ix[0][0] )\n",
    "\n",
    "bnnPreds = np.array(bnnPreds)"
   ]
  },
  {
   "cell_type": "code",
   "execution_count": 30,
   "id": "dd94d995",
   "metadata": {},
   "outputs": [],
   "source": [
    "font = {'family' : 'normal',\n",
    "    'weight' : 'bold',\n",
    "    'size'   : 22}\n",
    "plt.rc('font', **font)"
   ]
  },
  {
   "cell_type": "code",
   "execution_count": 32,
   "id": "0723dfea",
   "metadata": {},
   "outputs": [],
   "source": [
    "from sklearn.metrics import confusion_matrix, ConfusionMatrixDisplay\n",
    "\n",
    "cm = confusion_matrix( buildingTypes, bnnPreds, normalize='true' )"
   ]
  },
  {
   "cell_type": "code",
   "execution_count": 34,
   "id": "493725d5",
   "metadata": {},
   "outputs": [
    {
     "data": {
      "text/plain": [
       "<sklearn.metrics._plot.confusion_matrix.ConfusionMatrixDisplay at 0x7f36a4660220>"
      ]
     },
     "execution_count": 34,
     "metadata": {},
     "output_type": "execute_result"
    },
    {
     "name": "stderr",
     "output_type": "stream",
     "text": [
      "findfont: Font family ['normal'] not found. Falling back to DejaVu Sans.\n"
     ]
    },
    {
     "data": {
      "image/png": "[encoded data removed]",
      "text/plain": [
       "<Figure size 720x720 with 2 Axes>"
      ]
     },
     "metadata": {
      "needs_background": "light"
     },
     "output_type": "display_data"
    }
   ],
   "source": [
    "fig, ax = plt.subplots(figsize=(10, 10))\n",
    "disp = ConfusionMatrixDisplay( confusion_matrix=cm, display_labels=le.inverse_transform([0,1,2]))#rf.classes_)\n",
    "disp.plot(ax=ax, cmap='gist_yarg')"
   ]
  },
  {
   "cell_type": "code",
   "execution_count": 35,
   "id": "1302335f",
   "metadata": {},
   "outputs": [
    {
     "name": "stdout",
     "output_type": "stream",
     "text": [
      "Balanced Accuracy: 0.4834\n",
      "Micro F1: 0.5432\n"
     ]
    }
   ],
   "source": [
    "from sklearn.metrics import f1_score\n",
    "from sklearn.metrics import balanced_accuracy_score\n",
    "\n",
    "print( \"Balanced Accuracy:\", np.round( balanced_accuracy_score(buildingTypes, bnnPreds), 4 ))\n",
    "print( \"Micro F1:\", np.round( f1_score(buildingTypes, bnnPreds, average='micro'), 4 ))"
   ]
  },
  {
   "cell_type": "markdown",
   "id": "a5f7d01f",
   "metadata": {},
   "source": [
    "#### Hypothesis Testing"
   ]
  },
  {
   "cell_type": "code",
   "execution_count": 36,
   "id": "e40860ea",
   "metadata": {},
   "outputs": [],
   "source": [
    "from scipy import stats\n",
    "\n",
    "def tTest( sample1, sample2 ):\n",
    "    \n",
    "    t_stat, p_value = stats.ttest_ind( sample1, sample2 )\n",
    "\n",
    "    # True = significant difference, False = not significant\n",
    "    alpha = 0.05\n",
    "    if p_value < alpha:\n",
    "        return True\n",
    "    else:\n",
    "        return False"
   ]
  },
  {
   "cell_type": "code",
   "execution_count": 52,
   "id": "f21b1255",
   "metadata": {},
   "outputs": [
    {
     "name": "stdout",
     "output_type": "stream",
     "text": [
      "Total buildins: 1140006\n",
      "Predications made: 409507\n",
      "% of buildings with prediction: 35.92\n"
     ]
    }
   ],
   "source": [
    "ixs = []\n",
    "bnnPreds = []\n",
    "predsMade = 0\n",
    "n = preds.shape[0]\n",
    "\n",
    "noPrediction = []\n",
    "\n",
    "for i in range(n):\n",
    "    \n",
    "    ix = np.argsort( -means[i,:] ) # sort in descending order\n",
    "    \n",
    "    sample1 = preds[i, ix[0], :]\n",
    "    sample2 = preds[i, ix[1], :]\n",
    "    significant = tTest( sample1, sample2 )\n",
    "    \n",
    "    mx = np.max( means[i,:] )\n",
    "    ix = np.where( means[i,:] == mx )\n",
    "    \n",
    "    if ( significant and (mx >= 0.65) ):\n",
    "        predsMade += 1\n",
    "        bnnPreds.append(ix[0][0])\n",
    "        ixs.append(i)\n",
    "    else:\n",
    "        noPrediction.append(i)\n",
    "        \n",
    "print(\"Total buildins:\", n)\n",
    "print(\"Predications made:\", predsMade)\n",
    "print(\"% of buildings with prediction:\", np.round( (predsMade/n)*100., 2) )"
   ]
  },
  {
   "cell_type": "code",
   "execution_count": 53,
   "id": "671e44b4",
   "metadata": {},
   "outputs": [],
   "source": [
    "cm = confusion_matrix( buildingTypes[ixs], bnnPreds, normalize='true' )"
   ]
  },
  {
   "cell_type": "code",
   "execution_count": 54,
   "id": "8f1c3494",
   "metadata": {},
   "outputs": [
    {
     "data": {
      "text/plain": [
       "<sklearn.metrics._plot.confusion_matrix.ConfusionMatrixDisplay at 0x7f36746ac2b0>"
      ]
     },
     "execution_count": 54,
     "metadata": {},
     "output_type": "execute_result"
    },
    {
     "data": {
      "image/png": "[encoded data removed]",
      "text/plain": [
       "<Figure size 720x720 with 2 Axes>"
      ]
     },
     "metadata": {
      "needs_background": "light"
     },
     "output_type": "display_data"
    }
   ],
   "source": [
    "fig, ax = plt.subplots(figsize=(10, 10))\n",
    "disp = ConfusionMatrixDisplay( confusion_matrix=cm, display_labels=le.inverse_transform([0,1,2]))#rf.classes_)\n",
    "disp.plot(ax=ax, cmap='gist_yarg')"
   ]
  },
  {
   "cell_type": "code",
   "execution_count": 55,
   "id": "8e5dfab2",
   "metadata": {},
   "outputs": [
    {
     "name": "stdout",
     "output_type": "stream",
     "text": [
      "Balanced Accuracy: 0.5817\n",
      "Micro F1: 0.7346\n"
     ]
    }
   ],
   "source": [
    "print( \"Balanced Accuracy:\", np.round( balanced_accuracy_score(buildingTypes[ixs], bnnPreds), 4 ))\n",
    "print( \"Micro F1:\", np.round( f1_score(buildingTypes[ixs], bnnPreds, average='micro'), 4 ))"
   ]
  },
  {
   "cell_type": "code",
   "execution_count": null,
   "id": "27e1d3e6",
   "metadata": {},
   "outputs": [],
   "source": []
  },
  {
   "cell_type": "code",
   "execution_count": null,
   "id": "5006cb2c",
   "metadata": {},
   "outputs": [],
   "source": []
  },
  {
   "cell_type": "code",
   "execution_count": 71,
   "id": "538cf18c",
   "metadata": {},
   "outputs": [
    {
     "data": {
      "text/plain": [
       "Text(0, 0.5, 'Probability')"
      ]
     },
     "execution_count": 71,
     "metadata": {},
     "output_type": "execute_result"
    },
    {
     "data": {
      "image/png": "[encoded data removed]",
      "text/plain": [
       "<Figure size 432x288 with 1 Axes>"
      ]
     },
     "metadata": {
      "needs_background": "light"
     },
     "output_type": "display_data"
    }
   ],
   "source": [
    "plt.scatter( [1,2,3], means[2,:]*100 ) \n",
    "plt.errorbar( [1,2,3], means[2,:]*100, yerr=errors[2,:]*100, fmt=\"o\")\n",
    "plt.ylim(0,100)\n",
    "plt.title('Probabilistic Building Type Prediction')\n",
    "plt.ylabel('Probability')"
   ]
  },
  {
   "cell_type": "code",
   "execution_count": 88,
   "id": "23e0faeb",
   "metadata": {},
   "outputs": [
    {
     "name": "stdout",
     "output_type": "stream",
     "text": [
      "2 [0.05852261 0.10924447 0.83223292] [0.00330635 0.00526524 0.00806944]\n"
     ]
    },
    {
     "data": {
      "text/plain": [
       "Text(0, 0.5, 'Probability')"
      ]
     },
     "execution_count": 88,
     "metadata": {},
     "output_type": "execute_result"
    },
    {
     "data": {
      "image/png": "[encoded data removed]",
      "text/plain": [
       "<Figure size 432x288 with 1 Axes>"
      ]
     },
     "metadata": {
      "needs_background": "light"
     },
     "output_type": "display_data"
    }
   ],
   "source": [
    "for i in range( means.shape[0] ):\n",
    "\n",
    "    mx = np.max( means[i,:] )\n",
    "    ex = np.max( errors[i,:] )\n",
    "    if ( mx > 0.7 and yTest.iloc[i] == 2  and ex < 0.1 ):\n",
    "        print( yTest.iloc[i], means[i,:], errors[i,:] )\n",
    "        x = [1,2,3]\n",
    "        y = means[i,:]*100.\n",
    "        e = errors[i,:]*100.\n",
    "        break \n",
    "        \n",
    "plt.scatter( x, y ) \n",
    "plt.errorbar( x, y, yerr=e, fmt=\"o\")\n",
    "plt.ylim(0,100)\n",
    "plt.title('Probabilistic Building Type Prediction')\n",
    "plt.ylabel('Probability')"
   ]
  },
  {
   "cell_type": "code",
   "execution_count": null,
   "id": "36740e36",
   "metadata": {},
   "outputs": [],
   "source": []
  },
  {
   "cell_type": "code",
   "execution_count": null,
   "id": "57530152",
   "metadata": {},
   "outputs": [],
   "source": []
  }
 ],
 "metadata": {
  "kernelspec": {
   "display_name": "Python 3 (ipykernel)",
   "language": "python",
   "name": "python3"
  },
  "language_info": {
   "codemirror_mode": {
    "name": "ipython",
    "version": 3
   },
   "file_extension": ".py",
   "mimetype": "text/x-python",
   "name": "python",
   "nbconvert_exporter": "python",
   "pygments_lexer": "ipython3",
   "version": "3.9.13"
  }
 },
 "nbformat": 4,
 "nbformat_minor": 5
}
