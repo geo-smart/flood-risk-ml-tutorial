{
 "cells": [
  {
   "cell_type": "code",
   "execution_count": 1,
   "id": "d1bb37a6",
   "metadata": {},
   "outputs": [
    {
     "name": "stderr",
     "output_type": "stream",
     "text": [
      "2024-02-06 15:25:53.351252: I tensorflow/core/platform/cpu_feature_guard.cc:182] This TensorFlow binary is optimized to use available CPU instructions in performance-critical operations.\n",
      "To enable the following instructions: AVX2 AVX512F FMA, in other operations, rebuild TensorFlow with the appropriate compiler flags.\n",
      "2024-02-06 15:25:53.897660: W tensorflow/compiler/tf2tensorrt/utils/py_utils.cc:38] TF-TRT Warning: Could not find TensorRT\n"
     ]
    }
   ],
   "source": [
    "import pandas as pd\n",
    "\n",
    "import numpy as np\n",
    "import tensorflow as tf\n",
    "import tensorflow_probability as tfp\n",
    "from tensorflow.keras.models import Sequential\n",
    "from tensorflow.keras.layers import Dense\n",
    "from tensorflow.keras.optimizers import Adam\n",
    "\n",
    "import matplotlib.pyplot as plt"
   ]
  },
  {
   "cell_type": "markdown",
   "id": "d9e19465",
   "metadata": {},
   "source": [
    "### Setup and Configuration"
   ]
  },
  {
   "cell_type": "code",
   "execution_count": 2,
   "id": "68eb4db6",
   "metadata": {},
   "outputs": [
    {
     "data": {
      "text/html": [
       "<div>\n",
       "<style scoped>\n",
       "    .dataframe tbody tr th:only-of-type {\n",
       "        vertical-align: middle;\n",
       "    }\n",
       "\n",
       "    .dataframe tbody tr th {\n",
       "        vertical-align: top;\n",
       "    }\n",
       "\n",
       "    .dataframe thead th {\n",
       "        text-align: right;\n",
       "    }\n",
       "</style>\n",
       "<table border=\"1\" class=\"dataframe\">\n",
       "  <thead>\n",
       "    <tr style=\"text-align: right;\">\n",
       "      <th></th>\n",
       "      <th>X</th>\n",
       "      <th>Y</th>\n",
       "      <th>Area</th>\n",
       "      <th>MedianIncomeCounty</th>\n",
       "      <th>HousingUnitsCounty</th>\n",
       "      <th>HousingDensityCounty</th>\n",
       "      <th>Impervious</th>\n",
       "      <th>AgCount</th>\n",
       "      <th>CmCount</th>\n",
       "      <th>GvCount</th>\n",
       "      <th>EdCount</th>\n",
       "      <th>InCount</th>\n",
       "      <th>OsmNearestRoad</th>\n",
       "      <th>BuildingType</th>\n",
       "    </tr>\n",
       "  </thead>\n",
       "  <tbody>\n",
       "    <tr>\n",
       "      <th>0</th>\n",
       "      <td>-86.452369</td>\n",
       "      <td>32.454446</td>\n",
       "      <td>2168.997509</td>\n",
       "      <td>62660.0</td>\n",
       "      <td>24170.0</td>\n",
       "      <td>2.409557</td>\n",
       "      <td>77</td>\n",
       "      <td>10.0</td>\n",
       "      <td>602.0</td>\n",
       "      <td>3.0</td>\n",
       "      <td>6.0</td>\n",
       "      <td>119.0</td>\n",
       "      <td>residential</td>\n",
       "      <td>Education</td>\n",
       "    </tr>\n",
       "    <tr>\n",
       "      <th>1</th>\n",
       "      <td>-86.451701</td>\n",
       "      <td>32.454445</td>\n",
       "      <td>3918.400075</td>\n",
       "      <td>62660.0</td>\n",
       "      <td>24170.0</td>\n",
       "      <td>2.409557</td>\n",
       "      <td>94</td>\n",
       "      <td>10.0</td>\n",
       "      <td>602.0</td>\n",
       "      <td>3.0</td>\n",
       "      <td>6.0</td>\n",
       "      <td>119.0</td>\n",
       "      <td>residential</td>\n",
       "      <td>Education</td>\n",
       "    </tr>\n",
       "    <tr>\n",
       "      <th>2</th>\n",
       "      <td>-86.451652</td>\n",
       "      <td>32.453549</td>\n",
       "      <td>501.138397</td>\n",
       "      <td>62660.0</td>\n",
       "      <td>24170.0</td>\n",
       "      <td>2.409557</td>\n",
       "      <td>47</td>\n",
       "      <td>10.0</td>\n",
       "      <td>602.0</td>\n",
       "      <td>3.0</td>\n",
       "      <td>6.0</td>\n",
       "      <td>119.0</td>\n",
       "      <td>residential</td>\n",
       "      <td>Education</td>\n",
       "    </tr>\n",
       "    <tr>\n",
       "      <th>3</th>\n",
       "      <td>-86.456148</td>\n",
       "      <td>32.454743</td>\n",
       "      <td>487.162570</td>\n",
       "      <td>62660.0</td>\n",
       "      <td>24170.0</td>\n",
       "      <td>2.409557</td>\n",
       "      <td>56</td>\n",
       "      <td>10.0</td>\n",
       "      <td>602.0</td>\n",
       "      <td>3.0</td>\n",
       "      <td>6.0</td>\n",
       "      <td>119.0</td>\n",
       "      <td>residential</td>\n",
       "      <td>Education</td>\n",
       "    </tr>\n",
       "    <tr>\n",
       "      <th>4</th>\n",
       "      <td>-86.451483</td>\n",
       "      <td>32.454827</td>\n",
       "      <td>16.444244</td>\n",
       "      <td>62660.0</td>\n",
       "      <td>24170.0</td>\n",
       "      <td>2.409557</td>\n",
       "      <td>83</td>\n",
       "      <td>10.0</td>\n",
       "      <td>602.0</td>\n",
       "      <td>3.0</td>\n",
       "      <td>6.0</td>\n",
       "      <td>119.0</td>\n",
       "      <td>residential</td>\n",
       "      <td>Education</td>\n",
       "    </tr>\n",
       "  </tbody>\n",
       "</table>\n",
       "</div>"
      ],
      "text/plain": [
       "           X          Y         Area  MedianIncomeCounty  HousingUnitsCounty  \\\n",
       "0 -86.452369  32.454446  2168.997509             62660.0             24170.0   \n",
       "1 -86.451701  32.454445  3918.400075             62660.0             24170.0   \n",
       "2 -86.451652  32.453549   501.138397             62660.0             24170.0   \n",
       "3 -86.456148  32.454743   487.162570             62660.0             24170.0   \n",
       "4 -86.451483  32.454827    16.444244             62660.0             24170.0   \n",
       "\n",
       "   HousingDensityCounty  Impervious  AgCount  CmCount  GvCount  EdCount  \\\n",
       "0              2.409557          77     10.0    602.0      3.0      6.0   \n",
       "1              2.409557          94     10.0    602.0      3.0      6.0   \n",
       "2              2.409557          47     10.0    602.0      3.0      6.0   \n",
       "3              2.409557          56     10.0    602.0      3.0      6.0   \n",
       "4              2.409557          83     10.0    602.0      3.0      6.0   \n",
       "\n",
       "   InCount OsmNearestRoad BuildingType  \n",
       "0    119.0    residential    Education  \n",
       "1    119.0    residential    Education  \n",
       "2    119.0    residential    Education  \n",
       "3    119.0    residential    Education  \n",
       "4    119.0    residential    Education  "
      ]
     },
     "execution_count": 2,
     "metadata": {},
     "output_type": "execute_result"
    }
   ],
   "source": [
    "# Alabama data\n",
    "file = \"./ML_Training_01.csv\"\n",
    "\n",
    "# read data into a Pandas dataframe\n",
    "df = pd.read_csv(file)\n",
    "\n",
    "# ignore first few columns, which are FIPs codes, not needed for ML\n",
    "df = df.iloc[:, 3:] \n",
    "\n",
    "df = df.rename( columns={\"OrnlType\":\"BuildingType\"} )\n",
    "df.head()"
   ]
  },
  {
   "cell_type": "code",
   "execution_count": 3,
   "id": "999bfa70",
   "metadata": {},
   "outputs": [
    {
     "name": "stdout",
     "output_type": "stream",
     "text": [
      "\n",
      "Residential    2060502\n",
      "Commercial      136922\n",
      "Other           110849\n",
      "Name: BuildingType, dtype: int64\n",
      "\n",
      "Residential     1.000000\n",
      "Commercial     15.048728\n",
      "Other          18.588368\n",
      "Name: BuildingType, dtype: float64\n",
      "\n"
     ]
    }
   ],
   "source": [
    "# classify a building as \"Residential\", \"Commercial\", or \"Other\"\n",
    "df.loc[df[\"BuildingType\"] == \"Industrial\", \"BuildingType\"] = 'Other'\n",
    "df.loc[df[\"BuildingType\"] == \"Assembly\", \"BuildingType\"] = 'Other'\n",
    "df.loc[df[\"BuildingType\"] == \"Education\", \"BuildingType\"] = 'Other'\n",
    "df.loc[df[\"BuildingType\"] == \"Government\", \"BuildingType\"] = 'Other'\n",
    "df.loc[df[\"BuildingType\"] == \"Agriculture\", \"BuildingType\"] = 'Other'\n",
    "df.loc[df[\"BuildingType\"] == \"Utility and Misc\", \"BuildingType\"] = 'Other'\n",
    "\n",
    "# building type distributions\n",
    "x = df['BuildingType'].value_counts()\n",
    "print()\n",
    "print( x )\n",
    "print()\n",
    "print( x[0]/df['BuildingType'].value_counts() )\n",
    "print()"
   ]
  },
  {
   "cell_type": "code",
   "execution_count": 4,
   "id": "1e299cf1",
   "metadata": {},
   "outputs": [
    {
     "name": "stderr",
     "output_type": "stream",
     "text": [
      "/tmp/ipykernel_33582/1358776107.py:19: DeprecationWarning: In a future version, `df.iloc[:, i] = newvals` will attempt to set the values inplace instead of always setting a new array. To retain the old behavior, use either `df[df.columns[i]] = newvals` or, if columns are non-unique, `df.isetitem(i, newvals)`\n",
      "  df.iloc[:, nCols-1] = le.transform( df.iloc[:, nCols-1] )\n",
      "/tmp/ipykernel_33582/1358776107.py:23: DeprecationWarning: In a future version, `df.iloc[:, i] = newvals` will attempt to set the values inplace instead of always setting a new array. To retain the old behavior, use either `df[df.columns[i]] = newvals` or, if columns are non-unique, `df.isetitem(i, newvals)`\n",
      "  df.iloc[:, nCols-2] = le2.transform( df.iloc[:, nCols-2] )\n"
     ]
    }
   ],
   "source": [
    "from sklearn import preprocessing\n",
    "\n",
    "df = df.sample(frac=1) # shuffle the dataframe (technically, we randomly resample the entire df)\n",
    "\n",
    "# preprocess the data - scaling\n",
    "scaler = preprocessing.StandardScaler()\n",
    "    \n",
    "columns = ['X', 'Y', 'Area', 'MedianIncomeCounty', \n",
    "           'HousingUnitsCounty', 'HousingDensityCounty',\n",
    "           'Impervious', 'AgCount', 'CmCount', 'GvCount',\n",
    "           'EdCount', 'InCount']\n",
    "df[columns] = scaler.fit_transform(df[columns])\n",
    "\n",
    "df = df.dropna()\n",
    "\n",
    "nCols = df.shape[1]\n",
    "le = preprocessing.LabelEncoder()\n",
    "le.fit( df.iloc[:, nCols-1] ) # ornl type\n",
    "df.iloc[:, nCols-1] = le.transform( df.iloc[:, nCols-1] )\n",
    "    \n",
    "le2 = preprocessing.LabelEncoder()\n",
    "le2.fit( df.iloc[:, nCols-2] ) # nearest road type\n",
    "df.iloc[:, nCols-2] = le2.transform( df.iloc[:, nCols-2] )"
   ]
  },
  {
   "cell_type": "code",
   "execution_count": 5,
   "id": "958d6b5e",
   "metadata": {},
   "outputs": [
    {
     "data": {
      "text/html": [
       "<div>\n",
       "<style scoped>\n",
       "    .dataframe tbody tr th:only-of-type {\n",
       "        vertical-align: middle;\n",
       "    }\n",
       "\n",
       "    .dataframe tbody tr th {\n",
       "        vertical-align: top;\n",
       "    }\n",
       "\n",
       "    .dataframe thead th {\n",
       "        text-align: right;\n",
       "    }\n",
       "</style>\n",
       "<table border=\"1\" class=\"dataframe\">\n",
       "  <thead>\n",
       "    <tr style=\"text-align: right;\">\n",
       "      <th></th>\n",
       "      <th>X</th>\n",
       "      <th>Y</th>\n",
       "      <th>Area</th>\n",
       "      <th>MedianIncomeCounty</th>\n",
       "      <th>HousingUnitsCounty</th>\n",
       "      <th>HousingDensityCounty</th>\n",
       "      <th>Impervious</th>\n",
       "      <th>AgCount</th>\n",
       "      <th>CmCount</th>\n",
       "      <th>GvCount</th>\n",
       "      <th>EdCount</th>\n",
       "      <th>InCount</th>\n",
       "      <th>OsmNearestRoad</th>\n",
       "      <th>BuildingType</th>\n",
       "    </tr>\n",
       "  </thead>\n",
       "  <tbody>\n",
       "    <tr>\n",
       "      <th>1591370</th>\n",
       "      <td>-1.884314</td>\n",
       "      <td>-1.854621</td>\n",
       "      <td>-0.105389</td>\n",
       "      <td>-0.302436</td>\n",
       "      <td>0.989616</td>\n",
       "      <td>0.370678</td>\n",
       "      <td>-1.051383</td>\n",
       "      <td>2.988046</td>\n",
       "      <td>0.781750</td>\n",
       "      <td>1.116229</td>\n",
       "      <td>0.577660</td>\n",
       "      <td>1.041752</td>\n",
       "      <td>4</td>\n",
       "      <td>2</td>\n",
       "    </tr>\n",
       "    <tr>\n",
       "      <th>110322</th>\n",
       "      <td>-1.098579</td>\n",
       "      <td>-1.958204</td>\n",
       "      <td>-0.167053</td>\n",
       "      <td>0.943535</td>\n",
       "      <td>0.315119</td>\n",
       "      <td>-1.996190</td>\n",
       "      <td>-0.109315</td>\n",
       "      <td>-0.231793</td>\n",
       "      <td>0.214207</td>\n",
       "      <td>-0.844359</td>\n",
       "      <td>-0.132476</td>\n",
       "      <td>0.713686</td>\n",
       "      <td>2</td>\n",
       "      <td>2</td>\n",
       "    </tr>\n",
       "    <tr>\n",
       "      <th>53673</th>\n",
       "      <td>-1.319796</td>\n",
       "      <td>-1.860037</td>\n",
       "      <td>-0.463857</td>\n",
       "      <td>0.943535</td>\n",
       "      <td>0.315119</td>\n",
       "      <td>-1.996190</td>\n",
       "      <td>-0.965740</td>\n",
       "      <td>-0.231793</td>\n",
       "      <td>0.214207</td>\n",
       "      <td>-0.844359</td>\n",
       "      <td>-0.132476</td>\n",
       "      <td>0.713686</td>\n",
       "      <td>4</td>\n",
       "      <td>2</td>\n",
       "    </tr>\n",
       "    <tr>\n",
       "      <th>1327463</th>\n",
       "      <td>-0.035719</td>\n",
       "      <td>1.256301</td>\n",
       "      <td>0.258136</td>\n",
       "      <td>1.587182</td>\n",
       "      <td>0.812943</td>\n",
       "      <td>0.529785</td>\n",
       "      <td>0.190434</td>\n",
       "      <td>-0.415784</td>\n",
       "      <td>0.890988</td>\n",
       "      <td>-0.321536</td>\n",
       "      <td>1.007044</td>\n",
       "      <td>0.682809</td>\n",
       "      <td>4</td>\n",
       "      <td>2</td>\n",
       "    </tr>\n",
       "    <tr>\n",
       "      <th>1885751</th>\n",
       "      <td>-0.291156</td>\n",
       "      <td>1.129598</td>\n",
       "      <td>-0.216477</td>\n",
       "      <td>0.166470</td>\n",
       "      <td>-0.426574</td>\n",
       "      <td>0.732498</td>\n",
       "      <td>0.875574</td>\n",
       "      <td>-0.691770</td>\n",
       "      <td>-0.417104</td>\n",
       "      <td>-0.975065</td>\n",
       "      <td>-0.644434</td>\n",
       "      <td>-0.181742</td>\n",
       "      <td>4</td>\n",
       "      <td>2</td>\n",
       "    </tr>\n",
       "  </tbody>\n",
       "</table>\n",
       "</div>"
      ],
      "text/plain": [
       "                X         Y      Area  MedianIncomeCounty  HousingUnitsCounty  \\\n",
       "1591370 -1.884314 -1.854621 -0.105389           -0.302436            0.989616   \n",
       "110322  -1.098579 -1.958204 -0.167053            0.943535            0.315119   \n",
       "53673   -1.319796 -1.860037 -0.463857            0.943535            0.315119   \n",
       "1327463 -0.035719  1.256301  0.258136            1.587182            0.812943   \n",
       "1885751 -0.291156  1.129598 -0.216477            0.166470           -0.426574   \n",
       "\n",
       "         HousingDensityCounty  Impervious   AgCount   CmCount   GvCount  \\\n",
       "1591370              0.370678   -1.051383  2.988046  0.781750  1.116229   \n",
       "110322              -1.996190   -0.109315 -0.231793  0.214207 -0.844359   \n",
       "53673               -1.996190   -0.965740 -0.231793  0.214207 -0.844359   \n",
       "1327463              0.529785    0.190434 -0.415784  0.890988 -0.321536   \n",
       "1885751              0.732498    0.875574 -0.691770 -0.417104 -0.975065   \n",
       "\n",
       "          EdCount   InCount  OsmNearestRoad  BuildingType  \n",
       "1591370  0.577660  1.041752               4             2  \n",
       "110322  -0.132476  0.713686               2             2  \n",
       "53673   -0.132476  0.713686               4             2  \n",
       "1327463  1.007044  0.682809               4             2  \n",
       "1885751 -0.644434 -0.181742               4             2  "
      ]
     },
     "execution_count": 5,
     "metadata": {},
     "output_type": "execute_result"
    }
   ],
   "source": [
    "df.head()"
   ]
  },
  {
   "cell_type": "code",
   "execution_count": 6,
   "id": "61b9c6ee",
   "metadata": {},
   "outputs": [
    {
     "name": "stdout",
     "output_type": "stream",
     "text": [
      "Number of classes: 3\n"
     ]
    }
   ],
   "source": [
    "nClasses = len(df['BuildingType'].unique())\n",
    "print(\"Number of classes:\", nClasses)"
   ]
  },
  {
   "cell_type": "code",
   "execution_count": 7,
   "id": "bb4e5f39",
   "metadata": {},
   "outputs": [],
   "source": [
    "buildingTypes = np.array(df['BuildingType'])\n",
    "df = df.drop( columns=['BuildingType'] )"
   ]
  },
  {
   "cell_type": "markdown",
   "id": "6167606a",
   "metadata": {},
   "source": [
    "### Bayesian Neural Network"
   ]
  },
  {
   "cell_type": "code",
   "execution_count": 8,
   "id": "63f8937e",
   "metadata": {},
   "outputs": [
    {
     "name": "stderr",
     "output_type": "stream",
     "text": [
      "/home/jupyter-narock/.local/lib/python3.9/site-packages/tensorflow_probability/python/layers/util.py:98: UserWarning: `layer.add_variable` is deprecated and will be removed in a future version. Please use the `layer.add_weight()` method instead.\n",
      "  loc = add_variable_fn(\n",
      "2024-02-06 15:26:18.259980: I tensorflow/core/common_runtime/gpu/gpu_device.cc:1635] Created device /job:localhost/replica:0/task:0/device:GPU:0 with 5337 MB memory:  -> device: 0, name: NVIDIA GeForce GTX TITAN Black, pci bus id: 0000:65:00.0, compute capability: 3.5\n",
      "/home/jupyter-narock/.local/lib/python3.9/site-packages/tensorflow_probability/python/layers/util.py:108: UserWarning: `layer.add_variable` is deprecated and will be removed in a future version. Please use the `layer.add_weight()` method instead.\n",
      "  untransformed_scale = add_variable_fn(\n"
     ]
    }
   ],
   "source": [
    "from keras import backend as K \n",
    "\n",
    "# Keras keeps models hanging around in memory. If we retrain a model, Keras will\n",
    "# start from the previously concluded weight values. This resets everything.\n",
    "K.clear_session()\n",
    "\n",
    "# KL divergence weighted by the number of training samples, using\n",
    "# lambda function to pass as input to the kernel_divergence_fn on\n",
    "# flipout layers.\n",
    "kl_divergence_function = (lambda q, p, _: tfd.kl_divergence(q, p) /  \n",
    "                            tf.cast(df.shape[0], dtype=tf.float32))\n",
    "\n",
    "tfd = tfp.distributions\n",
    "\n",
    "# Define a logistic regression model as a Bernoulli distribution\n",
    "# parameterized by logits from a single linear layer. We use the Flipout\n",
    "# Monte Carlo estimator for the layer: this enables lower variance\n",
    "# stochastic gradients than naive reparameterization.\n",
    "input_layer = tf.keras.layers.Input(shape=df.shape[1])\n",
    "\n",
    "#dense_layer = tfp.layers.DenseFlipout(\n",
    "#    units=1,\n",
    "#    activation='sigmoid',\n",
    "#    kernel_posterior_fn=tfp.layers.default_mean_field_normal_fn(),\n",
    "#    bias_posterior_fn=tfp.layers.default_mean_field_normal_fn(),\n",
    "#    kernel_divergence_fn=kl_divergence_function)(input_layer)\n",
    "\n",
    "layer1 = tfp.layers.DenseFlipout(\n",
    "    units=26,\n",
    "    activation='sigmoid',\n",
    "    kernel_posterior_fn=tfp.layers.default_mean_field_normal_fn(),\n",
    "    bias_posterior_fn=tfp.layers.default_mean_field_normal_fn(),\n",
    "    kernel_divergence_fn=kl_divergence_function)(input_layer)\n",
    "\n",
    "layer2 = tfp.layers.DenseFlipout(\n",
    "    units=13,\n",
    "    activation='sigmoid',\n",
    "    kernel_posterior_fn=tfp.layers.default_mean_field_normal_fn(),\n",
    "    bias_posterior_fn=tfp.layers.default_mean_field_normal_fn(),\n",
    "    kernel_divergence_fn=kl_divergence_function)(layer1)\n",
    "\n",
    "layer3 = tfp.layers.DenseFlipout(\n",
    "    units=8,\n",
    "    activation='sigmoid',\n",
    "    kernel_posterior_fn=tfp.layers.default_mean_field_normal_fn(),\n",
    "    bias_posterior_fn=tfp.layers.default_mean_field_normal_fn(),\n",
    "    kernel_divergence_fn=kl_divergence_function)(layer2)\n",
    "\n",
    "layer4 = tfp.layers.DenseFlipout(\n",
    "    units=4,\n",
    "    activation='sigmoid',\n",
    "    kernel_posterior_fn=tfp.layers.default_mean_field_normal_fn(),\n",
    "    bias_posterior_fn=tfp.layers.default_mean_field_normal_fn(),\n",
    "    kernel_divergence_fn=kl_divergence_function)(layer3)\n",
    "\n",
    "out = tfp.layers.DenseFlipout(\n",
    "    units=3,\n",
    "    activation='softmax',\n",
    "    kernel_posterior_fn=tfp.layers.default_mean_field_normal_fn(),\n",
    "    bias_posterior_fn=tfp.layers.default_mean_field_normal_fn(),\n",
    "    kernel_divergence_fn=kl_divergence_function)(layer4)\n",
    "\n",
    "# Model compilation\n",
    "#bnn = tf.keras.Model(inputs=input_layer, outputs=dense_layer)\n",
    "bnn = tf.keras.Model(inputs=input_layer, outputs=out)\n",
    "optimizer = tf.keras.optimizers.Adam(learning_rate=0.01)\n",
    "  \n",
    "# We use the binary_crossentropy loss since this toy example contains\n",
    "# two labels. The Keras API will then automatically add the\n",
    "# Kullback-Leibler divergence (contained on the individual layers of\n",
    "# the model), to the cross entropy loss, effectively\n",
    "# calcuating the (negated) Evidence Lower Bound Loss (ELBO)\n",
    "bnn.compile(optimizer, loss='categorical_crossentropy', metrics=['accuracy'])"
   ]
  },
  {
   "cell_type": "code",
   "execution_count": 9,
   "id": "6c70029b",
   "metadata": {},
   "outputs": [
    {
     "name": "stdout",
     "output_type": "stream",
     "text": [
      "Model: \"model\"\n",
      "_________________________________________________________________\n",
      " Layer (type)                Output Shape              Param #   \n",
      "=================================================================\n",
      " input_1 (InputLayer)        [(None, 13)]              0         \n",
      "                                                                 \n",
      " dense_flipout (DenseFlipout  (None, 26)               728       \n",
      " )                                                               \n",
      "                                                                 \n",
      " dense_flipout_1 (DenseFlipo  (None, 13)               702       \n",
      " ut)                                                             \n",
      "                                                                 \n",
      " dense_flipout_2 (DenseFlipo  (None, 8)                224       \n",
      " ut)                                                             \n",
      "                                                                 \n",
      " dense_flipout_3 (DenseFlipo  (None, 4)                72        \n",
      " ut)                                                             \n",
      "                                                                 \n",
      " dense_flipout_4 (DenseFlipo  (None, 3)                30        \n",
      " ut)                                                             \n",
      "                                                                 \n",
      "=================================================================\n",
      "Total params: 1,756\n",
      "Trainable params: 1,756\n",
      "Non-trainable params: 0\n",
      "_________________________________________________________________\n"
     ]
    }
   ],
   "source": [
    "bnn.summary()"
   ]
  },
  {
   "cell_type": "code",
   "execution_count": 10,
   "id": "91eefec2",
   "metadata": {},
   "outputs": [],
   "source": [
    "bnn.load_weights(\"bnn.h5\")"
   ]
  },
  {
   "cell_type": "markdown",
   "id": "ae0a0f29",
   "metadata": {},
   "source": [
    "### Analysis"
   ]
  },
  {
   "cell_type": "code",
   "execution_count": 11,
   "id": "af858d85",
   "metadata": {},
   "outputs": [],
   "source": [
    "import numpy as np\n",
    "\n",
    "def getPredictions( model, data, T ):\n",
    "\n",
    "    n = data.shape[0]\n",
    "    preds = np.zeros( shape=(n,nClasses,T) )\n",
    "    \n",
    "    for t in range(T):\n",
    "        if ( t == 10 ): print(\"Iteration 10...\")\n",
    "        if ( t == 30 ): print(\"Iteration 30...\")\n",
    "        if ( t == 50 ): print(\"Iteration 50...\")\n",
    "        if ( t == 70 ): print(\"Iteration 70...\")\n",
    "        if ( t == 90 ): print(\"Iteration 90...\")\n",
    "        preds[:,:,t] = model(data)\n",
    "        \n",
    "    return preds"
   ]
  },
  {
   "cell_type": "code",
   "execution_count": 12,
   "id": "9bf48df9",
   "metadata": {},
   "outputs": [
    {
     "name": "stdout",
     "output_type": "stream",
     "text": [
      "Iteration 10...\n",
      "Iteration 30...\n",
      "Iteration 50...\n",
      "Iteration 70...\n",
      "Iteration 90...\n"
     ]
    },
    {
     "data": {
      "text/plain": [
       "(1140006, 3, 100)"
      ]
     },
     "execution_count": 12,
     "metadata": {},
     "output_type": "execute_result"
    }
   ],
   "source": [
    "T = 100\n",
    "preds = getPredictions( bnn, df.values, T )\n",
    "preds.shape"
   ]
  },
  {
   "cell_type": "code",
   "execution_count": 13,
   "id": "f6054b90",
   "metadata": {},
   "outputs": [],
   "source": [
    "def getPredictions( preds, T ):\n",
    "    \n",
    "    n = preds.shape[0]\n",
    "    means = np.zeros( shape=(n, nClasses) )\n",
    "    \n",
    "    for ix in range(n):\n",
    "        for j in range(nClasses):\n",
    "        \n",
    "            means[ix,j] = np.mean( preds[ix,j,:] )\n",
    "        \n",
    "    bnnPreds = np.argmax( means, axis=1 )\n",
    "    \n",
    "    return means, bnnPreds"
   ]
  },
  {
   "cell_type": "code",
   "execution_count": 14,
   "id": "9a7053ea",
   "metadata": {},
   "outputs": [
    {
     "data": {
      "text/plain": [
       "((1140006, 3), (1140006,))"
      ]
     },
     "execution_count": 14,
     "metadata": {},
     "output_type": "execute_result"
    }
   ],
   "source": [
    "means, bnnPreds = getPredictions( preds, T )\n",
    "means.shape, bnnPreds.shape"
   ]
  },
  {
   "cell_type": "code",
   "execution_count": 16,
   "id": "ea15ee5b",
   "metadata": {},
   "outputs": [
    {
     "data": {
      "text/plain": [
       "((1140006,), (1140006,))"
      ]
     },
     "execution_count": 16,
     "metadata": {},
     "output_type": "execute_result"
    }
   ],
   "source": [
    "from scipy.stats import entropy\n",
    "\n",
    "base = 2  # work in units of bits\n",
    "en = entropy(means, base=base, axis=1)\n",
    "\n",
    "en.shape, buildingTypes.shape"
   ]
  },
  {
   "cell_type": "code",
   "execution_count": 22,
   "id": "336ff55e",
   "metadata": {},
   "outputs": [
    {
     "data": {
      "text/plain": [
       "Text(0.5, 1.0, 'Entropy of Incorrect Predictions')"
      ]
     },
     "execution_count": 22,
     "metadata": {},
     "output_type": "execute_result"
    },
    {
     "data": {
      "image/png": "[encoded data removed]",
      "text/plain": [
       "<Figure size 432x288 with 1 Axes>"
      ]
     },
     "metadata": {
      "needs_background": "light"
     },
     "output_type": "display_data"
    }
   ],
   "source": [
    "font = {'weight' : 'bold', 'size'   : 16}\n",
    "plt.rc('font', **font)\n",
    "\n",
    "correct = np.where( bnnPreds == buildingTypes )\n",
    "incorrect = np.where( bnnPreds != buildingTypes )\n",
    "\n",
    "plt.hist( en[incorrect] )\n",
    "plt.xlabel( 'Entropy' )\n",
    "plt.ylabel( 'Counts' )\n",
    "plt.yscale( 'log' )\n",
    "plt.title( 'Entropy of Incorrect Predictions' )"
   ]
  },
  {
   "cell_type": "code",
   "execution_count": 23,
   "id": "dd94d995",
   "metadata": {},
   "outputs": [],
   "source": [
    "font = {'family' : 'normal',\n",
    "    'weight' : 'bold',\n",
    "    'size'   : 22}\n",
    "plt.rc('font', **font)"
   ]
  },
  {
   "cell_type": "code",
   "execution_count": 24,
   "id": "0723dfea",
   "metadata": {},
   "outputs": [],
   "source": [
    "from sklearn.metrics import confusion_matrix, ConfusionMatrixDisplay\n",
    "\n",
    "cm = confusion_matrix( buildingTypes, bnnPreds, normalize='true' )"
   ]
  },
  {
   "cell_type": "code",
   "execution_count": 25,
   "id": "493725d5",
   "metadata": {},
   "outputs": [
    {
     "data": {
      "text/plain": [
       "<sklearn.metrics._plot.confusion_matrix.ConfusionMatrixDisplay at 0x7fb41c31e520>"
      ]
     },
     "execution_count": 25,
     "metadata": {},
     "output_type": "execute_result"
    },
    {
     "name": "stderr",
     "output_type": "stream",
     "text": [
      "findfont: Font family ['normal'] not found. Falling back to DejaVu Sans.\n",
      "findfont: Font family ['normal'] not found. Falling back to DejaVu Sans.\n"
     ]
    },
    {
     "data": {
      "image/png": "[encoded data removed]",
      "text/plain": [
       "<Figure size 720x720 with 2 Axes>"
      ]
     },
     "metadata": {
      "needs_background": "light"
     },
     "output_type": "display_data"
    }
   ],
   "source": [
    "fig, ax = plt.subplots(figsize=(10, 10))\n",
    "disp = ConfusionMatrixDisplay( confusion_matrix=cm, display_labels=le.inverse_transform([0,1,2]))#rf.classes_)\n",
    "disp.plot(ax=ax, cmap='gist_yarg')"
   ]
  },
  {
   "cell_type": "code",
   "execution_count": 26,
   "id": "1302335f",
   "metadata": {},
   "outputs": [
    {
     "name": "stdout",
     "output_type": "stream",
     "text": [
      "Balanced Accuracy: 0.4501\n",
      "Micro F1: 0.3731\n"
     ]
    }
   ],
   "source": [
    "from sklearn.metrics import f1_score\n",
    "from sklearn.metrics import balanced_accuracy_score\n",
    "\n",
    "print( \"Balanced Accuracy:\", np.round( balanced_accuracy_score(buildingTypes, bnnPreds), 4 ))\n",
    "print( \"Micro F1:\", np.round( f1_score(buildingTypes, bnnPreds, average='micro'), 4 ))"
   ]
  },
  {
   "cell_type": "markdown",
   "id": "a5f7d01f",
   "metadata": {},
   "source": [
    "#### Entropy-Accuracy Evaluation"
   ]
  },
  {
   "cell_type": "code",
   "execution_count": 27,
   "id": "e82d7568",
   "metadata": {},
   "outputs": [
    {
     "data": {
      "text/plain": [
       "(0.2374104061521244, 1.5849621266579648)"
      ]
     },
     "execution_count": 27,
     "metadata": {},
     "output_type": "execute_result"
    }
   ],
   "source": [
    "np.min(en), np.max(en)"
   ]
  },
  {
   "cell_type": "code",
   "execution_count": 32,
   "id": "e40860ea",
   "metadata": {},
   "outputs": [
    {
     "name": "stdout",
     "output_type": "stream",
     "text": [
      "Threshold: 0.3\n",
      "Percent of predictions: 0.03172965756320581\n",
      "Balanced Accuracy: 0.3333\n",
      "Macro F1: 0.3306\n",
      "Macro Precision: 0.3278\n",
      "Macro Recall: 0.3333\n",
      "\n",
      "Threshold: 0.4\n",
      "Percent of predictions: 0.05398129483529034\n",
      "Balanced Accuracy: 0.3333\n",
      "Macro F1: 0.3294\n",
      "Macro Precision: 0.3256\n",
      "Macro Recall: 0.3333\n",
      "\n",
      "Threshold: 0.5\n",
      "Percent of predictions: 0.061199677896432124\n",
      "Balanced Accuracy: 0.3333\n",
      "Macro F1: 0.3292\n",
      "Macro Precision: 0.3251\n",
      "Macro Recall: 0.3333\n",
      "\n",
      "Threshold: 0.6000000000000001\n",
      "Percent of predictions: 0.06651543939242426\n",
      "Balanced Accuracy: 0.3333\n",
      "Macro F1: 0.3291\n",
      "Macro Precision: 0.325\n"
     ]
    },
    {
     "name": "stderr",
     "output_type": "stream",
     "text": [
      "/opt/tljh/user/lib/python3.9/site-packages/sklearn/metrics/_classification.py:1344: UndefinedMetricWarning: Precision is ill-defined and being set to 0.0 in labels with no predicted samples. Use `zero_division` parameter to control this behavior.\n",
      "  _warn_prf(average, modifier, msg_start, len(result))\n",
      "/opt/tljh/user/lib/python3.9/site-packages/sklearn/metrics/_classification.py:1344: UndefinedMetricWarning: Precision is ill-defined and being set to 0.0 in labels with no predicted samples. Use `zero_division` parameter to control this behavior.\n",
      "  _warn_prf(average, modifier, msg_start, len(result))\n",
      "/opt/tljh/user/lib/python3.9/site-packages/sklearn/metrics/_classification.py:1344: UndefinedMetricWarning: Precision is ill-defined and being set to 0.0 in labels with no predicted samples. Use `zero_division` parameter to control this behavior.\n",
      "  _warn_prf(average, modifier, msg_start, len(result))\n",
      "/opt/tljh/user/lib/python3.9/site-packages/sklearn/metrics/_classification.py:1344: UndefinedMetricWarning: Precision is ill-defined and being set to 0.0 in labels with no predicted samples. Use `zero_division` parameter to control this behavior.\n",
      "  _warn_prf(average, modifier, msg_start, len(result))\n",
      "/opt/tljh/user/lib/python3.9/site-packages/sklearn/metrics/_classification.py:1344: UndefinedMetricWarning: Precision is ill-defined and being set to 0.0 in labels with no predicted samples. Use `zero_division` parameter to control this behavior.\n",
      "  _warn_prf(average, modifier, msg_start, len(result))\n"
     ]
    },
    {
     "name": "stdout",
     "output_type": "stream",
     "text": [
      "Macro Recall: 0.3333\n",
      "\n",
      "Threshold: 0.7000000000000002\n",
      "Percent of predictions: 0.07208119957263383\n",
      "Balanced Accuracy: 0.3333\n",
      "Macro F1: 0.3289\n",
      "Macro Precision: 0.3246\n",
      "Macro Recall: 0.3333\n",
      "\n",
      "Threshold: 0.8000000000000003\n",
      "Percent of predictions: 0.08999514037645416\n",
      "Balanced Accuracy: 0.5081\n",
      "Macro F1: 0.443\n",
      "Macro Precision: 0.415\n",
      "Macro Recall: 0.5081\n",
      "\n",
      "Threshold: 0.9000000000000001\n",
      "Percent of predictions: 0.10808451885340954\n",
      "Balanced Accuracy: 0.597\n",
      "Macro F1: 0.5396\n",
      "Macro Precision: 0.5283\n"
     ]
    },
    {
     "name": "stderr",
     "output_type": "stream",
     "text": [
      "/opt/tljh/user/lib/python3.9/site-packages/sklearn/metrics/_classification.py:1344: UndefinedMetricWarning: Precision is ill-defined and being set to 0.0 in labels with no predicted samples. Use `zero_division` parameter to control this behavior.\n",
      "  _warn_prf(average, modifier, msg_start, len(result))\n"
     ]
    },
    {
     "name": "stdout",
     "output_type": "stream",
     "text": [
      "Macro Recall: 0.597\n",
      "\n",
      "Threshold: 1.0000000000000002\n",
      "Percent of predictions: 0.14903868927005648\n",
      "Balanced Accuracy: 0.6315\n",
      "Macro F1: 0.5453\n",
      "Macro Precision: 0.5161\n",
      "Macro Recall: 0.6315\n",
      "\n",
      "Threshold: 1.1000000000000003\n",
      "Percent of predictions: 0.20843837664012294\n",
      "Balanced Accuracy: 0.5884\n",
      "Macro F1: 0.5101\n",
      "Macro Precision: 0.5045\n",
      "Macro Recall: 0.5884\n",
      "\n",
      "Threshold: 1.2000000000000004\n",
      "Percent of predictions: 0.2573653121123924\n",
      "Balanced Accuracy: 0.5621\n",
      "Macro F1: 0.4659\n",
      "Macro Precision: 0.4748\n",
      "Macro Recall: 0.5621\n",
      "\n",
      "Threshold: 1.3000000000000005\n",
      "Percent of predictions: 0.31933691577061873\n",
      "Balanced Accuracy: 0.5398\n",
      "Macro F1: 0.4281\n",
      "Macro Precision: 0.4498\n",
      "Macro Recall: 0.5398\n",
      "\n",
      "Threshold: 1.4000000000000004\n",
      "Percent of predictions: 0.43262316163248266\n",
      "Balanced Accuracy: 0.5134\n",
      "Macro F1: 0.3789\n",
      "Macro Precision: 0.4196\n",
      "Macro Recall: 0.5134\n",
      "\n",
      "Threshold: 1.5000000000000004\n",
      "Percent of predictions: 0.566924209170829\n",
      "Balanced Accuracy: 0.4899\n",
      "Macro F1: 0.3388\n",
      "Macro Precision: 0.4005\n",
      "Macro Recall: 0.4899\n",
      "\n"
     ]
    }
   ],
   "source": [
    "from sklearn.metrics import recall_score\n",
    "from sklearn.metrics import precision_score\n",
    "\n",
    "testValues = np.arange(0.3, 1.6, 0.1)\n",
    "\n",
    "acc = []\n",
    "thr = []\n",
    "pct = []\n",
    "\n",
    "n = bnnPreds.shape[0]\n",
    "\n",
    "for t in testValues:\n",
    "    \n",
    "    ixs = np.where( en <= t )\n",
    "    y = buildingTypes[ixs]\n",
    "    x = bnnPreds[ixs]\n",
    "    \n",
    "    acc.append( balanced_accuracy_score(y,x) )\n",
    "    thr.append( t )\n",
    "    pct.append( len(ixs[0])/n )\n",
    "\n",
    "    print( \"Threshold:\", t )\n",
    "    print( \"Percent of predictions:\", len(ixs[0])/n )\n",
    "    print( \"Balanced Accuracy:\", np.round( balanced_accuracy_score(y,x), 4 ))\n",
    "    print( \"Macro F1:\", np.round( f1_score(y,x, average='macro'), 4 ))\n",
    "    print( \"Macro Precision:\", np.round( precision_score(y,x, average='macro'), 4 ))\n",
    "    print( \"Macro Recall:\", np.round( recall_score(y,x, average='macro'), 4 ))\n",
    "    print()"
   ]
  },
  {
   "cell_type": "code",
   "execution_count": 33,
   "id": "f21b1255",
   "metadata": {},
   "outputs": [
    {
     "data": {
      "text/plain": [
       "(0.0, 1.0)"
      ]
     },
     "execution_count": 33,
     "metadata": {},
     "output_type": "execute_result"
    },
    {
     "name": "stderr",
     "output_type": "stream",
     "text": [
      "findfont: Font family ['normal'] not found. Falling back to DejaVu Sans.\n",
      "findfont: Font family ['normal'] not found. Falling back to DejaVu Sans.\n"
     ]
    },
    {
     "data": {
      "image/png": "[encoded data removed]",
      "text/plain": [
       "<Figure size 432x288 with 2 Axes>"
      ]
     },
     "metadata": {
      "needs_background": "light"
     },
     "output_type": "display_data"
    }
   ],
   "source": [
    "font = {'family' : 'normal',\n",
    "    'weight' : 'bold',\n",
    "    'size'   : 16}\n",
    "plt.rc('font', **font)\n",
    "\n",
    "plt.scatter( np.array(pct)*100., acc, c=thr )\n",
    "plt.colorbar()\n",
    "plt.xlabel('% of data used in predictions')\n",
    "plt.ylabel('Prediction Accuracy')\n",
    "plt.ylim(0,1)"
   ]
  },
  {
   "cell_type": "code",
   "execution_count": 35,
   "id": "671e44b4",
   "metadata": {},
   "outputs": [
    {
     "data": {
      "text/plain": [
       "<sklearn.metrics._plot.confusion_matrix.ConfusionMatrixDisplay at 0x7fb421bc9220>"
      ]
     },
     "execution_count": 35,
     "metadata": {},
     "output_type": "execute_result"
    },
    {
     "data": {
      "image/png": "[encoded data removed]",
      "text/plain": [
       "<Figure size 720x720 with 2 Axes>"
      ]
     },
     "metadata": {
      "needs_background": "light"
     },
     "output_type": "display_data"
    }
   ],
   "source": [
    "th = 1.0\n",
    "\n",
    "ixs = np.where( en <= th )\n",
    "y = buildingTypes[ixs]\n",
    "x = bnnPreds[ixs]\n",
    "    \n",
    "cm = confusion_matrix( x, y, normalize='true' )\n",
    "\n",
    "fig, ax = plt.subplots(figsize=(10, 10))\n",
    "disp = ConfusionMatrixDisplay( confusion_matrix=cm, display_labels=le.inverse_transform([0,1,2]))#rf.classes_)\n",
    "disp.plot(ax=ax, cmap='gist_yarg')"
   ]
  },
  {
   "cell_type": "code",
   "execution_count": 36,
   "id": "8f1c3494",
   "metadata": {},
   "outputs": [
    {
     "name": "stdout",
     "output_type": "stream",
     "text": [
      "Balanced Accuracy: 0.5161\n",
      "Macro F1: 0.5453\n",
      "Macro Precision: 0.6315\n",
      "Macro Recall: 0.5161\n"
     ]
    }
   ],
   "source": [
    "print( \"Balanced Accuracy:\", np.round( balanced_accuracy_score(x,y), 4 ))\n",
    "print( \"Macro F1:\", np.round( f1_score(x,y, average='macro'), 4 ))\n",
    "print( \"Macro Precision:\", np.round( precision_score(x,y, average='macro'), 4 ))\n",
    "print( \"Macro Recall:\", np.round( recall_score(x,y, average='macro'), 4 ))"
   ]
  },
  {
   "cell_type": "code",
   "execution_count": null,
   "id": "27e1d3e6",
   "metadata": {},
   "outputs": [],
   "source": []
  }
 ],
 "metadata": {
  "kernelspec": {
   "display_name": "Python 3 (ipykernel)",
   "language": "python",
   "name": "python3"
  },
  "language_info": {
   "codemirror_mode": {
    "name": "ipython",
    "version": 3
   },
   "file_extension": ".py",
   "mimetype": "text/x-python",
   "name": "python",
   "nbconvert_exporter": "python",
   "pygments_lexer": "ipython3",
   "version": "3.9.13"
  }
 },
 "nbformat": 4,
 "nbformat_minor": 5
}
