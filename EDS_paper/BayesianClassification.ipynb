{
 "cells": [
  {
   "cell_type": "code",
   "execution_count": 1,
   "id": "d1bb37a6",
   "metadata": {},
   "outputs": [
    {
     "name": "stderr",
     "output_type": "stream",
     "text": [
      "2024-02-06 15:17:00.548077: I tensorflow/core/platform/cpu_feature_guard.cc:182] This TensorFlow binary is optimized to use available CPU instructions in performance-critical operations.\n",
      "To enable the following instructions: AVX2 AVX512F FMA, in other operations, rebuild TensorFlow with the appropriate compiler flags.\n",
      "2024-02-06 15:17:01.108724: W tensorflow/compiler/tf2tensorrt/utils/py_utils.cc:38] TF-TRT Warning: Could not find TensorRT\n"
     ]
    }
   ],
   "source": [
    "import pandas as pd\n",
    "\n",
    "import numpy as np\n",
    "import tensorflow as tf\n",
    "import tensorflow_probability as tfp\n",
    "from tensorflow.keras.models import Sequential\n",
    "from tensorflow.keras.layers import Dense\n",
    "from tensorflow.keras.optimizers import Adam\n",
    "\n",
    "import matplotlib.pyplot as plt"
   ]
  },
  {
   "cell_type": "markdown",
   "id": "d9e19465",
   "metadata": {},
   "source": [
    "### Setup and Configuration"
   ]
  },
  {
   "cell_type": "code",
   "execution_count": 2,
   "id": "68eb4db6",
   "metadata": {},
   "outputs": [],
   "source": [
    "# North Carolina data\n",
    "url = \"https://github.com/geo-smart/flood-risk-ml-tutorial/blob/main/North_Carolina_Buildings.zip?raw=true\"\n",
    "\n",
    "# read data into a Pandas dataframe\n",
    "rawDf = pd.read_csv(url, compression=\"zip\")\n",
    "\n",
    "# ignore first few columns, which are FIPs codes, not needed for ML\n",
    "rawDf = rawDf.iloc[:, 3:] \n",
    "df = rawDf.copy( deep=True )"
   ]
  },
  {
   "cell_type": "code",
   "execution_count": 3,
   "id": "999bfa70",
   "metadata": {},
   "outputs": [
    {
     "name": "stdout",
     "output_type": "stream",
     "text": [
      "\n",
      "Residential    976690\n",
      "Commercial      64029\n",
      "Other           37425\n",
      "Name: BuildingType, dtype: int64\n",
      "\n",
      "Residential     1.000000\n",
      "Commercial     15.253869\n",
      "Other          26.097261\n",
      "Name: BuildingType, dtype: float64\n",
      "\n"
     ]
    }
   ],
   "source": [
    "# classify a building as \"Residential\", \"Commercial\", or \"Other\"\n",
    "df.loc[df[\"BuildingType\"] == \"Industrial\", \"BuildingType\"] = 'Other'\n",
    "df.loc[df[\"BuildingType\"] == \"Assembly\", \"BuildingType\"] = 'Other'\n",
    "df.loc[df[\"BuildingType\"] == \"Education\", \"BuildingType\"] = 'Other'\n",
    "df.loc[df[\"BuildingType\"] == \"Government\", \"BuildingType\"] = 'Other'\n",
    "df.loc[df[\"BuildingType\"] == \"Agriculture\", \"BuildingType\"] = 'Other'\n",
    "df.loc[df[\"BuildingType\"] == \"Utility and Misc\", \"BuildingType\"] = 'Other'\n",
    "\n",
    "# building type distributions\n",
    "print()\n",
    "print( df['BuildingType'].value_counts() )\n",
    "print()\n",
    "print( 976690/df['BuildingType'].value_counts() )\n",
    "print()"
   ]
  },
  {
   "cell_type": "code",
   "execution_count": 4,
   "id": "1e299cf1",
   "metadata": {},
   "outputs": [
    {
     "name": "stderr",
     "output_type": "stream",
     "text": [
      "/tmp/ipykernel_33330/1358776107.py:19: DeprecationWarning: In a future version, `df.iloc[:, i] = newvals` will attempt to set the values inplace instead of always setting a new array. To retain the old behavior, use either `df[df.columns[i]] = newvals` or, if columns are non-unique, `df.isetitem(i, newvals)`\n",
      "  df.iloc[:, nCols-1] = le.transform( df.iloc[:, nCols-1] )\n",
      "/tmp/ipykernel_33330/1358776107.py:23: DeprecationWarning: In a future version, `df.iloc[:, i] = newvals` will attempt to set the values inplace instead of always setting a new array. To retain the old behavior, use either `df[df.columns[i]] = newvals` or, if columns are non-unique, `df.isetitem(i, newvals)`\n",
      "  df.iloc[:, nCols-2] = le2.transform( df.iloc[:, nCols-2] )\n"
     ]
    }
   ],
   "source": [
    "from sklearn import preprocessing\n",
    "\n",
    "df = df.sample(frac=1) # shuffle the dataframe (technically, we randomly resample the entire df)\n",
    "\n",
    "# preprocess the data - scaling\n",
    "scaler = preprocessing.StandardScaler()\n",
    "    \n",
    "columns = ['X', 'Y', 'Area', 'MedianIncomeCounty', \n",
    "           'HousingUnitsCounty', 'HousingDensityCounty',\n",
    "           'Impervious', 'AgCount', 'CmCount', 'GvCount',\n",
    "           'EdCount', 'InCount']\n",
    "df[columns] = scaler.fit_transform(df[columns])\n",
    "\n",
    "df = df.dropna()\n",
    "\n",
    "nCols = df.shape[1]\n",
    "le = preprocessing.LabelEncoder()\n",
    "le.fit( df.iloc[:, nCols-1] ) # ornl type\n",
    "df.iloc[:, nCols-1] = le.transform( df.iloc[:, nCols-1] )\n",
    "    \n",
    "le2 = preprocessing.LabelEncoder()\n",
    "le2.fit( df.iloc[:, nCols-2] ) # nearest road type\n",
    "df.iloc[:, nCols-2] = le2.transform( df.iloc[:, nCols-2] )"
   ]
  },
  {
   "cell_type": "code",
   "execution_count": 5,
   "id": "958d6b5e",
   "metadata": {},
   "outputs": [
    {
     "data": {
      "text/html": [
       "<div>\n",
       "<style scoped>\n",
       "    .dataframe tbody tr th:only-of-type {\n",
       "        vertical-align: middle;\n",
       "    }\n",
       "\n",
       "    .dataframe tbody tr th {\n",
       "        vertical-align: top;\n",
       "    }\n",
       "\n",
       "    .dataframe thead th {\n",
       "        text-align: right;\n",
       "    }\n",
       "</style>\n",
       "<table border=\"1\" class=\"dataframe\">\n",
       "  <thead>\n",
       "    <tr style=\"text-align: right;\">\n",
       "      <th></th>\n",
       "      <th>X</th>\n",
       "      <th>Y</th>\n",
       "      <th>Area</th>\n",
       "      <th>MedianIncomeCounty</th>\n",
       "      <th>HousingUnitsCounty</th>\n",
       "      <th>HousingDensityCounty</th>\n",
       "      <th>Impervious</th>\n",
       "      <th>AgCount</th>\n",
       "      <th>CmCount</th>\n",
       "      <th>GvCount</th>\n",
       "      <th>EdCount</th>\n",
       "      <th>InCount</th>\n",
       "      <th>OsmNearestRoad</th>\n",
       "      <th>BuildingType</th>\n",
       "    </tr>\n",
       "  </thead>\n",
       "  <tbody>\n",
       "    <tr>\n",
       "      <th>12790</th>\n",
       "      <td>-0.804473</td>\n",
       "      <td>-0.375300</td>\n",
       "      <td>-0.081564</td>\n",
       "      <td>-0.099105</td>\n",
       "      <td>-1.052135</td>\n",
       "      <td>-0.760445</td>\n",
       "      <td>0.404579</td>\n",
       "      <td>-0.807762</td>\n",
       "      <td>-1.045352</td>\n",
       "      <td>-1.048588</td>\n",
       "      <td>-1.064738</td>\n",
       "      <td>-0.999500</td>\n",
       "      <td>4</td>\n",
       "      <td>2</td>\n",
       "    </tr>\n",
       "    <tr>\n",
       "      <th>788359</th>\n",
       "      <td>0.674385</td>\n",
       "      <td>0.559765</td>\n",
       "      <td>-0.116762</td>\n",
       "      <td>1.302284</td>\n",
       "      <td>0.963812</td>\n",
       "      <td>-0.339621</td>\n",
       "      <td>-0.400575</td>\n",
       "      <td>1.665731</td>\n",
       "      <td>0.880503</td>\n",
       "      <td>0.643556</td>\n",
       "      <td>1.097817</td>\n",
       "      <td>1.041934</td>\n",
       "      <td>4</td>\n",
       "      <td>2</td>\n",
       "    </tr>\n",
       "    <tr>\n",
       "      <th>89106</th>\n",
       "      <td>-0.867942</td>\n",
       "      <td>-1.359846</td>\n",
       "      <td>-0.058006</td>\n",
       "      <td>0.139001</td>\n",
       "      <td>-1.071597</td>\n",
       "      <td>-1.424272</td>\n",
       "      <td>-1.205730</td>\n",
       "      <td>-0.189389</td>\n",
       "      <td>-1.054971</td>\n",
       "      <td>-1.048588</td>\n",
       "      <td>-1.045623</td>\n",
       "      <td>-0.770605</td>\n",
       "      <td>4</td>\n",
       "      <td>2</td>\n",
       "    </tr>\n",
       "    <tr>\n",
       "      <th>101348</th>\n",
       "      <td>-0.853374</td>\n",
       "      <td>-0.832728</td>\n",
       "      <td>-0.119094</td>\n",
       "      <td>0.139001</td>\n",
       "      <td>-1.071597</td>\n",
       "      <td>-1.424272</td>\n",
       "      <td>1.030811</td>\n",
       "      <td>-0.189389</td>\n",
       "      <td>-1.054971</td>\n",
       "      <td>-1.048588</td>\n",
       "      <td>-1.045623</td>\n",
       "      <td>-0.770605</td>\n",
       "      <td>4</td>\n",
       "      <td>2</td>\n",
       "    </tr>\n",
       "    <tr>\n",
       "      <th>684258</th>\n",
       "      <td>-0.954170</td>\n",
       "      <td>-0.494661</td>\n",
       "      <td>-0.065904</td>\n",
       "      <td>0.337253</td>\n",
       "      <td>1.051850</td>\n",
       "      <td>0.031186</td>\n",
       "      <td>-0.654050</td>\n",
       "      <td>-0.337799</td>\n",
       "      <td>1.140185</td>\n",
       "      <td>1.278110</td>\n",
       "      <td>0.949244</td>\n",
       "      <td>0.979654</td>\n",
       "      <td>4</td>\n",
       "      <td>2</td>\n",
       "    </tr>\n",
       "  </tbody>\n",
       "</table>\n",
       "</div>"
      ],
      "text/plain": [
       "               X         Y      Area  MedianIncomeCounty  HousingUnitsCounty  \\\n",
       "12790  -0.804473 -0.375300 -0.081564           -0.099105           -1.052135   \n",
       "788359  0.674385  0.559765 -0.116762            1.302284            0.963812   \n",
       "89106  -0.867942 -1.359846 -0.058006            0.139001           -1.071597   \n",
       "101348 -0.853374 -0.832728 -0.119094            0.139001           -1.071597   \n",
       "684258 -0.954170 -0.494661 -0.065904            0.337253            1.051850   \n",
       "\n",
       "        HousingDensityCounty  Impervious   AgCount   CmCount   GvCount  \\\n",
       "12790              -0.760445    0.404579 -0.807762 -1.045352 -1.048588   \n",
       "788359             -0.339621   -0.400575  1.665731  0.880503  0.643556   \n",
       "89106              -1.424272   -1.205730 -0.189389 -1.054971 -1.048588   \n",
       "101348             -1.424272    1.030811 -0.189389 -1.054971 -1.048588   \n",
       "684258              0.031186   -0.654050 -0.337799  1.140185  1.278110   \n",
       "\n",
       "         EdCount   InCount  OsmNearestRoad  BuildingType  \n",
       "12790  -1.064738 -0.999500               4             2  \n",
       "788359  1.097817  1.041934               4             2  \n",
       "89106  -1.045623 -0.770605               4             2  \n",
       "101348 -1.045623 -0.770605               4             2  \n",
       "684258  0.949244  0.979654               4             2  "
      ]
     },
     "execution_count": 5,
     "metadata": {},
     "output_type": "execute_result"
    }
   ],
   "source": [
    "df.head()"
   ]
  },
  {
   "cell_type": "code",
   "execution_count": 6,
   "id": "61b9c6ee",
   "metadata": {},
   "outputs": [
    {
     "name": "stdout",
     "output_type": "stream",
     "text": [
      "Number of classes: 3\n"
     ]
    }
   ],
   "source": [
    "nClasses = len(df['BuildingType'].unique())\n",
    "print(\"Number of classes:\", nClasses)"
   ]
  },
  {
   "cell_type": "code",
   "execution_count": 7,
   "id": "f2ae35fd",
   "metadata": {},
   "outputs": [
    {
     "name": "stdout",
     "output_type": "stream",
     "text": [
      "Training Size: (862513, 13)\n",
      "Testing Size: (215629, 13)\n"
     ]
    }
   ],
   "source": [
    "from sklearn.model_selection import train_test_split\n",
    "\n",
    "train, test = train_test_split(df, test_size=0.2, random_state=42, stratify=df[['BuildingType']])\n",
    "\n",
    "nCols = test.shape[1]\n",
    "xTest = test.iloc[:, :nCols-1]\n",
    "yTest = test.iloc[:, nCols-1]\n",
    "\n",
    "xTrain = train.iloc[:, :nCols-1]\n",
    "yTrain = train.iloc[:, nCols-1]\n",
    "\n",
    "print(\"Training Size:\", xTrain.shape)\n",
    "print(\"Testing Size:\", xTest.shape)\n",
    "\n",
    "# save test/train split\n",
    "xTrain.to_pickle(\"./xTrain.pkl\") \n",
    "yTrain.to_pickle(\"./yTrain.pkl\") \n",
    "xTest.to_pickle(\"./xTest.pkl\")  \n",
    "yTest.to_pickle(\"./yTest.pkl\")  "
   ]
  },
  {
   "cell_type": "markdown",
   "id": "6167606a",
   "metadata": {},
   "source": [
    "### Bayesian Neural Network"
   ]
  },
  {
   "cell_type": "code",
   "execution_count": 7,
   "id": "78574d2f",
   "metadata": {},
   "outputs": [],
   "source": [
    "xTrain = pd.read_pickle(\"./xTrain.pkl\")  \n",
    "yTrain = pd.read_pickle(\"./yTrain.pkl\")  \n",
    "xTest = pd.read_pickle(\"./xTest.pkl\")  \n",
    "yTest = pd.read_pickle(\"./yTest.pkl\")  "
   ]
  },
  {
   "cell_type": "code",
   "execution_count": 9,
   "id": "b9fb60d5",
   "metadata": {},
   "outputs": [
    {
     "name": "stdout",
     "output_type": "stream",
     "text": [
      "Weight for class 0: 8.42\n",
      "Weight for class 1: 14.40\n",
      "Weight for class 2: 0.55\n"
     ]
    }
   ],
   "source": [
    "# Scaling by total/2 helps keep the loss to a similar magnitude.\n",
    "total = xTrain.shape[0]\n",
    "ix = np.where( yTrain == 0 )\n",
    "zero = len(ix[0])\n",
    "ix = np.where( yTrain == 1 )\n",
    "one = len(ix[0])\n",
    "ix = np.where( yTrain == 2 )\n",
    "two = len(ix[0])\n",
    "\n",
    "weight_for_0 = (1 / zero) * (total / 2.0)\n",
    "weight_for_1 = (1 / one) * (total / 2.0)\n",
    "weight_for_2 = (1 / two) * (total / 2.0)\n",
    "\n",
    "class_weight = {0: weight_for_0, 1: weight_for_1, 2: weight_for_2}\n",
    "\n",
    "print('Weight for class 0: {:.2f}'.format(weight_for_0))\n",
    "print('Weight for class 1: {:.2f}'.format(weight_for_1))\n",
    "print('Weight for class 2: {:.2f}'.format(weight_for_2))"
   ]
  },
  {
   "cell_type": "code",
   "execution_count": 8,
   "id": "63f8937e",
   "metadata": {},
   "outputs": [
    {
     "name": "stderr",
     "output_type": "stream",
     "text": [
      "/home/jupyter-narock/.local/lib/python3.9/site-packages/tensorflow_probability/python/layers/util.py:98: UserWarning: `layer.add_variable` is deprecated and will be removed in a future version. Please use the `layer.add_weight()` method instead.\n",
      "  loc = add_variable_fn(\n",
      "2024-02-06 15:17:34.980882: I tensorflow/core/common_runtime/gpu/gpu_device.cc:1635] Created device /job:localhost/replica:0/task:0/device:GPU:0 with 5337 MB memory:  -> device: 0, name: NVIDIA GeForce GTX TITAN Black, pci bus id: 0000:65:00.0, compute capability: 3.5\n",
      "/home/jupyter-narock/.local/lib/python3.9/site-packages/tensorflow_probability/python/layers/util.py:108: UserWarning: `layer.add_variable` is deprecated and will be removed in a future version. Please use the `layer.add_weight()` method instead.\n",
      "  untransformed_scale = add_variable_fn(\n"
     ]
    }
   ],
   "source": [
    "from keras import backend as K \n",
    "\n",
    "# Keras keeps models hanging around in memory. If we retrain a model, Keras will\n",
    "# start from the previously concluded weight values. This resets everything.\n",
    "K.clear_session()\n",
    "\n",
    "# KL divergence weighted by the number of training samples, using\n",
    "# lambda function to pass as input to the kernel_divergence_fn on\n",
    "# flipout layers.\n",
    "kl_divergence_function = (lambda q, p, _: tfd.kl_divergence(q, p) /  \n",
    "                            tf.cast(xTrain.shape[0], dtype=tf.float32))\n",
    "\n",
    "tfd = tfp.distributions\n",
    "\n",
    "# Define a logistic regression model as a Bernoulli distribution\n",
    "# parameterized by logits from a single linear layer. We use the Flipout\n",
    "# Monte Carlo estimator for the layer: this enables lower variance\n",
    "# stochastic gradients than naive reparameterization.\n",
    "input_layer = tf.keras.layers.Input(shape=xTrain.shape[1])\n",
    "\n",
    "#dense_layer = tfp.layers.DenseFlipout(\n",
    "#    units=1,\n",
    "#    activation='sigmoid',\n",
    "#    kernel_posterior_fn=tfp.layers.default_mean_field_normal_fn(),\n",
    "#    bias_posterior_fn=tfp.layers.default_mean_field_normal_fn(),\n",
    "#    kernel_divergence_fn=kl_divergence_function)(input_layer)\n",
    "\n",
    "layer1 = tfp.layers.DenseFlipout(\n",
    "    units=26,\n",
    "    activation='sigmoid',\n",
    "    kernel_posterior_fn=tfp.layers.default_mean_field_normal_fn(),\n",
    "    bias_posterior_fn=tfp.layers.default_mean_field_normal_fn(),\n",
    "    kernel_divergence_fn=kl_divergence_function)(input_layer)\n",
    "\n",
    "layer2 = tfp.layers.DenseFlipout(\n",
    "    units=13,\n",
    "    activation='sigmoid',\n",
    "    kernel_posterior_fn=tfp.layers.default_mean_field_normal_fn(),\n",
    "    bias_posterior_fn=tfp.layers.default_mean_field_normal_fn(),\n",
    "    kernel_divergence_fn=kl_divergence_function)(layer1)\n",
    "\n",
    "layer3 = tfp.layers.DenseFlipout(\n",
    "    units=8,\n",
    "    activation='sigmoid',\n",
    "    kernel_posterior_fn=tfp.layers.default_mean_field_normal_fn(),\n",
    "    bias_posterior_fn=tfp.layers.default_mean_field_normal_fn(),\n",
    "    kernel_divergence_fn=kl_divergence_function)(layer2)\n",
    "\n",
    "layer4 = tfp.layers.DenseFlipout(\n",
    "    units=4,\n",
    "    activation='sigmoid',\n",
    "    kernel_posterior_fn=tfp.layers.default_mean_field_normal_fn(),\n",
    "    bias_posterior_fn=tfp.layers.default_mean_field_normal_fn(),\n",
    "    kernel_divergence_fn=kl_divergence_function)(layer3)\n",
    "\n",
    "out = tfp.layers.DenseFlipout(\n",
    "    units=3,\n",
    "    activation='softmax',\n",
    "    kernel_posterior_fn=tfp.layers.default_mean_field_normal_fn(),\n",
    "    bias_posterior_fn=tfp.layers.default_mean_field_normal_fn(),\n",
    "    kernel_divergence_fn=kl_divergence_function)(layer4)\n",
    "\n",
    "# Model compilation\n",
    "#bnn = tf.keras.Model(inputs=input_layer, outputs=dense_layer)\n",
    "bnn = tf.keras.Model(inputs=input_layer, outputs=out)\n",
    "optimizer = tf.keras.optimizers.Adam(learning_rate=0.01)\n",
    "  \n",
    "# We use the binary_crossentropy loss since this toy example contains\n",
    "# two labels. The Keras API will then automatically add the\n",
    "# Kullback-Leibler divergence (contained on the individual layers of\n",
    "# the model), to the cross entropy loss, effectively\n",
    "# calcuating the (negated) Evidence Lower Bound Loss (ELBO)\n",
    "bnn.compile(optimizer, loss='categorical_crossentropy', metrics=['accuracy'])"
   ]
  },
  {
   "cell_type": "code",
   "execution_count": 9,
   "id": "6c70029b",
   "metadata": {},
   "outputs": [
    {
     "name": "stdout",
     "output_type": "stream",
     "text": [
      "Model: \"model\"\n",
      "_________________________________________________________________\n",
      " Layer (type)                Output Shape              Param #   \n",
      "=================================================================\n",
      " input_1 (InputLayer)        [(None, 13)]              0         \n",
      "                                                                 \n",
      " dense_flipout (DenseFlipout  (None, 26)               728       \n",
      " )                                                               \n",
      "                                                                 \n",
      " dense_flipout_1 (DenseFlipo  (None, 13)               702       \n",
      " ut)                                                             \n",
      "                                                                 \n",
      " dense_flipout_2 (DenseFlipo  (None, 8)                224       \n",
      " ut)                                                             \n",
      "                                                                 \n",
      " dense_flipout_3 (DenseFlipo  (None, 4)                72        \n",
      " ut)                                                             \n",
      "                                                                 \n",
      " dense_flipout_4 (DenseFlipo  (None, 3)                30        \n",
      " ut)                                                             \n",
      "                                                                 \n",
      "=================================================================\n",
      "Total params: 1,756\n",
      "Trainable params: 1,756\n",
      "Non-trainable params: 0\n",
      "_________________________________________________________________\n"
     ]
    }
   ],
   "source": [
    "bnn.summary()"
   ]
  },
  {
   "cell_type": "code",
   "execution_count": 12,
   "id": "494e0dfa",
   "metadata": {},
   "outputs": [
    {
     "name": "stdout",
     "output_type": "stream",
     "text": [
      "Epoch 1/25\n"
     ]
    },
    {
     "name": "stderr",
     "output_type": "stream",
     "text": [
      "2023-11-26 13:58:36.154323: I tensorflow/compiler/xla/service/service.cc:169] XLA service 0x7f7e6797aa50 initialized for platform CUDA (this does not guarantee that XLA will be used). Devices:\n",
      "2023-11-26 13:58:36.154356: I tensorflow/compiler/xla/service/service.cc:177]   StreamExecutor device (0): NVIDIA GeForce GTX TITAN Black, Compute Capability 3.5\n",
      "2023-11-26 13:58:36.159337: I tensorflow/compiler/mlir/tensorflow/utils/dump_mlir_util.cc:269] disabling MLIR crash reproducer, set env var `MLIR_CRASH_REPRODUCER_DIRECTORY` to enable.\n",
      "2023-11-26 13:58:36.327544: I tensorflow/compiler/xla/stream_executor/cuda/cuda_dnn.cc:424] Loaded cuDNN version 8600\n",
      "2023-11-26 13:58:36.385677: I tensorflow/tsl/platform/default/subprocess.cc:304] Start cannot spawn child process: No such file or directory\n",
      "2023-11-26 13:58:36.452123: I ./tensorflow/compiler/jit/device_compiler.h:180] Compiled cluster using XLA!  This line is logged at most once for the lifetime of the process.\n"
     ]
    },
    {
     "name": "stdout",
     "output_type": "stream",
     "text": [
      "5391/5391 [==============================] - 88s 15ms/step - loss: 1.1961 - accuracy: 0.8490 - val_loss: 0.4975 - val_accuracy: 0.8726\n",
      "Epoch 2/25\n",
      "5391/5391 [==============================] - 81s 15ms/step - loss: 1.1239 - accuracy: 0.8645 - val_loss: 0.4582 - val_accuracy: 0.8769\n",
      "Epoch 3/25\n",
      "5391/5391 [==============================] - 83s 15ms/step - loss: 1.0964 - accuracy: 0.8600 - val_loss: 0.4051 - val_accuracy: 0.8877\n",
      "Epoch 4/25\n",
      "5391/5391 [==============================] - 83s 15ms/step - loss: 1.0867 - accuracy: 0.8582 - val_loss: 0.4280 - val_accuracy: 0.8923\n",
      "Epoch 5/25\n",
      "5391/5391 [==============================] - 83s 15ms/step - loss: 1.0799 - accuracy: 0.8595 - val_loss: 0.4699 - val_accuracy: 0.8752\n",
      "Epoch 6/25\n",
      "5391/5391 [==============================] - 83s 15ms/step - loss: 1.0756 - accuracy: 0.8612 - val_loss: 0.5146 - val_accuracy: 0.8549\n",
      "Epoch 7/25\n",
      "5391/5391 [==============================] - 83s 15ms/step - loss: 1.0733 - accuracy: 0.8617 - val_loss: 0.4419 - val_accuracy: 0.8811\n",
      "Epoch 8/25\n",
      "5391/5391 [==============================] - 83s 15ms/step - loss: 1.0707 - accuracy: 0.8610 - val_loss: 0.4395 - val_accuracy: 0.8745\n",
      "Epoch 9/25\n",
      "5391/5391 [==============================] - 83s 15ms/step - loss: 1.0694 - accuracy: 0.8608 - val_loss: 0.4489 - val_accuracy: 0.8745\n",
      "Epoch 10/25\n",
      "5391/5391 [==============================] - 83s 15ms/step - loss: 1.0666 - accuracy: 0.8600 - val_loss: 0.3907 - val_accuracy: 0.8926\n",
      "Epoch 11/25\n",
      "5391/5391 [==============================] - 83s 15ms/step - loss: 1.0657 - accuracy: 0.8604 - val_loss: 0.4543 - val_accuracy: 0.8723\n",
      "Epoch 12/25\n",
      "5391/5391 [==============================] - 83s 15ms/step - loss: 1.0651 - accuracy: 0.8594 - val_loss: 0.4728 - val_accuracy: 0.8649\n",
      "Epoch 13/25\n",
      "5391/5391 [==============================] - 83s 15ms/step - loss: 1.0647 - accuracy: 0.8601 - val_loss: 0.4836 - val_accuracy: 0.8689\n",
      "Epoch 14/25\n",
      "5391/5391 [==============================] - 83s 15ms/step - loss: 1.0631 - accuracy: 0.8597 - val_loss: 0.4511 - val_accuracy: 0.8704\n",
      "Epoch 15/25\n",
      "5391/5391 [==============================] - 83s 15ms/step - loss: 1.0624 - accuracy: 0.8593 - val_loss: 0.4543 - val_accuracy: 0.8699\n",
      "Epoch 16/25\n",
      "5391/5391 [==============================] - 83s 15ms/step - loss: 1.0621 - accuracy: 0.8593 - val_loss: 0.4764 - val_accuracy: 0.8608\n",
      "Epoch 17/25\n",
      "5391/5391 [==============================] - 83s 15ms/step - loss: 1.0614 - accuracy: 0.8583 - val_loss: 0.5215 - val_accuracy: 0.8496\n",
      "Epoch 18/25\n",
      "5391/5391 [==============================] - 83s 15ms/step - loss: 1.0615 - accuracy: 0.8581 - val_loss: 0.3928 - val_accuracy: 0.8919\n",
      "Epoch 19/25\n",
      "5391/5391 [==============================] - 83s 15ms/step - loss: 1.0606 - accuracy: 0.8584 - val_loss: 0.4359 - val_accuracy: 0.8795\n",
      "Epoch 20/25\n",
      "5391/5391 [==============================] - 83s 15ms/step - loss: 1.0608 - accuracy: 0.8566 - val_loss: 0.5177 - val_accuracy: 0.8340\n",
      "Epoch 21/25\n",
      "5391/5391 [==============================] - 83s 15ms/step - loss: 1.0591 - accuracy: 0.8572 - val_loss: 0.4310 - val_accuracy: 0.8820\n",
      "Epoch 22/25\n",
      "5391/5391 [==============================] - 83s 15ms/step - loss: 1.0592 - accuracy: 0.8583 - val_loss: 0.4852 - val_accuracy: 0.8565\n",
      "Epoch 23/25\n",
      "5391/5391 [==============================] - 83s 15ms/step - loss: 1.0589 - accuracy: 0.8558 - val_loss: 0.4575 - val_accuracy: 0.8659\n",
      "Epoch 24/25\n",
      "5391/5391 [==============================] - 83s 15ms/step - loss: 1.0577 - accuracy: 0.8572 - val_loss: 0.4718 - val_accuracy: 0.8596\n",
      "Epoch 25/25\n",
      "5391/5391 [==============================] - 83s 15ms/step - loss: 1.0588 - accuracy: 0.8580 - val_loss: 0.5208 - val_accuracy: 0.8497\n"
     ]
    }
   ],
   "source": [
    "history = bnn.fit( xTrain, tf.one_hot(yTrain,nClasses), \n",
    "                   epochs=25, verbose=1, batch_size=128, class_weight=class_weight,\n",
    "                   use_multiprocessing=True, validation_split=0.2)"
   ]
  },
  {
   "cell_type": "code",
   "execution_count": 13,
   "id": "119724ee",
   "metadata": {},
   "outputs": [
    {
     "data": {
      "text/plain": [
       "Text(0.5, 0, 'Epoch')"
      ]
     },
     "execution_count": 13,
     "metadata": {},
     "output_type": "execute_result"
    },
    {
     "data": {
      "image/png": "[encoded data removed]",
      "text/plain": [
       "<Figure size 432x288 with 1 Axes>"
      ]
     },
     "metadata": {
      "needs_background": "light"
     },
     "output_type": "display_data"
    }
   ],
   "source": [
    "plt.plot( history.history['accuracy'], label=\"Accuracy\")\n",
    "#plt.plot( history.history['val_accuracy'], label=\"val_acc\")\n",
    "plt.title('Model Accuracy')\n",
    "plt.ylabel('Accuracy')\n",
    "plt.xlabel('Epoch')\n",
    "#plt.legend()"
   ]
  },
  {
   "cell_type": "code",
   "execution_count": 14,
   "id": "87cacc97",
   "metadata": {},
   "outputs": [
    {
     "data": {
      "text/plain": [
       "<matplotlib.legend.Legend at 0x7f8006cdbca0>"
      ]
     },
     "execution_count": 14,
     "metadata": {},
     "output_type": "execute_result"
    },
    {
     "data": {
      "image/png": "[encoded data removed]",
      "text/plain": [
       "<Figure size 432x288 with 1 Axes>"
      ]
     },
     "metadata": {
      "needs_background": "light"
     },
     "output_type": "display_data"
    }
   ],
   "source": [
    "plt.plot( history.history['loss'], label=\"loss\")\n",
    "plt.plot( history.history['val_loss'], label=\"val_loss\")\n",
    "plt.title('Model Loss')\n",
    "plt.ylabel('Loss')\n",
    "plt.xlabel('Epoch')\n",
    "plt.legend()"
   ]
  },
  {
   "cell_type": "code",
   "execution_count": 15,
   "id": "900420d6",
   "metadata": {},
   "outputs": [],
   "source": [
    "# serialize weights to HDF5\n",
    "bnn.save_weights(\"bnn.h5\")"
   ]
  },
  {
   "cell_type": "markdown",
   "id": "ae0a0f29",
   "metadata": {},
   "source": [
    "### Analysis"
   ]
  },
  {
   "cell_type": "code",
   "execution_count": 10,
   "id": "91eefec2",
   "metadata": {},
   "outputs": [],
   "source": [
    "nClasses = 3\n",
    "bnn.load_weights(\"bnn.h5\")"
   ]
  },
  {
   "cell_type": "code",
   "execution_count": 11,
   "id": "af858d85",
   "metadata": {},
   "outputs": [],
   "source": [
    "import numpy as np\n",
    "\n",
    "def getPredictions( model, data, T ):\n",
    "\n",
    "    n = data.shape[0]\n",
    "    preds = np.zeros( shape=(n,nClasses,T) )\n",
    "    \n",
    "    for t in range(T):\n",
    "        if ( t == 10 ): print(\"Iteration 10...\")\n",
    "        if ( t == 30 ): print(\"Iteration 30...\")\n",
    "        if ( t == 50 ): print(\"Iteration 50...\")\n",
    "        if ( t == 70 ): print(\"Iteration 70...\")\n",
    "        if ( t == 90 ): print(\"Iteration 90...\")\n",
    "        preds[:,:,t] = model(data)\n",
    "        \n",
    "    return preds"
   ]
  },
  {
   "cell_type": "code",
   "execution_count": 12,
   "id": "9bf48df9",
   "metadata": {},
   "outputs": [
    {
     "name": "stdout",
     "output_type": "stream",
     "text": [
      "Iteration 10...\n",
      "Iteration 30...\n",
      "Iteration 50...\n",
      "Iteration 70...\n",
      "Iteration 90...\n"
     ]
    },
    {
     "data": {
      "text/plain": [
       "(215629, 3, 100)"
      ]
     },
     "execution_count": 12,
     "metadata": {},
     "output_type": "execute_result"
    }
   ],
   "source": [
    "T = 100\n",
    "preds = getPredictions( bnn, xTest.values, T )\n",
    "preds.shape"
   ]
  },
  {
   "cell_type": "code",
   "execution_count": 13,
   "id": "f6054b90",
   "metadata": {},
   "outputs": [],
   "source": [
    "def getPredictions( preds, T ):\n",
    "    \n",
    "    n = preds.shape[0]\n",
    "    means = np.zeros( shape=(n, nClasses) )\n",
    "    \n",
    "    for ix in range(n):\n",
    "        for j in range(nClasses):\n",
    "        \n",
    "            means[ix,j] = np.mean( preds[ix,j,:] )\n",
    "        \n",
    "    bnnPreds = np.argmax( means, axis=1 )\n",
    "    \n",
    "    return means, bnnPreds"
   ]
  },
  {
   "cell_type": "code",
   "execution_count": 14,
   "id": "9a7053ea",
   "metadata": {},
   "outputs": [],
   "source": [
    "means, bnnPreds = getPredictions( preds, T )"
   ]
  },
  {
   "cell_type": "code",
   "execution_count": 15,
   "id": "aae3fa84",
   "metadata": {},
   "outputs": [
    {
     "data": {
      "text/plain": [
       "((215629, 3), (215629,))"
      ]
     },
     "execution_count": 15,
     "metadata": {},
     "output_type": "execute_result"
    }
   ],
   "source": [
    "means.shape, bnnPreds.shape"
   ]
  },
  {
   "cell_type": "code",
   "execution_count": 16,
   "id": "855fea21",
   "metadata": {},
   "outputs": [
    {
     "data": {
      "text/plain": [
       "((215629,), (215629,))"
      ]
     },
     "execution_count": 16,
     "metadata": {},
     "output_type": "execute_result"
    }
   ],
   "source": [
    "from scipy.stats import entropy\n",
    "\n",
    "base = 2  # work in units of bits\n",
    "en = entropy(means, base=base, axis=1)\n",
    "\n",
    "en.shape, yTest.shape"
   ]
  },
  {
   "cell_type": "code",
   "execution_count": 20,
   "id": "33ca2ab1",
   "metadata": {},
   "outputs": [
    {
     "data": {
      "text/plain": [
       "Text(0.5, 1.0, 'Entropy of Incorrect Predictions')"
      ]
     },
     "execution_count": 20,
     "metadata": {},
     "output_type": "execute_result"
    },
    {
     "name": "stderr",
     "output_type": "stream",
     "text": [
      "findfont: Font family ['normal'] not found. Falling back to DejaVu Sans.\n",
      "findfont: Font family ['normal'] not found. Falling back to DejaVu Sans.\n",
      "findfont: Font family ['normal'] not found. Falling back to DejaVu Sans.\n"
     ]
    },
    {
     "data": {
      "image/png": "[encoded data removed]",
      "text/plain": [
       "<Figure size 432x288 with 1 Axes>"
      ]
     },
     "metadata": {
      "needs_background": "light"
     },
     "output_type": "display_data"
    }
   ],
   "source": [
    "font = {'weight' : 'bold', 'size'   : 14}\n",
    "plt.rc('font', **font)\n",
    "\n",
    "correct = np.where( bnnPreds == yTest )\n",
    "incorrect = np.where( bnnPreds != yTest )\n",
    "\n",
    "plt.hist( en[incorrect] )\n",
    "plt.xlabel( 'Entropy' )\n",
    "plt.ylabel( 'Counts' )\n",
    "plt.title( 'Entropy of Incorrect Predictions' )"
   ]
  },
  {
   "cell_type": "code",
   "execution_count": 21,
   "id": "9d999949",
   "metadata": {},
   "outputs": [],
   "source": [
    "font = {'family' : 'normal',\n",
    "    'weight' : 'bold',\n",
    "    'size'   : 22}\n",
    "plt.rc('font', **font)"
   ]
  },
  {
   "cell_type": "code",
   "execution_count": 22,
   "id": "0723dfea",
   "metadata": {},
   "outputs": [],
   "source": [
    "from sklearn.metrics import confusion_matrix, ConfusionMatrixDisplay\n",
    "\n",
    "cm = confusion_matrix( yTest, bnnPreds, normalize='true' )"
   ]
  },
  {
   "cell_type": "code",
   "execution_count": 23,
   "id": "a836b4a7",
   "metadata": {},
   "outputs": [
    {
     "data": {
      "text/plain": [
       "<sklearn.metrics._plot.confusion_matrix.ConfusionMatrixDisplay at 0x7f577c210d00>"
      ]
     },
     "execution_count": 23,
     "metadata": {},
     "output_type": "execute_result"
    },
    {
     "name": "stderr",
     "output_type": "stream",
     "text": [
      "findfont: Font family ['normal'] not found. Falling back to DejaVu Sans.\n",
      "findfont: Font family ['normal'] not found. Falling back to DejaVu Sans.\n"
     ]
    },
    {
     "data": {
      "image/png": "[encoded data removed]",
      "text/plain": [
       "<Figure size 720x720 with 2 Axes>"
      ]
     },
     "metadata": {
      "needs_background": "light"
     },
     "output_type": "display_data"
    }
   ],
   "source": [
    "fig, ax = plt.subplots(figsize=(10, 10))\n",
    "disp = ConfusionMatrixDisplay( confusion_matrix=cm, display_labels=le.inverse_transform([0,1,2]))#rf.classes_)\n",
    "disp.plot(ax=ax, cmap='gist_yarg')"
   ]
  },
  {
   "cell_type": "code",
   "execution_count": 24,
   "id": "1302335f",
   "metadata": {},
   "outputs": [
    {
     "name": "stdout",
     "output_type": "stream",
     "text": [
      "Balanced Accuracy: 0.6741\n",
      "Macro F1: 0.5585\n",
      "Macro Precision: 0.518\n",
      "Macro Recall: 0.6741\n"
     ]
    }
   ],
   "source": [
    "from sklearn.metrics import f1_score\n",
    "from sklearn.metrics import recall_score\n",
    "from sklearn.metrics import precision_score\n",
    "from sklearn.metrics import balanced_accuracy_score\n",
    "\n",
    "print( \"Balanced Accuracy:\", np.round( balanced_accuracy_score(yTest.values, bnnPreds), 4 ))\n",
    "print( \"Macro F1:\", np.round( f1_score(yTest.values, bnnPreds, average='macro'), 4 ))\n",
    "print( \"Macro Precision:\", np.round( precision_score(yTest.values, bnnPreds, average='macro'), 4 ))\n",
    "print( \"Macro Recall:\", np.round( recall_score(yTest.values, bnnPreds, average='macro'), 4 ))"
   ]
  },
  {
   "cell_type": "markdown",
   "id": "a5f7d01f",
   "metadata": {},
   "source": [
    "#### Entropy-Accuracy Evaluation"
   ]
  },
  {
   "cell_type": "code",
   "execution_count": 25,
   "id": "b958abeb",
   "metadata": {
    "scrolled": true
   },
   "outputs": [
    {
     "name": "stdout",
     "output_type": "stream",
     "text": [
      "Threshold: 0.3\n",
      "Percent of predictions: 0.07928432631974364\n",
      "Balanced Accuracy: 0.3333\n",
      "Macro F1: 0.3331\n",
      "Macro Precision: 0.3328\n",
      "Macro Recall: 0.3333\n",
      "\n",
      "Threshold: 0.4\n",
      "Percent of predictions: 0.1410941941946584\n",
      "Balanced Accuracy: 0.3333\n",
      "Macro F1: 0.333\n",
      "Macro Precision: 0.3327\n",
      "Macro Recall: 0.3333\n",
      "\n",
      "Threshold: 0.5\n",
      "Percent of predictions: 0.18120011686739723\n",
      "Balanced Accuracy: 0.3333\n",
      "Macro F1: 0.3329\n",
      "Macro Precision: 0.3325\n",
      "Macro Recall: 0.3333\n",
      "\n",
      "Threshold: 0.6000000000000001\n",
      "Percent of predictions: 0.22383816648038993\n",
      "Balanced Accuracy: 0.3333\n",
      "Macro F1: 0.3329\n",
      "Macro Precision: 0.3325\n",
      "Macro Recall: 0.3333\n",
      "\n",
      "Threshold: 0.7000000000000002\n",
      "Percent of predictions: 0.2708030923484318\n",
      "Balanced Accuracy: 0.3333\n",
      "Macro F1: 0.3329\n",
      "Macro Precision: 0.3324\n",
      "Macro Recall: 0.3333\n",
      "\n",
      "Threshold: 0.8000000000000003\n",
      "Percent of predictions: 0.3685867856364404\n",
      "Balanced Accuracy: 0.6264\n",
      "Macro F1: 0.616\n",
      "Macro Precision: 0.6062\n",
      "Macro Recall: 0.6264\n",
      "\n",
      "Threshold: 0.9000000000000001\n",
      "Percent of predictions: 0.44792212550259936\n",
      "Balanced Accuracy: 0.761\n",
      "Macro F1: 0.7654\n"
     ]
    },
    {
     "name": "stderr",
     "output_type": "stream",
     "text": [
      "/opt/tljh/user/lib/python3.9/site-packages/sklearn/metrics/_classification.py:1344: UndefinedMetricWarning: Precision is ill-defined and being set to 0.0 in labels with no predicted samples. Use `zero_division` parameter to control this behavior.\n",
      "  _warn_prf(average, modifier, msg_start, len(result))\n",
      "/opt/tljh/user/lib/python3.9/site-packages/sklearn/metrics/_classification.py:1344: UndefinedMetricWarning: Precision is ill-defined and being set to 0.0 in labels with no predicted samples. Use `zero_division` parameter to control this behavior.\n",
      "  _warn_prf(average, modifier, msg_start, len(result))\n",
      "/opt/tljh/user/lib/python3.9/site-packages/sklearn/metrics/_classification.py:1344: UndefinedMetricWarning: Precision is ill-defined and being set to 0.0 in labels with no predicted samples. Use `zero_division` parameter to control this behavior.\n",
      "  _warn_prf(average, modifier, msg_start, len(result))\n",
      "/opt/tljh/user/lib/python3.9/site-packages/sklearn/metrics/_classification.py:1344: UndefinedMetricWarning: Precision is ill-defined and being set to 0.0 in labels with no predicted samples. Use `zero_division` parameter to control this behavior.\n",
      "  _warn_prf(average, modifier, msg_start, len(result))\n",
      "/opt/tljh/user/lib/python3.9/site-packages/sklearn/metrics/_classification.py:1344: UndefinedMetricWarning: Precision is ill-defined and being set to 0.0 in labels with no predicted samples. Use `zero_division` parameter to control this behavior.\n",
      "  _warn_prf(average, modifier, msg_start, len(result))\n",
      "/opt/tljh/user/lib/python3.9/site-packages/sklearn/metrics/_classification.py:1344: UndefinedMetricWarning: Precision is ill-defined and being set to 0.0 in labels with no predicted samples. Use `zero_division` parameter to control this behavior.\n",
      "  _warn_prf(average, modifier, msg_start, len(result))\n"
     ]
    },
    {
     "name": "stdout",
     "output_type": "stream",
     "text": [
      "Macro Precision: 0.7764\n",
      "Macro Recall: 0.761\n",
      "\n",
      "Threshold: 1.0000000000000002\n",
      "Percent of predictions: 0.5203381734367826\n",
      "Balanced Accuracy: 0.7908\n",
      "Macro F1: 0.7667\n",
      "Macro Precision: 0.7472\n",
      "Macro Recall: 0.7908\n",
      "\n",
      "Threshold: 1.1000000000000003\n",
      "Percent of predictions: 0.5946556353737206\n",
      "Balanced Accuracy: 0.7561\n",
      "Macro F1: 0.7233\n",
      "Macro Precision: 0.698\n",
      "Macro Recall: 0.7561\n",
      "\n",
      "Threshold: 1.2000000000000004\n",
      "Percent of predictions: 0.6571240417569065\n",
      "Balanced Accuracy: 0.7473\n",
      "Macro F1: 0.706\n",
      "Macro Precision: 0.6767\n",
      "Macro Recall: 0.7473\n",
      "\n",
      "Threshold: 1.3000000000000005\n",
      "Percent of predictions: 0.7256305969976209\n",
      "Balanced Accuracy: 0.7364\n",
      "Macro F1: 0.6851\n",
      "Macro Precision: 0.6515\n",
      "Macro Recall: 0.7364\n",
      "\n",
      "Threshold: 1.4000000000000004\n",
      "Percent of predictions: 0.8004025432571685\n",
      "Balanced Accuracy: 0.7216\n",
      "Macro F1: 0.658\n",
      "Macro Precision: 0.6206\n",
      "Macro Recall: 0.7216\n",
      "\n",
      "Threshold: 1.5000000000000004\n",
      "Percent of predictions: 0.8916982409601677\n",
      "Balanced Accuracy: 0.7043\n",
      "Macro F1: 0.6168\n",
      "Macro Precision: 0.5768\n",
      "Macro Recall: 0.7043\n",
      "\n"
     ]
    }
   ],
   "source": [
    "testValues = np.arange(0.3, 1.6, 0.1)\n",
    "\n",
    "acc = []\n",
    "thr = []\n",
    "pct = []\n",
    "\n",
    "n = bnnPreds.shape[0]\n",
    "\n",
    "for t in testValues:\n",
    "    \n",
    "    ixs = np.where( en <= t )\n",
    "    y = yTest.values[ixs]\n",
    "    x = bnnPreds[ixs]\n",
    "    \n",
    "    acc.append( balanced_accuracy_score(y,x) )\n",
    "    thr.append( t )\n",
    "    pct.append( len(ixs[0])/n )\n",
    "\n",
    "    print( \"Threshold:\", t )\n",
    "    print( \"Percent of predictions:\", len(ixs[0])/n )\n",
    "    print( \"Balanced Accuracy:\", np.round( balanced_accuracy_score(y,x), 4 ))\n",
    "    print( \"Macro F1:\", np.round( f1_score(y,x, average='macro'), 4 ))\n",
    "    print( \"Macro Precision:\", np.round( precision_score(y,x, average='macro'), 4 ))\n",
    "    print( \"Macro Recall:\", np.round( recall_score(y,x, average='macro'), 4 ))\n",
    "    print()"
   ]
  },
  {
   "cell_type": "code",
   "execution_count": 27,
   "id": "b3033855",
   "metadata": {},
   "outputs": [
    {
     "data": {
      "text/plain": [
       "(0.0, 1.0)"
      ]
     },
     "execution_count": 27,
     "metadata": {},
     "output_type": "execute_result"
    },
    {
     "name": "stderr",
     "output_type": "stream",
     "text": [
      "findfont: Font family ['normal'] not found. Falling back to DejaVu Sans.\n",
      "findfont: Font family ['normal'] not found. Falling back to DejaVu Sans.\n"
     ]
    },
    {
     "data": {
      "image/png": "[encoded data removed]",
      "text/plain": [
       "<Figure size 432x288 with 2 Axes>"
      ]
     },
     "metadata": {
      "needs_background": "light"
     },
     "output_type": "display_data"
    }
   ],
   "source": [
    "font = {'family' : 'normal',\n",
    "    'weight' : 'bold',\n",
    "    'size'   : 16}\n",
    "plt.rc('font', **font)\n",
    "\n",
    "plt.scatter( np.array(pct)*100., acc, c=thr )\n",
    "plt.colorbar()\n",
    "plt.xlabel('% of data used in predictions')\n",
    "plt.ylabel('Prediction Accuracy')\n",
    "plt.ylim(0,1)"
   ]
  },
  {
   "cell_type": "code",
   "execution_count": 28,
   "id": "b51f0388",
   "metadata": {},
   "outputs": [
    {
     "data": {
      "text/plain": [
       "<sklearn.metrics._plot.confusion_matrix.ConfusionMatrixDisplay at 0x7f5774531c10>"
      ]
     },
     "execution_count": 28,
     "metadata": {},
     "output_type": "execute_result"
    },
    {
     "data": {
      "image/png": "[encoded data removed]",
      "text/plain": [
       "<Figure size 720x720 with 2 Axes>"
      ]
     },
     "metadata": {
      "needs_background": "light"
     },
     "output_type": "display_data"
    }
   ],
   "source": [
    "th = 1.0\n",
    "\n",
    "ixs = np.where( en <= th )\n",
    "y = yTest.values[ixs]\n",
    "x = bnnPreds[ixs]\n",
    "    \n",
    "cm = confusion_matrix( x, y, normalize='true' )\n",
    "\n",
    "fig, ax = plt.subplots(figsize=(10, 10))\n",
    "disp = ConfusionMatrixDisplay( confusion_matrix=cm, display_labels=le.inverse_transform([0,1,2]))#rf.classes_)\n",
    "disp.plot(ax=ax, cmap='gist_yarg')"
   ]
  },
  {
   "cell_type": "code",
   "execution_count": 29,
   "id": "16eaa4a3",
   "metadata": {},
   "outputs": [
    {
     "name": "stdout",
     "output_type": "stream",
     "text": [
      "Balanced Accuracy: 0.7472\n",
      "Macro F1: 0.7667\n",
      "Macro Precision: 0.7908\n",
      "Macro Recall: 0.7472\n"
     ]
    }
   ],
   "source": [
    "print( \"Balanced Accuracy:\", np.round( balanced_accuracy_score(x,y), 4 ))\n",
    "print( \"Macro F1:\", np.round( f1_score(x,y, average='macro'), 4 ))\n",
    "print( \"Macro Precision:\", np.round( precision_score(x,y, average='macro'), 4 ))\n",
    "print( \"Macro Recall:\", np.round( recall_score(x,y, average='macro'), 4 ))"
   ]
  },
  {
   "cell_type": "code",
   "execution_count": null,
   "id": "93b422d3",
   "metadata": {},
   "outputs": [],
   "source": []
  }
 ],
 "metadata": {
  "kernelspec": {
   "display_name": "Python 3 (ipykernel)",
   "language": "python",
   "name": "python3"
  },
  "language_info": {
   "codemirror_mode": {
    "name": "ipython",
    "version": 3
   },
   "file_extension": ".py",
   "mimetype": "text/x-python",
   "name": "python",
   "nbconvert_exporter": "python",
   "pygments_lexer": "ipython3",
   "version": "3.9.13"
  }
 },
 "nbformat": 4,
 "nbformat_minor": 5
}
