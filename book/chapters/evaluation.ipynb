{
 "cells": [
  {
   "cell_type": "markdown",
   "metadata": {
    "tags": []
   },
   "source": [
    "# Performance Evaluation\n",
    "\n",
    "We are using balanced accuracy to deal with our imbalanced dataset. It is defined as the average of recall obtained on each class. Similarly, we use micro F1, which is the normal F1 formula but calculated using the total number of True Positives (TP), False Positives (FP) and False Negatives (FN), instead of individually for each class.\n",
    "\n",
    "Results are also presented as a confustion matrix, which is a visual display of true positives, true negatives, false positives, and false negatives.\n",
    "\n",
    "See Building_Classification.ipynb for step-by-step evaluation that leads to \n",
    "\n",
    "<p>\n",
    "<center>Binary Classification</center>\n",
    "\n",
    "| Approach | Accuracy | Micro F1 \n",
    "-----------|----------|----------\n",
    "| Random Forest | 85.5% | 0.962 \n",
    "| Random Forest w/ balanced classes | 84% | 0.84\n",
    "| Random Forest w/ threshold moving | 86.7% | 0.963\n",
    "| Neural Network w/ class weighting | 87.4% | 0.894\n",
    "</p>\n",
    "\n",
    "<br/>\n",
    "\n",
    "<p>\n",
    "<center>Multiclass Classification</center>\n",
    "\n",
    "| Approach | Accuracy | Micro F1 \n",
    "-----------|----------|----------\n",
    "| Random Forest | 70% | 0.96 \n",
    "| Random Forest w/ one-vs-one | 70% | 0.96\n",
    "| Random Forest w/ one-vs-rest | 67% | 0.963\n",
    "| Neural Network w/ class weighting | 33% | 0.92\n",
    " </p>"
   ]
  },
  {
   "cell_type": "code",
   "execution_count": null,
   "metadata": {},
   "outputs": [],
   "source": []
  }
 ],
 "metadata": {
  "kernelspec": {
   "display_name": "Python 3 (ipykernel)",
   "language": "python",
   "name": "python3"
  },
  "language_info": {
   "codemirror_mode": {
    "name": "ipython",
    "version": 3
   },
   "file_extension": ".py",
   "mimetype": "text/x-python",
   "name": "python",
   "nbconvert_exporter": "python",
   "pygments_lexer": "ipython3",
   "version": "3.8.0"
  },
  "vscode": {
   "interpreter": {
    "hash": "c446eef832ec964573dc49f36fd16bdbed40cbfbefbf557bc2dc78d9e7968689"
   }
  }
 },
 "nbformat": 4,
 "nbformat_minor": 4
}
