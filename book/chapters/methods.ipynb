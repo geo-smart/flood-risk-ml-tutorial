{
 "cells": [
  {
   "cell_type": "markdown",
   "metadata": {
    "tags": []
   },
   "source": [
    "# Machine Learning Methods and Tools\n",
    "\n",
    "The type of classification model needed depends on the application. For example, during a flood emergency, first responders may only be interested in identifying residential buildings. In this use case, binary classification (Residential vs. non-Residential) is sufficient.\n",
    "\n",
    "However, for ecomomic applications, multiclass classification is needed, i.e. Residential vs. Commercial vs. Industrial vs. ...\n",
    "\n",
    "We provide examples for both scenarios.\n",
    "\n",
    "Our data is heavily unbalanced. The number of buildings by type is:\n",
    "\n",
    "| Building Type | Count |\n",
    "----------------------|-------------\n",
    "|Residential |        976690 |\n",
    "|Commercial  |        64029 |\n",
    "|Industrial  |         16722 |\n",
    "|Assembly    |         7323 |\n",
    "|Education    |         6457 |\n",
    "|Government    |        4910 |\n",
    "|Agriculture    |       1651 |\n",
    "|Utility and Misc  |      362 |\n",
    "\n",
    "We also provide examples of how to deal with unbalanced classes in both binary classification and multi-class classification.\n"
   ]
  }
 ],
 "metadata": {
  "kernelspec": {
   "display_name": "Python 3 (ipykernel)",
   "language": "python",
   "name": "python3"
  },
  "language_info": {
   "codemirror_mode": {
    "name": "ipython",
    "version": 3
   },
   "file_extension": ".py",
   "mimetype": "text/x-python",
   "name": "python",
   "nbconvert_exporter": "python",
   "pygments_lexer": "ipython3",
   "version": "3.8.0"
  },
  "vscode": {
   "interpreter": {
    "hash": "c446eef832ec964573dc49f36fd16bdbed40cbfbefbf557bc2dc78d9e7968689"
   }
  }
 },
 "nbformat": 4,
 "nbformat_minor": 4
}
