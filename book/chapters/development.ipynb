{
 "cells": [
  {
   "cell_type": "markdown",
   "metadata": {
    "tags": []
   },
   "source": [
    "# Model Development and Paramter Tuning\n",
    "\n",
    "#### Use Case Driven Model Development\n",
    "\n",
    "The type of classification model needed depends on the application. For example, during a flood emergency, first responders may only be interested in identifying residential buildings. In this use case, binary classification (Residential vs. non-Residential) is sufficient. \n",
    "\n",
    "However, for ecomomic applications, multiclass classification is needed, i.e. Residential vs. Commercial vs. Industrial vs. ...\n",
    "\n",
    "We provide examples of both scenarios.\n",
    "\n",
    "#### Binary Classification\n",
    "\n",
    "First, we need to preprocess the data and prepare it for machine learning. For this binary classification example, all non-Residential building types are changed to \"Other\".\n",
    "\n",
    "<p>The OsmNearestRoad and OrnlType are currently text. We need to encode these as integers before proceeding with machine learning. We also want to scale our columns to a common axis so that columns with large values don't bias the learning.</p>\n",
    "\n",
    "<p>We'll use a standard scaler, which scales based on the standard scoreas: z = (x - u) / s</p>\n",
    "<p>Where u is the mean of the training samples and s is the standard deviation of the training samples</p>\n",
    "\n",
    "<p>Binary classification is demonstrate in the tutorial notebook via two methods: Random Forest and Neural Network.</p>\n",
    "\n",
    "#### Binary Classification - Strategies to deal with imbalanced classes\n",
    "\n",
    "##### Undersampling\n",
    "\n",
    "<p>As discussed in Chapter 2, our data is heavily imbalanced. The tutorial notebook presents two strategies for dealing with this imbalance.</p>\n",
    "\n",
    "Undersampling refers to a group of techniques designed to balance the class distribution. Undersampling techniques remove examples from the training dataset that belong to the majority class in order to better balance the class distribution. \n",
    "\n",
    "This is in contrast to oversampling, which involves adding examples to the minority class in an effort to reduce the class distribution imbalance.\n",
    "\n",
    "Near Miss refers to a collection of undersampling methods that select examples based on the distance of majority class examples to minority class examples.\n",
    "\n",
    "The approaches were proposed by Jianping Zhang and Inderjeet Mani in their 2003 paper [KNN Approach to Unbalanced Data Distributions: A Case Study Involving Information Extraction](https://www.site.uottawa.ca/~nat/Workshop2003/jzhang.pdf)\n",
    "\n",
    "There are three versions of the technique, named NearMiss-1, NearMiss-2, and NearMiss-3.\n",
    "\n",
    "* NearMiss-1 selects examples from the majority class that have the smallest average distance to the k closest examples from the minority class. \n",
    "* NearMiss-2 selects examples from the majority class that have the smallest average distance to the k furthest examples from the minority class. \n",
    "* NearMiss-3 involves selecting a given number of majority class examples for each example in the minority class that are closest.\n",
    "\n",
    "Distance is determined in feature space using Euclidean distance.\n",
    "\n",
    "We use NearMiss-3, which keeps majority class examples that are on the decision boundary.\n",
    "\n",
    "##### Threshold moving\n",
    "\n",
    "Perhaps the simplest approach to handle a severe class imbalance is to change the decision threshold. Many classification algorithms will return a probability of class membership where all values equal or greater than a threshold are mapped to one class and all other values are mapped to the other class. The default of many algorithms is to set the threshold at 0.5. Threshold moving simply moves the threshold attempting to achieve higher accuracy.\n",
    "\n",
    "#### Multiclass Classification\n",
    "\n",
    "What does all of this look like if we want to do multiclass classification instead of binary classification? The tutorial notebook looks at another use case where we want to classify a building as \"Residential\", \"Commercial\", or \"Industrial\".\n",
    "\n",
    "#### Multiclass Classificiation - Strategies for dealing with imbalanced classes\n",
    "\n",
    "##### One-vs-One Classification \n",
    "\n",
    "One-vs-One classification is a multi-class classification strategy for dealing with unbalanced classes. The One-vs-One strategy splits a multi-class classification into one binary classification problem per each pair of classes, e.g. Residentail vs. Commercial, Residential vs. Industrial, Commercial vs. Industrial. The final class assignment is determined by aggregating the results of the binary classifiers.\n",
    "\n",
    "##### One-vs-Rest Classification\n",
    "\n",
    "The One-vs-Rest strategy is a related approach for dealing with multiclass imbalance. Here, fewer models are created. There is one binary classification problem per class, e.g. Residentail vs. Rest, Commercial vs. Rest, Industrial vs. Rest.\n",
    "\n",
    "The tutorial notebook, Building_Classification.ipynb, provides examples of both strategies as well as examples of dealing with class imbalance in neural networks."
   ]
  },
  {
   "cell_type": "code",
   "execution_count": null,
   "metadata": {},
   "outputs": [],
   "source": []
  }
 ],
 "metadata": {
  "kernelspec": {
   "display_name": "Python 3 (ipykernel)",
   "language": "python",
   "name": "python3"
  },
  "language_info": {
   "codemirror_mode": {
    "name": "ipython",
    "version": 3
   },
   "file_extension": ".py",
   "mimetype": "text/x-python",
   "name": "python",
   "nbconvert_exporter": "python",
   "pygments_lexer": "ipython3",
   "version": "3.8.0"
  },
  "vscode": {
   "interpreter": {
    "hash": "c446eef832ec964573dc49f36fd16bdbed40cbfbefbf557bc2dc78d9e7968689"
   }
  }
 },
 "nbformat": 4,
 "nbformat_minor": 4
}
